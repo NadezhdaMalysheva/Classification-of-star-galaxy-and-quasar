{
  "nbformat": 4,
  "nbformat_minor": 0,
  "metadata": {
    "colab": {
      "name": "Эксперименты по отбору признаков",
      "provenance": [],
      "collapsed_sections": [
        "m0kPZJ5yOVbo",
        "N-hlXdD5xbL8"
      ],
      "toc_visible": true,
      "machine_shape": "hm",
      "include_colab_link": true
    },
    "kernelspec": {
      "display_name": "Python 3",
      "name": "python3"
    }
  },
  "cells": [
    {
      "cell_type": "markdown",
      "metadata": {
        "id": "view-in-github",
        "colab_type": "text"
      },
      "source": [
        "<a href=\"https://colab.research.google.com/github/NadezhdaMalysheva/projects/blob/main/X-r_features.ipynb\" target=\"_parent\"><img src=\"https://colab.research.google.com/assets/colab-badge.svg\" alt=\"Open In Colab\"/></a>"
      ]
    },
    {
      "cell_type": "code",
      "metadata": {
        "colab": {
          "base_uri": "https://localhost:8080/"
        },
        "id": "YoXFJs19Ks2y",
        "outputId": "e773fd53-845b-4c6a-ae03-8f11b38696e8"
      },
      "source": [
        "from google.colab import drive\n",
        "drive.mount('/content/drive')"
      ],
      "execution_count": 4,
      "outputs": [
        {
          "output_type": "stream",
          "text": [
            "Mounted at /content/drive\n"
          ],
          "name": "stdout"
        }
      ]
    },
    {
      "cell_type": "markdown",
      "metadata": {
        "id": "m0kPZJ5yOVbo"
      },
      "source": [
        "# Подгружаем необходимые библиотеки "
      ]
    },
    {
      "cell_type": "code",
      "metadata": {
        "colab": {
          "base_uri": "https://localhost:8080/"
        },
        "id": "YtFLkOBsdnJR",
        "outputId": "c7a61afa-e878-4eee-84eb-acb6b5e79145"
      },
      "source": [
        "pip install pytorch-tabnet"
      ],
      "execution_count": 5,
      "outputs": [
        {
          "output_type": "stream",
          "text": [
            "Collecting pytorch-tabnet\n",
            "  Downloading https://files.pythonhosted.org/packages/94/e5/2a808d611a5d44e3c997c0d07362c04a56c70002208e00aec9eee3d923b5/pytorch_tabnet-3.1.1-py3-none-any.whl\n",
            "Requirement already satisfied: torch<2.0,>=1.2 in /usr/local/lib/python3.7/dist-packages (from pytorch-tabnet) (1.8.1+cu101)\n",
            "Requirement already satisfied: scipy>1.4 in /usr/local/lib/python3.7/dist-packages (from pytorch-tabnet) (1.4.1)\n",
            "Requirement already satisfied: numpy<2.0,>=1.17 in /usr/local/lib/python3.7/dist-packages (from pytorch-tabnet) (1.19.5)\n",
            "Requirement already satisfied: scikit_learn>0.21 in /usr/local/lib/python3.7/dist-packages (from pytorch-tabnet) (0.22.2.post1)\n",
            "Requirement already satisfied: tqdm<5.0,>=4.36 in /usr/local/lib/python3.7/dist-packages (from pytorch-tabnet) (4.41.1)\n",
            "Requirement already satisfied: typing-extensions in /usr/local/lib/python3.7/dist-packages (from torch<2.0,>=1.2->pytorch-tabnet) (3.7.4.3)\n",
            "Requirement already satisfied: joblib>=0.11 in /usr/local/lib/python3.7/dist-packages (from scikit_learn>0.21->pytorch-tabnet) (1.0.1)\n",
            "Installing collected packages: pytorch-tabnet\n",
            "Successfully installed pytorch-tabnet-3.1.1\n"
          ],
          "name": "stdout"
        }
      ]
    },
    {
      "cell_type": "code",
      "metadata": {
        "id": "sCLtYHFqwmod"
      },
      "source": [
        "import numpy as np\n",
        "import pandas as pd"
      ],
      "execution_count": 6,
      "outputs": []
    },
    {
      "cell_type": "code",
      "metadata": {
        "colab": {
          "base_uri": "https://localhost:8080/",
          "height": 0
        },
        "id": "B2lA0dgTwmib",
        "outputId": "20243706-b681-418f-b03e-29fefe42d471"
      },
      "source": [
        "import seaborn as sns\n",
        "import matplotlib.pyplot as plt\n",
        "\n",
        "import plotly.offline as py\n",
        "color = sns.color_palette()\n",
        "import plotly.graph_objs as go\n",
        "py.init_notebook_mode(connected=True)\n",
        "import plotly.tools as tls\n",
        "\n",
        "%matplotlib inline"
      ],
      "execution_count": 7,
      "outputs": [
        {
          "output_type": "display_data",
          "data": {
            "text/html": [
              "        <script type=\"text/javascript\">\n",
              "        window.PlotlyConfig = {MathJaxConfig: 'local'};\n",
              "        if (window.MathJax) {MathJax.Hub.Config({SVG: {font: \"STIX-Web\"}});}\n",
              "        if (typeof require !== 'undefined') {\n",
              "        require.undef(\"plotly\");\n",
              "        requirejs.config({\n",
              "            paths: {\n",
              "                'plotly': ['https://cdn.plot.ly/plotly-latest.min']\n",
              "            }\n",
              "        });\n",
              "        require(['plotly'], function(Plotly) {\n",
              "            window._Plotly = Plotly;\n",
              "        });\n",
              "        }\n",
              "        </script>\n",
              "        "
            ]
          },
          "metadata": {
            "tags": []
          }
        }
      ]
    },
    {
      "cell_type": "code",
      "metadata": {
        "id": "XVxxcXZGwmdb"
      },
      "source": [
        "from sklearn.preprocessing import RobustScaler\n",
        "from sklearn.decomposition import PCA\n",
        "from sklearn.metrics import classification_report, confusion_matrix, accuracy_score, f1_score, roc_auc_score \n",
        "from sklearn.model_selection import train_test_split, StratifiedKFold\n",
        "from sklearn.ensemble import RandomForestClassifier, AdaBoostClassifier, GradientBoostingClassifier\n",
        "import joblib\n",
        "from tqdm.notebook import tqdm\n",
        "\n",
        "from pytorch_tabnet.tab_model import TabNetClassifier\n",
        "\n",
        "from hyperopt import hp\n",
        "import numpy as np\n",
        "from sklearn.metrics import mean_squared_error, f1_score, accuracy_score\n",
        "\n",
        "from sklearn.model_selection import RandomizedSearchCV\n",
        "from sklearn.model_selection import KFold\n",
        "from lightgbm import LGBMClassifier\n",
        "\n",
        "import lightgbm as lgb\n",
        "from hyperopt import fmin, tpe, STATUS_OK, STATUS_FAIL, Trials\n",
        "\n",
        "from time import time\n",
        "import joblib"
      ],
      "execution_count": 8,
      "outputs": []
    },
    {
      "cell_type": "code",
      "metadata": {
        "id": "guuBGRaaiDoJ"
      },
      "source": [
        "import torch"
      ],
      "execution_count": 9,
      "outputs": []
    },
    {
      "cell_type": "markdown",
      "metadata": {
        "id": "N-hlXdD5xbL8"
      },
      "source": [
        "#Загружаем данные, параметры"
      ]
    },
    {
      "cell_type": "code",
      "metadata": {
        "id": "yer4R5LMyP0m"
      },
      "source": [
        "def data_preparation(X, y, c=10000, test_size = 0.8):\n",
        "\n",
        "    X1_train, X1_test, y1_train, y1_test = train_test_split(X[y==1], y[y==1], test_size=test_size, random_state = 43)\n",
        "    X2_train, X2_test, y2_train, y2_test = train_test_split(X[y==2], y[y==2], test_size=test_size, random_state = 43)\n",
        "    X3_train, X3_test, y3_train, y3_test = train_test_split(X[y==3], y[y==3], test_size=test_size, random_state = 43)\n",
        "    \n",
        "    count = c\n",
        "    count1 = c\n",
        "\n",
        "    X_train, X_test = np.concatenate((X1_train[:count], X2_train[:count], X3_train[:count])), np.concatenate((X1_test[:count1], X2_test[:count1], X3_test[:count1]))\n",
        "    y_train, y_test = np.concatenate((y1_train[:count], y2_train[:count], y3_train[:count])), np.concatenate((y1_test[:count1], y2_test[:count1], y3_test[:count1]))\n",
        "    \n",
        "\n",
        "    return [X_train, X_test, y_train, y_test, X1_train, X1_test, y1_train, y1_test, X2_train, X2_test, y2_train, y2_test, X3_train, X3_test, y3_train, y3_test]"
      ],
      "execution_count": 10,
      "outputs": []
    },
    {
      "cell_type": "markdown",
      "metadata": {
        "id": "7dG50Njl5ktB"
      },
      "source": [
        "# Разделение данных"
      ]
    },
    {
      "cell_type": "code",
      "metadata": {
        "id": "ycZUuKOxL47B"
      },
      "source": [
        "df_path = '/content/drive/MyDrive/Научная работа/Data/X-ray/x-ray_data_gz.uu'"
      ],
      "execution_count": 11,
      "outputs": []
    },
    {
      "cell_type": "code",
      "metadata": {
        "id": "COI0WXc4sXJ9"
      },
      "source": [
        "#with gzip.open(add_data_path, 'rb') as fd:\n",
        "df = pd.read_pickle(df_path, compression='gzip')"
      ],
      "execution_count": 12,
      "outputs": []
    },
    {
      "cell_type": "code",
      "metadata": {
        "id": "1bs3b50BH_Qq"
      },
      "source": [
        "features_path = '/content/drive/MyDrive/Научная работа/Data/features_sdssdr16+psdr2+all_deacls8tr_QSO+GALAXY_20201212133711.pkl'"
      ],
      "execution_count": 13,
      "outputs": []
    },
    {
      "cell_type": "code",
      "metadata": {
        "id": "tSG1zcS5B89x"
      },
      "source": [
        "features = pd.read_pickle(features_path)+ ['LabelQ', 'LabelG', 'LabelS', 'Label']"
      ],
      "execution_count": 14,
      "outputs": []
    },
    {
      "cell_type": "code",
      "metadata": {
        "id": "wGhqoP3A69i4"
      },
      "source": [
        "sdss = [i for i in features if 'sdss' in i and 'decals' not in i] + ['LabelQ', 'LabelG', 'LabelS', 'Label']"
      ],
      "execution_count": 15,
      "outputs": []
    },
    {
      "cell_type": "code",
      "metadata": {
        "id": "nxm3-QXp7Lsa"
      },
      "source": [
        "decals = [i for i in features if 'decals' in i and 'sdss' not in i and 'psdr' not in i] + ['LabelQ', 'LabelG', 'LabelS', 'Label']"
      ],
      "execution_count": 16,
      "outputs": []
    },
    {
      "cell_type": "code",
      "metadata": {
        "id": "nKv8oquU7xbr"
      },
      "source": [
        "ps = [i for i in features if 'psdr' in i and 'decals' not in i] + ['LabelQ', 'LabelG', 'LabelS', 'Label']"
      ],
      "execution_count": 17,
      "outputs": []
    },
    {
      "cell_type": "code",
      "metadata": {
        "colab": {
          "base_uri": "https://localhost:8080/"
        },
        "id": "-SLvzPZd8Eih",
        "outputId": "ddeede6d-98fb-4e9d-9693-e8717e87944c"
      },
      "source": [
        "sdss, decals, ps"
      ],
      "execution_count": 18,
      "outputs": [
        {
          "output_type": "execute_result",
          "data": {
            "text/plain": [
              "(['sdssdr16_u_psf',\n",
              "  'sdssdr16_g_psf',\n",
              "  'sdssdr16_r_psf',\n",
              "  'sdssdr16_i_psf',\n",
              "  'sdssdr16_z_psf',\n",
              "  'sdssdr16_u_cmodel',\n",
              "  'sdssdr16_i_cmodel',\n",
              "  'sdssdr16_u-g_psf',\n",
              "  'sdssdr16_u-r_psf',\n",
              "  'sdssdr16_u-i_psf',\n",
              "  'sdssdr16_u-z_psf',\n",
              "  'sdssdr16_u_psf-cmodel',\n",
              "  'sdssdr16_g-i_psf',\n",
              "  'sdssdr16_g_psf-cmodel',\n",
              "  'sdssdr16_r-i_psf',\n",
              "  'sdssdr16_i-z_psf',\n",
              "  'sdssdr16_i_psf-cmodel',\n",
              "  'LabelQ',\n",
              "  'LabelG',\n",
              "  'LabelS',\n",
              "  'Label'],\n",
              " ['decals8tr_Lw1-Lw2',\n",
              "  'decals8tr_Lw1',\n",
              "  'decals8tr_Lw2',\n",
              "  'decals8tr_g',\n",
              "  'decals8tr_r',\n",
              "  'decals8tr_z',\n",
              "  'decals8tr_g-r',\n",
              "  'decals8tr_g-z',\n",
              "  'decals8tr_r-z',\n",
              "  'LabelQ',\n",
              "  'LabelG',\n",
              "  'LabelS',\n",
              "  'Label'],\n",
              " ['psdr2_i_kron',\n",
              "  'psdr2_y_kron',\n",
              "  'psdr2_g_psf',\n",
              "  'psdr2_r_psf',\n",
              "  'psdr2_i_psf',\n",
              "  'psdr2_z_psf',\n",
              "  'psdr2_y_psf',\n",
              "  'psdr2_g-i_psf',\n",
              "  'psdr2_g-y_psf',\n",
              "  'psdr2_r-i_psf',\n",
              "  'psdr2_r-y_psf',\n",
              "  'psdr2_i-z_psf',\n",
              "  'psdr2_i-y_psf',\n",
              "  'psdr2_i_psf-kron',\n",
              "  'psdr2_z-y_psf',\n",
              "  'psdr2_y_psf-kron',\n",
              "  'LabelQ',\n",
              "  'LabelG',\n",
              "  'LabelS',\n",
              "  'Label'])"
            ]
          },
          "metadata": {
            "tags": []
          },
          "execution_count": 18
        }
      ]
    },
    {
      "cell_type": "code",
      "metadata": {
        "id": "bSYNr0lW9OBd"
      },
      "source": [
        "df = df[features].drop_duplicates()"
      ],
      "execution_count": 19,
      "outputs": []
    },
    {
      "cell_type": "code",
      "metadata": {
        "colab": {
          "base_uri": "https://localhost:8080/",
          "height": 438
        },
        "id": "nPS0IQn94na-",
        "outputId": "944ec1d1-72d0-4ca6-c836-c99faa51fe41"
      },
      "source": [
        "df"
      ],
      "execution_count": 20,
      "outputs": [
        {
          "output_type": "execute_result",
          "data": {
            "text/html": [
              "<div>\n",
              "<style scoped>\n",
              "    .dataframe tbody tr th:only-of-type {\n",
              "        vertical-align: middle;\n",
              "    }\n",
              "\n",
              "    .dataframe tbody tr th {\n",
              "        vertical-align: top;\n",
              "    }\n",
              "\n",
              "    .dataframe thead th {\n",
              "        text-align: right;\n",
              "    }\n",
              "</style>\n",
              "<table border=\"1\" class=\"dataframe\">\n",
              "  <thead>\n",
              "    <tr style=\"text-align: right;\">\n",
              "      <th></th>\n",
              "      <th>sdssdr16_u_psf</th>\n",
              "      <th>sdssdr16_g_psf</th>\n",
              "      <th>sdssdr16_r_psf</th>\n",
              "      <th>sdssdr16_i_psf</th>\n",
              "      <th>sdssdr16_z_psf</th>\n",
              "      <th>sdssdr16_u_cmodel</th>\n",
              "      <th>sdssdr16_i_cmodel</th>\n",
              "      <th>sdssdr16_u-g_psf</th>\n",
              "      <th>sdssdr16_u-r_psf</th>\n",
              "      <th>sdssdr16_u-i_psf</th>\n",
              "      <th>sdssdr16_u-z_psf</th>\n",
              "      <th>sdssdr16_u_psf-cmodel</th>\n",
              "      <th>sdssdr16_g-i_psf</th>\n",
              "      <th>sdssdr16_g_psf-cmodel</th>\n",
              "      <th>sdssdr16_r-i_psf</th>\n",
              "      <th>sdssdr16_i-z_psf</th>\n",
              "      <th>sdssdr16_i_psf-cmodel</th>\n",
              "      <th>sdssdr16_u_cmodel-decals8tr_Lw1</th>\n",
              "      <th>sdssdr16_u_cmodel-decals8tr_Lw2</th>\n",
              "      <th>sdssdr16_g_cmodel-decals8tr_Lw1</th>\n",
              "      <th>sdssdr16_g_cmodel-decals8tr_Lw2</th>\n",
              "      <th>sdssdr16_r_cmodel-decals8tr_Lw1</th>\n",
              "      <th>sdssdr16_r_cmodel-decals8tr_Lw2</th>\n",
              "      <th>sdssdr16_i_cmodel-decals8tr_Lw1</th>\n",
              "      <th>sdssdr16_i_cmodel-decals8tr_Lw2</th>\n",
              "      <th>sdssdr16_z_cmodel-decals8tr_Lw1</th>\n",
              "      <th>sdssdr16_z_cmodel-decals8tr_Lw2</th>\n",
              "      <th>psdr2_i_kron</th>\n",
              "      <th>psdr2_y_kron</th>\n",
              "      <th>psdr2_g_psf</th>\n",
              "      <th>psdr2_r_psf</th>\n",
              "      <th>psdr2_i_psf</th>\n",
              "      <th>psdr2_z_psf</th>\n",
              "      <th>psdr2_y_psf</th>\n",
              "      <th>psdr2_g-i_psf</th>\n",
              "      <th>psdr2_g-y_psf</th>\n",
              "      <th>psdr2_r-i_psf</th>\n",
              "      <th>psdr2_r-y_psf</th>\n",
              "      <th>psdr2_i-z_psf</th>\n",
              "      <th>psdr2_i-y_psf</th>\n",
              "      <th>psdr2_i_psf-kron</th>\n",
              "      <th>psdr2_z-y_psf</th>\n",
              "      <th>psdr2_y_psf-kron</th>\n",
              "      <th>psdr2_g_kron-decals8tr_Lw1</th>\n",
              "      <th>psdr2_g_kron-decals8tr_Lw2</th>\n",
              "      <th>psdr2_r_kron-decals8tr_Lw1</th>\n",
              "      <th>psdr2_r_kron-decals8tr_Lw2</th>\n",
              "      <th>psdr2_i_kron-decals8tr_Lw1</th>\n",
              "      <th>psdr2_i_kron-decals8tr_Lw2</th>\n",
              "      <th>psdr2_z_kron-decals8tr_Lw1</th>\n",
              "      <th>psdr2_z_kron-decals8tr_Lw2</th>\n",
              "      <th>psdr2_y_kron-decals8tr_Lw1</th>\n",
              "      <th>psdr2_y_kron-decals8tr_Lw2</th>\n",
              "      <th>decals8tr_Lw1-Lw2</th>\n",
              "      <th>decals8tr_Lw1</th>\n",
              "      <th>decals8tr_Lw2</th>\n",
              "      <th>decals8tr_g</th>\n",
              "      <th>decals8tr_r</th>\n",
              "      <th>decals8tr_z</th>\n",
              "      <th>decals8tr_g-r</th>\n",
              "      <th>decals8tr_g-z</th>\n",
              "      <th>decals8tr_r-z</th>\n",
              "      <th>sdssdr16_g_cmodel-decals8tr_g</th>\n",
              "      <th>sdssdr16_r_cmodel-decals8tr_r</th>\n",
              "      <th>sdssdr16_z_cmodel-decals8tr_z</th>\n",
              "      <th>LabelQ</th>\n",
              "      <th>LabelG</th>\n",
              "      <th>LabelS</th>\n",
              "      <th>Label</th>\n",
              "    </tr>\n",
              "  </thead>\n",
              "  <tbody>\n",
              "    <tr>\n",
              "      <th>0</th>\n",
              "      <td>22.920023</td>\n",
              "      <td>21.565505</td>\n",
              "      <td>21.621283</td>\n",
              "      <td>21.359891</td>\n",
              "      <td>20.538294</td>\n",
              "      <td>22.769656</td>\n",
              "      <td>21.003623</td>\n",
              "      <td>1.354518</td>\n",
              "      <td>1.298741</td>\n",
              "      <td>1.560132</td>\n",
              "      <td>2.381730</td>\n",
              "      <td>0.150367</td>\n",
              "      <td>0.205614</td>\n",
              "      <td>-0.005931</td>\n",
              "      <td>0.261391</td>\n",
              "      <td>0.821598</td>\n",
              "      <td>0.356269</td>\n",
              "      <td>3.785637</td>\n",
              "      <td>3.685080</td>\n",
              "      <td>2.587416</td>\n",
              "      <td>2.486860</td>\n",
              "      <td>2.554807</td>\n",
              "      <td>2.454250</td>\n",
              "      <td>2.019603</td>\n",
              "      <td>1.919047</td>\n",
              "      <td>1.291036</td>\n",
              "      <td>1.190479</td>\n",
              "      <td>21.665634</td>\n",
              "      <td>21.402220</td>\n",
              "      <td>22.190093</td>\n",
              "      <td>22.087713</td>\n",
              "      <td>21.634099</td>\n",
              "      <td>21.289692</td>\n",
              "      <td>21.402220</td>\n",
              "      <td>0.555995</td>\n",
              "      <td>0.787873</td>\n",
              "      <td>0.453615</td>\n",
              "      <td>0.685493</td>\n",
              "      <td>0.344407</td>\n",
              "      <td>0.231878</td>\n",
              "      <td>-0.031535</td>\n",
              "      <td>-0.112529</td>\n",
              "      <td>0.000000</td>\n",
              "      <td>3.063683</td>\n",
              "      <td>2.963126</td>\n",
              "      <td>3.354069</td>\n",
              "      <td>3.253512</td>\n",
              "      <td>2.681614</td>\n",
              "      <td>2.581058</td>\n",
              "      <td>2.016970</td>\n",
              "      <td>1.916414</td>\n",
              "      <td>2.418201</td>\n",
              "      <td>2.317644</td>\n",
              "      <td>-0.100556</td>\n",
              "      <td>18.984020</td>\n",
              "      <td>19.084576</td>\n",
              "      <td>22.001940</td>\n",
              "      <td>21.912679</td>\n",
              "      <td>20.819145</td>\n",
              "      <td>0.089261</td>\n",
              "      <td>1.182795</td>\n",
              "      <td>1.093534</td>\n",
              "      <td>-0.430505</td>\n",
              "      <td>-0.373853</td>\n",
              "      <td>-0.544090</td>\n",
              "      <td>1</td>\n",
              "      <td>0</td>\n",
              "      <td>0</td>\n",
              "      <td>1</td>\n",
              "    </tr>\n",
              "    <tr>\n",
              "      <th>1</th>\n",
              "      <td>19.933288</td>\n",
              "      <td>19.661708</td>\n",
              "      <td>19.533851</td>\n",
              "      <td>19.275093</td>\n",
              "      <td>19.199960</td>\n",
              "      <td>19.896294</td>\n",
              "      <td>19.258232</td>\n",
              "      <td>0.271581</td>\n",
              "      <td>0.399437</td>\n",
              "      <td>0.658195</td>\n",
              "      <td>0.733328</td>\n",
              "      <td>0.036994</td>\n",
              "      <td>0.386615</td>\n",
              "      <td>0.016985</td>\n",
              "      <td>0.258758</td>\n",
              "      <td>0.075133</td>\n",
              "      <td>0.016861</td>\n",
              "      <td>1.332332</td>\n",
              "      <td>1.991179</td>\n",
              "      <td>1.080761</td>\n",
              "      <td>1.739607</td>\n",
              "      <td>0.975765</td>\n",
              "      <td>1.634612</td>\n",
              "      <td>0.694270</td>\n",
              "      <td>1.353117</td>\n",
              "      <td>0.598125</td>\n",
              "      <td>1.256971</td>\n",
              "      <td>19.445711</td>\n",
              "      <td>19.468038</td>\n",
              "      <td>19.991779</td>\n",
              "      <td>19.853252</td>\n",
              "      <td>19.411217</td>\n",
              "      <td>19.369294</td>\n",
              "      <td>19.387387</td>\n",
              "      <td>0.580562</td>\n",
              "      <td>0.604392</td>\n",
              "      <td>0.442035</td>\n",
              "      <td>0.465865</td>\n",
              "      <td>0.041924</td>\n",
              "      <td>0.023830</td>\n",
              "      <td>-0.034493</td>\n",
              "      <td>-0.018094</td>\n",
              "      <td>-0.080650</td>\n",
              "      <td>1.546244</td>\n",
              "      <td>2.205090</td>\n",
              "      <td>1.343668</td>\n",
              "      <td>2.002514</td>\n",
              "      <td>0.881749</td>\n",
              "      <td>1.540595</td>\n",
              "      <td>0.936519</td>\n",
              "      <td>1.595366</td>\n",
              "      <td>0.904076</td>\n",
              "      <td>1.562922</td>\n",
              "      <td>0.658846</td>\n",
              "      <td>18.563962</td>\n",
              "      <td>17.905116</td>\n",
              "      <td>19.511440</td>\n",
              "      <td>19.379499</td>\n",
              "      <td>19.041582</td>\n",
              "      <td>0.131941</td>\n",
              "      <td>0.469858</td>\n",
              "      <td>0.337916</td>\n",
              "      <td>0.133283</td>\n",
              "      <td>0.160229</td>\n",
              "      <td>0.120505</td>\n",
              "      <td>1</td>\n",
              "      <td>0</td>\n",
              "      <td>0</td>\n",
              "      <td>1</td>\n",
              "    </tr>\n",
              "    <tr>\n",
              "      <th>2</th>\n",
              "      <td>21.169854</td>\n",
              "      <td>19.856397</td>\n",
              "      <td>19.653011</td>\n",
              "      <td>19.657884</td>\n",
              "      <td>19.544269</td>\n",
              "      <td>21.155460</td>\n",
              "      <td>19.626169</td>\n",
              "      <td>1.313457</td>\n",
              "      <td>1.516843</td>\n",
              "      <td>1.511970</td>\n",
              "      <td>1.625585</td>\n",
              "      <td>0.014394</td>\n",
              "      <td>0.198513</td>\n",
              "      <td>0.015617</td>\n",
              "      <td>-0.004873</td>\n",
              "      <td>0.113615</td>\n",
              "      <td>0.031715</td>\n",
              "      <td>0.910512</td>\n",
              "      <td>1.261518</td>\n",
              "      <td>-0.404168</td>\n",
              "      <td>-0.053162</td>\n",
              "      <td>-0.601723</td>\n",
              "      <td>-0.250717</td>\n",
              "      <td>-0.618778</td>\n",
              "      <td>-0.267773</td>\n",
              "      <td>-0.761571</td>\n",
              "      <td>-0.410565</td>\n",
              "      <td>NaN</td>\n",
              "      <td>NaN</td>\n",
              "      <td>NaN</td>\n",
              "      <td>NaN</td>\n",
              "      <td>NaN</td>\n",
              "      <td>NaN</td>\n",
              "      <td>NaN</td>\n",
              "      <td>NaN</td>\n",
              "      <td>NaN</td>\n",
              "      <td>NaN</td>\n",
              "      <td>NaN</td>\n",
              "      <td>NaN</td>\n",
              "      <td>NaN</td>\n",
              "      <td>NaN</td>\n",
              "      <td>NaN</td>\n",
              "      <td>NaN</td>\n",
              "      <td>NaN</td>\n",
              "      <td>NaN</td>\n",
              "      <td>NaN</td>\n",
              "      <td>NaN</td>\n",
              "      <td>NaN</td>\n",
              "      <td>NaN</td>\n",
              "      <td>NaN</td>\n",
              "      <td>NaN</td>\n",
              "      <td>NaN</td>\n",
              "      <td>NaN</td>\n",
              "      <td>0.351006</td>\n",
              "      <td>20.244948</td>\n",
              "      <td>19.893942</td>\n",
              "      <td>20.246877</td>\n",
              "      <td>20.167877</td>\n",
              "      <td>20.141632</td>\n",
              "      <td>0.079000</td>\n",
              "      <td>0.105245</td>\n",
              "      <td>0.026245</td>\n",
              "      <td>-0.406098</td>\n",
              "      <td>-0.524652</td>\n",
              "      <td>-0.658255</td>\n",
              "      <td>1</td>\n",
              "      <td>0</td>\n",
              "      <td>0</td>\n",
              "      <td>1</td>\n",
              "    </tr>\n",
              "    <tr>\n",
              "      <th>3</th>\n",
              "      <td>21.462910</td>\n",
              "      <td>20.896202</td>\n",
              "      <td>20.697560</td>\n",
              "      <td>20.624691</td>\n",
              "      <td>20.230447</td>\n",
              "      <td>21.543505</td>\n",
              "      <td>20.629416</td>\n",
              "      <td>0.566709</td>\n",
              "      <td>0.765350</td>\n",
              "      <td>0.838219</td>\n",
              "      <td>1.232464</td>\n",
              "      <td>-0.080595</td>\n",
              "      <td>0.271510</td>\n",
              "      <td>-0.013927</td>\n",
              "      <td>0.072869</td>\n",
              "      <td>0.394245</td>\n",
              "      <td>-0.004725</td>\n",
              "      <td>0.952090</td>\n",
              "      <td>1.367123</td>\n",
              "      <td>0.318714</td>\n",
              "      <td>0.733747</td>\n",
              "      <td>0.103659</td>\n",
              "      <td>0.518692</td>\n",
              "      <td>0.038001</td>\n",
              "      <td>0.453034</td>\n",
              "      <td>-0.469909</td>\n",
              "      <td>-0.054876</td>\n",
              "      <td>21.142477</td>\n",
              "      <td>20.489200</td>\n",
              "      <td>21.200060</td>\n",
              "      <td>21.016467</td>\n",
              "      <td>21.097208</td>\n",
              "      <td>20.800597</td>\n",
              "      <td>20.638847</td>\n",
              "      <td>0.102852</td>\n",
              "      <td>0.561213</td>\n",
              "      <td>-0.080741</td>\n",
              "      <td>0.377620</td>\n",
              "      <td>0.296612</td>\n",
              "      <td>0.458361</td>\n",
              "      <td>-0.045269</td>\n",
              "      <td>0.161749</td>\n",
              "      <td>0.149648</td>\n",
              "      <td>0.562941</td>\n",
              "      <td>0.977974</td>\n",
              "      <td>0.525012</td>\n",
              "      <td>0.940045</td>\n",
              "      <td>0.551062</td>\n",
              "      <td>0.966095</td>\n",
              "      <td>0.411343</td>\n",
              "      <td>0.826376</td>\n",
              "      <td>-0.102215</td>\n",
              "      <td>0.312818</td>\n",
              "      <td>0.415033</td>\n",
              "      <td>20.591415</td>\n",
              "      <td>20.176382</td>\n",
              "      <td>21.039786</td>\n",
              "      <td>20.928928</td>\n",
              "      <td>20.674966</td>\n",
              "      <td>0.110858</td>\n",
              "      <td>0.364820</td>\n",
              "      <td>0.253962</td>\n",
              "      <td>-0.129658</td>\n",
              "      <td>-0.233854</td>\n",
              "      <td>-0.553460</td>\n",
              "      <td>1</td>\n",
              "      <td>0</td>\n",
              "      <td>0</td>\n",
              "      <td>1</td>\n",
              "    </tr>\n",
              "    <tr>\n",
              "      <th>4</th>\n",
              "      <td>21.807372</td>\n",
              "      <td>21.333804</td>\n",
              "      <td>21.339532</td>\n",
              "      <td>21.396991</td>\n",
              "      <td>20.997808</td>\n",
              "      <td>21.747126</td>\n",
              "      <td>21.271441</td>\n",
              "      <td>0.473568</td>\n",
              "      <td>0.467840</td>\n",
              "      <td>0.410380</td>\n",
              "      <td>0.809564</td>\n",
              "      <td>0.060246</td>\n",
              "      <td>-0.063188</td>\n",
              "      <td>0.020335</td>\n",
              "      <td>-0.057459</td>\n",
              "      <td>0.399184</td>\n",
              "      <td>0.125550</td>\n",
              "      <td>1.675917</td>\n",
              "      <td>2.307175</td>\n",
              "      <td>1.242260</td>\n",
              "      <td>1.873518</td>\n",
              "      <td>1.243229</td>\n",
              "      <td>1.874486</td>\n",
              "      <td>1.200232</td>\n",
              "      <td>1.831490</td>\n",
              "      <td>0.755095</td>\n",
              "      <td>1.386353</td>\n",
              "      <td>21.795659</td>\n",
              "      <td>20.986745</td>\n",
              "      <td>21.709883</td>\n",
              "      <td>21.645918</td>\n",
              "      <td>21.475944</td>\n",
              "      <td>20.975349</td>\n",
              "      <td>20.924649</td>\n",
              "      <td>0.233939</td>\n",
              "      <td>0.785234</td>\n",
              "      <td>0.169974</td>\n",
              "      <td>0.721269</td>\n",
              "      <td>0.500595</td>\n",
              "      <td>0.551295</td>\n",
              "      <td>-0.319715</td>\n",
              "      <td>0.050700</td>\n",
              "      <td>-0.062096</td>\n",
              "      <td>1.646190</td>\n",
              "      <td>2.277448</td>\n",
              "      <td>1.919331</td>\n",
              "      <td>2.550589</td>\n",
              "      <td>1.724450</td>\n",
              "      <td>2.355707</td>\n",
              "      <td>0.935480</td>\n",
              "      <td>1.566738</td>\n",
              "      <td>0.915536</td>\n",
              "      <td>1.546794</td>\n",
              "      <td>0.631258</td>\n",
              "      <td>20.071209</td>\n",
              "      <td>19.439951</td>\n",
              "      <td>22.010142</td>\n",
              "      <td>21.805173</td>\n",
              "      <td>21.275584</td>\n",
              "      <td>0.204969</td>\n",
              "      <td>0.734557</td>\n",
              "      <td>0.529589</td>\n",
              "      <td>-0.696673</td>\n",
              "      <td>-0.490735</td>\n",
              "      <td>-0.449280</td>\n",
              "      <td>1</td>\n",
              "      <td>0</td>\n",
              "      <td>0</td>\n",
              "      <td>1</td>\n",
              "    </tr>\n",
              "    <tr>\n",
              "      <th>...</th>\n",
              "      <td>...</td>\n",
              "      <td>...</td>\n",
              "      <td>...</td>\n",
              "      <td>...</td>\n",
              "      <td>...</td>\n",
              "      <td>...</td>\n",
              "      <td>...</td>\n",
              "      <td>...</td>\n",
              "      <td>...</td>\n",
              "      <td>...</td>\n",
              "      <td>...</td>\n",
              "      <td>...</td>\n",
              "      <td>...</td>\n",
              "      <td>...</td>\n",
              "      <td>...</td>\n",
              "      <td>...</td>\n",
              "      <td>...</td>\n",
              "      <td>...</td>\n",
              "      <td>...</td>\n",
              "      <td>...</td>\n",
              "      <td>...</td>\n",
              "      <td>...</td>\n",
              "      <td>...</td>\n",
              "      <td>...</td>\n",
              "      <td>...</td>\n",
              "      <td>...</td>\n",
              "      <td>...</td>\n",
              "      <td>...</td>\n",
              "      <td>...</td>\n",
              "      <td>...</td>\n",
              "      <td>...</td>\n",
              "      <td>...</td>\n",
              "      <td>...</td>\n",
              "      <td>...</td>\n",
              "      <td>...</td>\n",
              "      <td>...</td>\n",
              "      <td>...</td>\n",
              "      <td>...</td>\n",
              "      <td>...</td>\n",
              "      <td>...</td>\n",
              "      <td>...</td>\n",
              "      <td>...</td>\n",
              "      <td>...</td>\n",
              "      <td>...</td>\n",
              "      <td>...</td>\n",
              "      <td>...</td>\n",
              "      <td>...</td>\n",
              "      <td>...</td>\n",
              "      <td>...</td>\n",
              "      <td>...</td>\n",
              "      <td>...</td>\n",
              "      <td>...</td>\n",
              "      <td>...</td>\n",
              "      <td>...</td>\n",
              "      <td>...</td>\n",
              "      <td>...</td>\n",
              "      <td>...</td>\n",
              "      <td>...</td>\n",
              "      <td>...</td>\n",
              "      <td>...</td>\n",
              "      <td>...</td>\n",
              "      <td>...</td>\n",
              "      <td>...</td>\n",
              "      <td>...</td>\n",
              "      <td>...</td>\n",
              "      <td>...</td>\n",
              "      <td>...</td>\n",
              "      <td>...</td>\n",
              "      <td>...</td>\n",
              "    </tr>\n",
              "    <tr>\n",
              "      <th>19999</th>\n",
              "      <td>20.661284</td>\n",
              "      <td>19.255890</td>\n",
              "      <td>18.623087</td>\n",
              "      <td>18.411583</td>\n",
              "      <td>18.284448</td>\n",
              "      <td>20.482987</td>\n",
              "      <td>18.381478</td>\n",
              "      <td>1.405394</td>\n",
              "      <td>2.038197</td>\n",
              "      <td>2.249701</td>\n",
              "      <td>2.376836</td>\n",
              "      <td>0.178297</td>\n",
              "      <td>0.844307</td>\n",
              "      <td>0.039244</td>\n",
              "      <td>0.211504</td>\n",
              "      <td>0.127135</td>\n",
              "      <td>0.030105</td>\n",
              "      <td>1.667076</td>\n",
              "      <td>1.503909</td>\n",
              "      <td>0.400734</td>\n",
              "      <td>0.237567</td>\n",
              "      <td>-0.230477</td>\n",
              "      <td>-0.393644</td>\n",
              "      <td>-0.434433</td>\n",
              "      <td>-0.597601</td>\n",
              "      <td>-0.609287</td>\n",
              "      <td>-0.772454</td>\n",
              "      <td>18.435874</td>\n",
              "      <td>18.337636</td>\n",
              "      <td>19.185897</td>\n",
              "      <td>18.584284</td>\n",
              "      <td>18.409641</td>\n",
              "      <td>18.333290</td>\n",
              "      <td>18.317061</td>\n",
              "      <td>0.776256</td>\n",
              "      <td>0.868836</td>\n",
              "      <td>0.174643</td>\n",
              "      <td>0.267223</td>\n",
              "      <td>0.076351</td>\n",
              "      <td>0.092580</td>\n",
              "      <td>-0.026233</td>\n",
              "      <td>0.016229</td>\n",
              "      <td>-0.020575</td>\n",
              "      <td>0.381438</td>\n",
              "      <td>0.218271</td>\n",
              "      <td>-0.158372</td>\n",
              "      <td>-0.321539</td>\n",
              "      <td>-0.380038</td>\n",
              "      <td>-0.543205</td>\n",
              "      <td>-0.483440</td>\n",
              "      <td>-0.646607</td>\n",
              "      <td>-0.478276</td>\n",
              "      <td>-0.641443</td>\n",
              "      <td>-0.163167</td>\n",
              "      <td>18.815911</td>\n",
              "      <td>18.979078</td>\n",
              "      <td>19.113936</td>\n",
              "      <td>18.539375</td>\n",
              "      <td>18.278859</td>\n",
              "      <td>0.574561</td>\n",
              "      <td>0.835076</td>\n",
              "      <td>0.260515</td>\n",
              "      <td>0.102710</td>\n",
              "      <td>0.046059</td>\n",
              "      <td>-0.072235</td>\n",
              "      <td>0</td>\n",
              "      <td>0</td>\n",
              "      <td>2</td>\n",
              "      <td>0</td>\n",
              "    </tr>\n",
              "    <tr>\n",
              "      <th>20000</th>\n",
              "      <td>13.312305</td>\n",
              "      <td>11.962711</td>\n",
              "      <td>11.560782</td>\n",
              "      <td>11.436245</td>\n",
              "      <td>11.592154</td>\n",
              "      <td>13.995124</td>\n",
              "      <td>14.431538</td>\n",
              "      <td>1.349594</td>\n",
              "      <td>1.751522</td>\n",
              "      <td>1.876060</td>\n",
              "      <td>1.720150</td>\n",
              "      <td>-0.682820</td>\n",
              "      <td>0.526466</td>\n",
              "      <td>-3.094369</td>\n",
              "      <td>0.124537</td>\n",
              "      <td>-0.155909</td>\n",
              "      <td>-2.995293</td>\n",
              "      <td>1.147789</td>\n",
              "      <td>0.485336</td>\n",
              "      <td>2.209744</td>\n",
              "      <td>1.547292</td>\n",
              "      <td>1.862622</td>\n",
              "      <td>1.200169</td>\n",
              "      <td>1.584202</td>\n",
              "      <td>0.921750</td>\n",
              "      <td>0.609923</td>\n",
              "      <td>-0.052529</td>\n",
              "      <td>13.691715</td>\n",
              "      <td>11.542591</td>\n",
              "      <td>12.762819</td>\n",
              "      <td>NaN</td>\n",
              "      <td>12.707123</td>\n",
              "      <td>NaN</td>\n",
              "      <td>11.915187</td>\n",
              "      <td>0.055696</td>\n",
              "      <td>0.847632</td>\n",
              "      <td>NaN</td>\n",
              "      <td>NaN</td>\n",
              "      <td>NaN</td>\n",
              "      <td>0.791936</td>\n",
              "      <td>-0.984592</td>\n",
              "      <td>NaN</td>\n",
              "      <td>0.372596</td>\n",
              "      <td>1.132858</td>\n",
              "      <td>0.470406</td>\n",
              "      <td>-1.198279</td>\n",
              "      <td>-1.860731</td>\n",
              "      <td>0.844379</td>\n",
              "      <td>0.181927</td>\n",
              "      <td>-0.189074</td>\n",
              "      <td>-0.851526</td>\n",
              "      <td>-1.304745</td>\n",
              "      <td>-1.967197</td>\n",
              "      <td>-0.662452</td>\n",
              "      <td>12.847336</td>\n",
              "      <td>13.509788</td>\n",
              "      <td>12.494762</td>\n",
              "      <td>12.603138</td>\n",
              "      <td>12.784739</td>\n",
              "      <td>-0.108376</td>\n",
              "      <td>-0.289977</td>\n",
              "      <td>-0.181601</td>\n",
              "      <td>2.562318</td>\n",
              "      <td>2.106819</td>\n",
              "      <td>0.672520</td>\n",
              "      <td>0</td>\n",
              "      <td>0</td>\n",
              "      <td>2</td>\n",
              "      <td>0</td>\n",
              "    </tr>\n",
              "    <tr>\n",
              "      <th>20001</th>\n",
              "      <td>23.303352</td>\n",
              "      <td>20.578231</td>\n",
              "      <td>19.062118</td>\n",
              "      <td>17.481073</td>\n",
              "      <td>16.599224</td>\n",
              "      <td>21.505317</td>\n",
              "      <td>17.486812</td>\n",
              "      <td>2.725120</td>\n",
              "      <td>4.241234</td>\n",
              "      <td>5.822279</td>\n",
              "      <td>6.704128</td>\n",
              "      <td>1.798035</td>\n",
              "      <td>3.097158</td>\n",
              "      <td>0.029285</td>\n",
              "      <td>1.581045</td>\n",
              "      <td>0.881850</td>\n",
              "      <td>-0.005739</td>\n",
              "      <td>4.709437</td>\n",
              "      <td>4.241491</td>\n",
              "      <td>3.753066</td>\n",
              "      <td>3.285120</td>\n",
              "      <td>2.271511</td>\n",
              "      <td>1.803565</td>\n",
              "      <td>0.690932</td>\n",
              "      <td>0.222986</td>\n",
              "      <td>-0.194418</td>\n",
              "      <td>-0.662365</td>\n",
              "      <td>17.566609</td>\n",
              "      <td>16.433256</td>\n",
              "      <td>20.270035</td>\n",
              "      <td>19.036616</td>\n",
              "      <td>17.437841</td>\n",
              "      <td>16.582640</td>\n",
              "      <td>16.385155</td>\n",
              "      <td>2.832194</td>\n",
              "      <td>3.884880</td>\n",
              "      <td>1.598775</td>\n",
              "      <td>2.651461</td>\n",
              "      <td>0.855201</td>\n",
              "      <td>1.052686</td>\n",
              "      <td>-0.128767</td>\n",
              "      <td>0.197485</td>\n",
              "      <td>-0.048101</td>\n",
              "      <td>3.541963</td>\n",
              "      <td>3.074017</td>\n",
              "      <td>2.357511</td>\n",
              "      <td>1.889564</td>\n",
              "      <td>0.770729</td>\n",
              "      <td>0.302783</td>\n",
              "      <td>-0.122753</td>\n",
              "      <td>-0.590700</td>\n",
              "      <td>-0.362624</td>\n",
              "      <td>-0.830570</td>\n",
              "      <td>-0.467946</td>\n",
              "      <td>16.795880</td>\n",
              "      <td>17.263826</td>\n",
              "      <td>20.480267</td>\n",
              "      <td>18.895657</td>\n",
              "      <td>16.544754</td>\n",
              "      <td>1.584610</td>\n",
              "      <td>3.935514</td>\n",
              "      <td>2.350903</td>\n",
              "      <td>0.068679</td>\n",
              "      <td>0.171734</td>\n",
              "      <td>0.056708</td>\n",
              "      <td>0</td>\n",
              "      <td>0</td>\n",
              "      <td>2</td>\n",
              "      <td>0</td>\n",
              "    </tr>\n",
              "    <tr>\n",
              "      <th>20010</th>\n",
              "      <td>12.033379</td>\n",
              "      <td>10.839125</td>\n",
              "      <td>9.676886</td>\n",
              "      <td>15.717350</td>\n",
              "      <td>7.958119</td>\n",
              "      <td>14.109184</td>\n",
              "      <td>11.643447</td>\n",
              "      <td>1.194254</td>\n",
              "      <td>2.356493</td>\n",
              "      <td>-3.683971</td>\n",
              "      <td>4.075260</td>\n",
              "      <td>-2.075805</td>\n",
              "      <td>-4.878225</td>\n",
              "      <td>-3.254005</td>\n",
              "      <td>-6.040463</td>\n",
              "      <td>7.759231</td>\n",
              "      <td>4.073902</td>\n",
              "      <td>5.488688</td>\n",
              "      <td>5.529773</td>\n",
              "      <td>5.472634</td>\n",
              "      <td>5.513719</td>\n",
              "      <td>4.671113</td>\n",
              "      <td>4.712198</td>\n",
              "      <td>3.022951</td>\n",
              "      <td>3.064036</td>\n",
              "      <td>1.916298</td>\n",
              "      <td>1.957383</td>\n",
              "      <td>NaN</td>\n",
              "      <td>NaN</td>\n",
              "      <td>NaN</td>\n",
              "      <td>NaN</td>\n",
              "      <td>NaN</td>\n",
              "      <td>NaN</td>\n",
              "      <td>NaN</td>\n",
              "      <td>NaN</td>\n",
              "      <td>NaN</td>\n",
              "      <td>NaN</td>\n",
              "      <td>NaN</td>\n",
              "      <td>NaN</td>\n",
              "      <td>NaN</td>\n",
              "      <td>NaN</td>\n",
              "      <td>NaN</td>\n",
              "      <td>NaN</td>\n",
              "      <td>NaN</td>\n",
              "      <td>NaN</td>\n",
              "      <td>NaN</td>\n",
              "      <td>NaN</td>\n",
              "      <td>NaN</td>\n",
              "      <td>NaN</td>\n",
              "      <td>NaN</td>\n",
              "      <td>NaN</td>\n",
              "      <td>NaN</td>\n",
              "      <td>NaN</td>\n",
              "      <td>0.041085</td>\n",
              "      <td>8.620496</td>\n",
              "      <td>8.579411</td>\n",
              "      <td>12.236090</td>\n",
              "      <td>12.009304</td>\n",
              "      <td>14.070101</td>\n",
              "      <td>0.226786</td>\n",
              "      <td>-1.834011</td>\n",
              "      <td>-2.060797</td>\n",
              "      <td>1.857040</td>\n",
              "      <td>1.282305</td>\n",
              "      <td>-3.533307</td>\n",
              "      <td>0</td>\n",
              "      <td>0</td>\n",
              "      <td>2</td>\n",
              "      <td>0</td>\n",
              "    </tr>\n",
              "    <tr>\n",
              "      <th>20011</th>\n",
              "      <td>18.825795</td>\n",
              "      <td>16.930775</td>\n",
              "      <td>16.009830</td>\n",
              "      <td>15.568099</td>\n",
              "      <td>15.335913</td>\n",
              "      <td>18.814910</td>\n",
              "      <td>15.567361</td>\n",
              "      <td>1.895021</td>\n",
              "      <td>2.815965</td>\n",
              "      <td>3.257696</td>\n",
              "      <td>3.489883</td>\n",
              "      <td>0.010886</td>\n",
              "      <td>1.362675</td>\n",
              "      <td>0.012904</td>\n",
              "      <td>0.441731</td>\n",
              "      <td>0.232187</td>\n",
              "      <td>0.000739</td>\n",
              "      <td>2.700888</td>\n",
              "      <td>2.077104</td>\n",
              "      <td>0.803849</td>\n",
              "      <td>0.180066</td>\n",
              "      <td>-0.115503</td>\n",
              "      <td>-0.739286</td>\n",
              "      <td>-0.546661</td>\n",
              "      <td>-1.170445</td>\n",
              "      <td>-0.847446</td>\n",
              "      <td>-1.471230</td>\n",
              "      <td>15.652003</td>\n",
              "      <td>15.257767</td>\n",
              "      <td>16.863090</td>\n",
              "      <td>16.099855</td>\n",
              "      <td>15.645479</td>\n",
              "      <td>15.331374</td>\n",
              "      <td>15.280365</td>\n",
              "      <td>1.217611</td>\n",
              "      <td>1.582725</td>\n",
              "      <td>0.454376</td>\n",
              "      <td>0.819491</td>\n",
              "      <td>0.314105</td>\n",
              "      <td>0.365114</td>\n",
              "      <td>-0.006524</td>\n",
              "      <td>0.051009</td>\n",
              "      <td>0.022598</td>\n",
              "      <td>0.818291</td>\n",
              "      <td>0.194508</td>\n",
              "      <td>-0.008586</td>\n",
              "      <td>-0.632370</td>\n",
              "      <td>-0.462019</td>\n",
              "      <td>-1.085803</td>\n",
              "      <td>-0.705682</td>\n",
              "      <td>-1.329466</td>\n",
              "      <td>-0.856255</td>\n",
              "      <td>-1.480038</td>\n",
              "      <td>-0.623784</td>\n",
              "      <td>16.114022</td>\n",
              "      <td>16.737805</td>\n",
              "      <td>16.960602</td>\n",
              "      <td>16.039827</td>\n",
              "      <td>15.399585</td>\n",
              "      <td>0.920774</td>\n",
              "      <td>1.561016</td>\n",
              "      <td>0.640242</td>\n",
              "      <td>-0.042731</td>\n",
              "      <td>-0.041308</td>\n",
              "      <td>-0.133010</td>\n",
              "      <td>0</td>\n",
              "      <td>0</td>\n",
              "      <td>2</td>\n",
              "      <td>0</td>\n",
              "    </tr>\n",
              "  </tbody>\n",
              "</table>\n",
              "<p>17405 rows × 69 columns</p>\n",
              "</div>"
            ],
            "text/plain": [
              "       sdssdr16_u_psf  sdssdr16_g_psf  sdssdr16_r_psf  ...  LabelG  LabelS  Label\n",
              "0           22.920023       21.565505       21.621283  ...       0       0      1\n",
              "1           19.933288       19.661708       19.533851  ...       0       0      1\n",
              "2           21.169854       19.856397       19.653011  ...       0       0      1\n",
              "3           21.462910       20.896202       20.697560  ...       0       0      1\n",
              "4           21.807372       21.333804       21.339532  ...       0       0      1\n",
              "...               ...             ...             ...  ...     ...     ...    ...\n",
              "19999       20.661284       19.255890       18.623087  ...       0       2      0\n",
              "20000       13.312305       11.962711       11.560782  ...       0       2      0\n",
              "20001       23.303352       20.578231       19.062118  ...       0       2      0\n",
              "20010       12.033379       10.839125        9.676886  ...       0       2      0\n",
              "20011       18.825795       16.930775       16.009830  ...       0       2      0\n",
              "\n",
              "[17405 rows x 69 columns]"
            ]
          },
          "metadata": {
            "tags": []
          },
          "execution_count": 20
        }
      ]
    },
    {
      "cell_type": "code",
      "metadata": {
        "colab": {
          "base_uri": "https://localhost:8080/",
          "height": 405
        },
        "id": "XyZFojW8rHNk",
        "outputId": "59493d72-34bd-43ee-f33d-e180e5528f7c"
      },
      "source": [
        "fig, (ax1, ax2, ax3) = plt.subplots(ncols = 3, figsize = (24, 6))\n",
        "sns.histplot(df[df['Label']==0]['sdssdr16_r_cmodel'], ax = ax1, bins = 30, color = 'g', element=\"step\")\n",
        "sns.histplot(df[df['Label']==2]['sdssdr16_r_cmodel'], ax = ax2, bins = 30, color = 'r', element=\"step\")\n",
        "sns.histplot(df[df['Label']==1]['sdssdr16_r_cmodel'], ax = ax3, bins = 30, color = 'b', element=\"step\")"
      ],
      "execution_count": null,
      "outputs": [
        {
          "output_type": "execute_result",
          "data": {
            "text/plain": [
              "<matplotlib.axes._subplots.AxesSubplot at 0x7f93a3901bd0>"
            ]
          },
          "metadata": {
            "tags": []
          },
          "execution_count": 19
        },
        {
          "output_type": "display_data",
          "data": {
            "image/png": "[encoded data removed]",
            "text/plain": [
              "<Figure size 1728x432 with 3 Axes>"
            ]
          },
          "metadata": {
            "tags": [],
            "needs_background": "light"
          }
        }
      ]
    },
    {
      "cell_type": "code",
      "metadata": {
        "id": "iXFYvowD2w_M"
      },
      "source": [
        "df_s = df[df.Label==0]\n",
        "df_q = df[df.Label==1]\n",
        "df_g = df[df.Label==2]"
      ],
      "execution_count": null,
      "outputs": []
    },
    {
      "cell_type": "code",
      "metadata": {
        "colab": {
          "base_uri": "https://localhost:8080/",
          "height": 438
        },
        "id": "T9UlYPAE5dPF",
        "outputId": "bb3248ee-1add-4c3e-ee23-be1d1a4d0bdc"
      },
      "source": [
        "df_s"
      ],
      "execution_count": null,
      "outputs": [
        {
          "output_type": "execute_result",
          "data": {
            "text/html": [
              "<div>\n",
              "<style scoped>\n",
              "    .dataframe tbody tr th:only-of-type {\n",
              "        vertical-align: middle;\n",
              "    }\n",
              "\n",
              "    .dataframe tbody tr th {\n",
              "        vertical-align: top;\n",
              "    }\n",
              "\n",
              "    .dataframe thead th {\n",
              "        text-align: right;\n",
              "    }\n",
              "</style>\n",
              "<table border=\"1\" class=\"dataframe\">\n",
              "  <thead>\n",
              "    <tr style=\"text-align: right;\">\n",
              "      <th></th>\n",
              "      <th>sdssdr16_u_psf</th>\n",
              "      <th>sdssdr16_g_psf</th>\n",
              "      <th>sdssdr16_r_psf</th>\n",
              "      <th>sdssdr16_i_psf</th>\n",
              "      <th>sdssdr16_z_psf</th>\n",
              "      <th>sdssdr16_u_cmodel</th>\n",
              "      <th>sdssdr16_i_cmodel</th>\n",
              "      <th>sdssdr16_u-g_psf</th>\n",
              "      <th>sdssdr16_u-r_psf</th>\n",
              "      <th>sdssdr16_u-i_psf</th>\n",
              "      <th>sdssdr16_u-z_psf</th>\n",
              "      <th>sdssdr16_u_psf-cmodel</th>\n",
              "      <th>sdssdr16_g-i_psf</th>\n",
              "      <th>sdssdr16_g_psf-cmodel</th>\n",
              "      <th>sdssdr16_r-i_psf</th>\n",
              "      <th>sdssdr16_i-z_psf</th>\n",
              "      <th>sdssdr16_i_psf-cmodel</th>\n",
              "      <th>sdssdr16_u_cmodel-decals8tr_Lw1</th>\n",
              "      <th>sdssdr16_u_cmodel-decals8tr_Lw2</th>\n",
              "      <th>sdssdr16_g_cmodel-decals8tr_Lw1</th>\n",
              "      <th>sdssdr16_g_cmodel-decals8tr_Lw2</th>\n",
              "      <th>sdssdr16_r_cmodel-decals8tr_Lw1</th>\n",
              "      <th>sdssdr16_r_cmodel-decals8tr_Lw2</th>\n",
              "      <th>sdssdr16_i_cmodel-decals8tr_Lw1</th>\n",
              "      <th>sdssdr16_i_cmodel-decals8tr_Lw2</th>\n",
              "      <th>sdssdr16_z_cmodel-decals8tr_Lw1</th>\n",
              "      <th>sdssdr16_z_cmodel-decals8tr_Lw2</th>\n",
              "      <th>psdr2_i_kron</th>\n",
              "      <th>psdr2_y_kron</th>\n",
              "      <th>psdr2_g_psf</th>\n",
              "      <th>psdr2_r_psf</th>\n",
              "      <th>psdr2_i_psf</th>\n",
              "      <th>psdr2_z_psf</th>\n",
              "      <th>psdr2_y_psf</th>\n",
              "      <th>psdr2_g-i_psf</th>\n",
              "      <th>psdr2_g-y_psf</th>\n",
              "      <th>psdr2_r-i_psf</th>\n",
              "      <th>psdr2_r-y_psf</th>\n",
              "      <th>psdr2_i-z_psf</th>\n",
              "      <th>psdr2_i-y_psf</th>\n",
              "      <th>psdr2_i_psf-kron</th>\n",
              "      <th>psdr2_z-y_psf</th>\n",
              "      <th>psdr2_y_psf-kron</th>\n",
              "      <th>psdr2_g_kron-decals8tr_Lw1</th>\n",
              "      <th>psdr2_g_kron-decals8tr_Lw2</th>\n",
              "      <th>psdr2_r_kron-decals8tr_Lw1</th>\n",
              "      <th>psdr2_r_kron-decals8tr_Lw2</th>\n",
              "      <th>psdr2_i_kron-decals8tr_Lw1</th>\n",
              "      <th>psdr2_i_kron-decals8tr_Lw2</th>\n",
              "      <th>psdr2_z_kron-decals8tr_Lw1</th>\n",
              "      <th>psdr2_z_kron-decals8tr_Lw2</th>\n",
              "      <th>psdr2_y_kron-decals8tr_Lw1</th>\n",
              "      <th>psdr2_y_kron-decals8tr_Lw2</th>\n",
              "      <th>decals8tr_Lw1-Lw2</th>\n",
              "      <th>decals8tr_Lw1</th>\n",
              "      <th>decals8tr_Lw2</th>\n",
              "      <th>decals8tr_g</th>\n",
              "      <th>decals8tr_r</th>\n",
              "      <th>decals8tr_z</th>\n",
              "      <th>decals8tr_g-r</th>\n",
              "      <th>decals8tr_g-z</th>\n",
              "      <th>decals8tr_r-z</th>\n",
              "      <th>sdssdr16_g_cmodel-decals8tr_g</th>\n",
              "      <th>sdssdr16_r_cmodel-decals8tr_r</th>\n",
              "      <th>sdssdr16_z_cmodel-decals8tr_z</th>\n",
              "      <th>LabelQ</th>\n",
              "      <th>LabelG</th>\n",
              "      <th>LabelS</th>\n",
              "      <th>Label</th>\n",
              "    </tr>\n",
              "  </thead>\n",
              "  <tbody>\n",
              "    <tr>\n",
              "      <th>14095</th>\n",
              "      <td>22.205799</td>\n",
              "      <td>20.147787</td>\n",
              "      <td>19.289909</td>\n",
              "      <td>18.977191</td>\n",
              "      <td>18.667902</td>\n",
              "      <td>20.895187</td>\n",
              "      <td>18.822989</td>\n",
              "      <td>2.058012</td>\n",
              "      <td>2.915890</td>\n",
              "      <td>3.228608</td>\n",
              "      <td>3.537898</td>\n",
              "      <td>1.310613</td>\n",
              "      <td>1.170596</td>\n",
              "      <td>0.061094</td>\n",
              "      <td>0.312718</td>\n",
              "      <td>0.309289</td>\n",
              "      <td>0.154202</td>\n",
              "      <td>1.974550</td>\n",
              "      <td>1.960860</td>\n",
              "      <td>1.166056</td>\n",
              "      <td>1.152367</td>\n",
              "      <td>0.305213</td>\n",
              "      <td>0.291523</td>\n",
              "      <td>-0.097648</td>\n",
              "      <td>-0.111338</td>\n",
              "      <td>-0.425530</td>\n",
              "      <td>-0.439219</td>\n",
              "      <td>18.920448</td>\n",
              "      <td>18.628564</td>\n",
              "      <td>20.006031</td>\n",
              "      <td>19.303136</td>\n",
              "      <td>18.975600</td>\n",
              "      <td>18.842633</td>\n",
              "      <td>18.759075</td>\n",
              "      <td>1.030431</td>\n",
              "      <td>1.246956</td>\n",
              "      <td>0.327537</td>\n",
              "      <td>0.544061</td>\n",
              "      <td>0.132967</td>\n",
              "      <td>0.216524</td>\n",
              "      <td>0.055151</td>\n",
              "      <td>0.083557</td>\n",
              "      <td>0.130512</td>\n",
              "      <td>1.094189</td>\n",
              "      <td>1.080499</td>\n",
              "      <td>0.366355</td>\n",
              "      <td>0.352666</td>\n",
              "      <td>-0.000189</td>\n",
              "      <td>-0.013878</td>\n",
              "      <td>-0.220647</td>\n",
              "      <td>-0.234337</td>\n",
              "      <td>-0.292073</td>\n",
              "      <td>-0.305763</td>\n",
              "      <td>-0.013689</td>\n",
              "      <td>18.920637</td>\n",
              "      <td>18.934326</td>\n",
              "      <td>20.042944</td>\n",
              "      <td>19.211602</td>\n",
              "      <td>18.759660</td>\n",
              "      <td>0.831342</td>\n",
              "      <td>1.283285</td>\n",
              "      <td>0.451942</td>\n",
              "      <td>0.043749</td>\n",
              "      <td>0.014248</td>\n",
              "      <td>-0.264553</td>\n",
              "      <td>0</td>\n",
              "      <td>0</td>\n",
              "      <td>1</td>\n",
              "      <td>0</td>\n",
              "    </tr>\n",
              "    <tr>\n",
              "      <th>14096</th>\n",
              "      <td>NaN</td>\n",
              "      <td>NaN</td>\n",
              "      <td>NaN</td>\n",
              "      <td>NaN</td>\n",
              "      <td>NaN</td>\n",
              "      <td>NaN</td>\n",
              "      <td>NaN</td>\n",
              "      <td>NaN</td>\n",
              "      <td>NaN</td>\n",
              "      <td>NaN</td>\n",
              "      <td>NaN</td>\n",
              "      <td>NaN</td>\n",
              "      <td>NaN</td>\n",
              "      <td>NaN</td>\n",
              "      <td>NaN</td>\n",
              "      <td>NaN</td>\n",
              "      <td>NaN</td>\n",
              "      <td>NaN</td>\n",
              "      <td>NaN</td>\n",
              "      <td>NaN</td>\n",
              "      <td>NaN</td>\n",
              "      <td>NaN</td>\n",
              "      <td>NaN</td>\n",
              "      <td>NaN</td>\n",
              "      <td>NaN</td>\n",
              "      <td>NaN</td>\n",
              "      <td>NaN</td>\n",
              "      <td>NaN</td>\n",
              "      <td>NaN</td>\n",
              "      <td>NaN</td>\n",
              "      <td>NaN</td>\n",
              "      <td>NaN</td>\n",
              "      <td>NaN</td>\n",
              "      <td>NaN</td>\n",
              "      <td>NaN</td>\n",
              "      <td>NaN</td>\n",
              "      <td>NaN</td>\n",
              "      <td>NaN</td>\n",
              "      <td>NaN</td>\n",
              "      <td>NaN</td>\n",
              "      <td>NaN</td>\n",
              "      <td>NaN</td>\n",
              "      <td>NaN</td>\n",
              "      <td>NaN</td>\n",
              "      <td>NaN</td>\n",
              "      <td>NaN</td>\n",
              "      <td>NaN</td>\n",
              "      <td>NaN</td>\n",
              "      <td>NaN</td>\n",
              "      <td>NaN</td>\n",
              "      <td>NaN</td>\n",
              "      <td>NaN</td>\n",
              "      <td>NaN</td>\n",
              "      <td>NaN</td>\n",
              "      <td>NaN</td>\n",
              "      <td>NaN</td>\n",
              "      <td>NaN</td>\n",
              "      <td>NaN</td>\n",
              "      <td>NaN</td>\n",
              "      <td>NaN</td>\n",
              "      <td>NaN</td>\n",
              "      <td>NaN</td>\n",
              "      <td>NaN</td>\n",
              "      <td>NaN</td>\n",
              "      <td>NaN</td>\n",
              "      <td>0</td>\n",
              "      <td>0</td>\n",
              "      <td>1</td>\n",
              "      <td>0</td>\n",
              "    </tr>\n",
              "    <tr>\n",
              "      <th>14097</th>\n",
              "      <td>19.140804</td>\n",
              "      <td>17.888408</td>\n",
              "      <td>17.442821</td>\n",
              "      <td>17.247753</td>\n",
              "      <td>17.171994</td>\n",
              "      <td>19.147438</td>\n",
              "      <td>17.253295</td>\n",
              "      <td>1.252396</td>\n",
              "      <td>1.697983</td>\n",
              "      <td>1.893051</td>\n",
              "      <td>1.968810</td>\n",
              "      <td>-0.006634</td>\n",
              "      <td>0.640655</td>\n",
              "      <td>0.004969</td>\n",
              "      <td>0.195068</td>\n",
              "      <td>0.075759</td>\n",
              "      <td>-0.005543</td>\n",
              "      <td>0.812691</td>\n",
              "      <td>0.243831</td>\n",
              "      <td>-0.451308</td>\n",
              "      <td>-1.020168</td>\n",
              "      <td>-0.904510</td>\n",
              "      <td>-1.473370</td>\n",
              "      <td>-1.081452</td>\n",
              "      <td>-1.650312</td>\n",
              "      <td>-1.157631</td>\n",
              "      <td>-1.726491</td>\n",
              "      <td>17.361251</td>\n",
              "      <td>17.204722</td>\n",
              "      <td>17.837975</td>\n",
              "      <td>17.269408</td>\n",
              "      <td>17.273035</td>\n",
              "      <td>17.220647</td>\n",
              "      <td>17.180256</td>\n",
              "      <td>0.564940</td>\n",
              "      <td>0.657720</td>\n",
              "      <td>-0.003628</td>\n",
              "      <td>0.089152</td>\n",
              "      <td>0.052388</td>\n",
              "      <td>0.092780</td>\n",
              "      <td>-0.088216</td>\n",
              "      <td>0.040392</td>\n",
              "      <td>-0.024467</td>\n",
              "      <td>-0.439107</td>\n",
              "      <td>-1.007967</td>\n",
              "      <td>-0.855828</td>\n",
              "      <td>-1.424688</td>\n",
              "      <td>-0.973496</td>\n",
              "      <td>-1.542356</td>\n",
              "      <td>-1.032787</td>\n",
              "      <td>-1.601647</td>\n",
              "      <td>-1.130025</td>\n",
              "      <td>-1.698885</td>\n",
              "      <td>-0.568860</td>\n",
              "      <td>18.334747</td>\n",
              "      <td>18.903607</td>\n",
              "      <td>17.828840</td>\n",
              "      <td>17.366467</td>\n",
              "      <td>17.176663</td>\n",
              "      <td>0.462373</td>\n",
              "      <td>0.652177</td>\n",
              "      <td>0.189804</td>\n",
              "      <td>0.054600</td>\n",
              "      <td>0.063770</td>\n",
              "      <td>0.000453</td>\n",
              "      <td>0</td>\n",
              "      <td>0</td>\n",
              "      <td>1</td>\n",
              "      <td>0</td>\n",
              "    </tr>\n",
              "    <tr>\n",
              "      <th>14098</th>\n",
              "      <td>19.882465</td>\n",
              "      <td>18.527261</td>\n",
              "      <td>17.841124</td>\n",
              "      <td>17.628888</td>\n",
              "      <td>17.428524</td>\n",
              "      <td>19.862783</td>\n",
              "      <td>17.609165</td>\n",
              "      <td>1.355204</td>\n",
              "      <td>2.041341</td>\n",
              "      <td>2.253578</td>\n",
              "      <td>2.453942</td>\n",
              "      <td>0.019683</td>\n",
              "      <td>0.898374</td>\n",
              "      <td>0.021378</td>\n",
              "      <td>0.212236</td>\n",
              "      <td>0.200364</td>\n",
              "      <td>0.019722</td>\n",
              "      <td>1.320175</td>\n",
              "      <td>0.703110</td>\n",
              "      <td>-0.036724</td>\n",
              "      <td>-0.653789</td>\n",
              "      <td>-0.703643</td>\n",
              "      <td>-1.320707</td>\n",
              "      <td>-0.933443</td>\n",
              "      <td>-1.550507</td>\n",
              "      <td>-1.096180</td>\n",
              "      <td>-1.713245</td>\n",
              "      <td>17.709008</td>\n",
              "      <td>17.603952</td>\n",
              "      <td>18.415109</td>\n",
              "      <td>17.840860</td>\n",
              "      <td>17.702549</td>\n",
              "      <td>17.514029</td>\n",
              "      <td>17.457911</td>\n",
              "      <td>0.712560</td>\n",
              "      <td>0.957198</td>\n",
              "      <td>0.138311</td>\n",
              "      <td>0.382949</td>\n",
              "      <td>0.188521</td>\n",
              "      <td>0.244638</td>\n",
              "      <td>-0.006458</td>\n",
              "      <td>0.056118</td>\n",
              "      <td>-0.146041</td>\n",
              "      <td>-0.078471</td>\n",
              "      <td>-0.695536</td>\n",
              "      <td>-0.648537</td>\n",
              "      <td>-1.265601</td>\n",
              "      <td>-0.833600</td>\n",
              "      <td>-1.450665</td>\n",
              "      <td>-0.923954</td>\n",
              "      <td>-1.541018</td>\n",
              "      <td>-0.938655</td>\n",
              "      <td>-1.555720</td>\n",
              "      <td>-0.617064</td>\n",
              "      <td>18.542608</td>\n",
              "      <td>19.159672</td>\n",
              "      <td>18.420719</td>\n",
              "      <td>17.778269</td>\n",
              "      <td>17.500613</td>\n",
              "      <td>0.642449</td>\n",
              "      <td>0.920105</td>\n",
              "      <td>0.277656</td>\n",
              "      <td>0.085165</td>\n",
              "      <td>0.060696</td>\n",
              "      <td>-0.054186</td>\n",
              "      <td>0</td>\n",
              "      <td>0</td>\n",
              "      <td>1</td>\n",
              "      <td>0</td>\n",
              "    </tr>\n",
              "    <tr>\n",
              "      <th>14099</th>\n",
              "      <td>20.980263</td>\n",
              "      <td>18.559502</td>\n",
              "      <td>17.500689</td>\n",
              "      <td>17.085194</td>\n",
              "      <td>16.828653</td>\n",
              "      <td>20.862707</td>\n",
              "      <td>17.077459</td>\n",
              "      <td>2.420761</td>\n",
              "      <td>3.479574</td>\n",
              "      <td>3.895069</td>\n",
              "      <td>4.151611</td>\n",
              "      <td>0.117557</td>\n",
              "      <td>1.474308</td>\n",
              "      <td>-0.001674</td>\n",
              "      <td>0.415495</td>\n",
              "      <td>0.256542</td>\n",
              "      <td>0.007735</td>\n",
              "      <td>3.275773</td>\n",
              "      <td>2.688127</td>\n",
              "      <td>0.974243</td>\n",
              "      <td>0.386598</td>\n",
              "      <td>-0.101355</td>\n",
              "      <td>-0.689001</td>\n",
              "      <td>-0.509474</td>\n",
              "      <td>-1.097120</td>\n",
              "      <td>-0.745986</td>\n",
              "      <td>-1.333632</td>\n",
              "      <td>17.155033</td>\n",
              "      <td>16.890206</td>\n",
              "      <td>18.422798</td>\n",
              "      <td>17.450494</td>\n",
              "      <td>17.080503</td>\n",
              "      <td>16.921963</td>\n",
              "      <td>16.856364</td>\n",
              "      <td>1.342295</td>\n",
              "      <td>1.566434</td>\n",
              "      <td>0.369991</td>\n",
              "      <td>0.594130</td>\n",
              "      <td>0.158539</td>\n",
              "      <td>0.224139</td>\n",
              "      <td>-0.074530</td>\n",
              "      <td>0.065600</td>\n",
              "      <td>-0.033843</td>\n",
              "      <td>0.907575</td>\n",
              "      <td>0.319929</td>\n",
              "      <td>-0.051811</td>\n",
              "      <td>-0.639456</td>\n",
              "      <td>-0.431901</td>\n",
              "      <td>-1.019546</td>\n",
              "      <td>-0.606877</td>\n",
              "      <td>-1.194523</td>\n",
              "      <td>-0.696727</td>\n",
              "      <td>-1.284373</td>\n",
              "      <td>-0.587646</td>\n",
              "      <td>17.586934</td>\n",
              "      <td>18.174579</td>\n",
              "      <td>18.473763</td>\n",
              "      <td>17.378221</td>\n",
              "      <td>16.844015</td>\n",
              "      <td>1.095543</td>\n",
              "      <td>1.629748</td>\n",
              "      <td>0.534205</td>\n",
              "      <td>0.087414</td>\n",
              "      <td>0.107358</td>\n",
              "      <td>-0.003068</td>\n",
              "      <td>0</td>\n",
              "      <td>0</td>\n",
              "      <td>1</td>\n",
              "      <td>0</td>\n",
              "    </tr>\n",
              "    <tr>\n",
              "      <th>...</th>\n",
              "      <td>...</td>\n",
              "      <td>...</td>\n",
              "      <td>...</td>\n",
              "      <td>...</td>\n",
              "      <td>...</td>\n",
              "      <td>...</td>\n",
              "      <td>...</td>\n",
              "      <td>...</td>\n",
              "      <td>...</td>\n",
              "      <td>...</td>\n",
              "      <td>...</td>\n",
              "      <td>...</td>\n",
              "      <td>...</td>\n",
              "      <td>...</td>\n",
              "      <td>...</td>\n",
              "      <td>...</td>\n",
              "      <td>...</td>\n",
              "      <td>...</td>\n",
              "      <td>...</td>\n",
              "      <td>...</td>\n",
              "      <td>...</td>\n",
              "      <td>...</td>\n",
              "      <td>...</td>\n",
              "      <td>...</td>\n",
              "      <td>...</td>\n",
              "      <td>...</td>\n",
              "      <td>...</td>\n",
              "      <td>...</td>\n",
              "      <td>...</td>\n",
              "      <td>...</td>\n",
              "      <td>...</td>\n",
              "      <td>...</td>\n",
              "      <td>...</td>\n",
              "      <td>...</td>\n",
              "      <td>...</td>\n",
              "      <td>...</td>\n",
              "      <td>...</td>\n",
              "      <td>...</td>\n",
              "      <td>...</td>\n",
              "      <td>...</td>\n",
              "      <td>...</td>\n",
              "      <td>...</td>\n",
              "      <td>...</td>\n",
              "      <td>...</td>\n",
              "      <td>...</td>\n",
              "      <td>...</td>\n",
              "      <td>...</td>\n",
              "      <td>...</td>\n",
              "      <td>...</td>\n",
              "      <td>...</td>\n",
              "      <td>...</td>\n",
              "      <td>...</td>\n",
              "      <td>...</td>\n",
              "      <td>...</td>\n",
              "      <td>...</td>\n",
              "      <td>...</td>\n",
              "      <td>...</td>\n",
              "      <td>...</td>\n",
              "      <td>...</td>\n",
              "      <td>...</td>\n",
              "      <td>...</td>\n",
              "      <td>...</td>\n",
              "      <td>...</td>\n",
              "      <td>...</td>\n",
              "      <td>...</td>\n",
              "      <td>...</td>\n",
              "      <td>...</td>\n",
              "      <td>...</td>\n",
              "      <td>...</td>\n",
              "    </tr>\n",
              "    <tr>\n",
              "      <th>19999</th>\n",
              "      <td>20.661284</td>\n",
              "      <td>19.255890</td>\n",
              "      <td>18.623087</td>\n",
              "      <td>18.411583</td>\n",
              "      <td>18.284448</td>\n",
              "      <td>20.482987</td>\n",
              "      <td>18.381478</td>\n",
              "      <td>1.405394</td>\n",
              "      <td>2.038197</td>\n",
              "      <td>2.249701</td>\n",
              "      <td>2.376836</td>\n",
              "      <td>0.178297</td>\n",
              "      <td>0.844307</td>\n",
              "      <td>0.039244</td>\n",
              "      <td>0.211504</td>\n",
              "      <td>0.127135</td>\n",
              "      <td>0.030105</td>\n",
              "      <td>1.667076</td>\n",
              "      <td>1.503909</td>\n",
              "      <td>0.400734</td>\n",
              "      <td>0.237567</td>\n",
              "      <td>-0.230477</td>\n",
              "      <td>-0.393644</td>\n",
              "      <td>-0.434433</td>\n",
              "      <td>-0.597601</td>\n",
              "      <td>-0.609287</td>\n",
              "      <td>-0.772454</td>\n",
              "      <td>18.435874</td>\n",
              "      <td>18.337636</td>\n",
              "      <td>19.185897</td>\n",
              "      <td>18.584284</td>\n",
              "      <td>18.409641</td>\n",
              "      <td>18.333290</td>\n",
              "      <td>18.317061</td>\n",
              "      <td>0.776256</td>\n",
              "      <td>0.868836</td>\n",
              "      <td>0.174643</td>\n",
              "      <td>0.267223</td>\n",
              "      <td>0.076351</td>\n",
              "      <td>0.092580</td>\n",
              "      <td>-0.026233</td>\n",
              "      <td>0.016229</td>\n",
              "      <td>-0.020575</td>\n",
              "      <td>0.381438</td>\n",
              "      <td>0.218271</td>\n",
              "      <td>-0.158372</td>\n",
              "      <td>-0.321539</td>\n",
              "      <td>-0.380038</td>\n",
              "      <td>-0.543205</td>\n",
              "      <td>-0.483440</td>\n",
              "      <td>-0.646607</td>\n",
              "      <td>-0.478276</td>\n",
              "      <td>-0.641443</td>\n",
              "      <td>-0.163167</td>\n",
              "      <td>18.815911</td>\n",
              "      <td>18.979078</td>\n",
              "      <td>19.113936</td>\n",
              "      <td>18.539375</td>\n",
              "      <td>18.278859</td>\n",
              "      <td>0.574561</td>\n",
              "      <td>0.835076</td>\n",
              "      <td>0.260515</td>\n",
              "      <td>0.102710</td>\n",
              "      <td>0.046059</td>\n",
              "      <td>-0.072235</td>\n",
              "      <td>0</td>\n",
              "      <td>0</td>\n",
              "      <td>2</td>\n",
              "      <td>0</td>\n",
              "    </tr>\n",
              "    <tr>\n",
              "      <th>20000</th>\n",
              "      <td>13.312305</td>\n",
              "      <td>11.962711</td>\n",
              "      <td>11.560782</td>\n",
              "      <td>11.436245</td>\n",
              "      <td>11.592154</td>\n",
              "      <td>13.995124</td>\n",
              "      <td>14.431538</td>\n",
              "      <td>1.349594</td>\n",
              "      <td>1.751522</td>\n",
              "      <td>1.876060</td>\n",
              "      <td>1.720150</td>\n",
              "      <td>-0.682820</td>\n",
              "      <td>0.526466</td>\n",
              "      <td>-3.094369</td>\n",
              "      <td>0.124537</td>\n",
              "      <td>-0.155909</td>\n",
              "      <td>-2.995293</td>\n",
              "      <td>1.147789</td>\n",
              "      <td>0.485336</td>\n",
              "      <td>2.209744</td>\n",
              "      <td>1.547292</td>\n",
              "      <td>1.862622</td>\n",
              "      <td>1.200169</td>\n",
              "      <td>1.584202</td>\n",
              "      <td>0.921750</td>\n",
              "      <td>0.609923</td>\n",
              "      <td>-0.052529</td>\n",
              "      <td>13.691715</td>\n",
              "      <td>11.542591</td>\n",
              "      <td>12.762819</td>\n",
              "      <td>NaN</td>\n",
              "      <td>12.707123</td>\n",
              "      <td>NaN</td>\n",
              "      <td>11.915187</td>\n",
              "      <td>0.055696</td>\n",
              "      <td>0.847632</td>\n",
              "      <td>NaN</td>\n",
              "      <td>NaN</td>\n",
              "      <td>NaN</td>\n",
              "      <td>0.791936</td>\n",
              "      <td>-0.984592</td>\n",
              "      <td>NaN</td>\n",
              "      <td>0.372596</td>\n",
              "      <td>1.132858</td>\n",
              "      <td>0.470406</td>\n",
              "      <td>-1.198279</td>\n",
              "      <td>-1.860731</td>\n",
              "      <td>0.844379</td>\n",
              "      <td>0.181927</td>\n",
              "      <td>-0.189074</td>\n",
              "      <td>-0.851526</td>\n",
              "      <td>-1.304745</td>\n",
              "      <td>-1.967197</td>\n",
              "      <td>-0.662452</td>\n",
              "      <td>12.847336</td>\n",
              "      <td>13.509788</td>\n",
              "      <td>12.494762</td>\n",
              "      <td>12.603138</td>\n",
              "      <td>12.784739</td>\n",
              "      <td>-0.108376</td>\n",
              "      <td>-0.289977</td>\n",
              "      <td>-0.181601</td>\n",
              "      <td>2.562318</td>\n",
              "      <td>2.106819</td>\n",
              "      <td>0.672520</td>\n",
              "      <td>0</td>\n",
              "      <td>0</td>\n",
              "      <td>2</td>\n",
              "      <td>0</td>\n",
              "    </tr>\n",
              "    <tr>\n",
              "      <th>20001</th>\n",
              "      <td>23.303352</td>\n",
              "      <td>20.578231</td>\n",
              "      <td>19.062118</td>\n",
              "      <td>17.481073</td>\n",
              "      <td>16.599224</td>\n",
              "      <td>21.505317</td>\n",
              "      <td>17.486812</td>\n",
              "      <td>2.725120</td>\n",
              "      <td>4.241234</td>\n",
              "      <td>5.822279</td>\n",
              "      <td>6.704128</td>\n",
              "      <td>1.798035</td>\n",
              "      <td>3.097158</td>\n",
              "      <td>0.029285</td>\n",
              "      <td>1.581045</td>\n",
              "      <td>0.881850</td>\n",
              "      <td>-0.005739</td>\n",
              "      <td>4.709437</td>\n",
              "      <td>4.241491</td>\n",
              "      <td>3.753066</td>\n",
              "      <td>3.285120</td>\n",
              "      <td>2.271511</td>\n",
              "      <td>1.803565</td>\n",
              "      <td>0.690932</td>\n",
              "      <td>0.222986</td>\n",
              "      <td>-0.194418</td>\n",
              "      <td>-0.662365</td>\n",
              "      <td>17.566609</td>\n",
              "      <td>16.433256</td>\n",
              "      <td>20.270035</td>\n",
              "      <td>19.036616</td>\n",
              "      <td>17.437841</td>\n",
              "      <td>16.582640</td>\n",
              "      <td>16.385155</td>\n",
              "      <td>2.832194</td>\n",
              "      <td>3.884880</td>\n",
              "      <td>1.598775</td>\n",
              "      <td>2.651461</td>\n",
              "      <td>0.855201</td>\n",
              "      <td>1.052686</td>\n",
              "      <td>-0.128767</td>\n",
              "      <td>0.197485</td>\n",
              "      <td>-0.048101</td>\n",
              "      <td>3.541963</td>\n",
              "      <td>3.074017</td>\n",
              "      <td>2.357511</td>\n",
              "      <td>1.889564</td>\n",
              "      <td>0.770729</td>\n",
              "      <td>0.302783</td>\n",
              "      <td>-0.122753</td>\n",
              "      <td>-0.590700</td>\n",
              "      <td>-0.362624</td>\n",
              "      <td>-0.830570</td>\n",
              "      <td>-0.467946</td>\n",
              "      <td>16.795880</td>\n",
              "      <td>17.263826</td>\n",
              "      <td>20.480267</td>\n",
              "      <td>18.895657</td>\n",
              "      <td>16.544754</td>\n",
              "      <td>1.584610</td>\n",
              "      <td>3.935514</td>\n",
              "      <td>2.350903</td>\n",
              "      <td>0.068679</td>\n",
              "      <td>0.171734</td>\n",
              "      <td>0.056708</td>\n",
              "      <td>0</td>\n",
              "      <td>0</td>\n",
              "      <td>2</td>\n",
              "      <td>0</td>\n",
              "    </tr>\n",
              "    <tr>\n",
              "      <th>20010</th>\n",
              "      <td>12.033379</td>\n",
              "      <td>10.839125</td>\n",
              "      <td>9.676886</td>\n",
              "      <td>15.717350</td>\n",
              "      <td>7.958119</td>\n",
              "      <td>14.109184</td>\n",
              "      <td>11.643447</td>\n",
              "      <td>1.194254</td>\n",
              "      <td>2.356493</td>\n",
              "      <td>-3.683971</td>\n",
              "      <td>4.075260</td>\n",
              "      <td>-2.075805</td>\n",
              "      <td>-4.878225</td>\n",
              "      <td>-3.254005</td>\n",
              "      <td>-6.040463</td>\n",
              "      <td>7.759231</td>\n",
              "      <td>4.073902</td>\n",
              "      <td>5.488688</td>\n",
              "      <td>5.529773</td>\n",
              "      <td>5.472634</td>\n",
              "      <td>5.513719</td>\n",
              "      <td>4.671113</td>\n",
              "      <td>4.712198</td>\n",
              "      <td>3.022951</td>\n",
              "      <td>3.064036</td>\n",
              "      <td>1.916298</td>\n",
              "      <td>1.957383</td>\n",
              "      <td>NaN</td>\n",
              "      <td>NaN</td>\n",
              "      <td>NaN</td>\n",
              "      <td>NaN</td>\n",
              "      <td>NaN</td>\n",
              "      <td>NaN</td>\n",
              "      <td>NaN</td>\n",
              "      <td>NaN</td>\n",
              "      <td>NaN</td>\n",
              "      <td>NaN</td>\n",
              "      <td>NaN</td>\n",
              "      <td>NaN</td>\n",
              "      <td>NaN</td>\n",
              "      <td>NaN</td>\n",
              "      <td>NaN</td>\n",
              "      <td>NaN</td>\n",
              "      <td>NaN</td>\n",
              "      <td>NaN</td>\n",
              "      <td>NaN</td>\n",
              "      <td>NaN</td>\n",
              "      <td>NaN</td>\n",
              "      <td>NaN</td>\n",
              "      <td>NaN</td>\n",
              "      <td>NaN</td>\n",
              "      <td>NaN</td>\n",
              "      <td>NaN</td>\n",
              "      <td>0.041085</td>\n",
              "      <td>8.620496</td>\n",
              "      <td>8.579411</td>\n",
              "      <td>12.236090</td>\n",
              "      <td>12.009304</td>\n",
              "      <td>14.070101</td>\n",
              "      <td>0.226786</td>\n",
              "      <td>-1.834011</td>\n",
              "      <td>-2.060797</td>\n",
              "      <td>1.857040</td>\n",
              "      <td>1.282305</td>\n",
              "      <td>-3.533307</td>\n",
              "      <td>0</td>\n",
              "      <td>0</td>\n",
              "      <td>2</td>\n",
              "      <td>0</td>\n",
              "    </tr>\n",
              "    <tr>\n",
              "      <th>20011</th>\n",
              "      <td>18.825795</td>\n",
              "      <td>16.930775</td>\n",
              "      <td>16.009830</td>\n",
              "      <td>15.568099</td>\n",
              "      <td>15.335913</td>\n",
              "      <td>18.814910</td>\n",
              "      <td>15.567361</td>\n",
              "      <td>1.895021</td>\n",
              "      <td>2.815965</td>\n",
              "      <td>3.257696</td>\n",
              "      <td>3.489883</td>\n",
              "      <td>0.010886</td>\n",
              "      <td>1.362675</td>\n",
              "      <td>0.012904</td>\n",
              "      <td>0.441731</td>\n",
              "      <td>0.232187</td>\n",
              "      <td>0.000739</td>\n",
              "      <td>2.700888</td>\n",
              "      <td>2.077104</td>\n",
              "      <td>0.803849</td>\n",
              "      <td>0.180066</td>\n",
              "      <td>-0.115503</td>\n",
              "      <td>-0.739286</td>\n",
              "      <td>-0.546661</td>\n",
              "      <td>-1.170445</td>\n",
              "      <td>-0.847446</td>\n",
              "      <td>-1.471230</td>\n",
              "      <td>15.652003</td>\n",
              "      <td>15.257767</td>\n",
              "      <td>16.863090</td>\n",
              "      <td>16.099855</td>\n",
              "      <td>15.645479</td>\n",
              "      <td>15.331374</td>\n",
              "      <td>15.280365</td>\n",
              "      <td>1.217611</td>\n",
              "      <td>1.582725</td>\n",
              "      <td>0.454376</td>\n",
              "      <td>0.819491</td>\n",
              "      <td>0.314105</td>\n",
              "      <td>0.365114</td>\n",
              "      <td>-0.006524</td>\n",
              "      <td>0.051009</td>\n",
              "      <td>0.022598</td>\n",
              "      <td>0.818291</td>\n",
              "      <td>0.194508</td>\n",
              "      <td>-0.008586</td>\n",
              "      <td>-0.632370</td>\n",
              "      <td>-0.462019</td>\n",
              "      <td>-1.085803</td>\n",
              "      <td>-0.705682</td>\n",
              "      <td>-1.329466</td>\n",
              "      <td>-0.856255</td>\n",
              "      <td>-1.480038</td>\n",
              "      <td>-0.623784</td>\n",
              "      <td>16.114022</td>\n",
              "      <td>16.737805</td>\n",
              "      <td>16.960602</td>\n",
              "      <td>16.039827</td>\n",
              "      <td>15.399585</td>\n",
              "      <td>0.920774</td>\n",
              "      <td>1.561016</td>\n",
              "      <td>0.640242</td>\n",
              "      <td>-0.042731</td>\n",
              "      <td>-0.041308</td>\n",
              "      <td>-0.133010</td>\n",
              "      <td>0</td>\n",
              "      <td>0</td>\n",
              "      <td>2</td>\n",
              "      <td>0</td>\n",
              "    </tr>\n",
              "  </tbody>\n",
              "</table>\n",
              "<p>3462 rows × 69 columns</p>\n",
              "</div>"
            ],
            "text/plain": [
              "       sdssdr16_u_psf  sdssdr16_g_psf  sdssdr16_r_psf  ...  LabelG  LabelS  Label\n",
              "14095       22.205799       20.147787       19.289909  ...       0       1      0\n",
              "14096             NaN             NaN             NaN  ...       0       1      0\n",
              "14097       19.140804       17.888408       17.442821  ...       0       1      0\n",
              "14098       19.882465       18.527261       17.841124  ...       0       1      0\n",
              "14099       20.980263       18.559502       17.500689  ...       0       1      0\n",
              "...               ...             ...             ...  ...     ...     ...    ...\n",
              "19999       20.661284       19.255890       18.623087  ...       0       2      0\n",
              "20000       13.312305       11.962711       11.560782  ...       0       2      0\n",
              "20001       23.303352       20.578231       19.062118  ...       0       2      0\n",
              "20010       12.033379       10.839125        9.676886  ...       0       2      0\n",
              "20011       18.825795       16.930775       16.009830  ...       0       2      0\n",
              "\n",
              "[3462 rows x 69 columns]"
            ]
          },
          "metadata": {
            "tags": []
          },
          "execution_count": 325
        }
      ]
    },
    {
      "cell_type": "code",
      "metadata": {
        "colab": {
          "base_uri": "https://localhost:8080/",
          "height": 1000
        },
        "id": "vGzO_BtL5FdD",
        "outputId": "cf68aa3e-87f0-425c-8bce-30c62d11e524"
      },
      "source": [
        "sns.displot(df_s.sdssdr16_r_psf)\n",
        "sns.displot(df_q.sdssdr16_r_psf)\n",
        "sns.displot(df_g.sdssdr16_r_psf)\n",
        "print(df_s.shape, df_q.shape, df_g.shape)"
      ],
      "execution_count": null,
      "outputs": [
        {
          "output_type": "stream",
          "text": [
            "(3462, 69) (9442, 69) (4501, 69)\n"
          ],
          "name": "stdout"
        },
        {
          "output_type": "display_data",
          "data": {
            "image/png": "[encoded data removed]",
            "text/plain": [
              "<Figure size 360x360 with 1 Axes>"
            ]
          },
          "metadata": {
            "tags": [],
            "needs_background": "light"
          }
        },
        {
          "output_type": "display_data",
          "data": {
            "image/png": "[encoded data removed]",
            "text/plain": [
              "<Figure size 360x360 with 1 Axes>"
            ]
          },
          "metadata": {
            "tags": [],
            "needs_background": "light"
          }
        },
        {
          "output_type": "display_data",
          "data": {
            "image/png": "[encoded data removed]",
            "text/plain": [
              "<Figure size 360x360 with 1 Axes>"
            ]
          },
          "metadata": {
            "tags": [],
            "needs_background": "light"
          }
        }
      ]
    },
    {
      "cell_type": "code",
      "metadata": {
        "id": "ySCjr2-g6H34"
      },
      "source": [
        "def data_split(df_all, column='sdssdr16_r_psf', label='Label'):\n",
        "  df = df_all.sort_values(column)\n",
        "  def split(df_loc, c=9000):\n",
        "    data = df_loc.drop(['LabelQ', 'LabelG', 'LabelS', 'Label'], axis = 1).values\n",
        "    data1 = data[::2]\n",
        "    data2 = data[1::2]\n",
        "    print(data, data1, data2)\n",
        "    np.random.shuffle(data1)\n",
        "    np.random.shuffle(data2)\n",
        "    return data1[:c//2], data2[:c//2]\n",
        "\n",
        "  def train_test(X1, X2, X3, test_size=0.1):\n",
        "    X1_train, X1_test, y1_train, y1_test = train_test_split(X1, 1*np.ones([len(X1), 1]), test_size=test_size, random_state = 43)\n",
        "    X2_train, X2_test, y2_train, y2_test = train_test_split(X2, 2*np.ones([len(X2), 1]), test_size=test_size, random_state = 43)\n",
        "    X3_train, X3_test, y3_train, y3_test = train_test_split(X3, 3*np.ones([len(X3), 1]), test_size=test_size, random_state = 43)\n",
        "\n",
        "    X_train, X_test = np.concatenate((X1_train, X2_train, X3_train)), np.concatenate((X1_test, X2_test, X3_test))\n",
        "    y_train, y_test = np.concatenate((y1_train, y2_train, y3_train)), np.concatenate((y1_test, y2_test, y3_test))\n",
        "        \n",
        "    train = np.concatenate((X_train, y_train.rashape((len(X_train), 1))))\n",
        "    test = np.concatenate((X_test, y_test.rashape((len(X_test), 1))))\n",
        "\n",
        "    return train, test\n",
        "    \n",
        "  df_s = df[df[label]==0]\n",
        "  df_q = df[df[label]==1]\n",
        "  df_g = df[df[label]==2]\n",
        "\n",
        "  c = np.min((len(df_s), len(df_q), len(df_g)))\n",
        "\n",
        "\n",
        "  X1_s , X2_s = split(df_s)\n",
        "  X1_q , X2_q = split(df_q)\n",
        "  X1_g , X2_g = split(df_g)\n",
        "\n",
        "\n",
        "  X1 = np.concatenate((np.concatenate((X1_s, 1*np.ones([len(X1_s), 1])), axis=1),\n",
        "                       np.concatenate((X1_q, 2*np.ones([len(X1_q), 1])), axis=1),\n",
        "                       np.concatenate((X1_g, 3*np.ones([len(X1_g), 1])), axis=1)),\n",
        "                      axis=0)\n",
        "  X2 = np.concatenate((np.concatenate((X2_s, 1*np.ones([len(X2_s), 1])), axis=1),\n",
        "                       np.concatenate((X2_q, 2*np.ones([len(X2_q), 1])), axis=1),\n",
        "                       np.concatenate((X2_g, 3*np.ones([len(X2_g), 1])), axis=1)),\n",
        "                      axis=0)\n",
        "  \n",
        "  np.random.shuffle(X1)\n",
        "  np.random.shuffle(X2)\n",
        "\n",
        "  return X1, X2#train1, train2, test1, test2"
      ],
      "execution_count": 23,
      "outputs": []
    },
    {
      "cell_type": "code",
      "metadata": {
        "id": "uQX2MYFQ5Ebl"
      },
      "source": [
        "def scor(y_test, y_pred):\n",
        "  return accuracy_score(y_test, y_pred)\n",
        "\n",
        "lgb_reg_params = {\n",
        "    'min_child_samples':hp.randint('min_child_samples', 50)+1,\n",
        "    'colsample_bytree': hp.uniform('colsample_bytree', 0.1, 0.9),\n",
        "    'num_leaves' :      hp.randint('num_leaves', 100)+10,\n",
        "    'min_child_weight': hp.uniform('min_child_weight', 0.001, 0.99),\n",
        "    'n_estimators':     1000\n",
        "}\n",
        "lgb_fit_params = {\n",
        "    'early_stopping_rounds': 20,\n",
        "    'verbose': False\n",
        "}\n",
        "lgb_para = dict()\n",
        "lgb_para['reg_params'] = lgb_reg_params\n",
        "lgb_para['fit_params'] = lgb_fit_params\n",
        "lgb_para['score'] = lambda y, pred: -accuracy_score(y, pred)\n",
        "\n",
        "\n",
        "rf_reg_params = {\n",
        "    'min_samples_leaf': hp.randint('min_samples_leaf', 20)+1,\n",
        "    'min_samples_split':hp.uniform('min_samples_split', 0.001, 0.1),\n",
        "    #'max_features':     hp.choice('max_features', ['auto', 'sqrt', 'log2', None]),\n",
        "    #'learning_rate':    hp.uniform('learning_rate', 0.001, 0.1),\n",
        "    'n_estimators':     hp.randint('n_estimators', 800)+100\n",
        "}\n",
        "rf_fit_params = {\n",
        "}\n",
        "rf_para = dict()\n",
        "rf_para['reg_params'] = rf_reg_params\n",
        "rf_para['fit_params'] = rf_fit_params\n",
        "rf_para['score'] = lambda y, pred: -accuracy_score(y, pred)\n",
        "\n",
        "tabnet_reg_params = {\n",
        "    'n_d' :              64,\n",
        "    'n_a' :              64,\n",
        "    'n_steps' :          hp.randint('n_steps', 10-3)+3,\n",
        "    'gamma' :            hp.uniform('gamma', 1.0, 3.0),\n",
        "    'lambda_sparse' :    hp.uniform('lambda_sparse', 0.0, 0.01),\n",
        "    'momentum' :         0.3, \n",
        "    'clip_value' :       2.,\n",
        "    'optimizer_params' : dict(lr=2e-2),\n",
        "    'scheduler_params' : {\"step_size\":50, \"gamma\":0.9},\n",
        "    'scheduler_fn' :     torch.optim.lr_scheduler.StepLR,\n",
        "    'mask_type' :       'entmax'\n",
        "}\n",
        "\n",
        "tabnet_fit_params = {\n",
        "    'max_epochs' : 100, \n",
        "    'patience' : 15,\n",
        "    'batch_size' : 512,\n",
        "    'virtual_batch_size' : 128,\n",
        "    'num_workers' : 0,\n",
        "    'weights' : 1,\n",
        "    'drop_last' : False,\n",
        "    #'from_unsupervised' : unsupervised_model\n",
        "}\n",
        "tabnet_para = dict()\n",
        "tabnet_para['reg_params'] = tabnet_reg_params\n",
        "tabnet_para['fit_params'] = tabnet_fit_params\n",
        "tabnet_para['score'] = lambda y, pred: -accuracy_score(y, pred)"
      ],
      "execution_count": 24,
      "outputs": []
    },
    {
      "cell_type": "code",
      "metadata": {
        "id": "XWMNPpeokzaC"
      },
      "source": [
        "class HPOpt(object):\n",
        "\n",
        "    def __init__(self, X, y, cv=True):\n",
        "        self.X = X\n",
        "        self.y = y\n",
        "        self.cv = cv\n",
        "\n",
        "    def process(self, fn_name, space, trials, algo, max_evals):\n",
        "        fn = getattr(self, fn_name)\n",
        "        try:\n",
        "            result = fmin(fn=fn, space=space, algo=algo, max_evals=max_evals, trials=trials)\n",
        "        except Exception as e:\n",
        "            print({'status': STATUS_FAIL,\n",
        "                    'exception': str(e)})\n",
        "            return {'status': STATUS_FAIL,\n",
        "                    'exception': str(e)}\n",
        "        return result, trials\n",
        "\n",
        "    def rf_reg(self, para):\n",
        "        reg = RandomForestClassifier(**para['reg_params'])\n",
        "        return self.train_reg(reg, para)\n",
        "\n",
        "    def lgb_reg(self, para):\n",
        "        reg = lgb.LGBMClassifier(**para['reg_params'])\n",
        "        if self.cv:\n",
        "          return self.train_cv(reg, para)\n",
        "        return self.train_reg(reg, para)\n",
        "\n",
        "    def tabnet_reg(self, para):\n",
        "        reg = TabNetClassifier(**para['reg_params'])\n",
        "        return self.train_cv(reg, para)\n",
        "\n",
        "\n",
        "    def train_reg(self, reg, para):\n",
        "        if len(para['fit_params'])>0:\n",
        "            reg.fit(self.X, self.y,\n",
        "                  eval_set=[(self.X, self.y), (self.X, self.t)],\n",
        "                  **para['fit_params'])\n",
        "        else:\n",
        "            reg.fit(self.X, self.y)\n",
        "        pred = reg.predict(self.X)\n",
        "        loss = para['score'](self.y, pred)\n",
        "        return {'loss': loss, 'status': STATUS_OK}\n",
        "\n",
        "    def train_cv(self, reg, para):\n",
        "        kf = KFold(n_splits=2, shuffle=False)\n",
        "        loss = 0 \n",
        "        for train, test in kf.split(self.X):\n",
        "            if len(para['fit_params'])>0:\n",
        "                reg.fit(self.X[train], self.y[train],\n",
        "                      eval_set=[(self.X[train], self.y[train]), (self.X[test], self.y[test])],\n",
        "                      **para['fit_params'])\n",
        "            else:\n",
        "                reg.fit(self.X[train], self.y[train])\n",
        "            pred = reg.predict(self.X[test])\n",
        "            score = para['score'](self.y[test], pred)\n",
        "            loss += score\n",
        "\n",
        "        loss=loss/2\n",
        "        return {'loss': loss, 'status': STATUS_OK}\n"
      ],
      "execution_count": 25,
      "outputs": []
    },
    {
      "cell_type": "code",
      "metadata": {
        "id": "2abHhCsDBkka"
      },
      "source": [
        "acc = pd.DataFrame(index=['acc'])"
      ],
      "execution_count": 26,
      "outputs": []
    },
    {
      "cell_type": "code",
      "metadata": {
        "colab": {
          "base_uri": "https://localhost:8080/",
          "height": 80
        },
        "id": "lhjPrmfzGQDo",
        "outputId": "08b81700-5d1a-447a-ad41-9a73dffeff59"
      },
      "source": [
        "acc"
      ],
      "execution_count": null,
      "outputs": [
        {
          "output_type": "execute_result",
          "data": {
            "text/html": [
              "<div>\n",
              "<style scoped>\n",
              "    .dataframe tbody tr th:only-of-type {\n",
              "        vertical-align: middle;\n",
              "    }\n",
              "\n",
              "    .dataframe tbody tr th {\n",
              "        vertical-align: top;\n",
              "    }\n",
              "\n",
              "    .dataframe thead th {\n",
              "        text-align: right;\n",
              "    }\n",
              "</style>\n",
              "<table border=\"1\" class=\"dataframe\">\n",
              "  <thead>\n",
              "    <tr style=\"text-align: right;\">\n",
              "      <th></th>\n",
              "      <th>sdss</th>\n",
              "      <th>decals</th>\n",
              "      <th>ps</th>\n",
              "      <th>sdss+decals</th>\n",
              "      <th>sdss+ps</th>\n",
              "      <th>ps+decals</th>\n",
              "      <th>all</th>\n",
              "    </tr>\n",
              "  </thead>\n",
              "  <tbody>\n",
              "    <tr>\n",
              "      <th>acc</th>\n",
              "      <td>0.964092</td>\n",
              "      <td>0.958982</td>\n",
              "      <td>0.958806</td>\n",
              "      <td>0.972359</td>\n",
              "      <td>0.96782</td>\n",
              "      <td>0.968395</td>\n",
              "      <td>0.973226</td>\n",
              "    </tr>\n",
              "  </tbody>\n",
              "</table>\n",
              "</div>"
            ],
            "text/plain": [
              "         sdss    decals        ps  sdss+decals  sdss+ps  ps+decals       all\n",
              "acc  0.964092  0.958982  0.958806     0.972359  0.96782   0.968395  0.973226"
            ]
          },
          "metadata": {
            "tags": []
          },
          "execution_count": 362
        }
      ]
    },
    {
      "cell_type": "markdown",
      "metadata": {
        "id": "B7J8yw478tg5"
      },
      "source": [
        "# Обучаем только на SDSS"
      ]
    },
    {
      "cell_type": "code",
      "metadata": {
        "id": "zjPpqwaEB8NR"
      },
      "source": [
        "overview = 'sdss'"
      ],
      "execution_count": null,
      "outputs": []
    },
    {
      "cell_type": "code",
      "metadata": {
        "colab": {
          "base_uri": "https://localhost:8080/"
        },
        "id": "25GmHQB-heVc",
        "outputId": "5b8d1aa1-aa20-4362-cd91-837d777e1402"
      },
      "source": [
        "len(sdss)"
      ],
      "execution_count": 148,
      "outputs": [
        {
          "output_type": "execute_result",
          "data": {
            "text/plain": [
              "21"
            ]
          },
          "metadata": {
            "tags": []
          },
          "execution_count": 148
        }
      ]
    },
    {
      "cell_type": "code",
      "metadata": {
        "id": "T40qa4wfCLb9"
      },
      "source": [
        "data1, data2 = data_split(df[sdss].dropna())"
      ],
      "execution_count": null,
      "outputs": []
    },
    {
      "cell_type": "code",
      "metadata": {
        "id": "GpVNxZwxDxav"
      },
      "source": [
        "X1, y1 = data1[:,:-1], data1[:,-1].astype('int')\n",
        "X2, y2 = data2[:,:-1], data2[:,-1].astype('int')"
      ],
      "execution_count": null,
      "outputs": []
    },
    {
      "cell_type": "code",
      "metadata": {
        "colab": {
          "base_uri": "https://localhost:8080/"
        },
        "id": "TvBz-4GXRQ8Q",
        "outputId": "24118dba-ab6b-4103-f796-716afc1b9669"
      },
      "source": [
        "X1.shape"
      ],
      "execution_count": null,
      "outputs": [
        {
          "output_type": "execute_result",
          "data": {
            "text/plain": [
              "(8480, 17)"
            ]
          },
          "metadata": {
            "tags": []
          },
          "execution_count": 220
        }
      ]
    },
    {
      "cell_type": "markdown",
      "metadata": {
        "id": "wkWDnHfHEtjW"
      },
      "source": [
        "##Обучаем на первой выборке, проверяем на второй"
      ]
    },
    {
      "cell_type": "code",
      "metadata": {
        "id": "aKs6Hmrb9o57"
      },
      "source": [
        "robust = RobustScaler()\n",
        "\n",
        "X_train_norm = robust.fit_transform(X1)\n",
        "X_test_norm = robust.transform(X2)\n",
        "y_train = y1\n",
        "y_test = y2"
      ],
      "execution_count": null,
      "outputs": []
    },
    {
      "cell_type": "code",
      "metadata": {
        "id": "BFYsXOSm5vk2"
      },
      "source": [
        "#obj = HPOpt(X_train_norm, y_train)"
      ],
      "execution_count": null,
      "outputs": []
    },
    {
      "cell_type": "code",
      "metadata": {
        "id": "B_tEPPk05vWk"
      },
      "source": [
        "#lgb_opt = obj.process(fn_name='lgb_reg', space=lgb_para, trials=Trials(), algo=tpe.suggest, max_evals=100)"
      ],
      "execution_count": null,
      "outputs": []
    },
    {
      "cell_type": "code",
      "metadata": {
        "id": "f31np6j66Eqb"
      },
      "source": [
        "#lgb_opt"
      ],
      "execution_count": null,
      "outputs": []
    },
    {
      "cell_type": "code",
      "metadata": {
        "colab": {
          "base_uri": "https://localhost:8080/"
        },
        "id": "1TFNfyZe9fNg",
        "outputId": "116a041b-97c7-46f5-c701-fa52a436f3d5"
      },
      "source": [
        "gb = lgb.LGBMClassifier(\n",
        "    **{'colsample_bytree': 0.3752270436877269,\n",
        "  'min_child_samples': 40+1,\n",
        "  'min_child_weight': 0.7184095532059656,\n",
        "  'num_leaves': 50+10,\n",
        "  'n_estimators': 1000}\n",
        ")\n",
        "\n",
        "\n",
        "t = time()\n",
        "gb.fit(X_train_norm[:-500], y_train[:-500], eval_set=[(X_train_norm[:-500], y_train[:-500]), (X_train_norm[:-500], y_train[:-500])],  **lgb_fit_params)\n",
        "print(time()-t)"
      ],
      "execution_count": null,
      "outputs": [
        {
          "output_type": "stream",
          "text": [
            "5.4844889640808105\n"
          ],
          "name": "stdout"
        }
      ]
    },
    {
      "cell_type": "code",
      "metadata": {
        "colab": {
          "base_uri": "https://localhost:8080/"
        },
        "id": "qDoquWIU9ivN",
        "outputId": "c13f9213-034a-418a-d127-73392532c610"
      },
      "source": [
        "pred = gb.predict(X_test_norm)\n",
        "print('Classification Report: \\n', classification_report(y_test, pred))\n",
        "print('Confusion Matrix: \\n', confusion_matrix(y_test, pred))\n",
        "gb_train_acc = accuracy_score(y_train, gb.predict(X_train_norm.astype('float')))\n",
        "print('Training Score: ', gb_train_acc)\n",
        "gb_test_acc = accuracy_score(y_test, pred)\n",
        "acc[overview] = gb_test_acc\n",
        "print('Training Score: ', gb_test_acc)"
      ],
      "execution_count": null,
      "outputs": [
        {
          "output_type": "stream",
          "text": [
            "Classification Report: \n",
            "               precision    recall  f1-score   support\n",
            "\n",
            "           1       0.98      0.96      0.97      1730\n",
            "           2       0.96      0.97      0.97      4500\n",
            "           3       0.95      0.94      0.95      2250\n",
            "\n",
            "    accuracy                           0.96      8480\n",
            "   macro avg       0.96      0.96      0.96      8480\n",
            "weighted avg       0.96      0.96      0.96      8480\n",
            "\n",
            "Confusion Matrix: \n",
            " [[1669   45   16]\n",
            " [  33 4373   94]\n",
            " [   3  125 2122]]\n",
            "Training Score:  0.9964622641509434\n",
            "Training Score:  0.9627358490566038\n"
          ],
          "name": "stdout"
        }
      ]
    },
    {
      "cell_type": "markdown",
      "metadata": {
        "id": "kC9QgzBeAzg9"
      },
      "source": [
        "##Обучаем на второй выборке, проверяем на первой"
      ]
    },
    {
      "cell_type": "code",
      "metadata": {
        "id": "O0p3SLB4AzhG"
      },
      "source": [
        "robust = RobustScaler()\n",
        "\n",
        "X_train_norm = robust.fit_transform(X2)\n",
        "X_test_norm = robust.transform(X1)\n",
        "y_train = y2\n",
        "y_test = y1"
      ],
      "execution_count": null,
      "outputs": []
    },
    {
      "cell_type": "code",
      "metadata": {
        "id": "s-wvS7U5AzhG"
      },
      "source": [
        "#obj = HPOpt(X_train_norm, y_train)"
      ],
      "execution_count": null,
      "outputs": []
    },
    {
      "cell_type": "code",
      "metadata": {
        "id": "Oy1CuocDAzhH"
      },
      "source": [
        "#lgb_opt = obj.process(fn_name='lgb_reg', space=lgb_para, trials=Trials(), algo=tpe.suggest, max_evals=100)"
      ],
      "execution_count": null,
      "outputs": []
    },
    {
      "cell_type": "code",
      "metadata": {
        "id": "UMIOVAnZAzhH"
      },
      "source": [
        "#lgb_opt"
      ],
      "execution_count": null,
      "outputs": []
    },
    {
      "cell_type": "code",
      "metadata": {
        "colab": {
          "base_uri": "https://localhost:8080/"
        },
        "id": "cnEA4i5zAzhH",
        "outputId": "8a043676-6d50-48ef-cfb1-61b927c9428a"
      },
      "source": [
        "gb = lgb.LGBMClassifier(\n",
        "    **{'colsample_bytree': 0.7394978740595625,\n",
        "      'min_child_samples': 16+1,\n",
        "      'min_child_weight': 0.1265642873892295,\n",
        "      'num_leaves': 94+10,\n",
        "      'n_estimators': 1000}\n",
        ")\n",
        "\n",
        "\n",
        "t = time()\n",
        "gb.fit(X_train_norm[:-500], y_train[:-500], eval_set=[(X_train_norm[:-500], y_train[:-500]), (X_train_norm[:-500], y_train[:-500])],  **lgb_fit_params)\n",
        "print(time()-t)"
      ],
      "execution_count": null,
      "outputs": [
        {
          "output_type": "stream",
          "text": [
            "7.820367097854614\n"
          ],
          "name": "stdout"
        }
      ]
    },
    {
      "cell_type": "code",
      "metadata": {
        "colab": {
          "base_uri": "https://localhost:8080/"
        },
        "id": "N5TCFF-dAzhH",
        "outputId": "503da0de-9673-4491-cba1-ec89e757f79c"
      },
      "source": [
        "pred = gb.predict(X_test_norm)\n",
        "print('Classification Report: \\n', classification_report(y_test, pred))\n",
        "print('Confusion Matrix: \\n', confusion_matrix(y_test, pred))\n",
        "gb_train_acc = accuracy_score(y_train, gb.predict(X_train_norm.astype('float')))\n",
        "print('Training Score: ', gb_train_acc)\n",
        "gb_test_acc = accuracy_score(y_test, pred)\n",
        "acc[overview] = (acc[overview] + gb_test_acc)/2\n",
        "print('Training Score: ', gb_test_acc)"
      ],
      "execution_count": null,
      "outputs": [
        {
          "output_type": "stream",
          "text": [
            "Classification Report: \n",
            "               precision    recall  f1-score   support\n",
            "\n",
            "           1       0.99      0.96      0.98      1730\n",
            "           2       0.97      0.97      0.97      4500\n",
            "           3       0.94      0.95      0.95      2250\n",
            "\n",
            "    accuracy                           0.97      8480\n",
            "   macro avg       0.97      0.96      0.96      8480\n",
            "weighted avg       0.97      0.97      0.97      8480\n",
            "\n",
            "Confusion Matrix: \n",
            " [[1668   47   15]\n",
            " [  16 4372  112]\n",
            " [   7   96 2147]]\n",
            "Training Score:  0.9974056603773584\n",
            "Training Score:  0.9654481132075472\n"
          ],
          "name": "stdout"
        }
      ]
    },
    {
      "cell_type": "markdown",
      "metadata": {
        "id": "W4wXAxAlCiAv"
      },
      "source": [
        "# Обучаем только на decals"
      ]
    },
    {
      "cell_type": "code",
      "metadata": {
        "id": "Z02t2GboCiFS"
      },
      "source": [
        "overview = 'decals'"
      ],
      "execution_count": null,
      "outputs": []
    },
    {
      "cell_type": "code",
      "metadata": {
        "colab": {
          "base_uri": "https://localhost:8080/"
        },
        "id": "uF3aQP1-hkvb",
        "outputId": "249a0f83-a02d-433d-f15d-9bb4396badb7"
      },
      "source": [
        "len(decals)"
      ],
      "execution_count": 149,
      "outputs": [
        {
          "output_type": "execute_result",
          "data": {
            "text/plain": [
              "13"
            ]
          },
          "metadata": {
            "tags": []
          },
          "execution_count": 149
        }
      ]
    },
    {
      "cell_type": "code",
      "metadata": {
        "colab": {
          "base_uri": "https://localhost:8080/"
        },
        "id": "BxJdNOz-CiFl",
        "outputId": "ed21734b-6dd7-46bd-8b78-820bd3fff647"
      },
      "source": [
        "data1, data2 = data_split(df[decals].dropna(), 'decals8tr_r')"
      ],
      "execution_count": null,
      "outputs": [
        {
          "output_type": "stream",
          "text": [
            "[[  0.26217823   9.41464717   9.15246895 ...  -4.84004766 -13.43904955\n",
            "   -8.5990019 ]\n",
            " [  0.17745963   9.34961965   9.17216002 ...   1.60803036  -6.41288316\n",
            "   -8.02091352]\n",
            " [  0.153528     9.12074033   8.96721234 ...   1.8224283   -4.22339327\n",
            "   -6.04582157]\n",
            " ...\n",
            " [ -0.60255292  10.47927689  11.0818298  ... -11.54840686   4.08179483\n",
            "   15.63020168]\n",
            " [ -0.65411008  11.63292086  12.28703094 ...  -0.64045917  14.61866631\n",
            "   15.25912548]\n",
            " [ -0.6000965   10.58879719  11.18889369 ... -22.0848624   -2.86427814\n",
            "   19.22058426]] [[  0.26217823   9.41464717   9.15246895 ...  -4.84004766 -13.43904955\n",
            "   -8.5990019 ]\n",
            " [  0.153528     9.12074033   8.96721234 ...   1.8224283   -4.22339327\n",
            "   -6.04582157]\n",
            " [ -0.49179392  10.05505866  10.54685258 ...  22.54012283  15.21954755\n",
            "   -7.32057528]\n",
            " ...\n",
            " [ -0.54181862  10.4282365   10.97005512 ...   0.37824479  15.004679\n",
            "   14.62643421]\n",
            " [ -0.60255292  10.47927689  11.0818298  ... -11.54840686   4.08179483\n",
            "   15.63020168]\n",
            " [ -0.6000965   10.58879719  11.18889369 ... -22.0848624   -2.86427814\n",
            "   19.22058426]] [[  0.17745963   9.34961965   9.17216002 ...   1.60803036  -6.41288316\n",
            "   -8.02091352]\n",
            " [ -0.48936313  10.21879087  10.708154   ...   8.64670513   0.63334649\n",
            "   -8.01335864]\n",
            " [ -0.48728143  10.41792793  10.90520936 ...  -0.05944887  -3.03712994\n",
            "   -2.97768107]\n",
            " ...\n",
            " [ -0.64977873  12.56707953  13.21685826 ... -13.78796381  -1.1176173\n",
            "   12.67034651]\n",
            " [ -0.5481915   10.44872295  10.99691446 ... -21.81575406  -5.31582712\n",
            "   16.49992693]\n",
            " [ -0.65411008  11.63292086  12.28703094 ...  -0.64045917  14.61866631\n",
            "   15.25912548]]\n",
            "[[ 3.83671753e-01  1.27148382e+01  1.23311664e+01 ... -2.18267906e-04\n",
            "   8.11211420e-02  8.13394099e-02]\n",
            " [ 2.66451273e-01  1.36290556e+01  1.33626043e+01 ...  3.59097435e-01\n",
            "   4.80847849e-01  1.21750414e-01]\n",
            " [ 4.40271352e-01  1.24958101e+01  1.20555387e+01 ...  7.00845084e-01\n",
            "   1.16353207e+00  4.62686990e-01]\n",
            " ...\n",
            " [-1.38736189e+00  2.07338343e+01  2.21211962e+01 ...  1.68025100e+00\n",
            "   4.75940878e+00  3.07915778e+00]\n",
            " [ 2.31479147e+00  2.87850199e+01  2.64702284e+01 ... -1.61428436e+00\n",
            "  -4.50475185e+00 -2.89046749e+00]\n",
            " [ 5.00107051e-02  1.87776735e+01  1.87276628e+01 ...  8.59441464e-02\n",
            "   5.40704583e+00  5.32110168e+00]] [[ 3.83671753e-01  1.27148382e+01  1.23311664e+01 ... -2.18267906e-04\n",
            "   8.11211420e-02  8.13394099e-02]\n",
            " [ 4.40271352e-01  1.24958101e+01  1.20555387e+01 ...  7.00845084e-01\n",
            "   1.16353207e+00  4.62686990e-01]\n",
            " [ 3.48759633e-01  1.30589976e+01  1.27102379e+01 ...  1.60182220e+00\n",
            "   1.39803593e+00 -2.03786267e-01]\n",
            " ...\n",
            " [ 1.63064163e-01  2.04668906e+01  2.03038264e+01 ...  1.35054595e+00\n",
            "   3.73802793e+00  2.38748198e+00]\n",
            " [ 4.18938569e-01  2.05867896e+01  2.01678511e+01 ... -1.93839114e-01\n",
            "   1.31762230e+00  1.51146142e+00]\n",
            " [ 2.31479147e+00  2.87850199e+01  2.64702284e+01 ... -1.61428436e+00\n",
            "  -4.50475185e+00 -2.89046749e+00]] [[ 0.26645127 13.6290556  13.36260433 ...  0.35909743  0.48084785\n",
            "   0.12175041]\n",
            " [ 0.47374284 13.07122399 12.59748115 ...  0.30809054  0.63477041\n",
            "   0.32667987]\n",
            " [ 0.40570453 13.9853951  13.57969057 ...  0.08573102  0.05134437\n",
            "  -0.03438665]\n",
            " ...\n",
            " [ 1.98238135 23.4487382  21.46635685 ...  1.42188666  3.89548805\n",
            "   2.47360139]\n",
            " [-1.38736189 20.73383434 22.12119623 ...  1.680251    4.75940878\n",
            "   3.07915778]\n",
            " [ 0.05001071 18.77767355 18.72766284 ...  0.08594415  5.40704583\n",
            "   5.32110168]]\n",
            "[[-0.52450357 10.56632752 11.09083109 ...  0.75484114  1.34622697\n",
            "   0.59138584]\n",
            " [-0.69694899 10.98793795 11.68488694 ...  0.73620844  1.30571224\n",
            "   0.5695038 ]\n",
            " [-0.60748514 11.03833226 11.6458174  ...  0.65771223  1.15435361\n",
            "   0.49664139]\n",
            " ...\n",
            " [ 0.53225472 20.83994854 20.30769382 ...  0.2546214   1.29415748\n",
            "   1.03953608]\n",
            " [-0.19252608 18.55766236 18.75018844 ...  1.55509132  3.48168692\n",
            "   1.9265956 ]\n",
            " [ 0.20435914 19.29498495 19.09062581 ...  0.62765378  1.68730874\n",
            "   1.05965496]] [[-0.52450357 10.56632752 11.09083109 ...  0.75484114  1.34622697\n",
            "   0.59138584]\n",
            " [-0.60748514 11.03833226 11.6458174  ...  0.65771223  1.15435361\n",
            "   0.49664139]\n",
            " [-0.39381953 10.96935839 11.36317792 ...  0.66751937  1.09786972\n",
            "   0.43035036]\n",
            " ...\n",
            " [-0.34294393 19.02557979 19.36852372 ...  1.37601305  2.95471123\n",
            "   1.57869818]\n",
            " [-0.84496363 20.20827426 21.05323789 ...  1.55903793  3.9503291\n",
            "   2.39129117]\n",
            " [-0.19252608 18.55766236 18.75018844 ...  1.55509132  3.48168692\n",
            "   1.9265956 ]] [[-0.69694899 10.98793795 11.68488694 ...  0.73620844  1.30571224\n",
            "   0.5695038 ]\n",
            " [ 0.36800392 10.16918882  9.80118491 ...  0.80815347  1.49934175\n",
            "   0.69118829]\n",
            " [-0.53449807 10.08313851 10.61763658 ...  0.95554065  1.75672789\n",
            "   0.80118723]\n",
            " ...\n",
            " [ 0.21844719 19.37308364 19.15463644 ...  1.14264712  2.76280454\n",
            "   1.62015742]\n",
            " [ 0.53225472 20.83994854 20.30769382 ...  0.2546214   1.29415748\n",
            "   1.03953608]\n",
            " [ 0.20435914 19.29498495 19.09062581 ...  0.62765378  1.68730874\n",
            "   1.05965496]]\n"
          ],
          "name": "stdout"
        }
      ]
    },
    {
      "cell_type": "code",
      "metadata": {
        "id": "Q--ZCaEbCiFt"
      },
      "source": [
        "X1, y1 = data1[:,:-1], data1[:,-1].astype('int')\n",
        "X2, y2 = data2[:,:-1], data2[:,-1].astype('int')"
      ],
      "execution_count": null,
      "outputs": []
    },
    {
      "cell_type": "code",
      "metadata": {
        "colab": {
          "base_uri": "https://localhost:8080/"
        },
        "id": "tG_mktnLCiFz",
        "outputId": "7e1e614b-7e31-4b33-8566-9c58eef41a63"
      },
      "source": [
        "X1.shape"
      ],
      "execution_count": null,
      "outputs": [
        {
          "output_type": "execute_result",
          "data": {
            "text/plain": [
              "(8448, 9)"
            ]
          },
          "metadata": {
            "tags": []
          },
          "execution_count": 236
        }
      ]
    },
    {
      "cell_type": "markdown",
      "metadata": {
        "id": "K0Ssnl0DCiGO"
      },
      "source": [
        "##Обучаем на первой выборке, проверяем на второй"
      ]
    },
    {
      "cell_type": "code",
      "metadata": {
        "id": "FxRr9B8jCiGV"
      },
      "source": [
        "robust = RobustScaler()\n",
        "\n",
        "X_train_norm = robust.fit_transform(X1)\n",
        "X_test_norm = robust.transform(X2)\n",
        "y_train = y1\n",
        "y_test = y2"
      ],
      "execution_count": null,
      "outputs": []
    },
    {
      "cell_type": "code",
      "metadata": {
        "id": "EFhAg6eWCiGc"
      },
      "source": [
        "#obj = HPOpt(X_train_norm, y_train)"
      ],
      "execution_count": null,
      "outputs": []
    },
    {
      "cell_type": "code",
      "metadata": {
        "id": "FQ-t9nOZCiGi"
      },
      "source": [
        "#lgb_opt = obj.process(fn_name='lgb_reg', space=lgb_para, trials=Trials(), algo=tpe.suggest, max_evals=100)"
      ],
      "execution_count": null,
      "outputs": []
    },
    {
      "cell_type": "code",
      "metadata": {
        "id": "MGk8xhGkCiGp"
      },
      "source": [
        "#lgb_opt"
      ],
      "execution_count": null,
      "outputs": []
    },
    {
      "cell_type": "code",
      "metadata": {
        "colab": {
          "base_uri": "https://localhost:8080/"
        },
        "id": "Cpp7pWgVCiGx",
        "outputId": "6ba97530-5fec-43a3-b8f7-fdaaf1923729"
      },
      "source": [
        "gb = lgb.LGBMClassifier(\n",
        "    **{'colsample_bytree': 0.8104497809038045,\n",
        "  'min_child_samples': 5+1,\n",
        "  'min_child_weight': 0.9758726061228604,\n",
        "  'num_leaves': 65+10,\n",
        "      'n_estimators': 1000}\n",
        ")\n",
        "\n",
        "\n",
        "t = time()\n",
        "gb.fit(X_train_norm[:-500], y_train[:-500], eval_set=[(X_train_norm[:-500], y_train[:-500]), (X_train_norm[:-500], y_train[:-500])],  **lgb_fit_params)\n",
        "print(time()-t)"
      ],
      "execution_count": null,
      "outputs": [
        {
          "output_type": "stream",
          "text": [
            "6.200746059417725\n"
          ],
          "name": "stdout"
        }
      ]
    },
    {
      "cell_type": "code",
      "metadata": {
        "colab": {
          "base_uri": "https://localhost:8080/"
        },
        "id": "sgMb0VLxCiG5",
        "outputId": "4917351a-2d98-4eb3-945b-01f753b92eb8"
      },
      "source": [
        "pred = gb.predict(X_test_norm)\n",
        "print('Classification Report: \\n', classification_report(y_test, pred))\n",
        "print('Confusion Matrix: \\n', confusion_matrix(y_test, pred))\n",
        "gb_train_acc = accuracy_score(y_train, gb.predict(X_train_norm.astype('float')))\n",
        "print('Training Score: ', gb_train_acc)\n",
        "gb_test_acc = accuracy_score(y_test, pred)\n",
        "acc[overview] = gb_test_acc\n",
        "print('Training Score: ', gb_test_acc)"
      ],
      "execution_count": null,
      "outputs": [
        {
          "output_type": "stream",
          "text": [
            "Classification Report: \n",
            "               precision    recall  f1-score   support\n",
            "\n",
            "           1       0.97      0.96      0.97      1706\n",
            "           2       0.97      0.97      0.97      4500\n",
            "           3       0.93      0.94      0.94      2241\n",
            "\n",
            "    accuracy                           0.96      8447\n",
            "   macro avg       0.96      0.96      0.96      8447\n",
            "weighted avg       0.96      0.96      0.96      8447\n",
            "\n",
            "Confusion Matrix: \n",
            " [[1640   30   36]\n",
            " [  14 4369  117]\n",
            " [  29  103 2109]]\n",
            "Training Score:  0.9951467803030303\n",
            "Training Score:  0.9610512608026518\n"
          ],
          "name": "stdout"
        }
      ]
    },
    {
      "cell_type": "markdown",
      "metadata": {
        "id": "kI6b2MgrCiHA"
      },
      "source": [
        "##Обучаем на второй выборке, проверяем на первой"
      ]
    },
    {
      "cell_type": "code",
      "metadata": {
        "id": "SlkGsWSQCiHE"
      },
      "source": [
        "robust = RobustScaler()\n",
        "\n",
        "X_train_norm = robust.fit_transform(X2)\n",
        "X_test_norm = robust.transform(X1)\n",
        "y_train = y2\n",
        "y_test = y1"
      ],
      "execution_count": null,
      "outputs": []
    },
    {
      "cell_type": "code",
      "metadata": {
        "id": "fgISz8dWCiHK"
      },
      "source": [
        "#obj = HPOpt(X_train_norm, y_train)"
      ],
      "execution_count": null,
      "outputs": []
    },
    {
      "cell_type": "code",
      "metadata": {
        "id": "ioy7pd2zCiHO"
      },
      "source": [
        "#lgb_opt = obj.process(fn_name='lgb_reg', space=lgb_para, trials=Trials(), algo=tpe.suggest, max_evals=100)"
      ],
      "execution_count": null,
      "outputs": []
    },
    {
      "cell_type": "code",
      "metadata": {
        "id": "-MGMNS4QCiHU"
      },
      "source": [
        "#lgb_opt"
      ],
      "execution_count": null,
      "outputs": []
    },
    {
      "cell_type": "code",
      "metadata": {
        "colab": {
          "base_uri": "https://localhost:8080/"
        },
        "id": "oPdIrk8WCiHb",
        "outputId": "eabd8c09-3fee-430d-edf4-a06a946a55d2"
      },
      "source": [
        "gb = lgb.LGBMClassifier(\n",
        "    **{'colsample_bytree': 0.4068541706198642,\n",
        "  'min_child_samples': 11+1,\n",
        "  'min_child_weight': 0.06272672350564332,\n",
        "  'num_leaves': 1+10,\n",
        "      'n_estimators': 1000}\n",
        ")\n",
        "\n",
        "\n",
        "t = time()\n",
        "gb.fit(X_train_norm[:-500], y_train[:-500], eval_set=[(X_train_norm[:-500], y_train[:-500]), (X_train_norm[:-500], y_train[:-500])],  **lgb_fit_params)\n",
        "print(time()-t)"
      ],
      "execution_count": null,
      "outputs": [
        {
          "output_type": "stream",
          "text": [
            "3.792611837387085\n"
          ],
          "name": "stdout"
        }
      ]
    },
    {
      "cell_type": "code",
      "metadata": {
        "colab": {
          "base_uri": "https://localhost:8080/"
        },
        "id": "Bn6wHbbKCiHi",
        "outputId": "3bfa8710-2665-4ad5-f60b-86fe44e6b6ab"
      },
      "source": [
        "pred = gb.predict(X_test_norm)\n",
        "print('Classification Report: \\n', classification_report(y_test, pred))\n",
        "print('Confusion Matrix: \\n', confusion_matrix(y_test, pred))\n",
        "gb_train_acc = accuracy_score(y_train, gb.predict(X_train_norm.astype('float')))\n",
        "print('Training Score: ', gb_train_acc)\n",
        "gb_test_acc = accuracy_score(y_test, pred)\n",
        "acc[overview] = (acc[overview] + gb_test_acc)/2\n",
        "print('Training Score: ', gb_test_acc)"
      ],
      "execution_count": null,
      "outputs": [
        {
          "output_type": "stream",
          "text": [
            "Classification Report: \n",
            "               precision    recall  f1-score   support\n",
            "\n",
            "           1       0.97      0.95      0.96      1707\n",
            "           2       0.97      0.97      0.97      4500\n",
            "           3       0.93      0.94      0.93      2241\n",
            "\n",
            "    accuracy                           0.96      8448\n",
            "   macro avg       0.95      0.95      0.95      8448\n",
            "weighted avg       0.96      0.96      0.96      8448\n",
            "\n",
            "Confusion Matrix: \n",
            " [[1624   34   49]\n",
            " [  20 4362  118]\n",
            " [  32  111 2098]]\n",
            "Training Score:  0.9955013614300935\n",
            "Training Score:  0.9569128787878788\n"
          ],
          "name": "stdout"
        }
      ]
    },
    {
      "cell_type": "markdown",
      "metadata": {
        "id": "6P6ZXyDfC7gB"
      },
      "source": [
        "# Обучаем только на PanStars"
      ]
    },
    {
      "cell_type": "code",
      "metadata": {
        "id": "OacNIWKhC7gE"
      },
      "source": [
        "overview = 'ps'"
      ],
      "execution_count": null,
      "outputs": []
    },
    {
      "cell_type": "code",
      "metadata": {
        "colab": {
          "base_uri": "https://localhost:8080/"
        },
        "id": "iczSvwRfhp8Y",
        "outputId": "7cb9f0eb-5525-440c-f2ae-b895fe172e04"
      },
      "source": [
        "len(ps)"
      ],
      "execution_count": 150,
      "outputs": [
        {
          "output_type": "execute_result",
          "data": {
            "text/plain": [
              "20"
            ]
          },
          "metadata": {
            "tags": []
          },
          "execution_count": 150
        }
      ]
    },
    {
      "cell_type": "code",
      "metadata": {
        "colab": {
          "base_uri": "https://localhost:8080/"
        },
        "id": "0U5zuxt3C7gE",
        "outputId": "adecc6e6-cfa0-4c3e-c0a3-d634e77f6ce1"
      },
      "source": [
        "data1, data2 = data_split(df[ps].dropna(), 'psdr2_r_psf')"
      ],
      "execution_count": null,
      "outputs": [
        {
          "output_type": "stream",
          "text": [
            "[[12.17900645 11.16607677 12.347154   ...  0.         -0.17530019\n",
            "   0.44061258]\n",
            " [12.92595218 10.481565   12.77834023 ... -1.78081752  1.80119602\n",
            "  -0.79847213]\n",
            " [11.03919022 10.88226782 11.23045471 ...  0.         -0.59540646\n",
            "   0.49064453]\n",
            " ...\n",
            " [13.56105427 11.63453763 11.92288652 ... 13.21145735  0.68786227\n",
            "   0.15804971]\n",
            " [14.84441555 11.92918359 12.86315534 ...  0.          1.40868434\n",
            "   0.0656633 ]\n",
            " [12.67790691 12.50346556 13.57709838 ...  0.48292688  0.31582203\n",
            "   0.08938451]] [[12.17900645 11.16607677 12.347154   ...  0.         -0.17530019\n",
            "   0.44061258]\n",
            " [11.03919022 10.88226782 11.23045471 ...  0.         -0.59540646\n",
            "   0.49064453]\n",
            " [11.23227248 10.79290003 12.16429912 ...  0.          1.24353279\n",
            "   0.21495824]\n",
            " ...\n",
            " [12.85087038 12.04507608 26.85110731 ... 13.79971166  0.0489412\n",
            "   0.20595001]\n",
            " [13.06877627 11.89068047 13.03883522 ... -0.89973457 -1.18879058\n",
            "   0.84074796]\n",
            " [14.84441555 11.92918359 12.86315534 ...  0.          1.40868434\n",
            "   0.0656633 ]] [[12.92595218 10.481565   12.77834023 ... -1.78081752  1.80119602\n",
            "  -0.79847213]\n",
            " [12.71560386 10.06096486 10.6607943  ... -1.59644941  0.91483124\n",
            "   0.43368565]\n",
            " [12.69883676 10.99734143 14.28317194 ...  0.         -0.89704774\n",
            "   0.70632839]\n",
            " ...\n",
            " [12.49836917 11.96591485 13.25412882 ...  0.         -0.27960442\n",
            "   0.18037713]\n",
            " [13.56105427 11.63453763 11.92288652 ... 13.21145735  0.68786227\n",
            "   0.15804971]\n",
            " [12.67790691 12.50346556 13.57709838 ...  0.48292688  0.31582203\n",
            "   0.08938451]]\n",
            "[[ 1.52972874e+01  1.51942274e+01  1.55184930e+01 ... -8.63652134e-02\n",
            "  -3.87464250e-01  1.29927577e-03]\n",
            " [ 1.54051347e+01  1.53316282e+01  1.54404479e+01 ... -5.11614963e-02\n",
            "   2.64917465e-01 -5.38679959e-02]\n",
            " [ 1.51640849e+01  1.51521476e+01  1.53592533e+01 ...  1.16058776e-02\n",
            "   1.37452696e-01  1.59772780e-01]\n",
            " ...\n",
            " [ 2.29491610e+01  2.12689099e+01  2.46645262e+01 ...  0.00000000e+00\n",
            "   4.84904291e-01  0.00000000e+00]\n",
            " [ 2.28047718e+01  1.93387102e+01  2.57081468e+01 ... -6.82717816e-02\n",
            "   1.49416018e+00 -2.28104713e-01]\n",
            " [ 2.25974418e+01  2.10115341e+01  2.67166851e+01 ...  0.00000000e+00\n",
            "   7.86152417e-01 -1.24427349e-01]] [[ 1.52972874e+01  1.51942274e+01  1.55184930e+01 ... -8.63652134e-02\n",
            "  -3.87464250e-01  1.29927577e-03]\n",
            " [ 1.51640849e+01  1.51521476e+01  1.53592533e+01 ...  1.16058776e-02\n",
            "   1.37452696e-01  1.59772780e-01]\n",
            " [ 1.52225343e+01  1.54086155e+01  1.56276194e+01 ...  1.37861318e-02\n",
            "   2.20873318e-01 -7.47339731e-03]\n",
            " ...\n",
            " [ 2.40720599e+01  2.25210616e+01  2.33348676e+01 ...  0.00000000e+00\n",
            "  -4.71910134e-02  0.00000000e+00]\n",
            " [ 2.29491610e+01  2.12689099e+01  2.46645262e+01 ...  0.00000000e+00\n",
            "   4.84904291e-01  0.00000000e+00]\n",
            " [ 2.25974418e+01  2.10115341e+01  2.67166851e+01 ...  0.00000000e+00\n",
            "   7.86152417e-01 -1.24427349e-01]] [[ 1.54051347e+01  1.53316282e+01  1.54404479e+01 ... -5.11614963e-02\n",
            "   2.64917465e-01 -5.38679959e-02]\n",
            " [ 1.55864316e+01  1.52545494e+01  1.55039393e+01 ... -5.14805393e-02\n",
            "   4.81919772e-01 -3.86590699e-02]\n",
            " [ 1.57976839e+01  1.57108621e+01  1.56357634e+01 ... -1.46228086e-02\n",
            "  -3.88614446e-01  6.42014021e-02]\n",
            " ...\n",
            " [ 2.23549824e+01  2.19589506e+01  2.31559202e+01 ...  1.30548214e-01\n",
            "   3.86168281e-01  0.00000000e+00]\n",
            " [ 2.32533625e+01  2.19883644e+01  2.50574297e+01 ...  0.00000000e+00\n",
            "   1.00170449e-01  0.00000000e+00]\n",
            " [ 2.28047718e+01  1.93387102e+01  2.57081468e+01 ... -6.82717816e-02\n",
            "   1.49416018e+00 -2.28104713e-01]]\n",
            "[[11.86256353 12.76279674 15.39720747 ...  2.94390737  0.20910886\n",
            "   1.59719498]\n",
            " [11.52273413 11.11973033 15.81049862 ...  3.15808604  0.29302445\n",
            "   3.12999183]\n",
            " [14.56277425 14.32156895 15.52635224 ...  0.11774631  0.09779623\n",
            "   0.11512981]\n",
            " ...\n",
            " [21.06504815 19.6356839  23.07385315 ...  0.56940027  0.53735083\n",
            "   0.95554706]\n",
            " [21.40085391 19.91362069 23.88447606 ...  0.43420557  0.42207884\n",
            "   0.62909862]\n",
            " [21.15979997 19.84731698 24.59178115 ...  0.09749734  0.61998827\n",
            "   0.31121761]] [[11.86256353 12.76279674 15.39720747 ...  2.94390737  0.20910886\n",
            "   1.59719498]\n",
            " [14.56277425 14.32156895 15.52635224 ...  0.11774631  0.09779623\n",
            "   0.11512981]\n",
            " [12.6692976  12.67582803 15.62044817 ...  2.13874498 -0.34043628\n",
            "   2.35063388]\n",
            " ...\n",
            " [21.1986744  20.73532542 23.70519699 ...  0.43607636  0.07629236\n",
            "   0.17563525]\n",
            " [21.04508421 19.99333914 24.35362065 ...  0.43801896  0.2827584\n",
            "   0.537085  ]\n",
            " [21.40085391 19.91362069 23.88447606 ...  0.43420557  0.42207884\n",
            "   0.62909862]] [[11.52273413 11.11973033 15.81049862 ...  3.15808604  0.29302445\n",
            "   3.12999183]\n",
            " [12.69688132 12.20462185 15.77623574 ...  1.99069286  0.21179506\n",
            "   2.11738912]\n",
            " [13.50852617 13.05846603 15.6480839  ...  1.6044123   0.31913439\n",
            "   1.52121201]\n",
            " ...\n",
            " [20.94531371 20.45855907 23.81975336 ...  0.64093458  0.39300954\n",
            "   0.34213358]\n",
            " [21.06504815 19.6356839  23.07385315 ...  0.56940027  0.53735083\n",
            "   0.95554706]\n",
            " [21.15979997 19.84731698 24.59178115 ...  0.09749734  0.61998827\n",
            "   0.31121761]]\n"
          ],
          "name": "stdout"
        }
      ]
    },
    {
      "cell_type": "code",
      "metadata": {
        "id": "EJ5DgQWyC7gF"
      },
      "source": [
        "X1, y1 = data1[:,:-1], data1[:,-1].astype('int')\n",
        "X2, y2 = data2[:,:-1], data2[:,-1].astype('int')"
      ],
      "execution_count": null,
      "outputs": []
    },
    {
      "cell_type": "code",
      "metadata": {
        "colab": {
          "base_uri": "https://localhost:8080/"
        },
        "id": "NSTSLAs9C7gF",
        "outputId": "acd9ec66-9cad-47fe-c2a6-f58735c73e22"
      },
      "source": [
        "X1.shape"
      ],
      "execution_count": null,
      "outputs": [
        {
          "output_type": "execute_result",
          "data": {
            "text/plain": [
              "(7101, 16)"
            ]
          },
          "metadata": {
            "tags": []
          },
          "execution_count": 252
        }
      ]
    },
    {
      "cell_type": "markdown",
      "metadata": {
        "id": "tLTYK6-bC7gF"
      },
      "source": [
        "##Обучаем на первой выборке, проверяем на второй"
      ]
    },
    {
      "cell_type": "code",
      "metadata": {
        "id": "iTABhaXqC7gF"
      },
      "source": [
        "robust = RobustScaler()\n",
        "\n",
        "X_train_norm = robust.fit_transform(X1)\n",
        "X_test_norm = robust.transform(X2)\n",
        "y_train = y1\n",
        "y_test = y2"
      ],
      "execution_count": null,
      "outputs": []
    },
    {
      "cell_type": "code",
      "metadata": {
        "id": "LeL1-1KcC7gF"
      },
      "source": [
        "#obj = HPOpt(X_train_norm, y_train)"
      ],
      "execution_count": null,
      "outputs": []
    },
    {
      "cell_type": "code",
      "metadata": {
        "id": "y07wND9GC7gG"
      },
      "source": [
        "#lgb_opt = obj.process(fn_name='lgb_reg', space=lgb_para, trials=Trials(), algo=tpe.suggest, max_evals=100)"
      ],
      "execution_count": null,
      "outputs": []
    },
    {
      "cell_type": "code",
      "metadata": {
        "id": "5IslsQv4C7gG"
      },
      "source": [
        "#lgb_opt"
      ],
      "execution_count": null,
      "outputs": []
    },
    {
      "cell_type": "code",
      "metadata": {
        "colab": {
          "base_uri": "https://localhost:8080/"
        },
        "id": "QE5kpoLEC7gG",
        "outputId": "a34ccda0-d55c-4b9a-fb37-1e589bb27db0"
      },
      "source": [
        "gb = lgb.LGBMClassifier(\n",
        "    **{'colsample_bytree': 0.6642887258022818,\n",
        "  'min_child_samples': 4+1,\n",
        "  'min_child_weight': 0.775262820204908,\n",
        "  'num_leaves': 6+10,\n",
        "      'n_estimators': 1000}\n",
        ")\n",
        "\n",
        "\n",
        "t = time()\n",
        "gb.fit(X_train_norm[:-500], y_train[:-500], eval_set=[(X_train_norm[:-500], y_train[:-500]), (X_train_norm[:-500], y_train[:-500])],  **lgb_fit_params)\n",
        "print(time()-t)"
      ],
      "execution_count": null,
      "outputs": [
        {
          "output_type": "stream",
          "text": [
            "4.849103927612305\n"
          ],
          "name": "stdout"
        }
      ]
    },
    {
      "cell_type": "code",
      "metadata": {
        "colab": {
          "base_uri": "https://localhost:8080/"
        },
        "id": "IPSpGS3uC7gH",
        "outputId": "f5b06029-f7e1-4838-a06e-3bda39c1ef78"
      },
      "source": [
        "pred = gb.predict(X_test_norm)\n",
        "print('Classification Report: \\n', classification_report(y_test, pred))\n",
        "print('Confusion Matrix: \\n', confusion_matrix(y_test, pred))\n",
        "gb_train_acc = accuracy_score(y_train, gb.predict(X_train_norm.astype('float')))\n",
        "print('Training Score: ', gb_train_acc)\n",
        "gb_test_acc = accuracy_score(y_test, pred)\n",
        "acc[overview] = gb_test_acc\n",
        "print('Training Score: ', gb_test_acc)"
      ],
      "execution_count": null,
      "outputs": [
        {
          "output_type": "stream",
          "text": [
            "Classification Report: \n",
            "               precision    recall  f1-score   support\n",
            "\n",
            "           1       0.97      0.94      0.96      1167\n",
            "           2       0.96      0.97      0.96      4027\n",
            "           3       0.94      0.94      0.94      1906\n",
            "\n",
            "    accuracy                           0.96      7100\n",
            "   macro avg       0.96      0.95      0.95      7100\n",
            "weighted avg       0.96      0.96      0.96      7100\n",
            "\n",
            "Confusion Matrix: \n",
            " [[1101   55   11]\n",
            " [  27 3896  104]\n",
            " [   5  101 1800]]\n",
            "Training Score:  0.9957752429235319\n",
            "Training Score:  0.9573239436619718\n"
          ],
          "name": "stdout"
        }
      ]
    },
    {
      "cell_type": "markdown",
      "metadata": {
        "id": "8tYYtFMuC7gH"
      },
      "source": [
        "##Обучаем на второй выборке, проверяем на первой"
      ]
    },
    {
      "cell_type": "code",
      "metadata": {
        "id": "1aQ9WPS1C7gH"
      },
      "source": [
        "robust = RobustScaler()\n",
        "\n",
        "X_train_norm = robust.fit_transform(X2)\n",
        "X_test_norm = robust.transform(X1)\n",
        "y_train = y2\n",
        "y_test = y1"
      ],
      "execution_count": null,
      "outputs": []
    },
    {
      "cell_type": "code",
      "metadata": {
        "id": "VD-MdfpNC7gH"
      },
      "source": [
        "#obj = HPOpt(X_train_norm, y_train)"
      ],
      "execution_count": null,
      "outputs": []
    },
    {
      "cell_type": "code",
      "metadata": {
        "id": "UIWMEYwkC7gH"
      },
      "source": [
        "#lgb_opt = obj.process(fn_name='lgb_reg', space=lgb_para, trials=Trials(), algo=tpe.suggest, max_evals=100)"
      ],
      "execution_count": null,
      "outputs": []
    },
    {
      "cell_type": "code",
      "metadata": {
        "id": "ODZF_VSLC7gH"
      },
      "source": [
        "#lgb_opt"
      ],
      "execution_count": null,
      "outputs": []
    },
    {
      "cell_type": "code",
      "metadata": {
        "colab": {
          "base_uri": "https://localhost:8080/"
        },
        "id": "p7mwDs_6C7gH",
        "outputId": "f2561516-5c7b-4777-dae0-28e9523b059c"
      },
      "source": [
        "gb = lgb.LGBMClassifier(\n",
        "    **{'colsample_bytree': 0.44232732453787127,\n",
        "  'min_child_samples': 39+1,\n",
        "  'min_child_weight': 0.15636662933973536,\n",
        "  'num_leaves': 25+10,\n",
        "      'n_estimators': 1000}\n",
        ")\n",
        "\n",
        "\n",
        "t = time()\n",
        "gb.fit(X_train_norm[:-500], y_train[:-500], eval_set=[(X_train_norm[:-500], y_train[:-500]), (X_train_norm[:-500], y_train[:-500])],  **lgb_fit_params)\n",
        "print(time()-t)"
      ],
      "execution_count": null,
      "outputs": [
        {
          "output_type": "stream",
          "text": [
            "5.247951984405518\n"
          ],
          "name": "stdout"
        }
      ]
    },
    {
      "cell_type": "code",
      "metadata": {
        "colab": {
          "base_uri": "https://localhost:8080/"
        },
        "id": "8Q28CAHqC7gH",
        "outputId": "5e175068-91d4-4719-e0e1-41299966eeba"
      },
      "source": [
        "pred = gb.predict(X_test_norm)\n",
        "print('Classification Report: \\n', classification_report(y_test, pred))\n",
        "print('Confusion Matrix: \\n', confusion_matrix(y_test, pred))\n",
        "gb_train_acc = accuracy_score(y_train, gb.predict(X_train_norm.astype('float')))\n",
        "print('Training Score: ', gb_train_acc)\n",
        "gb_test_acc = accuracy_score(y_test, pred)\n",
        "acc[overview] = (acc[overview] + gb_test_acc)/2\n",
        "print('Training Score: ', gb_test_acc)"
      ],
      "execution_count": null,
      "outputs": [
        {
          "output_type": "stream",
          "text": [
            "Classification Report: \n",
            "               precision    recall  f1-score   support\n",
            "\n",
            "           1       0.97      0.94      0.96      1167\n",
            "           2       0.97      0.97      0.97      4028\n",
            "           3       0.94      0.95      0.95      1906\n",
            "\n",
            "    accuracy                           0.96      7101\n",
            "   macro avg       0.96      0.95      0.96      7101\n",
            "weighted avg       0.96      0.96      0.96      7101\n",
            "\n",
            "Confusion Matrix: \n",
            " [[1100   52   15]\n",
            " [  31 3902   95]\n",
            " [   5   84 1817]]\n",
            "Training Score:  0.995774647887324\n",
            "Training Score:  0.9602872834811998\n"
          ],
          "name": "stdout"
        }
      ]
    },
    {
      "cell_type": "markdown",
      "metadata": {
        "id": "NzmVeJh4DFow"
      },
      "source": [
        "# Обучаем на SDSS and decals"
      ]
    },
    {
      "cell_type": "code",
      "metadata": {
        "id": "cBGMS43_DFow"
      },
      "source": [
        "overview = 'sdss+decals'"
      ],
      "execution_count": null,
      "outputs": []
    },
    {
      "cell_type": "code",
      "metadata": {
        "id": "8FTPSQR8GiZf"
      },
      "source": [
        "sdss_decals = [i for i in features if ('sdss' in i or 'decals' in i) and 'psdr' not in i] + ['LabelQ', 'LabelG', 'LabelS', 'Label']"
      ],
      "execution_count": 152,
      "outputs": []
    },
    {
      "cell_type": "code",
      "metadata": {
        "colab": {
          "base_uri": "https://localhost:8080/"
        },
        "id": "4lYmGo53hvDs",
        "outputId": "bfdd9b81-71cb-432e-abd8-2e494622c0ed"
      },
      "source": [
        "len(sdss_decals)"
      ],
      "execution_count": 153,
      "outputs": [
        {
          "output_type": "execute_result",
          "data": {
            "text/plain": [
              "43"
            ]
          },
          "metadata": {
            "tags": []
          },
          "execution_count": 153
        }
      ]
    },
    {
      "cell_type": "code",
      "metadata": {
        "colab": {
          "base_uri": "https://localhost:8080/"
        },
        "id": "dbR-BrSRDFow",
        "outputId": "8b3012e3-2fe5-45dd-8562-94ff2828819c"
      },
      "source": [
        "data1, data2 = data_split(df[sdss_decals].dropna())"
      ],
      "execution_count": null,
      "outputs": [
        {
          "output_type": "stream",
          "text": [
            "[[ 8.32313612  7.06674872  7.14253691 ...  3.29560597  2.38805577\n",
            "  -0.15290435]\n",
            " [14.34546057 13.89415478  7.29767599 ...  0.62771844  1.51317155\n",
            "  -2.76776875]\n",
            " [ 8.8665732  11.04006502  7.34243742 ...  3.23131392  1.0449481\n",
            "  -0.78204208]\n",
            " ...\n",
            " [23.11332269 24.02218114 23.64032341 ...  0.64568178  1.42733941\n",
            "   0.09861513]\n",
            " [24.36290307 15.82685278 23.92909239 ... -1.90784587 -1.30835829\n",
            "  -1.39195694]\n",
            " [24.18340755 25.12869598 24.85982292 ...  2.83996985  0.82611757\n",
            "  -0.23275616]] [[ 8.32313612  7.06674872  7.14253691 ...  3.29560597  2.38805577\n",
            "  -0.15290435]\n",
            " [ 8.8665732  11.04006502  7.34243742 ...  3.23131392  1.0449481\n",
            "  -0.78204208]\n",
            " [ 8.85890032  8.16954477  7.63161607 ...  1.45292819  0.50861688\n",
            "  -0.92139865]\n",
            " ...\n",
            " [23.10549057 23.87371022 22.91696185 ...  3.21728682 -0.49271541\n",
            "   0.18148377]\n",
            " [23.11332269 24.02218114 23.64032341 ...  0.64568178  1.42733941\n",
            "   0.09861513]\n",
            " [24.18340755 25.12869598 24.85982292 ...  2.83996985  0.82611757\n",
            "  -0.23275616]] [[14.34546057 13.89415478  7.29767599 ...  0.62771844  1.51317155\n",
            "  -2.76776875]\n",
            " [10.79950946  8.30401138  7.4645746  ... -0.63612839 -0.43505784\n",
            "  -1.41535773]\n",
            " [10.33929271  8.38008284  7.64578625 ...  2.38075869  0.23130931\n",
            "  -1.59269683]\n",
            " ...\n",
            " [23.44140945 23.96219269 22.86958722 ... 11.17806572 11.78787589\n",
            "   5.42307188]\n",
            " [23.58409707 24.98982939 23.53254382 ...  1.30199583  3.21635345\n",
            "   0.08307366]\n",
            " [24.36290307 15.82685278 23.92909239 ... -1.90784587 -1.30835829\n",
            "  -1.39195694]]\n",
            "[[14.24714651 14.38851327 14.45906141 ... -0.32117306 -0.21492619\n",
            "  -0.2459053 ]\n",
            " [15.15536432 15.06108459 15.04715259 ... -1.78587989 -0.25460064\n",
            "  -0.90463925]\n",
            " [15.66798544 15.44707046 15.23454548 ... -0.22202483 -0.13692316\n",
            "  -0.34673668]\n",
            " ...\n",
            " [23.63837953 25.19444462 24.08667653 ... -0.40013377  0.05371384\n",
            "   0.15200719]\n",
            " [23.94281424 25.02906542 24.42240893 ...  0.19850883 -1.85172845\n",
            "   0.41514116]\n",
            " [21.12293314 21.34357527 24.54789956 ...  0.60856793  3.36935966\n",
            "  -0.82894079]] [[14.24714651 14.38851327 14.45906141 ... -0.32117306 -0.21492619\n",
            "  -0.2459053 ]\n",
            " [15.66798544 15.44707046 15.23454548 ... -0.22202483 -0.13692316\n",
            "  -0.34673668]\n",
            " [15.95232941 15.5569868  15.40525714 ...  0.21788923  0.332229\n",
            "   0.23542821]\n",
            " ...\n",
            " [24.56061282 24.71605445 23.95746879 ... -1.29324234 -1.86968578\n",
            "   0.16158338]\n",
            " [23.63837953 25.19444462 24.08667653 ... -0.40013377  0.05371384\n",
            "   0.15200719]\n",
            " [21.12293314 21.34357527 24.54789956 ...  0.60856793  3.36935966\n",
            "  -0.82894079]] [[15.15536432 15.06108459 15.04715259 ... -1.78587989 -0.25460064\n",
            "  -0.90463925]\n",
            " [16.17368929 15.65380194 15.31668988 ...  0.19578116  0.17592854\n",
            "   0.12100394]\n",
            " [16.17768933 15.70705016 15.41347949 ... -2.67611393 -2.69723756\n",
            "  -2.63263854]\n",
            " ...\n",
            " [24.55375891 24.80933316 23.80697299 ... -0.50274787 -0.08241791\n",
            "   0.40262851]\n",
            " [23.43079627 24.55534032 24.00315191 ... -2.95288786  0.03721881\n",
            "   0.15909636]\n",
            " [23.94281424 25.02906542 24.42240893 ...  0.19850883 -1.85172845\n",
            "   0.41514116]]\n",
            "[[16.10025066 15.495036   14.92068378 ... -2.38960418  0.14601106\n",
            "  -3.48808031]\n",
            " [17.34812672 15.68192223 14.9676701  ...  0.24046805  0.23092393\n",
            "   0.10514708]\n",
            " [17.69518216 15.86661033 15.01468035 ... -0.02871844  0.05501345\n",
            "   0.02779263]\n",
            " ...\n",
            " [23.14813991 23.82309712 23.18545634 ...  2.69329511 -0.30356771\n",
            "  -0.21053733]\n",
            " [23.57875417 24.04322178 23.25238554 ... -1.63804921 -0.59395077\n",
            "  -0.75384057]\n",
            " [23.75388413 25.37837256 23.27950818 ...  1.7759648  -0.51827757\n",
            "   0.06120135]] [[ 1.61002507e+01  1.54950360e+01  1.49206838e+01 ... -2.38960418e+00\n",
            "   1.46011056e-01 -3.48808031e+00]\n",
            " [ 1.76951822e+01  1.58666103e+01  1.50146803e+01 ... -2.87184394e-02\n",
            "   5.50134457e-02  2.77926339e-02]\n",
            " [ 1.77163441e+01  1.58891988e+01  1.51397370e+01 ...  2.97351400e-02\n",
            "  -1.54457477e-02 -5.36075089e-02]\n",
            " ...\n",
            " [ 2.24392656e+01  2.20959988e+01  2.29784703e+01 ...  6.84478908e-01\n",
            "  -1.46338635e-01 -9.61606815e-01]\n",
            " [ 2.37487829e+01  2.30916837e+01  2.31405331e+01 ...  2.67466359e-01\n",
            "   3.17919888e-01 -3.17025312e-01]\n",
            " [ 2.35787542e+01  2.40432218e+01  2.32523855e+01 ... -1.63804921e+00\n",
            "  -5.93950766e-01 -7.53840574e-01]] [[ 1.73481267e+01  1.56819222e+01  1.49676701e+01 ...  2.40468048e-01\n",
            "   2.30923931e-01  1.05147085e-01]\n",
            " [ 1.80711456e+01  1.59260552e+01  1.50581701e+01 ...  5.81297848e-01\n",
            "   5.10554001e-01  5.13075431e-01]\n",
            " [ 1.74571994e+01  1.59196433e+01  1.51645674e+01 ...  5.41426434e-04\n",
            "  -2.22211930e-03 -1.57404525e-01]\n",
            " ...\n",
            " [ 2.48382309e+01  2.46432646e+01  2.30695978e+01 ...  2.36541617e-01\n",
            "   9.76192702e-01  5.68705273e-01]\n",
            " [ 2.31481399e+01  2.38230971e+01  2.31854563e+01 ...  2.69329511e+00\n",
            "  -3.03567714e-01 -2.10537334e-01]\n",
            " [ 2.37538841e+01  2.53783726e+01  2.32795082e+01 ...  1.77596480e+00\n",
            "  -5.18277568e-01  6.12013500e-02]]\n"
          ],
          "name": "stdout"
        }
      ]
    },
    {
      "cell_type": "code",
      "metadata": {
        "id": "6Mh-lexnDFow"
      },
      "source": [
        "X1, y1 = data1[:,:-1], data1[:,-1].astype('int')\n",
        "X2, y2 = data2[:,:-1], data2[:,-1].astype('int')"
      ],
      "execution_count": null,
      "outputs": []
    },
    {
      "cell_type": "code",
      "metadata": {
        "colab": {
          "base_uri": "https://localhost:8080/"
        },
        "id": "JOlOx_L5DFow",
        "outputId": "9489fb4a-45d2-47ee-9a25-1f66ef858808"
      },
      "source": [
        "X1.shape"
      ],
      "execution_count": null,
      "outputs": [
        {
          "output_type": "execute_result",
          "data": {
            "text/plain": [
              "(8448, 39)"
            ]
          },
          "metadata": {
            "tags": []
          },
          "execution_count": 269
        }
      ]
    },
    {
      "cell_type": "markdown",
      "metadata": {
        "id": "M4EHkQBXDFow"
      },
      "source": [
        "##Обучаем на первой выборке, проверяем на второй"
      ]
    },
    {
      "cell_type": "code",
      "metadata": {
        "id": "fgAArx1uDFoy"
      },
      "source": [
        "robust = RobustScaler()\n",
        "\n",
        "X_train_norm = robust.fit_transform(X1)\n",
        "X_test_norm = robust.transform(X2)\n",
        "y_train = y1\n",
        "y_test = y2"
      ],
      "execution_count": null,
      "outputs": []
    },
    {
      "cell_type": "code",
      "metadata": {
        "id": "VxzZ2RB_DFoy"
      },
      "source": [
        "#obj = HPOpt(X_train_norm, y_train)"
      ],
      "execution_count": null,
      "outputs": []
    },
    {
      "cell_type": "code",
      "metadata": {
        "id": "Jh44kDHCDFoy"
      },
      "source": [
        "#lgb_opt = obj.process(fn_name='lgb_reg', space=lgb_para, trials=Trials(), algo=tpe.suggest, max_evals=100)"
      ],
      "execution_count": null,
      "outputs": []
    },
    {
      "cell_type": "code",
      "metadata": {
        "id": "yTXzoluNDFoy"
      },
      "source": [
        "#lgb_opt"
      ],
      "execution_count": null,
      "outputs": []
    },
    {
      "cell_type": "code",
      "metadata": {
        "colab": {
          "base_uri": "https://localhost:8080/"
        },
        "id": "T5DeRQL8DFoy",
        "outputId": "ee641483-d04b-4e24-c3fb-344e710c6c82"
      },
      "source": [
        "gb = lgb.LGBMClassifier(\n",
        "    **{'colsample_bytree': 0.5048269884336619,\n",
        "  'min_child_samples': 49+1,\n",
        "  'min_child_weight': 0.4809285563025559,\n",
        "  'num_leaves': 26+10,\n",
        "      'n_estimators': 1000}\n",
        ")\n",
        "\n",
        "\n",
        "t = time()\n",
        "gb.fit(X_train_norm[:-500], y_train[:-500], eval_set=[(X_train_norm[:-500], y_train[:-500]), (X_train_norm[:-500], y_train[:-500])],  **lgb_fit_params)\n",
        "print(time()-t)"
      ],
      "execution_count": null,
      "outputs": [
        {
          "output_type": "stream",
          "text": [
            "7.429488658905029\n"
          ],
          "name": "stdout"
        }
      ]
    },
    {
      "cell_type": "code",
      "metadata": {
        "colab": {
          "base_uri": "https://localhost:8080/"
        },
        "id": "1ur_0vj1DFoy",
        "outputId": "9c095863-d742-40ad-9d8d-202bcce11489"
      },
      "source": [
        "pred = gb.predict(X_test_norm)\n",
        "print('Classification Report: \\n', classification_report(y_test, pred))\n",
        "print('Confusion Matrix: \\n', confusion_matrix(y_test, pred))\n",
        "gb_train_acc = accuracy_score(y_train, gb.predict(X_train_norm.astype('float')))\n",
        "print('Training Score: ', gb_train_acc)\n",
        "gb_test_acc = accuracy_score(y_test, pred)\n",
        "acc[overview] = gb_test_acc\n",
        "print('Training Score: ', gb_test_acc)"
      ],
      "execution_count": null,
      "outputs": [
        {
          "output_type": "stream",
          "text": [
            "Classification Report: \n",
            "               precision    recall  f1-score   support\n",
            "\n",
            "           1       0.99      0.97      0.98      1706\n",
            "           2       0.98      0.98      0.98      4500\n",
            "           3       0.96      0.96      0.96      2241\n",
            "\n",
            "    accuracy                           0.97      8447\n",
            "   macro avg       0.97      0.97      0.97      8447\n",
            "weighted avg       0.97      0.97      0.97      8447\n",
            "\n",
            "Confusion Matrix: \n",
            " [[1663   27   16]\n",
            " [  17 4401   82]\n",
            " [   5   84 2152]]\n",
            "Training Score:  0.9968039772727273\n",
            "Training Score:  0.9726530129039895\n"
          ],
          "name": "stdout"
        }
      ]
    },
    {
      "cell_type": "markdown",
      "metadata": {
        "id": "sF8qMhqUDFoy"
      },
      "source": [
        "##Обучаем на второй выборке, проверяем на первой"
      ]
    },
    {
      "cell_type": "code",
      "metadata": {
        "id": "fR8-C3dnDFoy"
      },
      "source": [
        "robust = RobustScaler()\n",
        "\n",
        "X_train_norm = robust.fit_transform(X2)\n",
        "X_test_norm = robust.transform(X1)\n",
        "y_train = y2\n",
        "y_test = y1"
      ],
      "execution_count": null,
      "outputs": []
    },
    {
      "cell_type": "code",
      "metadata": {
        "id": "j6cRkGgVDFoy"
      },
      "source": [
        "#obj = HPOpt(X_train_norm, y_train)"
      ],
      "execution_count": null,
      "outputs": []
    },
    {
      "cell_type": "code",
      "metadata": {
        "id": "PKYjiChVDFoz"
      },
      "source": [
        "#lgb_opt = obj.process(fn_name='lgb_reg', space=lgb_para, trials=Trials(), algo=tpe.suggest, max_evals=100)"
      ],
      "execution_count": null,
      "outputs": []
    },
    {
      "cell_type": "code",
      "metadata": {
        "id": "wXdSmsPODFoz"
      },
      "source": [
        "#lgb_opt"
      ],
      "execution_count": null,
      "outputs": []
    },
    {
      "cell_type": "code",
      "metadata": {
        "colab": {
          "base_uri": "https://localhost:8080/"
        },
        "id": "iatConAPDFoz",
        "outputId": "c77aefa7-c3f1-479d-cea5-c53ac0371b8a"
      },
      "source": [
        "gb = lgb.LGBMClassifier(\n",
        "    **{'colsample_bytree': 0.8753852156471218,\n",
        "  'min_child_samples': 32+1,\n",
        "  'min_child_weight': 0.9825613994422406,\n",
        "  'num_leaves': 65+10,\n",
        "      'n_estimators': 1000}\n",
        ")\n",
        "\n",
        "\n",
        "t = time()\n",
        "gb.fit(X_train_norm[:-500], y_train[:-500], eval_set=[(X_train_norm[:-500], y_train[:-500]), (X_train_norm[:-500], y_train[:-500])],  **lgb_fit_params)\n",
        "print(time()-t)"
      ],
      "execution_count": null,
      "outputs": [
        {
          "output_type": "stream",
          "text": [
            "8.455375671386719\n"
          ],
          "name": "stdout"
        }
      ]
    },
    {
      "cell_type": "code",
      "metadata": {
        "colab": {
          "base_uri": "https://localhost:8080/"
        },
        "id": "TrwJUMwgDFoz",
        "outputId": "10a7f4d2-5b8c-48fb-a32d-97efb2d63234"
      },
      "source": [
        "pred = gb.predict(X_test_norm)\n",
        "print('Classification Report: \\n', classification_report(y_test, pred))\n",
        "print('Confusion Matrix: \\n', confusion_matrix(y_test, pred))\n",
        "gb_train_acc = accuracy_score(y_train, gb.predict(X_train_norm.astype('float')))\n",
        "print('Training Score: ', gb_train_acc)\n",
        "gb_test_acc = accuracy_score(y_test, pred)\n",
        "acc[overview] = (acc[overview] + gb_test_acc)/2\n",
        "print('Training Score: ', gb_test_acc)"
      ],
      "execution_count": null,
      "outputs": [
        {
          "output_type": "stream",
          "text": [
            "Classification Report: \n",
            "               precision    recall  f1-score   support\n",
            "\n",
            "           1       0.99      0.98      0.98      1707\n",
            "           2       0.98      0.97      0.98      4500\n",
            "           3       0.95      0.96      0.95      2241\n",
            "\n",
            "    accuracy                           0.97      8448\n",
            "   macro avg       0.97      0.97      0.97      8448\n",
            "weighted avg       0.97      0.97      0.97      8448\n",
            "\n",
            "Confusion Matrix: \n",
            " [[1679   14   14]\n",
            " [  19 4386   95]\n",
            " [   6   88 2147]]\n",
            "Training Score:  0.9976322954895229\n",
            "Training Score:  0.9720643939393939\n"
          ],
          "name": "stdout"
        }
      ]
    },
    {
      "cell_type": "markdown",
      "metadata": {
        "id": "JleLOYUPDcyl"
      },
      "source": [
        "# Обучаем на SDSS and PanStars"
      ]
    },
    {
      "cell_type": "code",
      "metadata": {
        "id": "jCVIoN_SDcyt"
      },
      "source": [
        "overview = 'sdss+ps'"
      ],
      "execution_count": null,
      "outputs": []
    },
    {
      "cell_type": "code",
      "metadata": {
        "id": "RqkcyLf0Gus4"
      },
      "source": [
        "sdss_ps = [i for i in features if ('sdss' in i or 'psdr' in i) and 'decals' not in i] + ['LabelQ', 'LabelG', 'LabelS', 'Label']"
      ],
      "execution_count": 154,
      "outputs": []
    },
    {
      "cell_type": "code",
      "metadata": {
        "colab": {
          "base_uri": "https://localhost:8080/"
        },
        "id": "wQNLHVCAh1gx",
        "outputId": "d513d311-bb46-495f-eaf6-63269cfe33eb"
      },
      "source": [
        "len(sdss_ps)"
      ],
      "execution_count": 155,
      "outputs": [
        {
          "output_type": "execute_result",
          "data": {
            "text/plain": [
              "37"
            ]
          },
          "metadata": {
            "tags": []
          },
          "execution_count": 155
        }
      ]
    },
    {
      "cell_type": "code",
      "metadata": {
        "colab": {
          "base_uri": "https://localhost:8080/"
        },
        "id": "06yOmsqpDcyt",
        "outputId": "b9c89f9f-f986-4997-9499-db0332a53395"
      },
      "source": [
        "data1, data2 = data_split(df[sdss_ps].dropna())"
      ],
      "execution_count": null,
      "outputs": [
        {
          "output_type": "stream",
          "text": [
            "[[ 1.43454606e+01  1.38941548e+01  7.29767599e+00 ...  8.10714351e-01\n",
            "   2.75247402e-01 -1.98030407e-02]\n",
            " [ 1.13680256e+01  1.01497681e+01  9.68987750e+00 ...  1.27953714e+01\n",
            "   1.57979427e+00 -5.98191351e-01]\n",
            " [ 1.11709129e+01  1.00061718e+01  9.75755261e+00 ... -2.71915287e-01\n",
            "   1.06058999e+01  0.00000000e+00]\n",
            " ...\n",
            " [ 2.35840971e+01  2.49898294e+01  2.35325438e+01 ... -6.08689677e-02\n",
            "   4.50813531e-01 -1.51341389e-02]\n",
            " [ 2.31133227e+01  2.40221811e+01  2.36403234e+01 ... -6.76038425e-02\n",
            "   5.74629863e-01 -7.89346538e-02]\n",
            " [ 2.41834075e+01  2.51286960e+01  2.48598229e+01 ...  5.61210198e-01\n",
            "   2.12632938e-01  4.63558781e-01]] [[ 1.43454606e+01  1.38941548e+01  7.29767599e+00 ...  8.10714351e-01\n",
            "   2.75247402e-01 -1.98030407e-02]\n",
            " [ 1.11709129e+01  1.00061718e+01  9.75755261e+00 ... -2.71915287e-01\n",
            "   1.06058999e+01  0.00000000e+00]\n",
            " [ 1.22559279e+01  1.06389340e+01  1.01326665e+01 ...  0.00000000e+00\n",
            "   4.91487918e+00  0.00000000e+00]\n",
            " ...\n",
            " [ 2.32742668e+01  2.37942077e+01  2.26553168e+01 ... -2.67598295e-01\n",
            "   3.44703114e-01 -5.87556522e-01]\n",
            " [ 2.31054906e+01  2.38737102e+01  2.29169618e+01 ... -4.07882762e-02\n",
            "   1.70315671e-01 -9.91552800e-02]\n",
            " [ 2.31133227e+01  2.40221811e+01  2.36403234e+01 ... -6.76038425e-02\n",
            "   5.74629863e-01 -7.89346538e-02]] [[ 1.13680256e+01  1.01497681e+01  9.68987750e+00 ...  1.27953714e+01\n",
            "   1.57979427e+00 -5.98191351e-01]\n",
            " [ 1.15352307e+01  1.01565918e+01  9.92304101e+00 ... -1.59644941e+00\n",
            "   9.14831236e-01  4.33685647e-01]\n",
            " [ 1.16011723e+01  1.03864360e+01  1.01914261e+01 ...  0.00000000e+00\n",
            "   3.14258933e+00  0.00000000e+00]\n",
            " ...\n",
            " [ 2.32264642e+01  2.37382765e+01  2.26720501e+01 ... -9.28199181e-02\n",
            "   6.96496124e-01 -1.33044080e-01]\n",
            " [ 2.35840971e+01  2.49898294e+01  2.35325438e+01 ... -6.08689677e-02\n",
            "   4.50813531e-01 -1.51341389e-02]\n",
            " [ 2.41834075e+01  2.51286960e+01  2.48598229e+01 ...  5.61210198e-01\n",
            "   2.12632938e-01  4.63558781e-01]]\n",
            "[[ 1.51553643e+01  1.50610846e+01  1.50471526e+01 ...  2.93255998e-01\n",
            "   1.74190353e-02  5.44635757e-01]\n",
            " [ 1.56679854e+01  1.54470705e+01  1.52345455e+01 ... -5.11614963e-02\n",
            "   2.64917465e-01 -5.38679959e-02]\n",
            " [ 1.61736893e+01  1.56538019e+01  1.53166899e+01 ... -8.63652134e-02\n",
            "  -3.87464250e-01  1.29927577e-03]\n",
            " ...\n",
            " [ 2.36383795e+01  2.51944446e+01  2.40866765e+01 ...  0.00000000e+00\n",
            "   2.66146790e-03 -9.05950480e-01]\n",
            " [ 2.39428142e+01  2.50290654e+01  2.44224089e+01 ... -6.82717816e-02\n",
            "   1.49416018e+00 -2.28104713e-01]\n",
            " [ 2.11229331e+01  2.13435753e+01  2.45478996e+01 ...  6.65117455e-01\n",
            "  -1.52748635e-01 -1.65514308e-01]] [[ 1.51553643e+01  1.50610846e+01  1.50471526e+01 ...  2.93255998e-01\n",
            "   1.74190353e-02  5.44635757e-01]\n",
            " [ 1.61736893e+01  1.56538019e+01  1.53166899e+01 ... -8.63652134e-02\n",
            "  -3.87464250e-01  1.29927577e-03]\n",
            " [ 1.55615629e+01  1.56118234e+01  1.55525012e+01 ... -1.20740752e-01\n",
            "  -9.69122806e-02  1.65983962e-02]\n",
            " ...\n",
            " [ 2.45606128e+01  2.47160544e+01  2.39574688e+01 ...  0.00000000e+00\n",
            "   1.93998248e-01  0.00000000e+00]\n",
            " [ 2.36383795e+01  2.51944446e+01  2.40866765e+01 ...  0.00000000e+00\n",
            "   2.66146790e-03 -9.05950480e-01]\n",
            " [ 2.11229331e+01  2.13435753e+01  2.45478996e+01 ...  6.65117455e-01\n",
            "  -1.52748635e-01 -1.65514308e-01]] [[ 1.56679854e+01  1.54470705e+01  1.52345455e+01 ... -5.11614963e-02\n",
            "   2.64917465e-01 -5.38679959e-02]\n",
            " [ 1.54659036e+01  1.53736189e+01  1.54698168e+01 ...  1.16058776e-02\n",
            "   1.37452696e-01  1.59772780e-01]\n",
            " [ 1.55425042e+01  1.56673333e+01  1.56290105e+01 ...  1.37861318e-02\n",
            "   2.20873318e-01 -7.47339731e-03]\n",
            " ...\n",
            " [ 2.45537589e+01  2.48093332e+01  2.38069730e+01 ...  1.71428844e-01\n",
            "   5.33386888e-01  0.00000000e+00]\n",
            " [ 2.34307963e+01  2.45553403e+01  2.40031519e+01 ...  0.00000000e+00\n",
            "   9.56940495e-01 -2.96356717e-03]\n",
            " [ 2.39428142e+01  2.50290654e+01  2.44224089e+01 ... -6.82717816e-02\n",
            "   1.49416018e+00 -2.28104713e-01]]\n",
            "[[16.10025066 15.495036   14.92068378 ...  2.94390737  0.20910886\n",
            "   1.59719498]\n",
            " [17.34812672 15.68192223 14.9676701  ...  0.11774631  0.09779623\n",
            "   0.11512981]\n",
            " [17.69518216 15.86661033 15.01468035 ...  1.99069286  0.21179506\n",
            "   2.11738912]\n",
            " ...\n",
            " [23.74878292 23.09168367 23.14053311 ... -0.05971311  1.269525\n",
            "   0.        ]\n",
            " [23.57875417 24.04322178 23.25238554 ...  0.28646284  0.03580417\n",
            "   0.12857911]\n",
            " [23.75388413 25.37837256 23.27950818 ...  0.43420557  0.42207884\n",
            "   0.62909862]] [[16.10025066 15.495036   14.92068378 ...  2.94390737  0.20910886\n",
            "   1.59719498]\n",
            " [17.69518216 15.86661033 15.01468035 ...  1.99069286  0.21179506\n",
            "   2.11738912]\n",
            " [17.71634412 15.88919876 15.13973705 ...  2.88033428  0.5717428\n",
            "   2.77979062]\n",
            " ...\n",
            " [21.12950343 23.53090039 22.91321577 ...  0.31216922  0.2245103\n",
            "   0.17796975]\n",
            " [24.83823088 24.64326456 23.06959781 ...  0.64093458  0.39300954\n",
            "   0.34213358]\n",
            " [23.57875417 24.04322178 23.25238554 ...  0.28646284  0.03580417\n",
            "   0.12857911]] [[17.34812672 15.68192223 14.9676701  ...  0.11774631  0.09779623\n",
            "   0.11512981]\n",
            " [18.07114556 15.92605521 15.05817014 ...  3.15808604  0.29302445\n",
            "   3.12999183]\n",
            " [17.97231913 16.04078064 15.17006206 ...  1.80040387  0.28309282\n",
            "   2.22011842]\n",
            " ...\n",
            " [23.45466326 24.17550071 22.93107311 ...  0.43607636  0.07629236\n",
            "   0.17563525]\n",
            " [23.74878292 23.09168367 23.14053311 ... -0.05971311  1.269525\n",
            "   0.        ]\n",
            " [23.75388413 25.37837256 23.27950818 ...  0.43420557  0.42207884\n",
            "   0.62909862]]\n"
          ],
          "name": "stdout"
        }
      ]
    },
    {
      "cell_type": "code",
      "metadata": {
        "id": "I0x4W516Dcyu"
      },
      "source": [
        "X1, y1 = data1[:,:-1], data1[:,-1].astype('int')\n",
        "X2, y2 = data2[:,:-1], data2[:,-1].astype('int')"
      ],
      "execution_count": null,
      "outputs": []
    },
    {
      "cell_type": "code",
      "metadata": {
        "colab": {
          "base_uri": "https://localhost:8080/"
        },
        "id": "0kFNMukTDcyu",
        "outputId": "36b4daf0-87ff-4b74-c141-0124ebe5ea86"
      },
      "source": [
        "X1.shape"
      ],
      "execution_count": null,
      "outputs": [
        {
          "output_type": "execute_result",
          "data": {
            "text/plain": [
              "(7070, 33)"
            ]
          },
          "metadata": {
            "tags": []
          },
          "execution_count": 348
        }
      ]
    },
    {
      "cell_type": "markdown",
      "metadata": {
        "id": "M9h_C2HSDcyu"
      },
      "source": [
        "##Обучаем на первой выборке, проверяем на второй"
      ]
    },
    {
      "cell_type": "code",
      "metadata": {
        "id": "eoUxd8paDcyu"
      },
      "source": [
        "robust = RobustScaler()\n",
        "\n",
        "X_train_norm = robust.fit_transform(X1)\n",
        "X_test_norm = robust.transform(X2)\n",
        "y_train = y1\n",
        "y_test = y2"
      ],
      "execution_count": null,
      "outputs": []
    },
    {
      "cell_type": "code",
      "metadata": {
        "id": "kjXeu2pyDcyu"
      },
      "source": [
        "#obj = HPOpt(X_train_norm, y_train)"
      ],
      "execution_count": null,
      "outputs": []
    },
    {
      "cell_type": "code",
      "metadata": {
        "id": "fZABXYF7Dcyu"
      },
      "source": [
        "#lgb_opt = obj.process(fn_name='lgb_reg', space=lgb_para, trials=Trials(), algo=tpe.suggest, max_evals=100)"
      ],
      "execution_count": null,
      "outputs": []
    },
    {
      "cell_type": "code",
      "metadata": {
        "id": "7TCiJf_MDcyu"
      },
      "source": [
        "#lgb_opt"
      ],
      "execution_count": null,
      "outputs": []
    },
    {
      "cell_type": "code",
      "metadata": {
        "colab": {
          "base_uri": "https://localhost:8080/"
        },
        "id": "pHnMzpRjDcyv",
        "outputId": "2c370d79-cd81-49ca-921d-a4f903ce1ff0"
      },
      "source": [
        "gb = lgb.LGBMClassifier(\n",
        "    **{'colsample_bytree': 0.6756414264650209,\n",
        "  'min_child_samples': 16+1,\n",
        "  'min_child_weight': 0.011169721239062961,\n",
        "  'num_leaves': 38+10,\n",
        "      'n_estimators': 1000}\n",
        ")\n",
        "\n",
        "\n",
        "t = time()\n",
        "gb.fit(X_train_norm[:-500], y_train[:-500], eval_set=[(X_train_norm[:-500], y_train[:-500]), (X_train_norm[:-500], y_train[:-500])],  **lgb_fit_params)\n",
        "print(time()-t)"
      ],
      "execution_count": null,
      "outputs": [
        {
          "output_type": "stream",
          "text": [
            "8.22081208229065\n"
          ],
          "name": "stdout"
        }
      ]
    },
    {
      "cell_type": "code",
      "metadata": {
        "colab": {
          "base_uri": "https://localhost:8080/"
        },
        "id": "OQKWOPtVDcyv",
        "outputId": "caa1b3e6-5341-4768-f33c-6cb8cb4b8ccc"
      },
      "source": [
        "pred = gb.predict(X_test_norm)\n",
        "print('Classification Report: \\n', classification_report(y_test, pred))\n",
        "print('Confusion Matrix: \\n', confusion_matrix(y_test, pred))\n",
        "gb_train_acc = accuracy_score(y_train, gb.predict(X_train_norm.astype('float')))\n",
        "print('Training Score: ', gb_train_acc)\n",
        "gb_test_acc = accuracy_score(y_test, pred)\n",
        "acc[overview] = gb_test_acc\n",
        "print('Training Score: ', gb_test_acc)"
      ],
      "execution_count": null,
      "outputs": [
        {
          "output_type": "stream",
          "text": [
            "Classification Report: \n",
            "               precision    recall  f1-score   support\n",
            "\n",
            "           1       0.98      0.96      0.97      1167\n",
            "           2       0.98      0.97      0.98      3996\n",
            "           3       0.95      0.96      0.96      1906\n",
            "\n",
            "    accuracy                           0.97      7069\n",
            "   macro avg       0.97      0.97      0.97      7069\n",
            "weighted avg       0.97      0.97      0.97      7069\n",
            "\n",
            "Confusion Matrix: \n",
            " [[1125   33    9]\n",
            " [  23 3893   80]\n",
            " [   4   63 1839]]\n",
            "Training Score:  0.9963224893917964\n",
            "Training Score:  0.97000990239072\n"
          ],
          "name": "stdout"
        }
      ]
    },
    {
      "cell_type": "markdown",
      "metadata": {
        "id": "AX4jaTyODcyv"
      },
      "source": [
        "##Обучаем на второй выборке, проверяем на первой"
      ]
    },
    {
      "cell_type": "code",
      "metadata": {
        "id": "LYNeOzacDcyv"
      },
      "source": [
        "robust = RobustScaler()\n",
        "\n",
        "X_train_norm = robust.fit_transform(X2)\n",
        "X_test_norm = robust.transform(X1)\n",
        "y_train = y2\n",
        "y_test = y1"
      ],
      "execution_count": null,
      "outputs": []
    },
    {
      "cell_type": "code",
      "metadata": {
        "id": "PyOuS1T3Dcyv"
      },
      "source": [
        "#obj = HPOpt(X_train_norm, y_train)"
      ],
      "execution_count": null,
      "outputs": []
    },
    {
      "cell_type": "code",
      "metadata": {
        "id": "yXkFRuCrDcyv"
      },
      "source": [
        "#lgb_opt = obj.process(fn_name='lgb_reg', space=lgb_para, trials=Trials(), algo=tpe.suggest, max_evals=100)"
      ],
      "execution_count": null,
      "outputs": []
    },
    {
      "cell_type": "code",
      "metadata": {
        "id": "RedhBRPKDcyv"
      },
      "source": [
        "#lgb_opt"
      ],
      "execution_count": null,
      "outputs": []
    },
    {
      "cell_type": "code",
      "metadata": {
        "colab": {
          "base_uri": "https://localhost:8080/"
        },
        "id": "bN6qQ67lDcyv",
        "outputId": "b90d4876-ee24-4908-8ee3-3ee635f76b41"
      },
      "source": [
        "gb = lgb.LGBMClassifier(\n",
        "    **{'colsample_bytree': 0.7097663865005799,\n",
        "  'min_child_samples': 40+1,\n",
        "  'min_child_weight': 0.09319093708977999,\n",
        "  'num_leaves': 65+10,\n",
        "      'n_estimators': 1000}\n",
        ")\n",
        "\n",
        "\n",
        "t = time()\n",
        "gb.fit(X_train_norm[:-500], y_train[:-500], eval_set=[(X_train_norm[:-500], y_train[:-500]), (X_train_norm[:-500], y_train[:-500])],  **lgb_fit_params)\n",
        "print(time()-t)"
      ],
      "execution_count": null,
      "outputs": [
        {
          "output_type": "stream",
          "text": [
            "8.605796813964844\n"
          ],
          "name": "stdout"
        }
      ]
    },
    {
      "cell_type": "code",
      "metadata": {
        "colab": {
          "base_uri": "https://localhost:8080/"
        },
        "id": "kcelH_GTDcyv",
        "outputId": "66a1c712-67c3-47b8-cb07-77f52464439a"
      },
      "source": [
        "pred = gb.predict(X_test_norm)\n",
        "print('Classification Report: \\n', classification_report(y_test, pred))\n",
        "print('Confusion Matrix: \\n', confusion_matrix(y_test, pred))\n",
        "gb_train_acc = accuracy_score(y_train, gb.predict(X_train_norm.astype('float')))\n",
        "print('Training Score: ', gb_train_acc)\n",
        "gb_test_acc = accuracy_score(y_test, pred)\n",
        "acc[overview] = (acc[overview] + gb_test_acc)/2\n",
        "print('Training Score: ', gb_test_acc)"
      ],
      "execution_count": null,
      "outputs": [
        {
          "output_type": "stream",
          "text": [
            "Classification Report: \n",
            "               precision    recall  f1-score   support\n",
            "\n",
            "           1       0.98      0.95      0.97      1167\n",
            "           2       0.97      0.97      0.97      3997\n",
            "           3       0.94      0.96      0.95      1906\n",
            "\n",
            "    accuracy                           0.97      7070\n",
            "   macro avg       0.97      0.96      0.96      7070\n",
            "weighted avg       0.97      0.97      0.97      7070\n",
            "\n",
            "Confusion Matrix: \n",
            " [[1109   41   17]\n",
            " [  17 3888   92]\n",
            " [   1   75 1830]]\n",
            "Training Score:  0.9958975809874098\n",
            "Training Score:  0.9656294200848656\n"
          ],
          "name": "stdout"
        }
      ]
    },
    {
      "cell_type": "code",
      "metadata": {
        "id": "LEmzErN8D7l2"
      },
      "source": [
        ""
      ],
      "execution_count": null,
      "outputs": []
    },
    {
      "cell_type": "markdown",
      "metadata": {
        "id": "tc-vfPONE1Af"
      },
      "source": [
        "# Обучаем на decals and PanStars"
      ]
    },
    {
      "cell_type": "code",
      "metadata": {
        "id": "S8za6huzE1Gv"
      },
      "source": [
        "overview = 'ps+decals'"
      ],
      "execution_count": null,
      "outputs": []
    },
    {
      "cell_type": "code",
      "metadata": {
        "id": "Ix84jAGOHCHp"
      },
      "source": [
        "ps_decals = [i for i in features if ('decals' in i or 'psdr' in i) and 'sdss' not in i] + ['LabelQ', 'LabelG', 'LabelS', 'Label']"
      ],
      "execution_count": 156,
      "outputs": []
    },
    {
      "cell_type": "code",
      "metadata": {
        "colab": {
          "base_uri": "https://localhost:8080/"
        },
        "id": "obdbzW-ph6sc",
        "outputId": "407b3af0-dbc9-4a50-fac9-ac10044554cf"
      },
      "source": [
        "len(ps_decals)"
      ],
      "execution_count": 157,
      "outputs": [
        {
          "output_type": "execute_result",
          "data": {
            "text/plain": [
              "39"
            ]
          },
          "metadata": {
            "tags": []
          },
          "execution_count": 157
        }
      ]
    },
    {
      "cell_type": "code",
      "metadata": {
        "id": "JwbODAFoE1HP"
      },
      "source": [
        "data1, data2 = data_split(df[ps_decals].dropna(), 'psdr2_r_psf')"
      ],
      "execution_count": null,
      "outputs": []
    },
    {
      "cell_type": "code",
      "metadata": {
        "id": "Zrr4a8ZGE1Hg"
      },
      "source": [
        "X1, y1 = data1[:,:-1], data1[:,-1].astype('int')\n",
        "X2, y2 = data2[:,:-1], data2[:,-1].astype('int')"
      ],
      "execution_count": null,
      "outputs": []
    },
    {
      "cell_type": "code",
      "metadata": {
        "colab": {
          "base_uri": "https://localhost:8080/"
        },
        "id": "7NRhb_MJE1H0",
        "outputId": "b6c2ab9d-72c6-4091-ffad-48eccb17d688"
      },
      "source": [
        "X1.shape"
      ],
      "execution_count": null,
      "outputs": [
        {
          "output_type": "execute_result",
          "data": {
            "text/plain": [
              "(7072, 35)"
            ]
          },
          "metadata": {
            "tags": []
          },
          "execution_count": 303
        }
      ]
    },
    {
      "cell_type": "markdown",
      "metadata": {
        "id": "-U9st_JYE1IA"
      },
      "source": [
        "##Обучаем на первой выборке, проверяем на второй"
      ]
    },
    {
      "cell_type": "code",
      "metadata": {
        "id": "8q8bp0j-E1IP"
      },
      "source": [
        "robust = RobustScaler()\n",
        "\n",
        "X_train_norm = robust.fit_transform(X1)\n",
        "X_test_norm = robust.transform(X2)\n",
        "y_train = y1\n",
        "y_test = y2"
      ],
      "execution_count": null,
      "outputs": []
    },
    {
      "cell_type": "code",
      "metadata": {
        "id": "xFt0h9c1E1Id"
      },
      "source": [
        "#obj = HPOpt(X_train_norm, y_train)"
      ],
      "execution_count": null,
      "outputs": []
    },
    {
      "cell_type": "code",
      "metadata": {
        "id": "DWr0-nW2E1Ir"
      },
      "source": [
        "#lgb_opt = obj.process(fn_name='lgb_reg', space=lgb_para, trials=Trials(), algo=tpe.suggest, max_evals=100)"
      ],
      "execution_count": null,
      "outputs": []
    },
    {
      "cell_type": "code",
      "metadata": {
        "id": "PTix00OKE1I5"
      },
      "source": [
        "#lgb_opt"
      ],
      "execution_count": null,
      "outputs": []
    },
    {
      "cell_type": "code",
      "metadata": {
        "colab": {
          "base_uri": "https://localhost:8080/"
        },
        "id": "S8SyhhCgE1JF",
        "outputId": "11eb56c9-5c88-4383-bf7d-1b7124894c28"
      },
      "source": [
        "gb = lgb.LGBMClassifier(\n",
        "    **{'colsample_bytree': 0.4287682144495232,\n",
        "  'min_child_samples': 41+1,\n",
        "  'min_child_weight': 0.8439517049649784,\n",
        "  'num_leaves': 37+10,\n",
        "      'n_estimators': 1000}\n",
        ")\n",
        "\n",
        "\n",
        "t = time()\n",
        "gb.fit(X_train_norm[:-500], y_train[:-500], eval_set=[(X_train_norm[:-500], y_train[:-500]), (X_train_norm[:-500], y_train[:-500])],  **lgb_fit_params)\n",
        "print(time()-t)"
      ],
      "execution_count": null,
      "outputs": [
        {
          "output_type": "stream",
          "text": [
            "5.7620885372161865\n"
          ],
          "name": "stdout"
        }
      ]
    },
    {
      "cell_type": "code",
      "metadata": {
        "colab": {
          "base_uri": "https://localhost:8080/"
        },
        "id": "tq2E6eCvE1JP",
        "outputId": "9c728e41-e11b-4b70-bf18-48a75fc55b33"
      },
      "source": [
        "pred = gb.predict(X_test_norm)\n",
        "print('Classification Report: \\n', classification_report(y_test, pred))\n",
        "print('Confusion Matrix: \\n', confusion_matrix(y_test, pred))\n",
        "gb_train_acc = accuracy_score(y_train, gb.predict(X_train_norm.astype('float')))\n",
        "print('Training Score: ', gb_train_acc)\n",
        "gb_test_acc = accuracy_score(y_test, pred)\n",
        "acc[overview] = gb_test_acc\n",
        "print('Training Score: ', gb_test_acc)"
      ],
      "execution_count": null,
      "outputs": [
        {
          "output_type": "stream",
          "text": [
            "Classification Report: \n",
            "               precision    recall  f1-score   support\n",
            "\n",
            "           1       0.98      0.97      0.98      1152\n",
            "           2       0.98      0.97      0.98      4020\n",
            "           3       0.95      0.97      0.96      1899\n",
            "\n",
            "    accuracy                           0.97      7071\n",
            "   macro avg       0.97      0.97      0.97      7071\n",
            "weighted avg       0.97      0.97      0.97      7071\n",
            "\n",
            "Confusion Matrix: \n",
            " [[1123   20    9]\n",
            " [  21 3917   82]\n",
            " [   7   54 1838]]\n",
            "Training Score:  0.9958993212669683\n",
            "Training Score:  0.9727054164898883\n"
          ],
          "name": "stdout"
        }
      ]
    },
    {
      "cell_type": "markdown",
      "metadata": {
        "id": "HASN3_4SE1JV"
      },
      "source": [
        "##Обучаем на второй выборке, проверяем на первой"
      ]
    },
    {
      "cell_type": "code",
      "metadata": {
        "id": "ghHUeRe-E1Jg"
      },
      "source": [
        "robust = RobustScaler()\n",
        "\n",
        "X_train_norm = robust.fit_transform(X2)\n",
        "X_test_norm = robust.transform(X1)\n",
        "y_train = y2\n",
        "y_test = y1"
      ],
      "execution_count": null,
      "outputs": []
    },
    {
      "cell_type": "code",
      "metadata": {
        "id": "bL6B3GZ8E1Jp"
      },
      "source": [
        "#obj = HPOpt(X_train_norm, y_train)"
      ],
      "execution_count": null,
      "outputs": []
    },
    {
      "cell_type": "code",
      "metadata": {
        "id": "FM5P26SuE1Jy"
      },
      "source": [
        "#lgb_opt = obj.process(fn_name='lgb_reg', space=lgb_para, trials=Trials(), algo=tpe.suggest, max_evals=100)"
      ],
      "execution_count": null,
      "outputs": []
    },
    {
      "cell_type": "code",
      "metadata": {
        "id": "Pf7yOPcuE1J5"
      },
      "source": [
        "#lgb_opt"
      ],
      "execution_count": null,
      "outputs": []
    },
    {
      "cell_type": "code",
      "metadata": {
        "colab": {
          "base_uri": "https://localhost:8080/"
        },
        "id": "rAk0jFr1E1KE",
        "outputId": "7847ca1d-ee87-4594-cb06-878ed4dbd350"
      },
      "source": [
        "gb = lgb.LGBMClassifier(\n",
        "    **{'colsample_bytree': 0.8979758467441785,\n",
        "  'min_child_samples': 20,\n",
        "  'min_child_weight': 0.6165560587018821,\n",
        "  'num_leaves': 52+10,\n",
        "      'n_estimators': 1000}\n",
        ")\n",
        "\n",
        "\n",
        "t = time()\n",
        "gb.fit(X_train_norm[:-500], y_train[:-500], eval_set=[(X_train_norm[:-500], y_train[:-500]), (X_train_norm[:-500], y_train[:-500])],  **lgb_fit_params)\n",
        "print(time()-t)"
      ],
      "execution_count": null,
      "outputs": [
        {
          "output_type": "stream",
          "text": [
            "6.9347662925720215\n"
          ],
          "name": "stdout"
        }
      ]
    },
    {
      "cell_type": "code",
      "metadata": {
        "colab": {
          "base_uri": "https://localhost:8080/"
        },
        "id": "8ZtBm6iDE1KN",
        "outputId": "ea1744dd-98d1-4f32-8bd8-28677e3d1cc4"
      },
      "source": [
        "pred = gb.predict(X_test_norm)\n",
        "print('Classification Report: \\n', classification_report(y_test, pred))\n",
        "print('Confusion Matrix: \\n', confusion_matrix(y_test, pred))\n",
        "gb_train_acc = accuracy_score(y_train, gb.predict(X_train_norm.astype('float')))\n",
        "print('Training Score: ', gb_train_acc)\n",
        "gb_test_acc = accuracy_score(y_test, pred)\n",
        "acc[overview] = (acc[overview] + gb_test_acc)/2\n",
        "print('Training Score: ', gb_test_acc)"
      ],
      "execution_count": null,
      "outputs": [
        {
          "output_type": "stream",
          "text": [
            "Classification Report: \n",
            "               precision    recall  f1-score   support\n",
            "\n",
            "           1       0.98      0.96      0.97      1152\n",
            "           2       0.97      0.97      0.97      4020\n",
            "           3       0.94      0.95      0.95      1900\n",
            "\n",
            "    accuracy                           0.96      7072\n",
            "   macro avg       0.96      0.96      0.96      7072\n",
            "weighted avg       0.96      0.96      0.96      7072\n",
            "\n",
            "Confusion Matrix: \n",
            " [[1111   28   13]\n",
            " [  19 3906   95]\n",
            " [   7   92 1801]]\n",
            "Training Score:  0.9967472776127846\n",
            "Training Score:  0.9640837104072398\n"
          ],
          "name": "stdout"
        }
      ]
    },
    {
      "cell_type": "code",
      "metadata": {
        "id": "GlOZtu9HE1KW"
      },
      "source": [
        ""
      ],
      "execution_count": null,
      "outputs": []
    },
    {
      "cell_type": "markdown",
      "metadata": {
        "id": "dOMR32CyFV3y"
      },
      "source": [
        "# Обучаем на всей выборке"
      ]
    },
    {
      "cell_type": "code",
      "metadata": {
        "id": "DsWqbp8vHNMs"
      },
      "source": [
        "overview = 'all'"
      ],
      "execution_count": 27,
      "outputs": []
    },
    {
      "cell_type": "code",
      "metadata": {
        "colab": {
          "base_uri": "https://localhost:8080/"
        },
        "id": "kBWgyx24h_8i",
        "outputId": "86c93f9a-43fb-49a6-a2fc-1a151808028d"
      },
      "source": [
        "len(features)"
      ],
      "execution_count": 158,
      "outputs": [
        {
          "output_type": "execute_result",
          "data": {
            "text/plain": [
              "69"
            ]
          },
          "metadata": {
            "tags": []
          },
          "execution_count": 158
        }
      ]
    },
    {
      "cell_type": "code",
      "metadata": {
        "colab": {
          "base_uri": "https://localhost:8080/"
        },
        "id": "CWGzAP2JFV38",
        "outputId": "c35e8b6e-aed6-4aca-e03d-804a24ff2a62"
      },
      "source": [
        "data1, data2 = data_split(df[features].dropna())"
      ],
      "execution_count": 28,
      "outputs": [
        {
          "output_type": "stream",
          "text": [
            "[[14.34546057 13.89415478  7.29767599 ...  0.62771844  1.51317155\n",
            "  -2.76776875]\n",
            " [11.36802556 10.14976812  9.6898775  ...  1.54674132  1.87814739\n",
            "  -0.2598255 ]\n",
            " [11.17091291 10.00617184  9.75755261 ...  3.0413092   0.57088776\n",
            "  -1.22056085]\n",
            " ...\n",
            " [23.58409707 24.98982939 23.53254382 ...  1.30199583  3.21635345\n",
            "   0.08307366]\n",
            " [23.11332269 24.02218114 23.64032341 ...  0.64568178  1.42733941\n",
            "   0.09861513]\n",
            " [24.18340755 25.12869598 24.85982292 ...  2.83996985  0.82611757\n",
            "  -0.23275616]] [[14.34546057 13.89415478  7.29767599 ...  0.62771844  1.51317155\n",
            "  -2.76776875]\n",
            " [11.17091291 10.00617184  9.75755261 ...  3.0413092   0.57088776\n",
            "  -1.22056085]\n",
            " [12.25592793 10.63893401 10.13266654 ...  1.23259915  1.62019655\n",
            "   1.1198265 ]\n",
            " ...\n",
            " [23.27426677 23.79420769 22.65531679 ... -1.88550701 -0.28586571\n",
            "  -0.10112914]\n",
            " [23.10549057 23.87371022 22.91696185 ...  3.21728682 -0.49271541\n",
            "   0.18148377]\n",
            " [23.11332269 24.02218114 23.64032341 ...  0.64568178  1.42733941\n",
            "   0.09861513]] [[ 11.36802556  10.14976812   9.6898775  ...   1.54674132   1.87814739\n",
            "   -0.2598255 ]\n",
            " [ 11.53523071  10.15659183   9.92304101 ... -16.27114543 -17.40387224\n",
            "   -2.78789719]\n",
            " [ 11.60117227  10.38643604  10.19142614 ...  -0.52422022  -0.49681008\n",
            "   -0.99581489]\n",
            " ...\n",
            " [ 23.22646422  23.73827654  22.67205007 ...  -2.90918899   0.36191019\n",
            "    0.13499076]\n",
            " [ 23.58409707  24.98982939  23.53254382 ...   1.30199583   3.21635345\n",
            "    0.08307366]\n",
            " [ 24.18340755  25.12869598  24.85982292 ...   2.83996985   0.82611757\n",
            "   -0.23275616]]\n",
            "[[15.15536432 15.06108459 15.04715259 ... -1.78587989 -0.25460064\n",
            "  -0.90463925]\n",
            " [15.66798544 15.44707046 15.23454548 ... -0.22202483 -0.13692316\n",
            "  -0.34673668]\n",
            " [16.17368929 15.65380194 15.31668988 ...  0.19578116  0.17592854\n",
            "   0.12100394]\n",
            " ...\n",
            " [23.63837953 25.19444462 24.08667653 ... -0.40013377  0.05371384\n",
            "   0.15200719]\n",
            " [23.94281424 25.02906542 24.42240893 ...  0.19850883 -1.85172845\n",
            "   0.41514116]\n",
            " [21.12293314 21.34357527 24.54789956 ...  0.60856793  3.36935966\n",
            "  -0.82894079]] [[ 1.51553643e+01  1.50610846e+01  1.50471526e+01 ... -1.78587989e+00\n",
            "  -2.54600636e-01 -9.04639253e-01]\n",
            " [ 1.61736893e+01  1.56538019e+01  1.53166899e+01 ...  1.95781164e-01\n",
            "   1.75928536e-01  1.21003944e-01]\n",
            " [ 1.55615629e+01  1.56118234e+01  1.55525012e+01 ... -4.12539275e-02\n",
            "   1.09618430e-02  8.64002682e-03]\n",
            " ...\n",
            " [ 2.45537589e+01  2.48093332e+01  2.38069730e+01 ... -5.02747870e-01\n",
            "  -8.24179103e-02  4.02628510e-01]\n",
            " [ 2.34307963e+01  2.45553403e+01  2.40031519e+01 ... -2.95288786e+00\n",
            "   3.72188075e-02  1.59096361e-01]\n",
            " [ 2.39428142e+01  2.50290654e+01  2.44224089e+01 ...  1.98508827e-01\n",
            "  -1.85172845e+00  4.15141164e-01]] [[15.66798544 15.44707046 15.23454548 ... -0.22202483 -0.13692316\n",
            "  -0.34673668]\n",
            " [15.4659036  15.37361893 15.46981679 ... -0.05875839  0.04339169\n",
            "  -0.13771201]\n",
            " [15.54250418 15.66733332 15.62901047 ... -0.29014466 -0.26489833\n",
            "  -0.21095011]\n",
            " ...\n",
            " [24.56061282 24.71605445 23.95746879 ... -1.29324234 -1.86968578\n",
            "   0.16158338]\n",
            " [23.63837953 25.19444462 24.08667653 ... -0.40013377  0.05371384\n",
            "   0.15200719]\n",
            " [21.12293314 21.34357527 24.54789956 ...  0.60856793  3.36935966\n",
            "  -0.82894079]]\n",
            "[[16.10025066 15.495036   14.92068378 ... -2.38960418  0.14601106\n",
            "  -3.48808031]\n",
            " [17.34812672 15.68192223 14.9676701  ...  0.24046805  0.23092393\n",
            "   0.10514708]\n",
            " [17.69518216 15.86661033 15.01468035 ... -0.02871844  0.05501345\n",
            "   0.02779263]\n",
            " ...\n",
            " [23.74878292 23.09168367 23.14053311 ...  0.26746636  0.31791989\n",
            "  -0.31702531]\n",
            " [23.57875417 24.04322178 23.25238554 ... -1.63804921 -0.59395077\n",
            "  -0.75384057]\n",
            " [23.75388413 25.37837256 23.27950818 ...  1.7759648  -0.51827757\n",
            "   0.06120135]] [[ 1.61002507e+01  1.54950360e+01  1.49206838e+01 ... -2.38960418e+00\n",
            "   1.46011056e-01 -3.48808031e+00]\n",
            " [ 1.76951822e+01  1.58666103e+01  1.50146803e+01 ... -2.87184394e-02\n",
            "   5.50134457e-02  2.77926339e-02]\n",
            " [ 1.77163441e+01  1.58891988e+01  1.51397370e+01 ...  2.97351400e-02\n",
            "  -1.54457477e-02 -5.36075089e-02]\n",
            " ...\n",
            " [ 2.34546633e+01  2.41755007e+01  2.29310731e+01 ... -2.77029559e+00\n",
            "   3.64226416e-01 -4.68834936e-01]\n",
            " [ 2.37487829e+01  2.30916837e+01  2.31405331e+01 ...  2.67466359e-01\n",
            "   3.17919888e-01 -3.17025312e-01]\n",
            " [ 2.37538841e+01  2.53783726e+01  2.32795082e+01 ...  1.77596480e+00\n",
            "  -5.18277568e-01  6.12013500e-02]] [[17.34812672 15.68192223 14.9676701  ...  0.24046805  0.23092393\n",
            "   0.10514708]\n",
            " [18.07114556 15.92605521 15.05817014 ...  0.58129785  0.510554\n",
            "   0.51307543]\n",
            " [17.97231913 16.04078064 15.17006206 ...  0.03281123  0.06694797\n",
            "   0.10806962]\n",
            " ...\n",
            " [21.12950343 23.53090039 22.91321577 ... -0.92485556  0.34081933\n",
            "   0.43933684]\n",
            " [24.83823088 24.64326456 23.06959781 ...  0.23654162  0.9761927\n",
            "   0.56870527]\n",
            " [23.57875417 24.04322178 23.25238554 ... -1.63804921 -0.59395077\n",
            "  -0.75384057]]\n"
          ],
          "name": "stdout"
        }
      ]
    },
    {
      "cell_type": "code",
      "metadata": {
        "id": "ncLGHKMuFV39"
      },
      "source": [
        "X1, y1 = data1[:,:-1], data1[:,-1].astype('int')\n",
        "X2, y2 = data2[:,:-1], data2[:,-1].astype('int')"
      ],
      "execution_count": 29,
      "outputs": []
    },
    {
      "cell_type": "code",
      "metadata": {
        "colab": {
          "base_uri": "https://localhost:8080/"
        },
        "id": "8a38xTQBFV3-",
        "outputId": "a72847c8-d10a-4207-9320-d08a02a47cc9"
      },
      "source": [
        "X1.shape"
      ],
      "execution_count": 30,
      "outputs": [
        {
          "output_type": "execute_result",
          "data": {
            "text/plain": [
              "(7041, 65)"
            ]
          },
          "metadata": {
            "tags": []
          },
          "execution_count": 30
        }
      ]
    },
    {
      "cell_type": "markdown",
      "metadata": {
        "id": "GPtBjVg1FV3-"
      },
      "source": [
        "##Обучаем на первой выборке, проверяем на второй"
      ]
    },
    {
      "cell_type": "code",
      "metadata": {
        "id": "P14I-2NjFV3-"
      },
      "source": [
        "robust1 = RobustScaler()\n",
        "\n",
        "X_train_norm = robust1.fit_transform(X1)\n",
        "X_test_norm = robust1.transform(X2)\n",
        "y_train = y1\n",
        "y_test = y2"
      ],
      "execution_count": 31,
      "outputs": []
    },
    {
      "cell_type": "code",
      "metadata": {
        "id": "XdhdWVx7FV3-"
      },
      "source": [
        "#obj = HPOpt(X_train_norm, y_train)"
      ],
      "execution_count": 264,
      "outputs": []
    },
    {
      "cell_type": "code",
      "metadata": {
        "id": "Q_SyeDZNFV3-"
      },
      "source": [
        "#lgb_opt = obj.process(fn_name='lgb_reg', space=lgb_para, trials=Trials(), algo=tpe.suggest, max_evals=100)"
      ],
      "execution_count": 265,
      "outputs": []
    },
    {
      "cell_type": "code",
      "metadata": {
        "id": "645oXHZbFV3-"
      },
      "source": [
        "#lgb_opt"
      ],
      "execution_count": 266,
      "outputs": []
    },
    {
      "cell_type": "code",
      "metadata": {
        "colab": {
          "base_uri": "https://localhost:8080/"
        },
        "id": "xb_QYr7eFV3_",
        "outputId": "355ff213-1652-45fb-add5-d4a1cbbcb9b3"
      },
      "source": [
        "gb1 = lgb.LGBMClassifier(\n",
        "    **{'colsample_bytree': 0.8211965075024374,\n",
        "  'min_child_samples': 33+1,\n",
        "  'min_child_weight': 0.9636584831554481,\n",
        "  'num_leaves': 67+10,\n",
        "      'n_estimators': 1000}\n",
        ")\n",
        "\n",
        "\n",
        "t = time()\n",
        "gb1.fit(X_train_norm[:-500], y_train[:-500], eval_set=[(X_train_norm[:-500], y_train[:-500]), (X_train_norm[:-500], y_train[:-500])],  **lgb_fit_params)\n",
        "print(time()-t)"
      ],
      "execution_count": 32,
      "outputs": [
        {
          "output_type": "stream",
          "text": [
            "11.17336893081665\n"
          ],
          "name": "stdout"
        }
      ]
    },
    {
      "cell_type": "code",
      "metadata": {
        "colab": {
          "base_uri": "https://localhost:8080/"
        },
        "id": "DU4mQIK4FV3_",
        "outputId": "20b7aa78-6394-423e-d7e0-253c73e423d4"
      },
      "source": [
        "pred = gb1.predict(X_test_norm)\n",
        "print('Classification Report: \\n', classification_report(y_test, pred))\n",
        "print('Confusion Matrix: \\n', confusion_matrix(y_test, pred))\n",
        "gb_train_acc = accuracy_score(y_train, gb1.predict(X_train_norm.astype('float')))\n",
        "print('Training Score: ', gb_train_acc)\n",
        "gb_test_acc = accuracy_score(y_test, pred)\n",
        "#acc[overview] = gb_test_acc\n",
        "print('Training Score: ', gb_test_acc)"
      ],
      "execution_count": 33,
      "outputs": [
        {
          "output_type": "stream",
          "text": [
            "Classification Report: \n",
            "               precision    recall  f1-score   support\n",
            "\n",
            "           1       0.99      0.97      0.98      1152\n",
            "           2       0.98      0.98      0.98      3989\n",
            "           3       0.96      0.97      0.96      1899\n",
            "\n",
            "    accuracy                           0.97      7040\n",
            "   macro avg       0.97      0.97      0.97      7040\n",
            "weighted avg       0.97      0.97      0.97      7040\n",
            "\n",
            "Confusion Matrix: \n",
            " [[1121   20   11]\n",
            " [  13 3901   75]\n",
            " [   3   57 1839]]\n",
            "Training Score:  0.9960232921460019\n",
            "Training Score:  0.9745738636363637\n"
          ],
          "name": "stdout"
        }
      ]
    },
    {
      "cell_type": "markdown",
      "metadata": {
        "id": "UcAWxvNAFV3_"
      },
      "source": [
        "##Обучаем на второй выборке, проверяем на первой"
      ]
    },
    {
      "cell_type": "code",
      "metadata": {
        "id": "F-gYP2DlFV3_"
      },
      "source": [
        "robust2 = RobustScaler()\n",
        "\n",
        "X_train_norm = robust2.fit_transform(X2)\n",
        "X_test_norm = robust2.transform(X1)\n",
        "y_train = y2\n",
        "y_test = y1"
      ],
      "execution_count": 34,
      "outputs": []
    },
    {
      "cell_type": "code",
      "metadata": {
        "id": "eyMwy44QFV3_"
      },
      "source": [
        "#obj = HPOpt(X_train_norm, y_train)"
      ],
      "execution_count": 35,
      "outputs": []
    },
    {
      "cell_type": "code",
      "metadata": {
        "id": "b7i6t4CfFV3_"
      },
      "source": [
        "#lgb_opt = obj.process(fn_name='lgb_reg', space=lgb_para, trials=Trials(), algo=tpe.suggest, max_evals=100)"
      ],
      "execution_count": 36,
      "outputs": []
    },
    {
      "cell_type": "code",
      "metadata": {
        "id": "R1Q2UPR5FV3_"
      },
      "source": [
        "#lgb_opt"
      ],
      "execution_count": 37,
      "outputs": []
    },
    {
      "cell_type": "code",
      "metadata": {
        "colab": {
          "base_uri": "https://localhost:8080/"
        },
        "id": "FLjFI8vnFV3_",
        "outputId": "7b22d541-4b7e-4ae2-e08e-b8cf31bfdcb5"
      },
      "source": [
        "gb2 = lgb.LGBMClassifier(\n",
        "    **{'colsample_bytree': 0.7122774534428687,\n",
        "  'min_child_samples': 12,\n",
        "  'min_child_weight': 0.5902465770913051,\n",
        "  'num_leaves': 0+10,\n",
        "      'n_estimators': 1000}\n",
        ")\n",
        "\n",
        "\n",
        "t = time()\n",
        "gb2.fit(X_train_norm[:-500], y_train[:-500], eval_set=[(X_train_norm[:-500], y_train[:-500]), (X_train_norm[:-500], y_train[:-500])],  **lgb_fit_params)\n",
        "print(time()-t)"
      ],
      "execution_count": 38,
      "outputs": [
        {
          "output_type": "stream",
          "text": [
            "7.7135820388793945\n"
          ],
          "name": "stdout"
        }
      ]
    },
    {
      "cell_type": "code",
      "metadata": {
        "colab": {
          "base_uri": "https://localhost:8080/"
        },
        "id": "4tQg0OKcFV4A",
        "outputId": "78c6ba5c-c22b-4369-afe5-c18f5c81c71f"
      },
      "source": [
        "pred = gb2.predict(X_test_norm)\n",
        "print('Classification Report: \\n', classification_report(y_test, pred))\n",
        "print('Confusion Matrix: \\n', confusion_matrix(y_test, pred))\n",
        "gb_train_acc = accuracy_score(y_train, gb2.predict(X_train_norm.astype('float')))\n",
        "print('Training Score: ', gb_train_acc)\n",
        "gb_test_acc = accuracy_score(y_test, pred)\n",
        "#acc[overview] = (acc[overview] + gb_test_acc)/2\n",
        "print('Training Score: ', gb_test_acc)"
      ],
      "execution_count": 39,
      "outputs": [
        {
          "output_type": "stream",
          "text": [
            "Classification Report: \n",
            "               precision    recall  f1-score   support\n",
            "\n",
            "           1       0.98      0.98      0.98      1152\n",
            "           2       0.98      0.98      0.98      3989\n",
            "           3       0.95      0.96      0.95      1900\n",
            "\n",
            "    accuracy                           0.97      7041\n",
            "   macro avg       0.97      0.97      0.97      7041\n",
            "weighted avg       0.97      0.97      0.97      7041\n",
            "\n",
            "Confusion Matrix: \n",
            " [[1124   19    9]\n",
            " [  18 3892   79]\n",
            " [   4   80 1816]]\n",
            "Training Score:  0.9961647727272728\n",
            "Training Score:  0.9703167163755149\n"
          ],
          "name": "stdout"
        }
      ]
    },
    {
      "cell_type": "markdown",
      "metadata": {
        "id": "gbDoUCvlGpqG"
      },
      "source": [
        "# Построение графиков"
      ]
    },
    {
      "cell_type": "code",
      "metadata": {
        "colab": {
          "base_uri": "https://localhost:8080/"
        },
        "id": "qyOmkFD0Ifm8",
        "outputId": "98081714-0967-418a-c229-4344fd5727c7"
      },
      "source": [
        "a = np.array([np.arange(10),np.arange(10)]) \n",
        "print(a)\n",
        "a[[True]*2]"
      ],
      "execution_count": 105,
      "outputs": [
        {
          "output_type": "stream",
          "text": [
            "[[0 1 2 3 4 5 6 7 8 9]\n",
            " [0 1 2 3 4 5 6 7 8 9]]\n"
          ],
          "name": "stdout"
        },
        {
          "output_type": "execute_result",
          "data": {
            "text/plain": [
              "array([[0, 1, 2, 3, 4, 5, 6, 7, 8, 9],\n",
              "       [0, 1, 2, 3, 4, 5, 6, 7, 8, 9]])"
            ]
          },
          "metadata": {
            "tags": []
          },
          "execution_count": 105
        }
      ]
    },
    {
      "cell_type": "code",
      "metadata": {
        "id": "2F_UpxbmGuV-"
      },
      "source": [
        "def acc_for_features(X1, y1, X2, y2, model1, model2, n_split, n_features, robust1, robust2):\n",
        "  from sklearn.metrics import f1_score\n",
        "\n",
        "  def get_pred(X, y, model, r1, r2, robust):\n",
        "    ind = (X[:, n_features]>r1) & (X[:, n_features]< r2)\n",
        "    print(np.sum(ind), np.sum([X[:, n_features]>r1]), np.sum([X[:, n_features]< r2]))\n",
        "    X = X[ind]\n",
        "    y = y[ind]\n",
        "    \n",
        "    print(r1, r2)\n",
        "    print((np.sum(y==1), np.sum(y==2), np.sum(y==3)))\n",
        "    size = np.min((np.sum(y==1), np.sum(y==3), np.sum(y==2))) #для уравновешивания классов\n",
        "    print(size)\n",
        "    if size < 50:\n",
        "      return [0], [0]\n",
        "    test = np.concatenate((X[y==1][:size], X[y==2][:size], X[y==3][:size]))\n",
        "    yt = np.concatenate((y[y==1][:size], y[y==2][:size], y[y==3][:size]))\n",
        "\n",
        "    return yt, model.predict(robust.transform(test))#_proba\n",
        "\n",
        "  q = np.linspace(0, 1, num=n_split+1)\n",
        "  feature_q = np.quantile(np.concatenate((X1, X2))[:, n_features], q)\n",
        "\n",
        "  Acc = []\n",
        "  feature = []\n",
        "  r0 = feature_q[0]\n",
        "\n",
        "  for i in range(n_split):\n",
        "\n",
        "    r1 = feature_q[i+1]\n",
        "\n",
        "    yt1, yp1 = get_pred(X1, y1, model1, r0, r1, robust1)\n",
        "    yt2, yp2 = get_pred(X2, y2, model2, r0, r1, robust2)\n",
        "    if (len(yt1) == 1 or len(yt2) == 1):\n",
        "      continue\n",
        "     \n",
        "\n",
        "    y_true = np.concatenate((yt1, yt2))\n",
        "    y_pred = np.concatenate((yp1, yp2))\n",
        "\n",
        "    Acc.append(f1_score(y_true, y_pred, average=None))\n",
        "    feature.append(np.mean((r0, r1)))\n",
        "    r0 = r1\n",
        "    print('not cont')\n",
        "\n",
        "    #ind1 = tuple([X_true[:,n_features]>feature_q[i]] and [X_true[:,n_features]<feature_q[i+1]])\n",
        "    #ind2 = tuple([X_false[:,n_features]>feature_q[i]] and [X_false[:,n_features]<feature_q[i+1]])\n",
        "    #test = np.concatenate((X_true[ind1], np.random.permutation(X_false[ind2])))\n",
        "    #print(len(test))\n",
        "    #yt = np.concatenate((y_true[ind1], y_false[ind2]))\n",
        "    #yp = model.predict_proba(test)\n",
        "    \n",
        "   \n",
        "  return Acc, feature"
      ],
      "execution_count": 143,
      "outputs": []
    },
    {
      "cell_type": "code",
      "metadata": {
        "id": "yXrjaJL7696e"
      },
      "source": [
        "\n",
        "def auc(y, pred, pos_label):\n",
        "  import numpy as np\n",
        "  from sklearn import metrics\n",
        "  fpr, tpr, thresholds = metrics.roc_curve(y, pred, pos_label=pos_label)\n",
        "  return metrics.auc(fpr, tpr)"
      ],
      "execution_count": 144,
      "outputs": []
    },
    {
      "cell_type": "code",
      "metadata": {
        "id": "MMaqHnsLRDPA"
      },
      "source": [
        "acc, r = acc_for_features(X2, y2, X1, y1, gb1, gb2, 5, 2, robust1, robust2)"
      ],
      "execution_count": null,
      "outputs": []
    },
    {
      "cell_type": "code",
      "metadata": {
        "id": "e9r8aGnlVESi"
      },
      "source": [
        "acc = np.array(acc).T"
      ],
      "execution_count": 146,
      "outputs": []
    },
    {
      "cell_type": "code",
      "metadata": {
        "colab": {
          "base_uri": "https://localhost:8080/",
          "height": 659
        },
        "id": "MNjg8_cYWupQ",
        "outputId": "22ad55a4-6bec-4df9-cbe9-928d7b99ab6a"
      },
      "source": [
        "    plt.figure(figsize=(10, 10))\n",
        "    lab =['stars', 'qwazars', 'galactics']\n",
        "    lines = []\n",
        "    labels = []\n",
        "    clr = ['skyblue', 'red', 'greenyellow', 'orangered', 'chocolate', 'darkorange', 'orange', 'gold', 'yellow', 'lime', 'springgreen', 'aquamarine', 'aqua',  'lightskyblue']\n",
        "    for j in range(3):\n",
        "      l, = plt.plot(r, acc[j], color=clr[j], lw=2)\n",
        "      lines.append(l)\n",
        "      labels.append(lab[j])\n",
        "\n",
        "\n",
        "    fig = plt.gcf()\n",
        "    fig.subplots_adjust(bottom=0.25)\n",
        "\n",
        "    plt.xlabel('sdssdr16_r_psf')\n",
        "    plt.ylabel('F1')\n",
        "    plt.title('F1')\n",
        "    plt.legend(lines, labels, loc=(0, -0.35), prop=dict(size=14))\n",
        "    plt.show()"
      ],
      "execution_count": 147,
      "outputs": [
        {
          "output_type": "display_data",
          "data": {
            "image/png": "[encoded data removed]",
            "text/plain": [
              "<Figure size 720x720 with 1 Axes>"
            ]
          },
          "metadata": {
            "tags": [],
            "needs_background": "light"
          }
        }
      ]
    },
    {
      "cell_type": "code",
      "metadata": {
        "id": "stVRLTB3-XDc"
      },
      "source": [
        "def prec_rec(ml, X1_test, y1_test, X2_test, y2_test, X3_test, y3_test, true_rt=False, rt = None):\n",
        "    from sklearn.preprocessing import label_binarize\n",
        "    from sklearn.metrics import roc_curve, auc\n",
        "\n",
        "    feature = 2\n",
        "    \n",
        "    X_test_not_scaling = X1_test[X1_test[:,feature].argsort()]\n",
        "    X_test = X1_test[X1_test[:,feature].argsort()]#################\n",
        "    if true_rt:\n",
        "      X_test = rt.transform(X_test)\n",
        "    y_test = y1_test[X1_test[:,feature].argsort()]\n",
        "    \n",
        "    #shift = 1000\n",
        "    #n = len(y_test)//shift\n",
        "    n = 2\n",
        "    shift = len(y_test)//n\n",
        "\n",
        "    plt.figure(figsize=(10, 10))\n",
        "    lines = []\n",
        "    labels = []\n",
        "    AUC = []\n",
        "    r = []\n",
        "    clr = ['red', 'orangered', 'chocolate', 'darkorange', 'orange', 'gold', 'yellow', 'greenyellow', 'lime', 'springgreen', 'aquamarine', 'aqua', 'skyblue', 'lightskyblue']\n",
        "   \n",
        "    #y_pred_all = ml.predict(X_test)\n",
        "    y_pred_all_proba = ml.predict_proba(X_test)\n",
        "    j = 0\n",
        "\n",
        "    for i in range(0, n):\n",
        "            r1 = X_test_not_scaling[i*shift][feature]\n",
        "            r2 = X_test_not_scaling[(i+1) * shift - 1][feature]\n",
        "\n",
        "            X2 = X2_test[(X2_test[:, feature] >= r1) & (X2_test[:, feature] <= r2)]\n",
        "            y2 = y2_test[(X2_test[:, feature] >= r1) & (X2_test[:, feature] <= r2)]\n",
        "            ind2 = np.random.choice(len(y2), size=min(shift, len(y2)), replace=False)\n",
        "\n",
        "            X3 = X3_test[(X3_test[:, feature] >= r1) & (X3_test[:, feature] <= r2)]\n",
        "            y3 = y3_test[(X3_test[:, feature] >= r1) & (X3_test[:, feature] <= r2)]\n",
        "            ind3 = np.random.choice(len(y3), size=min(shift, len(y3)), replace=False)\n",
        "\n",
        "            X = np.concatenate((X2[ind2], X3[ind3]))\n",
        "            if true_rt:\n",
        "              X = rt.transform(X)\n",
        "            y = np.concatenate((y2[ind2], y3[ind3]))\n",
        "\n",
        "            print(i, shift, len(y2), len(y3))\n",
        "\n",
        "            yt = np.concatenate((y_test[i*shift : (i+1) * shift], y))\n",
        "            yt = label_binarize(yt, classes=[1, 2, 3])\n",
        "            yp = np.concatenate((y_pred_all_proba[i*shift : (i+1) * shift], ml.predict_proba(X)))###################\n",
        "\n",
        "            f, t, thresholds = roc_curve(yt.ravel(), yp.ravel())\n",
        "            l, = plt.plot(f, t, color=clr[j], lw=2)\n",
        "            j+=1\n",
        "            lines.append(l)\n",
        "            r1 = X_test_not_scaling[i*shift : (i+1) * shift][:,feature].mean()\n",
        "            labels.append('r = ' + str(r1))\n",
        "            r.append(r1)\n",
        "            AUC.append(auc(f, t))\n",
        "            \n",
        "    fig = plt.gcf()\n",
        "    fig.subplots_adjust(bottom=0.25)\n",
        "    plt.xlim([0.0, 1.0])\n",
        "    plt.ylim([0.0, 1.05])\n",
        "    plt.xlabel('False Positive Rate')\n",
        "    plt.ylabel('True Positive Rate')\n",
        "    plt.title('ROC multi-class')\n",
        "    plt.legend(lines, labels, loc=(0, -0.75), prop=dict(size=14))\n",
        "    plt.show()\n",
        "\n",
        "    plt.figure()\n",
        "    plt.title('AUC')\n",
        "    plt.plot(r, AUC, 'b')\n",
        "    plt.plot([0,1],[0,1],'r--')\n",
        "    plt.ylim([0.75, 1])\n",
        "    plt.xlim([22,16])\n",
        "    plt.ylabel('AUC')\n",
        "    plt.xlabel('R')\n",
        "    plt.show()"
      ],
      "execution_count": 260,
      "outputs": []
    },
    {
      "cell_type": "code",
      "metadata": {
        "id": "Np1-_8cg-jxP"
      },
      "source": [
        "prec_rec(gb, X2[y2==1], y2[y2==1], X2[y2==2], y2[y2==2], X2[y2==3], y2[y2==3], True, robust)"
      ],
      "execution_count": null,
      "outputs": []
    },
    {
      "cell_type": "code",
      "metadata": {
        "id": "pgg5m0b8_kyz"
      },
      "source": [
        " X2"
      ],
      "execution_count": null,
      "outputs": []
    },
    {
      "cell_type": "code",
      "metadata": {
        "id": "Xkh_VkrgFV4A"
      },
      "source": [
        "acc = lambda X, y : accuracy_score(y, gb.predict(robust.transform(X).astype('float')))"
      ],
      "execution_count": 58,
      "outputs": []
    },
    {
      "cell_type": "markdown",
      "metadata": {
        "id": "7enfzF1oCYk6"
      },
      "source": [
        "\n",
        "#Далее"
      ]
    },
    {
      "cell_type": "code",
      "metadata": {
        "colab": {
          "base_uri": "https://localhost:8080/"
        },
        "id": "0MBT4JQt_Cxv",
        "outputId": "7646bd4a-905c-4bf2-f37d-ec1e303fc4c6"
      },
      "source": [
        "X1.shape, X2.shape"
      ],
      "execution_count": null,
      "outputs": [
        {
          "output_type": "execute_result",
          "data": {
            "text/plain": [
              "((8480, 17), (8480, 17))"
            ]
          },
          "metadata": {
            "tags": []
          },
          "execution_count": 40
        }
      ]
    },
    {
      "cell_type": "code",
      "metadata": {
        "colab": {
          "base_uri": "https://localhost:8080/"
        },
        "id": "lBesGweYnJzA",
        "outputId": "194c04a2-d214-41fd-9833-c007f0bbba29"
      },
      "source": [
        "X_train.shape"
      ],
      "execution_count": null,
      "outputs": [
        {
          "output_type": "execute_result",
          "data": {
            "text/plain": [
              "(6336, 65)"
            ]
          },
          "metadata": {
            "tags": []
          },
          "execution_count": 335
        }
      ]
    },
    {
      "cell_type": "code",
      "metadata": {
        "colab": {
          "base_uri": "https://localhost:8080/"
        },
        "id": "k3hffW6r7G9A",
        "outputId": "55fe4d30-3a52-4ae7-9822-7c8e73cde745"
      },
      "source": [
        "gb = lgb.LGBMClassifier()\n",
        "t = time()\n",
        "gb.fit(X_train_norm, y_train, eval_set=[(X_train_norm, y_train), (X_test_norm, y_test)],  **lgb_fit_params)\n",
        "print(time()-t)"
      ],
      "execution_count": null,
      "outputs": [
        {
          "output_type": "stream",
          "text": [
            "1.1678180694580078\n"
          ],
          "name": "stdout"
        }
      ]
    },
    {
      "cell_type": "code",
      "metadata": {
        "colab": {
          "base_uri": "https://localhost:8080/"
        },
        "id": "ABqdNAgqyk3m",
        "outputId": "b026c00d-7061-4cd7-8b58-081bf0e365c6"
      },
      "source": [
        "pred = gb.predict(X_test_norm)\n",
        "print('Classification Report: \\n', classification_report(y_test, pred))\n",
        "print('Confusion Matrix: \\n', confusion_matrix(y_test, pred))\n",
        "gb_train_acc = accuracy_score(y_train, gb.predict(X_train_norm))\n",
        "print('Training Score: ', gb_train_acc)\n",
        "gb_test_acc =  accuracy_score(y_test, pred)\n",
        "print('Testing Score: ', gb_test_acc)"
      ],
      "execution_count": null,
      "outputs": [
        {
          "output_type": "stream",
          "text": [
            "Classification Report: \n",
            "               precision    recall  f1-score   support\n",
            "\n",
            "           1       0.97      0.96      0.96       116\n",
            "           2       0.98      0.98      0.98       399\n",
            "           3       0.98      0.96      0.97       190\n",
            "\n",
            "    accuracy                           0.97       705\n",
            "   macro avg       0.97      0.97      0.97       705\n",
            "weighted avg       0.97      0.97      0.97       705\n",
            "\n",
            "Confusion Matrix: \n",
            " [[111   4   1]\n",
            " [  3 393   3]\n",
            " [  1   6 183]]\n",
            "Training Score:  0.9970012626262627\n",
            "Testing Score:  0.9744680851063829\n"
          ],
          "name": "stdout"
        }
      ]
    },
    {
      "cell_type": "code",
      "metadata": {
        "colab": {
          "base_uri": "https://localhost:8080/"
        },
        "id": "nkS2XnGfy6vt",
        "outputId": "6b8ca5db-73e0-424d-a0a4-2b4d75d47d55"
      },
      "source": [
        "pred = gb.predict(X2_norm)\n",
        "print('Classification Report: \\n', classification_report(y2, pred))\n",
        "print('Confusion Matrix: \\n', confusion_matrix(y2, pred))\n",
        "gb_train_acc = accuracy_score(y_train, gb.predict(X_train_norm.astype('float')))\n",
        "print('Training Score: ', gb_train_acc)\n",
        "gb_test_acc = accuracy_score(y2, pred)\n",
        "print('Training Score: ', gb_test_acc)"
      ],
      "execution_count": null,
      "outputs": [
        {
          "output_type": "stream",
          "text": [
            "Classification Report: \n",
            "               precision    recall  f1-score   support\n",
            "\n",
            "           1       0.99      0.99      0.99      1152\n",
            "           2       1.00      1.00      1.00      3989\n",
            "           3       0.99      0.99      0.99      1900\n",
            "\n",
            "    accuracy                           0.99      7041\n",
            "   macro avg       0.99      0.99      0.99      7041\n",
            "weighted avg       0.99      0.99      0.99      7041\n",
            "\n",
            "Confusion Matrix: \n",
            " [[1142    7    3]\n",
            " [   5 3974   10]\n",
            " [   1   11 1888]]\n",
            "Training Score:  0.9970012626262627\n",
            "Training Score:  0.9947450646215026\n"
          ],
          "name": "stdout"
        }
      ]
    },
    {
      "cell_type": "code",
      "metadata": {
        "colab": {
          "base_uri": "https://localhost:8080/"
        },
        "id": "A96i6oXXRtWN",
        "outputId": "99592e12-8c9f-49b1-ef2a-cf3290e1ad9a"
      },
      "source": [
        "X_train.shape, X_test.shape"
      ],
      "execution_count": null,
      "outputs": [
        {
          "output_type": "execute_result",
          "data": {
            "text/plain": [
              "((6340, 65), (706, 65))"
            ]
          },
          "metadata": {
            "tags": []
          },
          "execution_count": 253
        }
      ]
    },
    {
      "cell_type": "code",
      "metadata": {
        "colab": {
          "base_uri": "https://localhost:8080/"
        },
        "id": "SPW8o-hvuYjf",
        "outputId": "ddcd571d-1505-446c-c0c8-ae73887d4190"
      },
      "source": [
        "clf = TabNetClassifier(n_d=32, n_a=32,\n",
        "                       momentum=0.7,\n",
        "                       optimizer_fn=torch.optim.Adam,\n",
        "                       optimizer_params=dict(lr=2e-2),\n",
        "                       scheduler_params={\"step_size\":20, # how to use learning rate scheduler\n",
        "                                         \"gamma\":0.95},\n",
        "                       scheduler_fn=torch.optim.lr_scheduler.StepLR,\n",
        "\n",
        "                       mask_type='entmax',\n",
        "                       \n",
        "                       **{'gamma': 1.7,\n",
        "                          'lambda_sparse': 0.001,\n",
        "                          'n_steps': 5}\n",
        "\n",
        ")"
      ],
      "execution_count": null,
      "outputs": [
        {
          "output_type": "stream",
          "text": [
            "Device used : cuda\n"
          ],
          "name": "stdout"
        }
      ]
    },
    {
      "cell_type": "code",
      "metadata": {
        "id": "l1c7joHKuYjg"
      },
      "source": [
        "max_epochs = 300"
      ],
      "execution_count": null,
      "outputs": []
    },
    {
      "cell_type": "code",
      "metadata": {
        "id": "O5LMIziKL9TG",
        "colab": {
          "base_uri": "https://localhost:8080/"
        },
        "outputId": "888847be-8f15-411b-c850-7c215759182b"
      },
      "source": [
        "X_train.shape"
      ],
      "execution_count": null,
      "outputs": [
        {
          "output_type": "execute_result",
          "data": {
            "text/plain": [
              "(6336, 65)"
            ]
          },
          "metadata": {
            "tags": []
          },
          "execution_count": 346
        }
      ]
    },
    {
      "cell_type": "code",
      "metadata": {
        "colab": {
          "base_uri": "https://localhost:8080/"
        },
        "id": "DTPwIwdnGA5f",
        "outputId": "9cb7d799-33e2-4c0c-ab56-8023e0ab01b0"
      },
      "source": [
        "X_test.shape"
      ],
      "execution_count": null,
      "outputs": [
        {
          "output_type": "execute_result",
          "data": {
            "text/plain": [
              "(705, 65)"
            ]
          },
          "metadata": {
            "tags": []
          },
          "execution_count": 347
        }
      ]
    },
    {
      "cell_type": "code",
      "metadata": {
        "colab": {
          "base_uri": "https://localhost:8080/"
        },
        "scrolled": true,
        "id": "ElyLpi8awsis",
        "outputId": "e87f45e4-9b6b-4a5c-c1ee-e39c7a1a2c9a"
      },
      "source": [
        "t = time()\n",
        "clf.fit(\n",
        "    X_train=X_train, y_train=y_train,\n",
        "    #X_valid=X_valid, y_valid=y_valid,\n",
        "    eval_set=[(X_train, y_train), (X_train, y_train)],\n",
        "    eval_name=['train', 'valid'],\n",
        "    eval_metric=['logloss','accuracy'],\n",
        "    max_epochs=max_epochs , patience=50,\n",
        "    batch_size=512, virtual_batch_size=128,\n",
        "    #from_unsupervised=unsupervised_model\n",
        ") \n",
        "print(time()-t)"
      ],
      "execution_count": null,
      "outputs": [
        {
          "output_type": "stream",
          "text": [
            "epoch 0  | loss: 0.96442 | train_logloss: 5.35252 | train_accuracy: 0.42551 | valid_logloss: 5.35252 | valid_accuracy: 0.42551 |  0:00:00s\n",
            "epoch 1  | loss: 0.32988 | train_logloss: 2.74    | train_accuracy: 0.64378 | valid_logloss: 2.74    | valid_accuracy: 0.64378 |  0:00:01s\n",
            "epoch 2  | loss: 0.27342 | train_logloss: 3.26327 | train_accuracy: 0.41525 | valid_logloss: 3.26327 | valid_accuracy: 0.41525 |  0:00:02s\n",
            "epoch 3  | loss: 0.2023  | train_logloss: 9.63578 | train_accuracy: 0.34501 | valid_logloss: 9.63578 | valid_accuracy: 0.34501 |  0:00:03s\n",
            "epoch 4  | loss: 0.19852 | train_logloss: 3.86725 | train_accuracy: 0.41177 | valid_logloss: 3.86725 | valid_accuracy: 0.41177 |  0:00:04s\n",
            "epoch 5  | loss: 0.16243 | train_logloss: 2.8799  | train_accuracy: 0.65025 | valid_logloss: 2.8799  | valid_accuracy: 0.65025 |  0:00:05s\n",
            "epoch 6  | loss: 0.18096 | train_logloss: 0.91737 | train_accuracy: 0.79419 | valid_logloss: 0.91737 | valid_accuracy: 0.79419 |  0:00:06s\n",
            "epoch 7  | loss: 0.15446 | train_logloss: 0.95715 | train_accuracy: 0.71165 | valid_logloss: 0.95715 | valid_accuracy: 0.71165 |  0:00:07s\n",
            "epoch 8  | loss: 0.13625 | train_logloss: 1.72362 | train_accuracy: 0.68939 | valid_logloss: 1.72362 | valid_accuracy: 0.68939 |  0:00:08s\n",
            "epoch 9  | loss: 0.15086 | train_logloss: 0.47804 | train_accuracy: 0.88431 | valid_logloss: 0.47804 | valid_accuracy: 0.88431 |  0:00:09s\n",
            "epoch 10 | loss: 0.13513 | train_logloss: 0.37232 | train_accuracy: 0.88668 | valid_logloss: 0.37232 | valid_accuracy: 0.88668 |  0:00:09s\n",
            "epoch 11 | loss: 0.12589 | train_logloss: 0.26089 | train_accuracy: 0.92219 | valid_logloss: 0.26089 | valid_accuracy: 0.92219 |  0:00:10s\n",
            "epoch 12 | loss: 0.12215 | train_logloss: 0.17243 | train_accuracy: 0.94539 | valid_logloss: 0.17243 | valid_accuracy: 0.94539 |  0:00:11s\n",
            "epoch 13 | loss: 0.12241 | train_logloss: 0.37877 | train_accuracy: 0.90372 | valid_logloss: 0.37877 | valid_accuracy: 0.90372 |  0:00:12s\n",
            "epoch 14 | loss: 0.13469 | train_logloss: 0.17441 | train_accuracy: 0.94634 | valid_logloss: 0.17441 | valid_accuracy: 0.94634 |  0:00:13s\n",
            "epoch 15 | loss: 0.12968 | train_logloss: 0.17967 | train_accuracy: 0.94302 | valid_logloss: 0.17967 | valid_accuracy: 0.94302 |  0:00:14s\n",
            "epoch 16 | loss: 0.1187  | train_logloss: 0.18812 | train_accuracy: 0.93292 | valid_logloss: 0.18812 | valid_accuracy: 0.93292 |  0:00:15s\n",
            "epoch 17 | loss: 0.1133  | train_logloss: 0.15479 | train_accuracy: 0.9536  | valid_logloss: 0.15479 | valid_accuracy: 0.9536  |  0:00:16s\n",
            "epoch 18 | loss: 0.10411 | train_logloss: 0.13271 | train_accuracy: 0.95597 | valid_logloss: 0.13271 | valid_accuracy: 0.95597 |  0:00:17s\n",
            "epoch 19 | loss: 0.1047  | train_logloss: 0.12383 | train_accuracy: 0.95991 | valid_logloss: 0.12383 | valid_accuracy: 0.95991 |  0:00:18s\n",
            "epoch 20 | loss: 0.10477 | train_logloss: 0.11906 | train_accuracy: 0.9596  | valid_logloss: 0.11906 | valid_accuracy: 0.9596  |  0:00:19s\n",
            "epoch 21 | loss: 0.10117 | train_logloss: 0.11133 | train_accuracy: 0.96165 | valid_logloss: 0.11133 | valid_accuracy: 0.96165 |  0:00:20s\n",
            "epoch 22 | loss: 0.10161 | train_logloss: 0.09761 | train_accuracy: 0.96749 | valid_logloss: 0.09761 | valid_accuracy: 0.96749 |  0:00:21s\n",
            "epoch 23 | loss: 0.09922 | train_logloss: 0.11562 | train_accuracy: 0.95944 | valid_logloss: 0.11562 | valid_accuracy: 0.95944 |  0:00:22s\n",
            "epoch 24 | loss: 0.10518 | train_logloss: 0.11269 | train_accuracy: 0.96591 | valid_logloss: 0.11269 | valid_accuracy: 0.96591 |  0:00:23s\n",
            "epoch 25 | loss: 0.10674 | train_logloss: 0.12541 | train_accuracy: 0.96023 | valid_logloss: 0.12541 | valid_accuracy: 0.96023 |  0:00:23s\n",
            "epoch 26 | loss: 0.10439 | train_logloss: 0.10081 | train_accuracy: 0.96701 | valid_logloss: 0.10081 | valid_accuracy: 0.96701 |  0:00:24s\n",
            "epoch 27 | loss: 0.10458 | train_logloss: 0.10999 | train_accuracy: 0.96607 | valid_logloss: 0.10999 | valid_accuracy: 0.96607 |  0:00:25s\n",
            "epoch 28 | loss: 0.09647 | train_logloss: 0.10402 | train_accuracy: 0.96796 | valid_logloss: 0.10402 | valid_accuracy: 0.96796 |  0:00:26s\n",
            "epoch 29 | loss: 0.09703 | train_logloss: 0.09506 | train_accuracy: 0.9678  | valid_logloss: 0.09506 | valid_accuracy: 0.9678  |  0:00:27s\n",
            "epoch 30 | loss: 0.09057 | train_logloss: 0.0839  | train_accuracy: 0.97222 | valid_logloss: 0.0839  | valid_accuracy: 0.97222 |  0:00:28s\n",
            "epoch 31 | loss: 0.09577 | train_logloss: 0.08776 | train_accuracy: 0.97143 | valid_logloss: 0.08776 | valid_accuracy: 0.97143 |  0:00:29s\n",
            "epoch 32 | loss: 0.09321 | train_logloss: 0.08967 | train_accuracy: 0.97049 | valid_logloss: 0.08967 | valid_accuracy: 0.97049 |  0:00:30s\n",
            "epoch 33 | loss: 0.09243 | train_logloss: 0.0991  | train_accuracy: 0.97049 | valid_logloss: 0.0991  | valid_accuracy: 0.97049 |  0:00:31s\n",
            "epoch 34 | loss: 0.09183 | train_logloss: 0.09672 | train_accuracy: 0.97159 | valid_logloss: 0.09672 | valid_accuracy: 0.97159 |  0:00:32s\n",
            "epoch 35 | loss: 0.08737 | train_logloss: 0.08561 | train_accuracy: 0.97064 | valid_logloss: 0.08561 | valid_accuracy: 0.97064 |  0:00:33s\n",
            "epoch 36 | loss: 0.08808 | train_logloss: 0.08851 | train_accuracy: 0.97017 | valid_logloss: 0.08851 | valid_accuracy: 0.97017 |  0:00:34s\n",
            "epoch 37 | loss: 0.08501 | train_logloss: 0.07707 | train_accuracy: 0.97475 | valid_logloss: 0.07707 | valid_accuracy: 0.97475 |  0:00:34s\n",
            "epoch 38 | loss: 0.08383 | train_logloss: 0.0752  | train_accuracy: 0.97333 | valid_logloss: 0.0752  | valid_accuracy: 0.97333 |  0:00:35s\n",
            "epoch 39 | loss: 0.08212 | train_logloss: 0.0748  | train_accuracy: 0.97396 | valid_logloss: 0.0748  | valid_accuracy: 0.97396 |  0:00:36s\n",
            "epoch 40 | loss: 0.08599 | train_logloss: 0.08452 | train_accuracy: 0.97112 | valid_logloss: 0.08452 | valid_accuracy: 0.97112 |  0:00:37s\n",
            "epoch 41 | loss: 0.08718 | train_logloss: 0.08447 | train_accuracy: 0.97238 | valid_logloss: 0.08447 | valid_accuracy: 0.97238 |  0:00:38s\n",
            "epoch 42 | loss: 0.09487 | train_logloss: 0.08318 | train_accuracy: 0.97064 | valid_logloss: 0.08318 | valid_accuracy: 0.97064 |  0:00:39s\n",
            "epoch 43 | loss: 0.09296 | train_logloss: 0.0889  | train_accuracy: 0.96859 | valid_logloss: 0.0889  | valid_accuracy: 0.96859 |  0:00:40s\n",
            "epoch 44 | loss: 0.09523 | train_logloss: 0.08859 | train_accuracy: 0.96985 | valid_logloss: 0.08859 | valid_accuracy: 0.96985 |  0:00:41s\n",
            "epoch 45 | loss: 0.10093 | train_logloss: 0.0927  | train_accuracy: 0.96891 | valid_logloss: 0.0927  | valid_accuracy: 0.96891 |  0:00:42s\n",
            "epoch 46 | loss: 0.10009 | train_logloss: 0.08488 | train_accuracy: 0.97049 | valid_logloss: 0.08488 | valid_accuracy: 0.97049 |  0:00:43s\n",
            "epoch 47 | loss: 0.09356 | train_logloss: 0.08773 | train_accuracy: 0.96985 | valid_logloss: 0.08773 | valid_accuracy: 0.96985 |  0:00:44s\n",
            "epoch 48 | loss: 0.09651 | train_logloss: 0.08605 | train_accuracy: 0.97128 | valid_logloss: 0.08605 | valid_accuracy: 0.97128 |  0:00:44s\n",
            "epoch 49 | loss: 0.11837 | train_logloss: 0.14963 | train_accuracy: 0.94555 | valid_logloss: 0.14963 | valid_accuracy: 0.94555 |  0:00:45s\n",
            "epoch 50 | loss: 0.12439 | train_logloss: 0.11495 | train_accuracy: 0.96607 | valid_logloss: 0.11495 | valid_accuracy: 0.96607 |  0:00:46s\n",
            "epoch 51 | loss: 0.1101  | train_logloss: 0.0912  | train_accuracy: 0.96828 | valid_logloss: 0.0912  | valid_accuracy: 0.96828 |  0:00:47s\n",
            "epoch 52 | loss: 0.09832 | train_logloss: 0.08895 | train_accuracy: 0.96828 | valid_logloss: 0.08895 | valid_accuracy: 0.96828 |  0:00:48s\n",
            "epoch 53 | loss: 0.09697 | train_logloss: 0.08768 | train_accuracy: 0.96843 | valid_logloss: 0.08768 | valid_accuracy: 0.96843 |  0:00:49s\n",
            "epoch 54 | loss: 0.09242 | train_logloss: 0.07873 | train_accuracy: 0.9738  | valid_logloss: 0.07873 | valid_accuracy: 0.9738  |  0:00:50s\n",
            "epoch 55 | loss: 0.09052 | train_logloss: 0.0824  | train_accuracy: 0.97333 | valid_logloss: 0.0824  | valid_accuracy: 0.97333 |  0:00:51s\n",
            "epoch 56 | loss: 0.08828 | train_logloss: 0.08885 | train_accuracy: 0.97064 | valid_logloss: 0.08885 | valid_accuracy: 0.97064 |  0:00:52s\n",
            "epoch 57 | loss: 0.09075 | train_logloss: 0.08568 | train_accuracy: 0.9708  | valid_logloss: 0.08568 | valid_accuracy: 0.9708  |  0:00:53s\n",
            "epoch 58 | loss: 0.08734 | train_logloss: 0.08764 | train_accuracy: 0.97033 | valid_logloss: 0.08764 | valid_accuracy: 0.97033 |  0:00:53s\n",
            "epoch 59 | loss: 0.08719 | train_logloss: 0.07737 | train_accuracy: 0.97285 | valid_logloss: 0.07737 | valid_accuracy: 0.97285 |  0:00:54s\n",
            "epoch 60 | loss: 0.08135 | train_logloss: 0.07796 | train_accuracy: 0.97348 | valid_logloss: 0.07796 | valid_accuracy: 0.97348 |  0:00:55s\n",
            "epoch 61 | loss: 0.08394 | train_logloss: 0.07715 | train_accuracy: 0.97222 | valid_logloss: 0.07715 | valid_accuracy: 0.97222 |  0:00:56s\n",
            "epoch 62 | loss: 0.08714 | train_logloss: 0.08017 | train_accuracy: 0.97159 | valid_logloss: 0.08017 | valid_accuracy: 0.97159 |  0:00:57s\n",
            "epoch 63 | loss: 0.08392 | train_logloss: 0.0782  | train_accuracy: 0.97191 | valid_logloss: 0.0782  | valid_accuracy: 0.97191 |  0:00:58s\n",
            "epoch 64 | loss: 0.08209 | train_logloss: 0.07151 | train_accuracy: 0.97412 | valid_logloss: 0.07151 | valid_accuracy: 0.97412 |  0:00:59s\n",
            "epoch 65 | loss: 0.07934 | train_logloss: 0.07307 | train_accuracy: 0.97348 | valid_logloss: 0.07307 | valid_accuracy: 0.97348 |  0:01:00s\n",
            "epoch 66 | loss: 0.08017 | train_logloss: 0.06961 | train_accuracy: 0.97443 | valid_logloss: 0.06961 | valid_accuracy: 0.97443 |  0:01:01s\n",
            "epoch 67 | loss: 0.07375 | train_logloss: 0.07008 | train_accuracy: 0.97475 | valid_logloss: 0.07008 | valid_accuracy: 0.97475 |  0:01:02s\n",
            "epoch 68 | loss: 0.07494 | train_logloss: 0.07047 | train_accuracy: 0.97348 | valid_logloss: 0.07047 | valid_accuracy: 0.97348 |  0:01:03s\n",
            "epoch 69 | loss: 0.07356 | train_logloss: 0.07186 | train_accuracy: 0.97412 | valid_logloss: 0.07186 | valid_accuracy: 0.97412 |  0:01:03s\n",
            "epoch 70 | loss: 0.07739 | train_logloss: 0.06693 | train_accuracy: 0.97475 | valid_logloss: 0.06693 | valid_accuracy: 0.97475 |  0:01:04s\n",
            "epoch 71 | loss: 0.07609 | train_logloss: 0.06984 | train_accuracy: 0.97443 | valid_logloss: 0.06984 | valid_accuracy: 0.97443 |  0:01:05s\n",
            "epoch 72 | loss: 0.07776 | train_logloss: 0.06639 | train_accuracy: 0.97601 | valid_logloss: 0.06639 | valid_accuracy: 0.97601 |  0:01:06s\n",
            "epoch 73 | loss: 0.07657 | train_logloss: 0.06845 | train_accuracy: 0.97617 | valid_logloss: 0.06845 | valid_accuracy: 0.97617 |  0:01:07s\n",
            "epoch 74 | loss: 0.07465 | train_logloss: 0.07296 | train_accuracy: 0.97206 | valid_logloss: 0.07296 | valid_accuracy: 0.97206 |  0:01:08s\n",
            "epoch 75 | loss: 0.0778  | train_logloss: 0.07289 | train_accuracy: 0.9738  | valid_logloss: 0.07289 | valid_accuracy: 0.9738  |  0:01:09s\n",
            "epoch 76 | loss: 0.07651 | train_logloss: 0.07426 | train_accuracy: 0.97617 | valid_logloss: 0.07426 | valid_accuracy: 0.97617 |  0:01:10s\n",
            "epoch 77 | loss: 0.07439 | train_logloss: 0.07206 | train_accuracy: 0.97459 | valid_logloss: 0.07206 | valid_accuracy: 0.97459 |  0:01:11s\n",
            "epoch 78 | loss: 0.07756 | train_logloss: 0.06727 | train_accuracy: 0.97396 | valid_logloss: 0.06727 | valid_accuracy: 0.97396 |  0:01:12s\n",
            "epoch 79 | loss: 0.0766  | train_logloss: 0.07127 | train_accuracy: 0.97475 | valid_logloss: 0.07127 | valid_accuracy: 0.97475 |  0:01:13s\n",
            "epoch 80 | loss: 0.07307 | train_logloss: 0.06421 | train_accuracy: 0.97491 | valid_logloss: 0.06421 | valid_accuracy: 0.97491 |  0:01:14s\n",
            "epoch 81 | loss: 0.07059 | train_logloss: 0.06541 | train_accuracy: 0.97538 | valid_logloss: 0.06541 | valid_accuracy: 0.97538 |  0:01:14s\n",
            "epoch 82 | loss: 0.07076 | train_logloss: 0.06453 | train_accuracy: 0.97601 | valid_logloss: 0.06453 | valid_accuracy: 0.97601 |  0:01:15s\n",
            "epoch 83 | loss: 0.07127 | train_logloss: 0.06276 | train_accuracy: 0.97617 | valid_logloss: 0.06276 | valid_accuracy: 0.97617 |  0:01:16s\n",
            "epoch 84 | loss: 0.0683  | train_logloss: 0.0664  | train_accuracy: 0.97427 | valid_logloss: 0.0664  | valid_accuracy: 0.97427 |  0:01:17s\n",
            "epoch 85 | loss: 0.07971 | train_logloss: 0.06843 | train_accuracy: 0.97427 | valid_logloss: 0.06843 | valid_accuracy: 0.97427 |  0:01:18s\n",
            "epoch 86 | loss: 0.07617 | train_logloss: 0.06645 | train_accuracy: 0.97427 | valid_logloss: 0.06645 | valid_accuracy: 0.97427 |  0:01:19s\n",
            "epoch 87 | loss: 0.07563 | train_logloss: 0.07466 | train_accuracy: 0.97143 | valid_logloss: 0.07466 | valid_accuracy: 0.97143 |  0:01:20s\n",
            "epoch 88 | loss: 0.06945 | train_logloss: 0.0658  | train_accuracy: 0.97491 | valid_logloss: 0.0658  | valid_accuracy: 0.97491 |  0:01:21s\n",
            "epoch 89 | loss: 0.07678 | train_logloss: 0.06651 | train_accuracy: 0.97491 | valid_logloss: 0.06651 | valid_accuracy: 0.97491 |  0:01:22s\n",
            "epoch 90 | loss: 0.07322 | train_logloss: 0.06679 | train_accuracy: 0.9738  | valid_logloss: 0.06679 | valid_accuracy: 0.9738  |  0:01:23s\n",
            "epoch 91 | loss: 0.07121 | train_logloss: 0.06116 | train_accuracy: 0.97743 | valid_logloss: 0.06116 | valid_accuracy: 0.97743 |  0:01:23s\n",
            "epoch 92 | loss: 0.07435 | train_logloss: 0.07292 | train_accuracy: 0.97412 | valid_logloss: 0.07292 | valid_accuracy: 0.97412 |  0:01:24s\n",
            "epoch 93 | loss: 0.07412 | train_logloss: 0.06588 | train_accuracy: 0.97506 | valid_logloss: 0.06588 | valid_accuracy: 0.97506 |  0:01:25s\n",
            "epoch 94 | loss: 0.07337 | train_logloss: 0.06984 | train_accuracy: 0.97317 | valid_logloss: 0.06984 | valid_accuracy: 0.97317 |  0:01:26s\n",
            "epoch 95 | loss: 0.07071 | train_logloss: 0.06215 | train_accuracy: 0.97822 | valid_logloss: 0.06215 | valid_accuracy: 0.97822 |  0:01:27s\n",
            "epoch 96 | loss: 0.06944 | train_logloss: 0.07079 | train_accuracy: 0.97159 | valid_logloss: 0.07079 | valid_accuracy: 0.97159 |  0:01:28s\n",
            "epoch 97 | loss: 0.06824 | train_logloss: 0.0608  | train_accuracy: 0.97743 | valid_logloss: 0.0608  | valid_accuracy: 0.97743 |  0:01:29s\n",
            "epoch 98 | loss: 0.06454 | train_logloss: 0.06145 | train_accuracy: 0.97696 | valid_logloss: 0.06145 | valid_accuracy: 0.97696 |  0:01:30s\n",
            "epoch 99 | loss: 0.06694 | train_logloss: 0.06029 | train_accuracy: 0.97664 | valid_logloss: 0.06029 | valid_accuracy: 0.97664 |  0:01:31s\n",
            "epoch 100| loss: 0.06556 | train_logloss: 0.05932 | train_accuracy: 0.97775 | valid_logloss: 0.05932 | valid_accuracy: 0.97775 |  0:01:32s\n",
            "epoch 101| loss: 0.06675 | train_logloss: 0.05395 | train_accuracy: 0.97917 | valid_logloss: 0.05395 | valid_accuracy: 0.97917 |  0:01:33s\n",
            "epoch 102| loss: 0.062   | train_logloss: 0.05613 | train_accuracy: 0.97838 | valid_logloss: 0.05613 | valid_accuracy: 0.97838 |  0:01:33s\n",
            "epoch 103| loss: 0.06108 | train_logloss: 0.06239 | train_accuracy: 0.97664 | valid_logloss: 0.06239 | valid_accuracy: 0.97664 |  0:01:34s\n",
            "epoch 104| loss: 0.06351 | train_logloss: 0.05712 | train_accuracy: 0.97822 | valid_logloss: 0.05712 | valid_accuracy: 0.97822 |  0:01:35s\n",
            "epoch 105| loss: 0.06535 | train_logloss: 0.05548 | train_accuracy: 0.97996 | valid_logloss: 0.05548 | valid_accuracy: 0.97996 |  0:01:36s\n",
            "epoch 106| loss: 0.06049 | train_logloss: 0.0539  | train_accuracy: 0.97964 | valid_logloss: 0.0539  | valid_accuracy: 0.97964 |  0:01:37s\n",
            "epoch 107| loss: 0.06115 | train_logloss: 0.05366 | train_accuracy: 0.97996 | valid_logloss: 0.05366 | valid_accuracy: 0.97996 |  0:01:38s\n",
            "epoch 108| loss: 0.06148 | train_logloss: 0.05613 | train_accuracy: 0.97932 | valid_logloss: 0.05613 | valid_accuracy: 0.97932 |  0:01:39s\n",
            "epoch 109| loss: 0.06888 | train_logloss: 0.05847 | train_accuracy: 0.97743 | valid_logloss: 0.05847 | valid_accuracy: 0.97743 |  0:01:40s\n",
            "epoch 110| loss: 0.06565 | train_logloss: 0.05363 | train_accuracy: 0.97838 | valid_logloss: 0.05363 | valid_accuracy: 0.97838 |  0:01:41s\n",
            "epoch 111| loss: 0.06202 | train_logloss: 0.05983 | train_accuracy: 0.97822 | valid_logloss: 0.05983 | valid_accuracy: 0.97822 |  0:01:42s\n",
            "epoch 112| loss: 0.06617 | train_logloss: 0.05483 | train_accuracy: 0.9798  | valid_logloss: 0.05483 | valid_accuracy: 0.9798  |  0:01:43s\n",
            "epoch 113| loss: 0.06687 | train_logloss: 0.05393 | train_accuracy: 0.98027 | valid_logloss: 0.05393 | valid_accuracy: 0.98027 |  0:01:44s\n",
            "epoch 114| loss: 0.06132 | train_logloss: 0.05666 | train_accuracy: 0.97964 | valid_logloss: 0.05666 | valid_accuracy: 0.97964 |  0:01:44s\n",
            "epoch 115| loss: 0.06405 | train_logloss: 0.05682 | train_accuracy: 0.97838 | valid_logloss: 0.05682 | valid_accuracy: 0.97838 |  0:01:45s\n",
            "epoch 116| loss: 0.05999 | train_logloss: 0.05564 | train_accuracy: 0.97885 | valid_logloss: 0.05564 | valid_accuracy: 0.97885 |  0:01:46s\n",
            "epoch 117| loss: 0.05902 | train_logloss: 0.05213 | train_accuracy: 0.98232 | valid_logloss: 0.05213 | valid_accuracy: 0.98232 |  0:01:47s\n",
            "epoch 118| loss: 0.0591  | train_logloss: 0.05061 | train_accuracy: 0.98169 | valid_logloss: 0.05061 | valid_accuracy: 0.98169 |  0:01:48s\n",
            "epoch 119| loss: 0.05706 | train_logloss: 0.0598  | train_accuracy: 0.97838 | valid_logloss: 0.0598  | valid_accuracy: 0.97838 |  0:01:49s\n",
            "epoch 120| loss: 0.05705 | train_logloss: 0.05041 | train_accuracy: 0.98122 | valid_logloss: 0.05041 | valid_accuracy: 0.98122 |  0:01:50s\n",
            "epoch 121| loss: 0.05628 | train_logloss: 0.05353 | train_accuracy: 0.98138 | valid_logloss: 0.05353 | valid_accuracy: 0.98138 |  0:01:51s\n",
            "epoch 122| loss: 0.05919 | train_logloss: 0.05134 | train_accuracy: 0.98027 | valid_logloss: 0.05134 | valid_accuracy: 0.98027 |  0:01:52s\n",
            "epoch 123| loss: 0.06159 | train_logloss: 0.05345 | train_accuracy: 0.97996 | valid_logloss: 0.05345 | valid_accuracy: 0.97996 |  0:01:53s\n",
            "epoch 124| loss: 0.05985 | train_logloss: 0.05476 | train_accuracy: 0.97885 | valid_logloss: 0.05476 | valid_accuracy: 0.97885 |  0:01:54s\n",
            "epoch 125| loss: 0.06445 | train_logloss: 0.07173 | train_accuracy: 0.97475 | valid_logloss: 0.07173 | valid_accuracy: 0.97475 |  0:01:54s\n",
            "epoch 126| loss: 0.07223 | train_logloss: 0.07019 | train_accuracy: 0.97427 | valid_logloss: 0.07019 | valid_accuracy: 0.97427 |  0:01:55s\n",
            "epoch 127| loss: 0.08953 | train_logloss: 0.07839 | train_accuracy: 0.97238 | valid_logloss: 0.07839 | valid_accuracy: 0.97238 |  0:01:56s\n",
            "epoch 128| loss: 0.08989 | train_logloss: 0.07851 | train_accuracy: 0.97238 | valid_logloss: 0.07851 | valid_accuracy: 0.97238 |  0:01:57s\n",
            "epoch 129| loss: 0.084   | train_logloss: 0.07416 | train_accuracy: 0.97222 | valid_logloss: 0.07416 | valid_accuracy: 0.97222 |  0:01:58s\n",
            "epoch 130| loss: 0.07837 | train_logloss: 0.0743  | train_accuracy: 0.97017 | valid_logloss: 0.0743  | valid_accuracy: 0.97017 |  0:01:59s\n",
            "epoch 131| loss: 0.07875 | train_logloss: 0.06648 | train_accuracy: 0.97538 | valid_logloss: 0.06648 | valid_accuracy: 0.97538 |  0:02:00s\n",
            "epoch 132| loss: 0.07439 | train_logloss: 0.06207 | train_accuracy: 0.97633 | valid_logloss: 0.06207 | valid_accuracy: 0.97633 |  0:02:01s\n",
            "epoch 133| loss: 0.07138 | train_logloss: 0.06314 | train_accuracy: 0.97475 | valid_logloss: 0.06314 | valid_accuracy: 0.97475 |  0:02:02s\n",
            "epoch 134| loss: 0.07312 | train_logloss: 0.0642  | train_accuracy: 0.97664 | valid_logloss: 0.0642  | valid_accuracy: 0.97664 |  0:02:03s\n",
            "epoch 135| loss: 0.06962 | train_logloss: 0.06473 | train_accuracy: 0.97522 | valid_logloss: 0.06473 | valid_accuracy: 0.97522 |  0:02:04s\n",
            "epoch 136| loss: 0.07334 | train_logloss: 0.06793 | train_accuracy: 0.97491 | valid_logloss: 0.06793 | valid_accuracy: 0.97491 |  0:02:04s\n",
            "epoch 137| loss: 0.07652 | train_logloss: 0.06671 | train_accuracy: 0.97601 | valid_logloss: 0.06671 | valid_accuracy: 0.97601 |  0:02:05s\n",
            "epoch 138| loss: 0.07811 | train_logloss: 0.06983 | train_accuracy: 0.97443 | valid_logloss: 0.06983 | valid_accuracy: 0.97443 |  0:02:06s\n",
            "epoch 139| loss: 0.07689 | train_logloss: 0.07178 | train_accuracy: 0.97412 | valid_logloss: 0.07178 | valid_accuracy: 0.97412 |  0:02:07s\n",
            "epoch 140| loss: 0.07185 | train_logloss: 0.06665 | train_accuracy: 0.97569 | valid_logloss: 0.06665 | valid_accuracy: 0.97569 |  0:02:08s\n",
            "epoch 141| loss: 0.06866 | train_logloss: 0.05758 | train_accuracy: 0.97869 | valid_logloss: 0.05758 | valid_accuracy: 0.97869 |  0:02:09s\n",
            "epoch 142| loss: 0.06478 | train_logloss: 0.05915 | train_accuracy: 0.97885 | valid_logloss: 0.05915 | valid_accuracy: 0.97885 |  0:02:10s\n",
            "epoch 143| loss: 0.0635  | train_logloss: 0.05577 | train_accuracy: 0.97885 | valid_logloss: 0.05577 | valid_accuracy: 0.97885 |  0:02:11s\n",
            "epoch 144| loss: 0.06706 | train_logloss: 0.05761 | train_accuracy: 0.97838 | valid_logloss: 0.05761 | valid_accuracy: 0.97838 |  0:02:12s\n",
            "epoch 145| loss: 0.05925 | train_logloss: 0.06098 | train_accuracy: 0.97806 | valid_logloss: 0.06098 | valid_accuracy: 0.97806 |  0:02:13s\n",
            "epoch 146| loss: 0.0615  | train_logloss: 0.05198 | train_accuracy: 0.98153 | valid_logloss: 0.05198 | valid_accuracy: 0.98153 |  0:02:14s\n",
            "epoch 147| loss: 0.05632 | train_logloss: 0.05228 | train_accuracy: 0.98138 | valid_logloss: 0.05228 | valid_accuracy: 0.98138 |  0:02:14s\n",
            "epoch 148| loss: 0.05608 | train_logloss: 0.05512 | train_accuracy: 0.98074 | valid_logloss: 0.05512 | valid_accuracy: 0.98074 |  0:02:15s\n",
            "epoch 149| loss: 0.05909 | train_logloss: 0.05133 | train_accuracy: 0.97885 | valid_logloss: 0.05133 | valid_accuracy: 0.97885 |  0:02:16s\n",
            "epoch 150| loss: 0.05647 | train_logloss: 0.04979 | train_accuracy: 0.9798  | valid_logloss: 0.04979 | valid_accuracy: 0.9798  |  0:02:17s\n",
            "epoch 151| loss: 0.05669 | train_logloss: 0.04805 | train_accuracy: 0.98169 | valid_logloss: 0.04805 | valid_accuracy: 0.98169 |  0:02:18s\n",
            "epoch 152| loss: 0.05724 | train_logloss: 0.04871 | train_accuracy: 0.98169 | valid_logloss: 0.04871 | valid_accuracy: 0.98169 |  0:02:19s\n",
            "epoch 153| loss: 0.05312 | train_logloss: 0.06045 | train_accuracy: 0.97885 | valid_logloss: 0.06045 | valid_accuracy: 0.97885 |  0:02:20s\n",
            "epoch 154| loss: 0.05462 | train_logloss: 0.0491  | train_accuracy: 0.9809  | valid_logloss: 0.0491  | valid_accuracy: 0.9809  |  0:02:21s\n",
            "epoch 155| loss: 0.05813 | train_logloss: 0.04799 | train_accuracy: 0.98248 | valid_logloss: 0.04799 | valid_accuracy: 0.98248 |  0:02:22s\n",
            "epoch 156| loss: 0.05651 | train_logloss: 0.05093 | train_accuracy: 0.98138 | valid_logloss: 0.05093 | valid_accuracy: 0.98138 |  0:02:23s\n",
            "epoch 157| loss: 0.05825 | train_logloss: 0.05005 | train_accuracy: 0.98248 | valid_logloss: 0.05005 | valid_accuracy: 0.98248 |  0:02:23s\n",
            "epoch 158| loss: 0.05852 | train_logloss: 0.05268 | train_accuracy: 0.98059 | valid_logloss: 0.05268 | valid_accuracy: 0.98059 |  0:02:24s\n",
            "epoch 159| loss: 0.05447 | train_logloss: 0.05033 | train_accuracy: 0.98106 | valid_logloss: 0.05033 | valid_accuracy: 0.98106 |  0:02:25s\n",
            "epoch 160| loss: 0.05795 | train_logloss: 0.05141 | train_accuracy: 0.98122 | valid_logloss: 0.05141 | valid_accuracy: 0.98122 |  0:02:26s\n",
            "epoch 161| loss: 0.05259 | train_logloss: 0.04945 | train_accuracy: 0.98059 | valid_logloss: 0.04945 | valid_accuracy: 0.98059 |  0:02:27s\n",
            "epoch 162| loss: 0.05672 | train_logloss: 0.05311 | train_accuracy: 0.9798  | valid_logloss: 0.05311 | valid_accuracy: 0.9798  |  0:02:28s\n",
            "epoch 163| loss: 0.06077 | train_logloss: 0.04803 | train_accuracy: 0.98185 | valid_logloss: 0.04803 | valid_accuracy: 0.98185 |  0:02:29s\n",
            "epoch 164| loss: 0.05838 | train_logloss: 0.05253 | train_accuracy: 0.98074 | valid_logloss: 0.05253 | valid_accuracy: 0.98074 |  0:02:30s\n",
            "epoch 165| loss: 0.0557  | train_logloss: 0.05088 | train_accuracy: 0.9809  | valid_logloss: 0.05088 | valid_accuracy: 0.9809  |  0:02:31s\n",
            "epoch 166| loss: 0.06126 | train_logloss: 0.05146 | train_accuracy: 0.97932 | valid_logloss: 0.05146 | valid_accuracy: 0.97932 |  0:02:32s\n",
            "epoch 167| loss: 0.05224 | train_logloss: 0.0438  | train_accuracy: 0.98359 | valid_logloss: 0.0438  | valid_accuracy: 0.98359 |  0:02:33s\n",
            "epoch 168| loss: 0.05504 | train_logloss: 0.04854 | train_accuracy: 0.98138 | valid_logloss: 0.04854 | valid_accuracy: 0.98138 |  0:02:33s\n",
            "epoch 169| loss: 0.05275 | train_logloss: 0.04715 | train_accuracy: 0.98138 | valid_logloss: 0.04715 | valid_accuracy: 0.98138 |  0:02:34s\n",
            "epoch 170| loss: 0.04956 | train_logloss: 0.04252 | train_accuracy: 0.98343 | valid_logloss: 0.04252 | valid_accuracy: 0.98343 |  0:02:35s\n",
            "epoch 171| loss: 0.05182 | train_logloss: 0.04479 | train_accuracy: 0.98374 | valid_logloss: 0.04479 | valid_accuracy: 0.98374 |  0:02:36s\n",
            "epoch 172| loss: 0.05824 | train_logloss: 0.05108 | train_accuracy: 0.97996 | valid_logloss: 0.05108 | valid_accuracy: 0.97996 |  0:02:37s\n",
            "epoch 173| loss: 0.05199 | train_logloss: 0.04593 | train_accuracy: 0.98343 | valid_logloss: 0.04593 | valid_accuracy: 0.98343 |  0:02:38s\n",
            "epoch 174| loss: 0.05522 | train_logloss: 0.05163 | train_accuracy: 0.98059 | valid_logloss: 0.05163 | valid_accuracy: 0.98059 |  0:02:39s\n",
            "epoch 175| loss: 0.05596 | train_logloss: 0.04922 | train_accuracy: 0.98106 | valid_logloss: 0.04922 | valid_accuracy: 0.98106 |  0:02:40s\n",
            "epoch 176| loss: 0.05067 | train_logloss: 0.04265 | train_accuracy: 0.98485 | valid_logloss: 0.04265 | valid_accuracy: 0.98485 |  0:02:41s\n",
            "epoch 177| loss: 0.04795 | train_logloss: 0.04479 | train_accuracy: 0.98311 | valid_logloss: 0.04479 | valid_accuracy: 0.98311 |  0:02:42s\n",
            "epoch 178| loss: 0.05156 | train_logloss: 0.04969 | train_accuracy: 0.98074 | valid_logloss: 0.04969 | valid_accuracy: 0.98074 |  0:02:43s\n",
            "epoch 179| loss: 0.05083 | train_logloss: 0.0501  | train_accuracy: 0.98059 | valid_logloss: 0.0501  | valid_accuracy: 0.98059 |  0:02:43s\n",
            "epoch 180| loss: 0.05089 | train_logloss: 0.04316 | train_accuracy: 0.98359 | valid_logloss: 0.04316 | valid_accuracy: 0.98359 |  0:02:44s\n",
            "epoch 181| loss: 0.05223 | train_logloss: 0.04165 | train_accuracy: 0.9839  | valid_logloss: 0.04165 | valid_accuracy: 0.9839  |  0:02:45s\n",
            "epoch 182| loss: 0.05102 | train_logloss: 0.04662 | train_accuracy: 0.98343 | valid_logloss: 0.04662 | valid_accuracy: 0.98343 |  0:02:46s\n",
            "epoch 183| loss: 0.05613 | train_logloss: 0.04564 | train_accuracy: 0.98169 | valid_logloss: 0.04564 | valid_accuracy: 0.98169 |  0:02:47s\n",
            "epoch 184| loss: 0.04839 | train_logloss: 0.04462 | train_accuracy: 0.98438 | valid_logloss: 0.04462 | valid_accuracy: 0.98438 |  0:02:48s\n",
            "epoch 185| loss: 0.04756 | train_logloss: 0.04159 | train_accuracy: 0.98406 | valid_logloss: 0.04159 | valid_accuracy: 0.98406 |  0:02:49s\n",
            "epoch 186| loss: 0.04853 | train_logloss: 0.04614 | train_accuracy: 0.98185 | valid_logloss: 0.04614 | valid_accuracy: 0.98185 |  0:02:50s\n",
            "epoch 187| loss: 0.05393 | train_logloss: 0.04417 | train_accuracy: 0.98343 | valid_logloss: 0.04417 | valid_accuracy: 0.98343 |  0:02:51s\n",
            "epoch 188| loss: 0.04695 | train_logloss: 0.04754 | train_accuracy: 0.98232 | valid_logloss: 0.04754 | valid_accuracy: 0.98232 |  0:02:52s\n",
            "epoch 189| loss: 0.04696 | train_logloss: 0.04246 | train_accuracy: 0.98438 | valid_logloss: 0.04246 | valid_accuracy: 0.98438 |  0:02:53s\n",
            "epoch 190| loss: 0.04808 | train_logloss: 0.04068 | train_accuracy: 0.98422 | valid_logloss: 0.04068 | valid_accuracy: 0.98422 |  0:02:53s\n",
            "epoch 191| loss: 0.05328 | train_logloss: 0.04974 | train_accuracy: 0.98138 | valid_logloss: 0.04974 | valid_accuracy: 0.98138 |  0:02:54s\n",
            "epoch 192| loss: 0.05489 | train_logloss: 0.04664 | train_accuracy: 0.98327 | valid_logloss: 0.04664 | valid_accuracy: 0.98327 |  0:02:55s\n",
            "epoch 193| loss: 0.05788 | train_logloss: 0.04677 | train_accuracy: 0.98169 | valid_logloss: 0.04677 | valid_accuracy: 0.98169 |  0:02:56s\n",
            "epoch 194| loss: 0.05317 | train_logloss: 0.04792 | train_accuracy: 0.98138 | valid_logloss: 0.04792 | valid_accuracy: 0.98138 |  0:02:57s\n",
            "epoch 195| loss: 0.05818 | train_logloss: 0.04955 | train_accuracy: 0.98217 | valid_logloss: 0.04955 | valid_accuracy: 0.98217 |  0:02:58s\n",
            "epoch 196| loss: 0.05737 | train_logloss: 0.04315 | train_accuracy: 0.98532 | valid_logloss: 0.04315 | valid_accuracy: 0.98532 |  0:02:59s\n",
            "epoch 197| loss: 0.04954 | train_logloss: 0.04448 | train_accuracy: 0.98359 | valid_logloss: 0.04448 | valid_accuracy: 0.98359 |  0:03:00s\n",
            "epoch 198| loss: 0.04738 | train_logloss: 0.04114 | train_accuracy: 0.98548 | valid_logloss: 0.04114 | valid_accuracy: 0.98548 |  0:03:01s\n",
            "epoch 199| loss: 0.04773 | train_logloss: 0.03878 | train_accuracy: 0.98532 | valid_logloss: 0.03878 | valid_accuracy: 0.98532 |  0:03:02s\n",
            "epoch 200| loss: 0.04328 | train_logloss: 0.04064 | train_accuracy: 0.9869  | valid_logloss: 0.04064 | valid_accuracy: 0.9869  |  0:03:03s\n",
            "epoch 201| loss: 0.05273 | train_logloss: 0.04865 | train_accuracy: 0.98422 | valid_logloss: 0.04865 | valid_accuracy: 0.98422 |  0:03:04s\n",
            "epoch 202| loss: 0.04988 | train_logloss: 0.0411  | train_accuracy: 0.98453 | valid_logloss: 0.0411  | valid_accuracy: 0.98453 |  0:03:04s\n",
            "epoch 203| loss: 0.04776 | train_logloss: 0.04038 | train_accuracy: 0.9839  | valid_logloss: 0.04038 | valid_accuracy: 0.9839  |  0:03:05s\n",
            "epoch 204| loss: 0.04259 | train_logloss: 0.03713 | train_accuracy: 0.98595 | valid_logloss: 0.03713 | valid_accuracy: 0.98595 |  0:03:06s\n",
            "epoch 205| loss: 0.04515 | train_logloss: 0.04005 | train_accuracy: 0.98438 | valid_logloss: 0.04005 | valid_accuracy: 0.98438 |  0:03:07s\n",
            "epoch 206| loss: 0.04914 | train_logloss: 0.03922 | train_accuracy: 0.98706 | valid_logloss: 0.03922 | valid_accuracy: 0.98706 |  0:03:08s\n",
            "epoch 207| loss: 0.04157 | train_logloss: 0.04301 | train_accuracy: 0.98485 | valid_logloss: 0.04301 | valid_accuracy: 0.98485 |  0:03:09s\n",
            "epoch 208| loss: 0.04736 | train_logloss: 0.04222 | train_accuracy: 0.98374 | valid_logloss: 0.04222 | valid_accuracy: 0.98374 |  0:03:10s\n",
            "epoch 209| loss: 0.04531 | train_logloss: 0.04597 | train_accuracy: 0.98248 | valid_logloss: 0.04597 | valid_accuracy: 0.98248 |  0:03:11s\n",
            "epoch 210| loss: 0.04869 | train_logloss: 0.04137 | train_accuracy: 0.98438 | valid_logloss: 0.04137 | valid_accuracy: 0.98438 |  0:03:12s\n",
            "epoch 211| loss: 0.04785 | train_logloss: 0.03824 | train_accuracy: 0.98438 | valid_logloss: 0.03824 | valid_accuracy: 0.98438 |  0:03:13s\n",
            "epoch 212| loss: 0.04531 | train_logloss: 0.03726 | train_accuracy: 0.98516 | valid_logloss: 0.03726 | valid_accuracy: 0.98516 |  0:03:14s\n",
            "epoch 213| loss: 0.04677 | train_logloss: 0.03803 | train_accuracy: 0.98501 | valid_logloss: 0.03803 | valid_accuracy: 0.98501 |  0:03:14s\n",
            "epoch 214| loss: 0.04149 | train_logloss: 0.03897 | train_accuracy: 0.98643 | valid_logloss: 0.03897 | valid_accuracy: 0.98643 |  0:03:15s\n",
            "epoch 215| loss: 0.0481  | train_logloss: 0.03905 | train_accuracy: 0.98548 | valid_logloss: 0.03905 | valid_accuracy: 0.98548 |  0:03:16s\n",
            "epoch 216| loss: 0.04725 | train_logloss: 0.04206 | train_accuracy: 0.98438 | valid_logloss: 0.04206 | valid_accuracy: 0.98438 |  0:03:17s\n",
            "epoch 217| loss: 0.04458 | train_logloss: 0.03496 | train_accuracy: 0.98674 | valid_logloss: 0.03496 | valid_accuracy: 0.98674 |  0:03:18s\n",
            "epoch 218| loss: 0.03991 | train_logloss: 0.04037 | train_accuracy: 0.98516 | valid_logloss: 0.04037 | valid_accuracy: 0.98516 |  0:03:19s\n",
            "epoch 219| loss: 0.04349 | train_logloss: 0.03505 | train_accuracy: 0.98706 | valid_logloss: 0.03505 | valid_accuracy: 0.98706 |  0:03:20s\n",
            "epoch 220| loss: 0.04655 | train_logloss: 0.03869 | train_accuracy: 0.98611 | valid_logloss: 0.03869 | valid_accuracy: 0.98611 |  0:03:21s\n",
            "epoch 221| loss: 0.04522 | train_logloss: 0.04281 | train_accuracy: 0.98327 | valid_logloss: 0.04281 | valid_accuracy: 0.98327 |  0:03:22s\n",
            "epoch 222| loss: 0.04434 | train_logloss: 0.03854 | train_accuracy: 0.98564 | valid_logloss: 0.03854 | valid_accuracy: 0.98564 |  0:03:23s\n",
            "epoch 223| loss: 0.04172 | train_logloss: 0.03297 | train_accuracy: 0.98785 | valid_logloss: 0.03297 | valid_accuracy: 0.98785 |  0:03:23s\n",
            "epoch 224| loss: 0.04089 | train_logloss: 0.03605 | train_accuracy: 0.98801 | valid_logloss: 0.03605 | valid_accuracy: 0.98801 |  0:03:24s\n",
            "epoch 225| loss: 0.04036 | train_logloss: 0.03205 | train_accuracy: 0.98879 | valid_logloss: 0.03205 | valid_accuracy: 0.98879 |  0:03:25s\n",
            "epoch 226| loss: 0.04507 | train_logloss: 0.03733 | train_accuracy: 0.98548 | valid_logloss: 0.03733 | valid_accuracy: 0.98548 |  0:03:26s\n",
            "epoch 227| loss: 0.05025 | train_logloss: 0.04042 | train_accuracy: 0.98485 | valid_logloss: 0.04042 | valid_accuracy: 0.98485 |  0:03:27s\n",
            "epoch 228| loss: 0.04602 | train_logloss: 0.03894 | train_accuracy: 0.9858  | valid_logloss: 0.03894 | valid_accuracy: 0.9858  |  0:03:28s\n",
            "epoch 229| loss: 0.04863 | train_logloss: 0.03713 | train_accuracy: 0.98564 | valid_logloss: 0.03713 | valid_accuracy: 0.98564 |  0:03:29s\n",
            "epoch 230| loss: 0.04354 | train_logloss: 0.03443 | train_accuracy: 0.98816 | valid_logloss: 0.03443 | valid_accuracy: 0.98816 |  0:03:30s\n",
            "epoch 231| loss: 0.04133 | train_logloss: 0.03863 | train_accuracy: 0.98595 | valid_logloss: 0.03863 | valid_accuracy: 0.98595 |  0:03:31s\n",
            "epoch 232| loss: 0.0416  | train_logloss: 0.0321  | train_accuracy: 0.98753 | valid_logloss: 0.0321  | valid_accuracy: 0.98753 |  0:03:32s\n",
            "epoch 233| loss: 0.04212 | train_logloss: 0.03335 | train_accuracy: 0.98737 | valid_logloss: 0.03335 | valid_accuracy: 0.98737 |  0:03:33s\n",
            "epoch 234| loss: 0.04063 | train_logloss: 0.03253 | train_accuracy: 0.98864 | valid_logloss: 0.03253 | valid_accuracy: 0.98864 |  0:03:34s\n",
            "epoch 235| loss: 0.04124 | train_logloss: 0.03182 | train_accuracy: 0.98943 | valid_logloss: 0.03182 | valid_accuracy: 0.98943 |  0:03:34s\n",
            "epoch 236| loss: 0.04477 | train_logloss: 0.03576 | train_accuracy: 0.98658 | valid_logloss: 0.03576 | valid_accuracy: 0.98658 |  0:03:35s\n",
            "epoch 237| loss: 0.04142 | train_logloss: 0.03403 | train_accuracy: 0.98737 | valid_logloss: 0.03403 | valid_accuracy: 0.98737 |  0:03:36s\n",
            "epoch 238| loss: 0.04391 | train_logloss: 0.03368 | train_accuracy: 0.98785 | valid_logloss: 0.03368 | valid_accuracy: 0.98785 |  0:03:37s\n",
            "epoch 239| loss: 0.03803 | train_logloss: 0.03246 | train_accuracy: 0.9869  | valid_logloss: 0.03246 | valid_accuracy: 0.9869  |  0:03:38s\n",
            "epoch 240| loss: 0.04225 | train_logloss: 0.03841 | train_accuracy: 0.98595 | valid_logloss: 0.03841 | valid_accuracy: 0.98595 |  0:03:39s\n",
            "epoch 241| loss: 0.04881 | train_logloss: 0.04521 | train_accuracy: 0.98406 | valid_logloss: 0.04521 | valid_accuracy: 0.98406 |  0:03:40s\n",
            "epoch 242| loss: 0.04795 | train_logloss: 0.03644 | train_accuracy: 0.98627 | valid_logloss: 0.03644 | valid_accuracy: 0.98627 |  0:03:41s\n",
            "epoch 243| loss: 0.04485 | train_logloss: 0.03181 | train_accuracy: 0.98879 | valid_logloss: 0.03181 | valid_accuracy: 0.98879 |  0:03:42s\n",
            "epoch 244| loss: 0.0422  | train_logloss: 0.03807 | train_accuracy: 0.98516 | valid_logloss: 0.03807 | valid_accuracy: 0.98516 |  0:03:43s\n",
            "epoch 245| loss: 0.04265 | train_logloss: 0.03235 | train_accuracy: 0.98816 | valid_logloss: 0.03235 | valid_accuracy: 0.98816 |  0:03:43s\n",
            "epoch 246| loss: 0.0405  | train_logloss: 0.0339  | train_accuracy: 0.98674 | valid_logloss: 0.0339  | valid_accuracy: 0.98674 |  0:03:44s\n",
            "epoch 247| loss: 0.04095 | train_logloss: 0.03078 | train_accuracy: 0.98832 | valid_logloss: 0.03078 | valid_accuracy: 0.98832 |  0:03:45s\n",
            "epoch 248| loss: 0.03844 | train_logloss: 0.03593 | train_accuracy: 0.98564 | valid_logloss: 0.03593 | valid_accuracy: 0.98564 |  0:03:46s\n",
            "epoch 249| loss: 0.03918 | train_logloss: 0.03514 | train_accuracy: 0.98769 | valid_logloss: 0.03514 | valid_accuracy: 0.98769 |  0:03:47s\n",
            "epoch 250| loss: 0.03921 | train_logloss: 0.0351  | train_accuracy: 0.98722 | valid_logloss: 0.0351  | valid_accuracy: 0.98722 |  0:03:48s\n",
            "epoch 251| loss: 0.04083 | train_logloss: 0.03252 | train_accuracy: 0.98785 | valid_logloss: 0.03252 | valid_accuracy: 0.98785 |  0:03:49s\n",
            "epoch 252| loss: 0.03739 | train_logloss: 0.0305  | train_accuracy: 0.98785 | valid_logloss: 0.0305  | valid_accuracy: 0.98785 |  0:03:50s\n",
            "epoch 253| loss: 0.03759 | train_logloss: 0.03293 | train_accuracy: 0.98801 | valid_logloss: 0.03293 | valid_accuracy: 0.98801 |  0:03:51s\n",
            "epoch 254| loss: 0.03489 | train_logloss: 0.02964 | train_accuracy: 0.98943 | valid_logloss: 0.02964 | valid_accuracy: 0.98943 |  0:03:52s\n",
            "epoch 255| loss: 0.03695 | train_logloss: 0.03044 | train_accuracy: 0.98974 | valid_logloss: 0.03044 | valid_accuracy: 0.98974 |  0:03:53s\n",
            "epoch 256| loss: 0.0363  | train_logloss: 0.03167 | train_accuracy: 0.98801 | valid_logloss: 0.03167 | valid_accuracy: 0.98801 |  0:03:53s\n",
            "epoch 257| loss: 0.03489 | train_logloss: 0.03157 | train_accuracy: 0.98769 | valid_logloss: 0.03157 | valid_accuracy: 0.98769 |  0:03:54s\n",
            "epoch 258| loss: 0.03628 | train_logloss: 0.03248 | train_accuracy: 0.98848 | valid_logloss: 0.03248 | valid_accuracy: 0.98848 |  0:03:55s\n",
            "epoch 259| loss: 0.0346  | train_logloss: 0.02746 | train_accuracy: 0.98848 | valid_logloss: 0.02746 | valid_accuracy: 0.98848 |  0:03:56s\n",
            "epoch 260| loss: 0.03604 | train_logloss: 0.03726 | train_accuracy: 0.98658 | valid_logloss: 0.03726 | valid_accuracy: 0.98658 |  0:03:57s\n",
            "epoch 261| loss: 0.03472 | train_logloss: 0.03186 | train_accuracy: 0.98801 | valid_logloss: 0.03186 | valid_accuracy: 0.98801 |  0:03:58s\n",
            "epoch 262| loss: 0.03762 | train_logloss: 0.03147 | train_accuracy: 0.98864 | valid_logloss: 0.03147 | valid_accuracy: 0.98864 |  0:03:59s\n",
            "epoch 263| loss: 0.03519 | train_logloss: 0.02823 | train_accuracy: 0.98974 | valid_logloss: 0.02823 | valid_accuracy: 0.98974 |  0:04:00s\n",
            "epoch 264| loss: 0.03681 | train_logloss: 0.02838 | train_accuracy: 0.98927 | valid_logloss: 0.02838 | valid_accuracy: 0.98927 |  0:04:01s\n",
            "epoch 265| loss: 0.03727 | train_logloss: 0.029   | train_accuracy: 0.98943 | valid_logloss: 0.029   | valid_accuracy: 0.98943 |  0:04:02s\n",
            "epoch 266| loss: 0.03788 | train_logloss: 0.03745 | train_accuracy: 0.9858  | valid_logloss: 0.03745 | valid_accuracy: 0.9858  |  0:04:03s\n",
            "epoch 267| loss: 0.03469 | train_logloss: 0.02674 | train_accuracy: 0.98943 | valid_logloss: 0.02674 | valid_accuracy: 0.98943 |  0:04:03s\n",
            "epoch 268| loss: 0.03611 | train_logloss: 0.02715 | train_accuracy: 0.99021 | valid_logloss: 0.02715 | valid_accuracy: 0.99021 |  0:04:04s\n",
            "epoch 269| loss: 0.03534 | train_logloss: 0.02908 | train_accuracy: 0.98879 | valid_logloss: 0.02908 | valid_accuracy: 0.98879 |  0:04:05s\n",
            "epoch 270| loss: 0.03465 | train_logloss: 0.02901 | train_accuracy: 0.98879 | valid_logloss: 0.02901 | valid_accuracy: 0.98879 |  0:04:06s\n",
            "epoch 271| loss: 0.03424 | train_logloss: 0.02875 | train_accuracy: 0.99006 | valid_logloss: 0.02875 | valid_accuracy: 0.99006 |  0:04:07s\n",
            "epoch 272| loss: 0.03219 | train_logloss: 0.02524 | train_accuracy: 0.98943 | valid_logloss: 0.02524 | valid_accuracy: 0.98943 |  0:04:08s\n",
            "epoch 273| loss: 0.04044 | train_logloss: 0.03133 | train_accuracy: 0.98801 | valid_logloss: 0.03133 | valid_accuracy: 0.98801 |  0:04:09s\n",
            "epoch 274| loss: 0.03807 | train_logloss: 0.03772 | train_accuracy: 0.98548 | valid_logloss: 0.03772 | valid_accuracy: 0.98548 |  0:04:10s\n",
            "epoch 275| loss: 0.03803 | train_logloss: 0.03789 | train_accuracy: 0.9858  | valid_logloss: 0.03789 | valid_accuracy: 0.9858  |  0:04:11s\n",
            "epoch 276| loss: 0.03675 | train_logloss: 0.02782 | train_accuracy: 0.99085 | valid_logloss: 0.02782 | valid_accuracy: 0.99085 |  0:04:12s\n",
            "epoch 277| loss: 0.0355  | train_logloss: 0.02309 | train_accuracy: 0.99148 | valid_logloss: 0.02309 | valid_accuracy: 0.99148 |  0:04:13s\n",
            "epoch 278| loss: 0.03575 | train_logloss: 0.04026 | train_accuracy: 0.98532 | valid_logloss: 0.04026 | valid_accuracy: 0.98532 |  0:04:13s\n",
            "epoch 279| loss: 0.03847 | train_logloss: 0.03159 | train_accuracy: 0.98958 | valid_logloss: 0.03159 | valid_accuracy: 0.98958 |  0:04:14s\n",
            "epoch 280| loss: 0.03444 | train_logloss: 0.02699 | train_accuracy: 0.98911 | valid_logloss: 0.02699 | valid_accuracy: 0.98911 |  0:04:15s\n",
            "epoch 281| loss: 0.03116 | train_logloss: 0.02538 | train_accuracy: 0.99132 | valid_logloss: 0.02538 | valid_accuracy: 0.99132 |  0:04:16s\n",
            "epoch 282| loss: 0.03211 | train_logloss: 0.03737 | train_accuracy: 0.9869  | valid_logloss: 0.03737 | valid_accuracy: 0.9869  |  0:04:17s\n",
            "epoch 283| loss: 0.02726 | train_logloss: 0.02457 | train_accuracy: 0.99132 | valid_logloss: 0.02457 | valid_accuracy: 0.99132 |  0:04:18s\n",
            "epoch 284| loss: 0.02932 | train_logloss: 0.02339 | train_accuracy: 0.99195 | valid_logloss: 0.02339 | valid_accuracy: 0.99195 |  0:04:19s\n",
            "epoch 285| loss: 0.02979 | train_logloss: 0.02276 | train_accuracy: 0.99132 | valid_logloss: 0.02276 | valid_accuracy: 0.99132 |  0:04:20s\n",
            "epoch 286| loss: 0.03147 | train_logloss: 0.0328  | train_accuracy: 0.98769 | valid_logloss: 0.0328  | valid_accuracy: 0.98769 |  0:04:21s\n",
            "epoch 287| loss: 0.03318 | train_logloss: 0.02507 | train_accuracy: 0.99195 | valid_logloss: 0.02507 | valid_accuracy: 0.99195 |  0:04:22s\n",
            "epoch 288| loss: 0.03027 | train_logloss: 0.02348 | train_accuracy: 0.99195 | valid_logloss: 0.02348 | valid_accuracy: 0.99195 |  0:04:22s\n",
            "epoch 289| loss: 0.02782 | train_logloss: 0.02192 | train_accuracy: 0.99195 | valid_logloss: 0.02192 | valid_accuracy: 0.99195 |  0:04:23s\n",
            "epoch 290| loss: 0.03067 | train_logloss: 0.02399 | train_accuracy: 0.991   | valid_logloss: 0.02399 | valid_accuracy: 0.991   |  0:04:24s\n",
            "epoch 291| loss: 0.03368 | train_logloss: 0.05237 | train_accuracy: 0.98374 | valid_logloss: 0.05237 | valid_accuracy: 0.98374 |  0:04:25s\n",
            "epoch 292| loss: 0.04582 | train_logloss: 0.04677 | train_accuracy: 0.98343 | valid_logloss: 0.04677 | valid_accuracy: 0.98343 |  0:04:26s\n",
            "epoch 293| loss: 0.05098 | train_logloss: 0.0288  | train_accuracy: 0.99053 | valid_logloss: 0.0288  | valid_accuracy: 0.99053 |  0:04:27s\n",
            "epoch 294| loss: 0.03615 | train_logloss: 0.03    | train_accuracy: 0.98832 | valid_logloss: 0.03    | valid_accuracy: 0.98832 |  0:04:28s\n",
            "epoch 295| loss: 0.03771 | train_logloss: 0.03992 | train_accuracy: 0.98643 | valid_logloss: 0.03992 | valid_accuracy: 0.98643 |  0:04:29s\n",
            "epoch 296| loss: 0.03901 | train_logloss: 0.03094 | train_accuracy: 0.98927 | valid_logloss: 0.03094 | valid_accuracy: 0.98927 |  0:04:30s\n",
            "epoch 297| loss: 0.03389 | train_logloss: 0.02519 | train_accuracy: 0.99179 | valid_logloss: 0.02519 | valid_accuracy: 0.99179 |  0:04:31s\n",
            "epoch 298| loss: 0.03057 | train_logloss: 0.02406 | train_accuracy: 0.99242 | valid_logloss: 0.02406 | valid_accuracy: 0.99242 |  0:04:32s\n",
            "epoch 299| loss: 0.02885 | train_logloss: 0.02537 | train_accuracy: 0.99148 | valid_logloss: 0.02537 | valid_accuracy: 0.99148 |  0:04:33s\n",
            "Stop training because you reached max_epochs = 300 with best_epoch = 298 and best_valid_accuracy = 0.99242\n",
            "Best weights from best epoch are automatically used!\n",
            "273.32322549819946\n"
          ],
          "name": "stdout"
        }
      ]
    },
    {
      "cell_type": "code",
      "metadata": {
        "id": "ZybdKiJKGeLH"
      },
      "source": [
        "X_test = X_test.astype('float')"
      ],
      "execution_count": null,
      "outputs": []
    },
    {
      "cell_type": "code",
      "metadata": {
        "colab": {
          "base_uri": "https://localhost:8080/"
        },
        "id": "UULXz-Dv9fHa",
        "outputId": "06c48268-d6de-49a0-d726-9943e5919c05"
      },
      "source": [
        "pred = clf.predict(X_test)\n",
        "print('Classification Report: \\n', classification_report(y_test, pred))\n",
        "print('Confusion Matrix: \\n', confusion_matrix(y_test, pred))\n",
        "clf_train_acc = accuracy_score(y_train, clf.predict(X_train.astype('float')))\n",
        "print('Training Score: ', clf_train_acc)\n",
        "clf_test_acc = accuracy_score(y_test, pred)\n",
        "print('Testing Score: ', clf_test_acc)"
      ],
      "execution_count": null,
      "outputs": [
        {
          "output_type": "stream",
          "text": [
            "Classification Report: \n",
            "               precision    recall  f1-score   support\n",
            "\n",
            "           1       0.99      0.96      0.97       116\n",
            "           2       0.98      0.98      0.98       399\n",
            "           3       0.95      0.96      0.95       190\n",
            "\n",
            "    accuracy                           0.97       705\n",
            "   macro avg       0.97      0.96      0.97       705\n",
            "weighted avg       0.97      0.97      0.97       705\n",
            "\n",
            "Confusion Matrix: \n",
            " [[111   2   3]\n",
            " [  1 391   7]\n",
            " [  0   8 182]]\n",
            "Training Score:  0.9924242424242424\n",
            "Testing Score:  0.9702127659574468\n"
          ],
          "name": "stdout"
        }
      ]
    },
    {
      "cell_type": "code",
      "metadata": {
        "colab": {
          "base_uri": "https://localhost:8080/"
        },
        "id": "-idwAGPax34_",
        "outputId": "65fb091c-9df5-4c29-8383-4ff9471a5826"
      },
      "source": [
        "pred = clf.predict(X2)\n",
        "print('Classification Report: \\n', classification_report(y2, pred))\n",
        "print('Confusion Matrix: \\n', confusion_matrix(y2, pred))\n",
        "clf_train_acc = accuracy_score(y_train, clf.predict(X_train.astype('float')))\n",
        "print('Training Score: ', clf_train_acc)\n",
        "clf_test_acc = accuracy_score(y2, pred)\n",
        "print('Training Score: ', clf_test_acc)"
      ],
      "execution_count": null,
      "outputs": [
        {
          "output_type": "stream",
          "text": [
            "Classification Report: \n",
            "               precision    recall  f1-score   support\n",
            "\n",
            "           1       1.00      0.99      0.99      1152\n",
            "           2       0.99      0.99      0.99      3989\n",
            "           3       0.98      0.99      0.99      1900\n",
            "\n",
            "    accuracy                           0.99      7041\n",
            "   macro avg       0.99      0.99      0.99      7041\n",
            "weighted avg       0.99      0.99      0.99      7041\n",
            "\n",
            "Confusion Matrix: \n",
            " [[1139    7    6]\n",
            " [   5 3954   30]\n",
            " [   0   21 1879]]\n",
            "Training Score:  0.9924242424242424\n",
            "Training Score:  0.9902002556455048\n"
          ],
          "name": "stdout"
        }
      ]
    },
    {
      "cell_type": "code",
      "metadata": {
        "id": "3xapiiG8E8ST"
      },
      "source": [
        "lgb_fit_params = {\n",
        "    'early_stopping_rounds': 20,\n",
        "    'verbose': False\n",
        "}\n",
        "lgb_class_params = {\n",
        "    'min_child_samples':np.random.randint(1, 50, size = 5),\n",
        "    'colsample_bytree': np.random.uniform(0.1, 0.9, size = 5),\n",
        "    'num_leaves' :      np.random.randint(10, 100, size = 5),\n",
        "    'min_child_weight': np.random.uniform(0.001, 0.99, size = 5),\n",
        "}\n",
        "\n",
        "kf = KFold(n_splits=3)\n",
        "\n",
        "LGBM = RandomizedSearchCV(LGBMClassifier(learning_rate=0.001, n_estimators=300), lgb_class_params, random_state=0, cv=kf)\n",
        "search = LGBM.fit(X_train_norm, y_train)"
      ],
      "execution_count": null,
      "outputs": []
    },
    {
      "cell_type": "code",
      "metadata": {
        "colab": {
          "base_uri": "https://localhost:8080/"
        },
        "id": "fF5fwDP0iRC2",
        "outputId": "995fccde-78bd-41a2-ad6c-95c08621de4e"
      },
      "source": [
        "X_test.shape"
      ],
      "execution_count": null,
      "outputs": [
        {
          "output_type": "execute_result",
          "data": {
            "text/plain": [
              "(8669, 26)"
            ]
          },
          "metadata": {
            "tags": []
          },
          "execution_count": 132
        }
      ]
    },
    {
      "cell_type": "code",
      "metadata": {
        "id": "MzrryKbk65A9",
        "colab": {
          "base_uri": "https://localhost:8080/"
        },
        "outputId": "1fac1fcd-34cb-42cd-8676-91a2a4e4b023"
      },
      "source": [
        "len(gb.feature_importances_)"
      ],
      "execution_count": null,
      "outputs": [
        {
          "output_type": "execute_result",
          "data": {
            "text/plain": [
              "26"
            ]
          },
          "metadata": {
            "tags": []
          },
          "execution_count": 138
        }
      ]
    },
    {
      "cell_type": "code",
      "metadata": {
        "colab": {
          "base_uri": "https://localhost:8080/"
        },
        "id": "Qy6wg231azac",
        "outputId": "047fce4d-b94a-47f8-a93f-53275deae98a"
      },
      "source": [
        "np.where(gb.feature_importances_ == 366)[0].tolist()"
      ],
      "execution_count": null,
      "outputs": [
        {
          "output_type": "execute_result",
          "data": {
            "text/plain": [
              "[]"
            ]
          },
          "metadata": {
            "tags": []
          },
          "execution_count": 121
        }
      ]
    },
    {
      "cell_type": "code",
      "metadata": {
        "colab": {
          "base_uri": "https://localhost:8080/"
        },
        "id": "pCeHKcO8bHGQ",
        "outputId": "f909dcf2-5979-4b70-b7a8-c5f094cf72bd"
      },
      "source": [
        "[columns_sdss[i] for i in np.where(gb.feature_importances_ == 930)[0].tolist()]"
      ],
      "execution_count": null,
      "outputs": [
        {
          "output_type": "execute_result",
          "data": {
            "text/plain": [
              "['sdssdr16_u-z_psf']"
            ]
          },
          "metadata": {
            "tags": []
          },
          "execution_count": 135
        }
      ]
    },
    {
      "cell_type": "code",
      "metadata": {
        "id": "Cfs6whYqbx2E"
      },
      "source": [
        "columns_not_ls = [i for i in columns_not_L if 'ls' not in i]"
      ],
      "execution_count": null,
      "outputs": []
    },
    {
      "cell_type": "code",
      "metadata": {
        "id": "oDTOgfP3n2_p"
      },
      "source": [
        "columns_not_Err =  [i for i in columns if 'Err' not in i]"
      ],
      "execution_count": null,
      "outputs": []
    },
    {
      "cell_type": "code",
      "metadata": {
        "id": "a_BeXsfrosgZ"
      },
      "source": [
        "columns_not_Ivar = [i for i in columns_not_Err if 'Ivar' not in i]"
      ],
      "execution_count": null,
      "outputs": []
    },
    {
      "cell_type": "code",
      "metadata": {
        "id": "_yycpxwwpFul"
      },
      "source": [
        "columns_not_w = [i for i in columns_not_Ivar if 'w' not in i]"
      ],
      "execution_count": null,
      "outputs": []
    },
    {
      "cell_type": "code",
      "metadata": {
        "id": "cNtXF5YLpns0"
      },
      "source": [
        "columns_sdss = [i for i in columns_not_Ivar if 'sdss' in i] + ['LabelQ', 'LabelG', 'LabelS', 'Label']"
      ],
      "execution_count": null,
      "outputs": []
    },
    {
      "cell_type": "code",
      "metadata": {
        "id": "V5x0BfWgrkzm"
      },
      "source": [
        "columns_not_z = [i for i in columns_sdss if 'z' not in i]"
      ],
      "execution_count": null,
      "outputs": []
    },
    {
      "cell_type": "code",
      "metadata": {
        "colab": {
          "base_uri": "https://localhost:8080/"
        },
        "id": "tdhkDK3qsOtH",
        "outputId": "5c01c26a-0a5f-4142-b323-ebbadc29a26b"
      },
      "source": [
        "columns_not_z"
      ],
      "execution_count": null,
      "outputs": [
        {
          "output_type": "execute_result",
          "data": {
            "text/plain": [
              "['sdss_cModelFlux_u',\n",
              " 'sdss_cModelFlux_g',\n",
              " 'sdss_cModelFlux_r',\n",
              " 'sdss_cModelFlux_i',\n",
              " 'sdss_psfFlux_u',\n",
              " 'sdss_psfFlux_g',\n",
              " 'sdss_psfFlux_r',\n",
              " 'sdss_psfFlux_i',\n",
              " 'sdssdr16_u_psf',\n",
              " 'sdssdr16_g_psf',\n",
              " 'sdssdr16_r_psf',\n",
              " 'sdssdr16_i_psf',\n",
              " 'sdssdr16_u_cmodel',\n",
              " 'sdssdr16_g_cmodel',\n",
              " 'sdssdr16_r_cmodel',\n",
              " 'sdssdr16_i_cmodel',\n",
              " 'sdssdr16_u-g_psf',\n",
              " 'sdssdr16_u-r_psf',\n",
              " 'sdssdr16_u-i_psf',\n",
              " 'sdssdr16_u_psf-cmodel',\n",
              " 'sdssdr16_g-r_psf',\n",
              " 'sdssdr16_g-i_psf',\n",
              " 'sdssdr16_g_psf-cmodel',\n",
              " 'sdssdr16_r-i_psf',\n",
              " 'sdssdr16_r_psf-cmodel',\n",
              " 'sdssdr16_i_psf-cmodel',\n",
              " 'LabelQ',\n",
              " 'LabelG',\n",
              " 'LabelS',\n",
              " 'Label']"
            ]
          },
          "metadata": {
            "tags": []
          },
          "execution_count": 146
        }
      ]
    },
    {
      "cell_type": "code",
      "metadata": {
        "id": "nrws2b8ktWeD"
      },
      "source": [
        ""
      ],
      "execution_count": null,
      "outputs": []
    }
  ]
}