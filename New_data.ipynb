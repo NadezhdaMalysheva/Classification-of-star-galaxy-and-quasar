{
  "nbformat": 4,
  "nbformat_minor": 0,
  "metadata": {
    "colab": {
      "name": "Эксперименты по отбору признаков",
      "provenance": [],
      "collapsed_sections": [
        "m0kPZJ5yOVbo",
        "m8ziKd6H_-CO",
        "-cAEj_P2KLWl",
        "zWAiZS6vLGv4"
      ],
      "toc_visible": true,
      "machine_shape": "hm",
      "include_colab_link": true
    },
    "kernelspec": {
      "display_name": "Python 3",
      "name": "python3"
    },
    "accelerator": "GPU"
  },
  "cells": [
    {
      "cell_type": "markdown",
      "metadata": {
        "id": "view-in-github",
        "colab_type": "text"
      },
      "source": [
        "<a href=\"https://colab.research.google.com/github/NadezhdaMalysheva/projects/blob/main/New_data.ipynb\" target=\"_parent\"><img src=\"https://colab.research.google.com/assets/colab-badge.svg\" alt=\"Open In Colab\"/></a>"
      ]
    },
    {
      "cell_type": "code",
      "metadata": {
        "colab": {
          "base_uri": "https://localhost:8080/"
        },
        "id": "YoXFJs19Ks2y",
        "outputId": "86941875-9711-4cca-ca6b-6bd803ec3db2"
      },
      "source": [
        "from google.colab import drive\n",
        "drive.mount('/content/drive')"
      ],
      "execution_count": 226,
      "outputs": [
        {
          "output_type": "stream",
          "text": [
            "Drive already mounted at /content/drive; to attempt to forcibly remount, call drive.mount(\"/content/drive\", force_remount=True).\n"
          ],
          "name": "stdout"
        }
      ]
    },
    {
      "cell_type": "markdown",
      "metadata": {
        "id": "m0kPZJ5yOVbo"
      },
      "source": [
        "# Подгружаем необходимые библиотеки "
      ]
    },
    {
      "cell_type": "code",
      "metadata": {
        "colab": {
          "base_uri": "https://localhost:8080/"
        },
        "id": "YtFLkOBsdnJR",
        "outputId": "a6acc2cf-2e6e-44ef-963c-8829719adf6b"
      },
      "source": [
        "pip install pytorch-tabnet"
      ],
      "execution_count": 227,
      "outputs": [
        {
          "output_type": "stream",
          "text": [
            "Requirement already satisfied: pytorch-tabnet in /usr/local/lib/python3.7/dist-packages (3.1.1)\n",
            "Requirement already satisfied: tqdm<5.0,>=4.36 in /usr/local/lib/python3.7/dist-packages (from pytorch-tabnet) (4.41.1)\n",
            "Requirement already satisfied: scikit_learn>0.21 in /usr/local/lib/python3.7/dist-packages (from pytorch-tabnet) (0.22.2.post1)\n",
            "Requirement already satisfied: torch<2.0,>=1.2 in /usr/local/lib/python3.7/dist-packages (from pytorch-tabnet) (1.8.0+cu101)\n",
            "Requirement already satisfied: scipy>1.4 in /usr/local/lib/python3.7/dist-packages (from pytorch-tabnet) (1.4.1)\n",
            "Requirement already satisfied: numpy<2.0,>=1.17 in /usr/local/lib/python3.7/dist-packages (from pytorch-tabnet) (1.19.5)\n",
            "Requirement already satisfied: joblib>=0.11 in /usr/local/lib/python3.7/dist-packages (from scikit_learn>0.21->pytorch-tabnet) (1.0.1)\n",
            "Requirement already satisfied: typing-extensions in /usr/local/lib/python3.7/dist-packages (from torch<2.0,>=1.2->pytorch-tabnet) (3.7.4.3)\n"
          ],
          "name": "stdout"
        }
      ]
    },
    {
      "cell_type": "code",
      "metadata": {
        "id": "sCLtYHFqwmod"
      },
      "source": [
        "import numpy as np\n",
        "import pandas as pd"
      ],
      "execution_count": 228,
      "outputs": []
    },
    {
      "cell_type": "code",
      "metadata": {
        "colab": {
          "base_uri": "https://localhost:8080/",
          "height": 0
        },
        "id": "B2lA0dgTwmib",
        "outputId": "73984381-ee9e-4ea6-ecfe-86350ee64fd6"
      },
      "source": [
        "import seaborn as sns\n",
        "import matplotlib.pyplot as plt\n",
        "\n",
        "import plotly.offline as py\n",
        "color = sns.color_palette()\n",
        "import plotly.graph_objs as go\n",
        "py.init_notebook_mode(connected=True)\n",
        "import plotly.tools as tls\n",
        "\n",
        "%matplotlib inline"
      ],
      "execution_count": 229,
      "outputs": [
        {
          "output_type": "display_data",
          "data": {
            "text/html": [
              "        <script type=\"text/javascript\">\n",
              "        window.PlotlyConfig = {MathJaxConfig: 'local'};\n",
              "        if (window.MathJax) {MathJax.Hub.Config({SVG: {font: \"STIX-Web\"}});}\n",
              "        if (typeof require !== 'undefined') {\n",
              "        require.undef(\"plotly\");\n",
              "        requirejs.config({\n",
              "            paths: {\n",
              "                'plotly': ['https://cdn.plot.ly/plotly-latest.min']\n",
              "            }\n",
              "        });\n",
              "        require(['plotly'], function(Plotly) {\n",
              "            window._Plotly = Plotly;\n",
              "        });\n",
              "        }\n",
              "        </script>\n",
              "        "
            ]
          },
          "metadata": {
            "tags": []
          }
        }
      ]
    },
    {
      "cell_type": "code",
      "metadata": {
        "id": "XVxxcXZGwmdb"
      },
      "source": [
        "from sklearn.preprocessing import RobustScaler\n",
        "from sklearn.decomposition import PCA\n",
        "from sklearn.metrics import classification_report, confusion_matrix, accuracy_score, f1_score, roc_auc_score \n",
        "from sklearn.model_selection import train_test_split, StratifiedKFold\n",
        "from sklearn.ensemble import RandomForestClassifier, AdaBoostClassifier, GradientBoostingClassifier\n",
        "import joblib\n",
        "from tqdm.notebook import tqdm\n",
        "\n",
        "from pytorch_tabnet.tab_model import TabNetClassifier\n",
        "\n",
        "from hyperopt import hp\n",
        "import numpy as np\n",
        "from sklearn.metrics import mean_squared_error, f1_score, accuracy_score\n",
        "\n",
        "from sklearn.model_selection import RandomizedSearchCV\n",
        "from sklearn.model_selection import KFold\n",
        "from lightgbm import LGBMClassifier\n",
        "\n",
        "import lightgbm as lgb\n",
        "from hyperopt import fmin, tpe, STATUS_OK, STATUS_FAIL, Trials\n",
        "\n",
        "from time import time\n",
        "import joblib"
      ],
      "execution_count": 230,
      "outputs": []
    },
    {
      "cell_type": "code",
      "metadata": {
        "id": "guuBGRaaiDoJ"
      },
      "source": [
        "import torch"
      ],
      "execution_count": 231,
      "outputs": []
    },
    {
      "cell_type": "markdown",
      "metadata": {
        "id": "N-hlXdD5xbL8"
      },
      "source": [
        "#Загружаем данные, параметры"
      ]
    },
    {
      "cell_type": "code",
      "metadata": {
        "id": "yer4R5LMyP0m"
      },
      "source": [
        "def data_preparation(X, y, c=10000, test_size = 0.8):\n",
        "\n",
        "    X1_train, X1_test, y1_train, y1_test = train_test_split(X[y==1], y[y==1], test_size=test_size, random_state = 43)\n",
        "    X2_train, X2_test, y2_train, y2_test = train_test_split(X[y==2], y[y==2], test_size=test_size, random_state = 43)\n",
        "    X3_train, X3_test, y3_train, y3_test = train_test_split(X[y==3], y[y==3], test_size=test_size, random_state = 43)\n",
        "    \n",
        "    count = c\n",
        "    count1 = c\n",
        "\n",
        "    X_train, X_test = np.concatenate((X1_train[:count], X2_train[:count], X3_train[:count])), np.concatenate((X1_test[:count1], X2_test[:count1], X3_test[:count1]))\n",
        "    y_train, y_test = np.concatenate((y1_train[:count], y2_train[:count], y3_train[:count])), np.concatenate((y1_test[:count1], y2_test[:count1], y3_test[:count1]))\n",
        "    \n",
        "\n",
        "    return [X_train, X_test, y_train, y_test, X1_train, X1_test, y1_train, y1_test, X2_train, X2_test, y2_train, y2_test, X3_train, X3_test, y3_train, y3_test]"
      ],
      "execution_count": 232,
      "outputs": []
    },
    {
      "cell_type": "code",
      "metadata": {
        "id": "7NopTyppkzaA"
      },
      "source": [
        "def scor(y_test, y_pred):\n",
        "  return accuracy_score(y_test, y_pred)\n",
        "\n",
        "lgb_reg_params = {\n",
        "    'learning_rate':    hp.uniform('learning_rate', 0.001, 0.1),\n",
        "    'min_child_samples':hp.randint('min_child_samples', 50)+1,\n",
        "    'colsample_bytree': hp.uniform('colsample_bytree', 0.1, 0.9),\n",
        "    'num_leaves' :      hp.randint('num_leaves', 100)+10,\n",
        "    'min_child_weight': hp.uniform('min_child_weight', 0.001, 0.99),\n",
        "    'n_estimators':     hp.randint('n_estimators', 1500)+100\n",
        "}\n",
        "lgb_fit_params = {\n",
        "    'early_stopping_rounds': 20,\n",
        "    'verbose': False\n",
        "}\n",
        "lgb_para = dict()\n",
        "lgb_para['reg_params'] = lgb_reg_params\n",
        "lgb_para['fit_params'] = lgb_fit_params\n",
        "lgb_para['score'] = lambda y, pred: -accuracy_score(y, pred)\n",
        "\n",
        "\n",
        "rf_reg_params = {\n",
        "    'min_samples_leaf': hp.randint('min_samples_leaf', 20)+1,\n",
        "    'min_samples_split':hp.uniform('min_samples_split', 0.001, 0.1),\n",
        "    #'max_features':     hp.choice('max_features', ['auto', 'sqrt', 'log2', None]),\n",
        "    #'learning_rate':    hp.uniform('learning_rate', 0.001, 0.1),\n",
        "    'n_estimators':     hp.randint('n_estimators', 800)+100\n",
        "}\n",
        "rf_fit_params = {\n",
        "}\n",
        "rf_para = dict()\n",
        "rf_para['reg_params'] = rf_reg_params\n",
        "rf_para['fit_params'] = rf_fit_params\n",
        "rf_para['score'] = lambda y, pred: -accuracy_score(y, pred)\n",
        "\n",
        "tabnet_reg_params = {\n",
        "    'n_d' :              64,\n",
        "    'n_a' :              64,\n",
        "    'n_steps' :          hp.randint('n_steps', 10-3)+3,\n",
        "    'gamma' :            hp.uniform('gamma', 1.0, 3.0),\n",
        "    'lambda_sparse' :    hp.uniform('lambda_sparse', 0.0, 0.01),\n",
        "    'momentum' :         0.3, \n",
        "    'clip_value' :       2.,\n",
        "    'optimizer_params' : dict(lr=2e-2),\n",
        "    'scheduler_params' : {\"step_size\":50, \"gamma\":0.9},\n",
        "    'scheduler_fn' :     torch.optim.lr_scheduler.StepLR,\n",
        "    'mask_type' :       'entmax'\n",
        "}\n",
        "\n",
        "tabnet_fit_params = {\n",
        "    'max_epochs' : 100, \n",
        "    'patience' : 15,\n",
        "    'batch_size' : 512,\n",
        "    'virtual_batch_size' : 128,\n",
        "    'num_workers' : 0,\n",
        "    'weights' : 1,\n",
        "    'drop_last' : False,\n",
        "    #'from_unsupervised' : unsupervised_model\n",
        "}\n",
        "tabnet_para = dict()\n",
        "tabnet_para['reg_params'] = tabnet_reg_params\n",
        "tabnet_para['fit_params'] = tabnet_fit_params\n",
        "tabnet_para['score'] = lambda y, pred: -accuracy_score(y, pred)"
      ],
      "execution_count": 233,
      "outputs": []
    },
    {
      "cell_type": "markdown",
      "metadata": {
        "id": "-cAEj_P2KLWl"
      },
      "source": [
        "#Запуск на лучших 10 признаках"
      ]
    },
    {
      "cell_type": "code",
      "metadata": {
        "id": "SudXQpJ_7xg_"
      },
      "source": [
        "df = joblib.load('/content/drive/MyDrive/Научная работа/Спецсем/TabNetModel/df_agg.pkl')#pd.read_csv('/content/drive/MyDrive/Научная работа/Спецсем/TabNetModel/df_agg.csv')"
      ],
      "execution_count": null,
      "outputs": []
    },
    {
      "cell_type": "code",
      "metadata": {
        "id": "1VZeu5o4EtCp",
        "colab": {
          "base_uri": "https://localhost:8080/"
        },
        "outputId": "37df498c-9f6c-40f9-c8f3-0d358868662f"
      },
      "source": [
        "feature = columns_not_Err[:-4]\n",
        "len(feature)"
      ],
      "execution_count": null,
      "outputs": [
        {
          "output_type": "execute_result",
          "data": {
            "text/plain": [
              "243"
            ]
          },
          "metadata": {
            "tags": []
          },
          "execution_count": 154
        }
      ]
    },
    {
      "cell_type": "code",
      "metadata": {
        "id": "BKjt1JyAIZce"
      },
      "source": [
        "tn = clf"
      ],
      "execution_count": null,
      "outputs": []
    },
    {
      "cell_type": "code",
      "metadata": {
        "colab": {
          "base_uri": "https://localhost:8080/",
          "height": 728
        },
        "id": "h7i0TD0cIBvu",
        "outputId": "904ceaf7-4f6c-4069-919b-c0300eaae910"
      },
      "source": [
        "feature_imp_tn=pd.DataFrame((zip(tn.feature_importances_,feature)), columns=['TabNet','Feature'])\n",
        "plt.figure(figsize=(20, 10))\n",
        "sns.barplot(x=\"TabNet\", y=\"Feature\", data=feature_imp_tn.sort_values(by=\"TabNet\", ascending=False).iloc[:50])\n",
        "plt.title('TabNet Most Important Features')\n",
        "plt.tight_layout()\n",
        "plt.show()"
      ],
      "execution_count": null,
      "outputs": [
        {
          "output_type": "display_data",
          "data": {
            "image/png": "[encoded data removed]",
            "text/plain": [
              "<Figure size 1440x720 with 1 Axes>"
            ]
          },
          "metadata": {
            "tags": [],
            "needs_background": "light"
          }
        }
      ]
    },
    {
      "cell_type": "code",
      "metadata": {
        "colab": {
          "base_uri": "https://localhost:8080/",
          "height": 728
        },
        "id": "I2l8CSMuIBv6",
        "outputId": "a765d0af-2484-44cc-9c1f-89addc189406"
      },
      "source": [
        "feature_imp_gb=pd.DataFrame(sorted(zip(gb.feature_importances_, feature)), columns=['GB','Feature'])\n",
        "plt.figure(figsize=(20, 10))\n",
        "sns.barplot(x=\"GB\", y=\"Feature\", data=feature_imp_gb.sort_values(by=\"GB\", ascending=False).iloc[:50])\n",
        "plt.title('GB Most Important Features')\n",
        "plt.tight_layout()\n",
        "plt.show()"
      ],
      "execution_count": null,
      "outputs": [
        {
          "output_type": "display_data",
          "data": {
            "image/png": "[encoded data removed]",
            "text/plain": [
              "<Figure size 1440x720 with 1 Axes>"
            ]
          },
          "metadata": {
            "tags": [],
            "needs_background": "light"
          }
        }
      ]
    },
    {
      "cell_type": "code",
      "metadata": {
        "id": "2y3h6lFdIBwD"
      },
      "source": [
        "t = 5\n",
        "tn_feature = feature_imp_tn.sort_values(by='TabNet', ascending=False).iloc[:t]['Feature'].values\n",
        "lgbm_feature = feature_imp_gb.sort_values(by='GB', ascending=False).iloc[:t]['Feature'].values "
      ],
      "execution_count": null,
      "outputs": []
    },
    {
      "cell_type": "code",
      "metadata": {
        "colab": {
          "base_uri": "https://localhost:8080/"
        },
        "id": "nGK3st7MOtlv",
        "outputId": "08d574f1-b19f-4979-fc23-edd33625845b"
      },
      "source": [
        "tn_feature, lgbm_feature"
      ],
      "execution_count": null,
      "outputs": [
        {
          "output_type": "execute_result",
          "data": {
            "text/plain": [
              "(array(['sdssdr16_z_cmodel', 'psdr2_z_psf-kron', 'psdr2_g-z_psf',\n",
              "        'psdr2_r-z_psf', 'psdr2_y_kron-decals8tr_Lw2'], dtype=object),\n",
              " array(['decals8tr_Lw1-Lw2', 'sdssdr16_g_psf-cmodel', 'sdssdr16_u-g_psf',\n",
              "        'decals8tr_g-z', 'decals8tr_z-Lw2'], dtype=object))"
            ]
          },
          "metadata": {
            "tags": []
          },
          "execution_count": 261
        }
      ]
    },
    {
      "cell_type": "code",
      "metadata": {
        "id": "l2pCFJX3N3ai"
      },
      "source": [
        "X_tn = df[tn_feature].dropna().values.astype('float')\n",
        "X_gb = df[lgbm_feature].dropna().values.astype('float')\n",
        "y_tn = df.dropna(subset=tn_feature)['Label'].values\n",
        "y_gb = df.dropna(subset=lgbm_feature)['Label'].values"
      ],
      "execution_count": null,
      "outputs": []
    },
    {
      "cell_type": "code",
      "metadata": {
        "colab": {
          "base_uri": "https://localhost:8080/"
        },
        "id": "VsMg98wdOlXg",
        "outputId": "109ba919-d453-4e4b-92f5-03f51f122aab"
      },
      "source": [
        "X_tn[0], X_gb[0]"
      ],
      "execution_count": null,
      "outputs": [
        {
          "output_type": "execute_result",
          "data": {
            "text/plain": [
              "(array([20.27505516,  0.28870222,  0.90040168,  0.7980218 ,  2.31764448]),\n",
              " array([-0.10055633, -0.00593085,  1.35451829,  1.18279549,  1.73456894]))"
            ]
          },
          "metadata": {
            "tags": []
          },
          "execution_count": 263
        }
      ]
    },
    {
      "cell_type": "code",
      "metadata": {
        "id": "9ysnlzZFAZ8T"
      },
      "source": [
        "def bootstrap_accuracy(X_test, y_test, X_valid, y_valid):\n",
        "  from sklearn.utils import resample\n",
        "  from matplotlib import pyplot\n",
        "  values = np.concatenate((X_test, y_test.reshape((len(y_test), 1))), axis=1)\n",
        "  n_iterations = 100\n",
        "  n_size = int(len(y_test) * 0.50)\n",
        "  stats = list()\n",
        "  for i in range(n_iterations):\n",
        "    train_ind = np.random.randint(0, len(values), n_size)\n",
        "    test_ind = np.setdiff1d(range(len(values)), train_ind)\n",
        "    train = values[train_ind]\n",
        "    test = values[test_ind]\n",
        "    # fit model\n",
        "    model = lgb.LGBMClassifier()\n",
        "    model.fit(train[:,:-1], train[:,-1], eval_set=[(train[:,:-1], train[:,-1]), (X_valid_norm, y_valid)], **lgb_fit_params)\n",
        "    # evaluate model\n",
        "    predictions = model.predict(test[:,:-1])\n",
        "    test = resample(values, n_samples=n_size)\n",
        "    predictions = model.predict(test[:,:-1])\n",
        "    score = accuracy_score(test[:,-1], predictions)\n",
        "    stats.append(score)\n",
        "  pyplot.hist(stats)\n",
        "  pyplot.show()\n",
        "  alpha = 0.8\n",
        "  p = ((1.0-alpha)/2.0) * 100\n",
        "  lower = max(0.0, np.percentile(stats, p))\n",
        "  p = (alpha+((1.0-alpha)/2.0)) * 100\n",
        "  upper = min(1.0, np.percentile(stats, p))\n",
        "  print('%.1f confidence interval %.1f%% and %.1f%%' % (alpha*100, lower*100, upper*100))\n",
        "  return stats"
      ],
      "execution_count": null,
      "outputs": []
    },
    {
      "cell_type": "markdown",
      "metadata": {
        "id": "4OtiMsq85G5Z"
      },
      "source": [
        "##На TabNet"
      ]
    },
    {
      "cell_type": "code",
      "metadata": {
        "id": "SQSrSD29Nn7o"
      },
      "source": [
        "data_split = data_preparation(X_tn, y_tn+1, 7000, 0.5)\n",
        "\n",
        "X_train, X_test = data_split[:2]\n",
        "y_train, y_test = data_split[2:4]\n",
        "\n",
        "count = 10000\n",
        "\n",
        "X1_train, X1_test = data_split[4:6]\n",
        "y1_train, y1_test = data_split[6:8]\n",
        "X2_train, X2_test = data_split[8:10] \n",
        "y2_train, y2_test = data_split[10:12]\n",
        "X3_train, X3_test = data_split[12:14]\n",
        "y3_train, y3_test = data_split[14:16]\n",
        "\n",
        "X_train_pred = np.concatenate((X1_train[count : ], X2_train[count : ], X3_train[count : ])) ###############\n",
        "X_val_pred   = np.concatenate((X1_test[count : 2*count], X2_test[count : 2*count], X3_test[count : 2*count]))\n",
        "X_valid      = X_test\n",
        "y_valid      = y_test"
      ],
      "execution_count": null,
      "outputs": []
    },
    {
      "cell_type": "code",
      "metadata": {
        "colab": {
          "base_uri": "https://localhost:8080/"
        },
        "id": "beOUADc7RkZo",
        "outputId": "62b21702-0c59-4f57-eeba-c3d98e15dfd7"
      },
      "source": [
        "X_train"
      ],
      "execution_count": null,
      "outputs": [
        {
          "output_type": "execute_result",
          "data": {
            "text/plain": [
              "array([[15.88255999, -0.12757349,  2.96825592,  1.6595796 , -0.96980746],\n",
              "       [13.76123206,  0.04121344,  0.70604249,  0.1959566 , -1.77853466],\n",
              "       [15.40199549, -0.05604527,  1.78139988,  0.80801854, -1.36017438],\n",
              "       ...,\n",
              "       [19.6046498 ,  0.24381924,  2.16747637,  1.01552449,  0.47139057],\n",
              "       [14.72476626,  1.52822381,  1.2339568 ,  0.53733458, -0.8008423 ],\n",
              "       [16.65903045,  1.30358617,  1.98716351,  0.84824789, -0.13511662]])"
            ]
          },
          "metadata": {
            "tags": []
          },
          "execution_count": 266
        }
      ]
    },
    {
      "cell_type": "code",
      "metadata": {
        "id": "MxgUPXI4Nn7p"
      },
      "source": [
        "robust = RobustScaler()\n",
        "\n",
        "X_train_norm = robust.fit_transform(X_train)\n",
        "X_test_norm = robust.transform(X_test)\n",
        "X_valid_norm = robust.transform(X_valid)"
      ],
      "execution_count": null,
      "outputs": []
    },
    {
      "cell_type": "code",
      "metadata": {
        "colab": {
          "base_uri": "https://localhost:8080/"
        },
        "id": "KQSuFMJiJqhh",
        "outputId": "a9c2c399-363a-4ff4-96f9-37eaaa1061e4"
      },
      "source": [
        "gb_check = lgb.LGBMClassifier(n_estimators=10000)\n",
        "gb_check.fit(X_train_norm, y_train, eval_set=[(X_train_norm, y_train), (X_valid_norm, y_valid)],  **lgb_fit_params)"
      ],
      "execution_count": null,
      "outputs": [
        {
          "output_type": "execute_result",
          "data": {
            "text/plain": [
              "LGBMClassifier(boosting_type='gbdt', class_weight=None, colsample_bytree=1.0,\n",
              "               importance_type='split', learning_rate=0.1, max_depth=-1,\n",
              "               min_child_samples=20, min_child_weight=0.001, min_split_gain=0.0,\n",
              "               n_estimators=10000, n_jobs=-1, num_leaves=31, objective=None,\n",
              "               random_state=None, reg_alpha=0.0, reg_lambda=0.0, silent=True,\n",
              "               subsample=1.0, subsample_for_bin=200000, subsample_freq=0)"
            ]
          },
          "metadata": {
            "tags": []
          },
          "execution_count": 268
        }
      ]
    },
    {
      "cell_type": "code",
      "metadata": {
        "colab": {
          "base_uri": "https://localhost:8080/"
        },
        "id": "smCHfE2MJqho",
        "outputId": "1c706ef1-910f-49a9-bc83-393b31feec63"
      },
      "source": [
        "pred = gb_check.predict(X_test_norm)\n",
        "print('Classification Report: \\n', classification_report(y_test, pred))\n",
        "print('Confusion Matrix: \\n', confusion_matrix(y_test, pred))\n",
        "gb_train_acc = accuracy_score(y_train, gb_check.predict(X_train_norm))\n",
        "print('Training Score: ', gb_train_acc)\n",
        "gb_test_acc =  accuracy_score(y_test, pred)\n",
        "print('Testing Score: ', gb_test_acc)"
      ],
      "execution_count": null,
      "outputs": [
        {
          "output_type": "stream",
          "text": [
            "Classification Report: \n",
            "               precision    recall  f1-score   support\n",
            "\n",
            "           1       0.98      0.97      0.98      1194\n",
            "           2       0.98      0.97      0.98      4000\n",
            "           3       0.95      0.96      0.95      1904\n",
            "\n",
            "    accuracy                           0.97      7098\n",
            "   macro avg       0.97      0.97      0.97      7098\n",
            "weighted avg       0.97      0.97      0.97      7098\n",
            "\n",
            "Confusion Matrix: \n",
            " [[1164   16   14]\n",
            " [  18 3892   90]\n",
            " [   8   70 1826]]\n",
            "Training Score:  0.9861913484570946\n",
            "Testing Score:  0.9695688926458157\n"
          ],
          "name": "stdout"
        }
      ]
    },
    {
      "cell_type": "code",
      "metadata": {
        "id": "yuRghGafB_9s",
        "colab": {
          "base_uri": "https://localhost:8080/"
        },
        "outputId": "cf62080a-3019-47ee-fa13-bb2ba52b6330"
      },
      "source": [
        "#tn = joblib.load('/content/drive/MyDrive/Научная работа/Спецсем/TabNetModel/TabNet_model.pkl')\n",
        "statsTN = bootstrap_accuracy(X_test_norm, y_test, X_valid_norm, y_valid)"
      ],
      "execution_count": null,
      "outputs": [
        {
          "output_type": "display_data",
          "data": {
            "image/png": "[encoded data removed]",
            "text/plain": [
              "<Figure size 432x288 with 1 Axes>"
            ]
          },
          "metadata": {
            "tags": [],
            "needs_background": "light"
          }
        },
        {
          "output_type": "stream",
          "text": [
            "80.0 confidence interval 97.5% and 98.1%\n"
          ],
          "name": "stdout"
        }
      ]
    },
    {
      "cell_type": "markdown",
      "metadata": {
        "id": "mSMAh_Tm5XH-"
      },
      "source": [
        "##На градиентном бустинге"
      ]
    },
    {
      "cell_type": "code",
      "metadata": {
        "id": "MLCSxI7SPniI"
      },
      "source": [
        "data_split = data_preparation(X_gb, y_gb+1, 7000, 0.5)\n",
        "\n",
        "X_train, X_test = data_split[:2]\n",
        "y_train, y_test = data_split[2:4]\n",
        "\n",
        "count = 10000\n",
        "\n",
        "X1_train, X1_test = data_split[4:6]\n",
        "y1_train, y1_test = data_split[6:8]\n",
        "X2_train, X2_test = data_split[8:10] \n",
        "y2_train, y2_test = data_split[10:12]\n",
        "X3_train, X3_test = data_split[12:14]\n",
        "y3_train, y3_test = data_split[14:16]\n",
        "\n",
        "X_train_pred = np.concatenate((X1_train[count : ], X2_train[count : ], X3_train[count : ])) ###############\n",
        "X_val_pred   = np.concatenate((X1_test[count : 2*count], X2_test[count : 2*count], X3_test[count : 2*count]))\n",
        "X_valid      = X_test\n",
        "y_valid      = y_test"
      ],
      "execution_count": null,
      "outputs": []
    },
    {
      "cell_type": "code",
      "metadata": {
        "id": "cQS79yZYPniO"
      },
      "source": [
        "robust = RobustScaler()\n",
        "\n",
        "X_train_norm = robust.fit_transform(X_train)\n",
        "X_test_norm = robust.transform(X_test)\n",
        "X_valid_norm = robust.transform(X_valid)"
      ],
      "execution_count": null,
      "outputs": []
    },
    {
      "cell_type": "code",
      "metadata": {
        "colab": {
          "base_uri": "https://localhost:8080/"
        },
        "id": "zKnCuuz8PniQ",
        "outputId": "b0efacdd-6078-4860-d44f-378d93ad264e"
      },
      "source": [
        "gb_check = lgb.LGBMClassifier(n_estimators=1000)\n",
        "gb_check.fit(X_train_norm, y_train, eval_set=[(X_train_norm, y_train), (X_valid_norm, y_valid)],  **lgb_fit_params)"
      ],
      "execution_count": null,
      "outputs": [
        {
          "output_type": "execute_result",
          "data": {
            "text/plain": [
              "LGBMClassifier(boosting_type='gbdt', class_weight=None, colsample_bytree=1.0,\n",
              "               importance_type='split', learning_rate=0.1, max_depth=-1,\n",
              "               min_child_samples=20, min_child_weight=0.001, min_split_gain=0.0,\n",
              "               n_estimators=1000, n_jobs=-1, num_leaves=31, objective=None,\n",
              "               random_state=None, reg_alpha=0.0, reg_lambda=0.0, silent=True,\n",
              "               subsample=1.0, subsample_for_bin=200000, subsample_freq=0)"
            ]
          },
          "metadata": {
            "tags": []
          },
          "execution_count": 273
        }
      ]
    },
    {
      "cell_type": "code",
      "metadata": {
        "colab": {
          "base_uri": "https://localhost:8080/"
        },
        "id": "DPXAGKjoPniU",
        "outputId": "37188302-c57f-47db-ffcb-8dd54e48f357"
      },
      "source": [
        "pred = gb_check.predict(X_test_norm)\n",
        "print('Classification Report: \\n', classification_report(y_test, pred))\n",
        "print('Confusion Matrix: \\n', confusion_matrix(y_test, pred))\n",
        "gb_train_acc = accuracy_score(y_train, gb_check.predict(X_train_norm))\n",
        "print('Training Score: ', gb_train_acc)\n",
        "gb_test_acc =  accuracy_score(y_test, pred)\n",
        "print('Testing Score: ', gb_test_acc)"
      ],
      "execution_count": null,
      "outputs": [
        {
          "output_type": "stream",
          "text": [
            "Classification Report: \n",
            "               precision    recall  f1-score   support\n",
            "\n",
            "           1       0.97      0.96      0.97      1711\n",
            "           2       0.97      0.97      0.97      4679\n",
            "           3       0.95      0.95      0.95      2242\n",
            "\n",
            "    accuracy                           0.96      8632\n",
            "   macro avg       0.96      0.96      0.96      8632\n",
            "weighted avg       0.96      0.96      0.96      8632\n",
            "\n",
            "Confusion Matrix: \n",
            " [[1638   41   32]\n",
            " [  32 4558   89]\n",
            " [  11  102 2129]]\n",
            "Training Score:  0.9882952833468537\n",
            "Testing Score:  0.9644346617238183\n"
          ],
          "name": "stdout"
        }
      ]
    },
    {
      "cell_type": "code",
      "metadata": {
        "colab": {
          "base_uri": "https://localhost:8080/"
        },
        "id": "HygaGqY_Cgrg",
        "outputId": "8eaba370-0a47-4263-d2b5-f665f3b769ec"
      },
      "source": [
        "#gb = joblib.load('/content/drive/MyDrive/Научная работа/Спецсем/TabNetModel/gb_model.pkl')\n",
        "statsGB = bootstrap_accuracy(X_test_norm, y_test, X_valid_norm, y_valid)"
      ],
      "execution_count": null,
      "outputs": [
        {
          "output_type": "display_data",
          "data": {
            "image/png": "[encoded data removed]",
            "text/plain": [
              "<Figure size 432x288 with 1 Axes>"
            ]
          },
          "metadata": {
            "tags": [],
            "needs_background": "light"
          }
        },
        {
          "output_type": "stream",
          "text": [
            "80.0 confidence interval 97.2% and 97.9%\n"
          ],
          "name": "stdout"
        }
      ]
    },
    {
      "cell_type": "markdown",
      "metadata": {
        "id": "sKTsaaQ75c_m"
      },
      "source": [
        "##Сравнение"
      ]
    },
    {
      "cell_type": "code",
      "metadata": {
        "id": "n9xmCPN2Cgrq"
      },
      "source": [
        "stat = pd.DataFrame()\n",
        "stat['model'] = ['GB']*len(statsGB) + ['TN']*len(statsTN) \n",
        "stat['acc'] = statsGB + statsTN "
      ],
      "execution_count": null,
      "outputs": []
    },
    {
      "cell_type": "code",
      "metadata": {
        "colab": {
          "base_uri": "https://localhost:8080/",
          "height": 295
        },
        "id": "7_OOV7e_Cgrq",
        "outputId": "1e3963e1-11a0-4ec3-d9e3-3b237bd14753"
      },
      "source": [
        "sns.boxenplot(x='model', y='acc', data=stat)"
      ],
      "execution_count": null,
      "outputs": [
        {
          "output_type": "execute_result",
          "data": {
            "text/plain": [
              "<matplotlib.axes._subplots.AxesSubplot at 0x7f8f8ddeec50>"
            ]
          },
          "metadata": {
            "tags": []
          },
          "execution_count": 277
        },
        {
          "output_type": "display_data",
          "data": {
            "image/png": "[encoded data removed]",
            "text/plain": [
              "<Figure size 432x288 with 1 Axes>"
            ]
          },
          "metadata": {
            "tags": [],
            "needs_background": "light"
          }
        }
      ]
    },
    {
      "cell_type": "code",
      "metadata": {
        "colab": {
          "base_uri": "https://localhost:8080/"
        },
        "id": "Ps60U6xSzOmX",
        "outputId": "ac797e84-6aef-4b63-89cb-77b6bf07cea0"
      },
      "source": [
        "gb.booster_.save_model('/content/drive/MyDrive/Научная работа/Data/hyper/gb_x_data.txt')"
      ],
      "execution_count": null,
      "outputs": [
        {
          "output_type": "execute_result",
          "data": {
            "text/plain": [
              "<lightgbm.basic.Booster at 0x7f8fc0026410>"
            ]
          },
          "metadata": {
            "tags": []
          },
          "execution_count": 257
        }
      ]
    },
    {
      "cell_type": "code",
      "metadata": {
        "colab": {
          "base_uri": "https://localhost:8080/",
          "height": 51
        },
        "id": "FRCeeo1UzT1o",
        "outputId": "6c549d34-9717-4a68-8128-e4b68af135d4"
      },
      "source": [
        "tn.save_model('/content/drive/MyDrive/Научная работа/Data/hyper/tn_x_data.txt')"
      ],
      "execution_count": null,
      "outputs": [
        {
          "output_type": "stream",
          "text": [
            "Successfully saved model at /content/drive/MyDrive/Научная работа/Data/hyper/tn_x_data.txt.zip\n"
          ],
          "name": "stdout"
        },
        {
          "output_type": "execute_result",
          "data": {
            "application/vnd.google.colaboratory.intrinsic+json": {
              "type": "string"
            },
            "text/plain": [
              "'/content/drive/MyDrive/Научная работа/Data/hyper/tn_x_data.txt.zip'"
            ]
          },
          "metadata": {
            "tags": []
          },
          "execution_count": 258
        }
      ]
    },
    {
      "cell_type": "code",
      "metadata": {
        "colab": {
          "base_uri": "https://localhost:8080/"
        },
        "id": "ZjnqtIitz_Zc",
        "outputId": "6c506f06-3f64-4f0a-d4a4-9d36e6eeb693"
      },
      "source": [
        "import joblib\n",
        "# save model\n",
        "joblib.dump(gb, '/content/drive/MyDrive/Научная работа/Data/hyper/gb_x_data.pkl')\n",
        "joblib.dump(tn, '/content/drive/MyDrive/Научная работа/Data/hyper/tn_x_data.pkl')\n"
      ],
      "execution_count": null,
      "outputs": [
        {
          "output_type": "execute_result",
          "data": {
            "text/plain": [
              "['/content/drive/MyDrive/Научная работа/Data/hyper/tn_x_data.pkl']"
            ]
          },
          "metadata": {
            "tags": []
          },
          "execution_count": 259
        }
      ]
    },
    {
      "cell_type": "markdown",
      "metadata": {
        "id": "7dG50Njl5ktB"
      },
      "source": [
        "# Разделение данных"
      ]
    },
    {
      "cell_type": "code",
      "metadata": {
        "id": "ycZUuKOxL47B"
      },
      "source": [
        "df_path = '/content/drive/MyDrive/Научная работа/Data/X-ray/x-ray_data_gz.uu'"
      ],
      "execution_count": 234,
      "outputs": []
    },
    {
      "cell_type": "code",
      "metadata": {
        "id": "COI0WXc4sXJ9"
      },
      "source": [
        "#with gzip.open(add_data_path, 'rb') as fd:\n",
        "df = pd.read_pickle(df_path, compression='gzip')"
      ],
      "execution_count": 235,
      "outputs": []
    },
    {
      "cell_type": "code",
      "metadata": {
        "id": "1bs3b50BH_Qq"
      },
      "source": [
        "features_path = '/content/drive/MyDrive/Научная работа/Data/features_sdssdr16+psdr2+all_deacls8tr_QSO+GALAXY_20201212133711.pkl'"
      ],
      "execution_count": 236,
      "outputs": []
    },
    {
      "cell_type": "code",
      "metadata": {
        "id": "tSG1zcS5B89x"
      },
      "source": [
        "features = pd.read_pickle(features_path)+ ['LabelQ', 'LabelG', 'LabelS', 'Label']"
      ],
      "execution_count": 237,
      "outputs": []
    },
    {
      "cell_type": "code",
      "metadata": {
        "id": "bSYNr0lW9OBd"
      },
      "source": [
        "df = df[features]"
      ],
      "execution_count": 238,
      "outputs": []
    },
    {
      "cell_type": "code",
      "metadata": {
        "colab": {
          "base_uri": "https://localhost:8080/",
          "height": 428
        },
        "id": "nPS0IQn94na-",
        "outputId": "00f40cdc-4f08-4b11-821f-4acf5e706494"
      },
      "source": [
        "df"
      ],
      "execution_count": 239,
      "outputs": [
        {
          "output_type": "execute_result",
          "data": {
            "text/html": [
              "<div>\n",
              "<style scoped>\n",
              "    .dataframe tbody tr th:only-of-type {\n",
              "        vertical-align: middle;\n",
              "    }\n",
              "\n",
              "    .dataframe tbody tr th {\n",
              "        vertical-align: top;\n",
              "    }\n",
              "\n",
              "    .dataframe thead th {\n",
              "        text-align: right;\n",
              "    }\n",
              "</style>\n",
              "<table border=\"1\" class=\"dataframe\">\n",
              "  <thead>\n",
              "    <tr style=\"text-align: right;\">\n",
              "      <th></th>\n",
              "      <th>sdssdr16_u_psf</th>\n",
              "      <th>sdssdr16_g_psf</th>\n",
              "      <th>sdssdr16_r_psf</th>\n",
              "      <th>sdssdr16_i_psf</th>\n",
              "      <th>sdssdr16_z_psf</th>\n",
              "      <th>sdssdr16_u_cmodel</th>\n",
              "      <th>sdssdr16_i_cmodel</th>\n",
              "      <th>sdssdr16_u-g_psf</th>\n",
              "      <th>sdssdr16_u-r_psf</th>\n",
              "      <th>sdssdr16_u-i_psf</th>\n",
              "      <th>sdssdr16_u-z_psf</th>\n",
              "      <th>sdssdr16_u_psf-cmodel</th>\n",
              "      <th>sdssdr16_g-i_psf</th>\n",
              "      <th>sdssdr16_g_psf-cmodel</th>\n",
              "      <th>sdssdr16_r-i_psf</th>\n",
              "      <th>sdssdr16_i-z_psf</th>\n",
              "      <th>sdssdr16_i_psf-cmodel</th>\n",
              "      <th>sdssdr16_u_cmodel-decals8tr_Lw1</th>\n",
              "      <th>sdssdr16_u_cmodel-decals8tr_Lw2</th>\n",
              "      <th>sdssdr16_g_cmodel-decals8tr_Lw1</th>\n",
              "      <th>sdssdr16_g_cmodel-decals8tr_Lw2</th>\n",
              "      <th>sdssdr16_r_cmodel-decals8tr_Lw1</th>\n",
              "      <th>sdssdr16_r_cmodel-decals8tr_Lw2</th>\n",
              "      <th>sdssdr16_i_cmodel-decals8tr_Lw1</th>\n",
              "      <th>sdssdr16_i_cmodel-decals8tr_Lw2</th>\n",
              "      <th>sdssdr16_z_cmodel-decals8tr_Lw1</th>\n",
              "      <th>sdssdr16_z_cmodel-decals8tr_Lw2</th>\n",
              "      <th>psdr2_i_kron</th>\n",
              "      <th>psdr2_y_kron</th>\n",
              "      <th>psdr2_g_psf</th>\n",
              "      <th>psdr2_r_psf</th>\n",
              "      <th>psdr2_i_psf</th>\n",
              "      <th>psdr2_z_psf</th>\n",
              "      <th>psdr2_y_psf</th>\n",
              "      <th>psdr2_g-i_psf</th>\n",
              "      <th>psdr2_g-y_psf</th>\n",
              "      <th>psdr2_r-i_psf</th>\n",
              "      <th>psdr2_r-y_psf</th>\n",
              "      <th>psdr2_i-z_psf</th>\n",
              "      <th>psdr2_i-y_psf</th>\n",
              "      <th>psdr2_i_psf-kron</th>\n",
              "      <th>psdr2_z-y_psf</th>\n",
              "      <th>psdr2_y_psf-kron</th>\n",
              "      <th>psdr2_g_kron-decals8tr_Lw1</th>\n",
              "      <th>psdr2_g_kron-decals8tr_Lw2</th>\n",
              "      <th>psdr2_r_kron-decals8tr_Lw1</th>\n",
              "      <th>psdr2_r_kron-decals8tr_Lw2</th>\n",
              "      <th>psdr2_i_kron-decals8tr_Lw1</th>\n",
              "      <th>psdr2_i_kron-decals8tr_Lw2</th>\n",
              "      <th>psdr2_z_kron-decals8tr_Lw1</th>\n",
              "      <th>psdr2_z_kron-decals8tr_Lw2</th>\n",
              "      <th>psdr2_y_kron-decals8tr_Lw1</th>\n",
              "      <th>psdr2_y_kron-decals8tr_Lw2</th>\n",
              "      <th>decals8tr_Lw1-Lw2</th>\n",
              "      <th>decals8tr_Lw1</th>\n",
              "      <th>decals8tr_Lw2</th>\n",
              "      <th>decals8tr_g</th>\n",
              "      <th>decals8tr_r</th>\n",
              "      <th>decals8tr_z</th>\n",
              "      <th>decals8tr_g-r</th>\n",
              "      <th>decals8tr_g-z</th>\n",
              "      <th>decals8tr_r-z</th>\n",
              "      <th>sdssdr16_g_cmodel-decals8tr_g</th>\n",
              "      <th>sdssdr16_r_cmodel-decals8tr_r</th>\n",
              "      <th>sdssdr16_z_cmodel-decals8tr_z</th>\n",
              "      <th>LabelQ</th>\n",
              "      <th>LabelG</th>\n",
              "      <th>LabelS</th>\n",
              "      <th>Label</th>\n",
              "    </tr>\n",
              "  </thead>\n",
              "  <tbody>\n",
              "    <tr>\n",
              "      <th>0</th>\n",
              "      <td>22.920023</td>\n",
              "      <td>21.565505</td>\n",
              "      <td>21.621283</td>\n",
              "      <td>21.359891</td>\n",
              "      <td>20.538294</td>\n",
              "      <td>22.769656</td>\n",
              "      <td>21.003623</td>\n",
              "      <td>1.354518</td>\n",
              "      <td>1.298741</td>\n",
              "      <td>1.560132</td>\n",
              "      <td>2.381730</td>\n",
              "      <td>0.150367</td>\n",
              "      <td>0.205614</td>\n",
              "      <td>-0.005931</td>\n",
              "      <td>0.261391</td>\n",
              "      <td>0.821598</td>\n",
              "      <td>0.356269</td>\n",
              "      <td>3.785637</td>\n",
              "      <td>3.685080</td>\n",
              "      <td>2.587416</td>\n",
              "      <td>2.486860</td>\n",
              "      <td>2.554807</td>\n",
              "      <td>2.454250</td>\n",
              "      <td>2.019603</td>\n",
              "      <td>1.919047</td>\n",
              "      <td>1.291036</td>\n",
              "      <td>1.190479</td>\n",
              "      <td>21.665634</td>\n",
              "      <td>21.402220</td>\n",
              "      <td>22.190093</td>\n",
              "      <td>22.087713</td>\n",
              "      <td>21.634099</td>\n",
              "      <td>21.289692</td>\n",
              "      <td>21.402220</td>\n",
              "      <td>0.555995</td>\n",
              "      <td>0.787873</td>\n",
              "      <td>0.453615</td>\n",
              "      <td>0.685493</td>\n",
              "      <td>0.344407</td>\n",
              "      <td>0.231878</td>\n",
              "      <td>-0.031535</td>\n",
              "      <td>-0.112529</td>\n",
              "      <td>0.000000</td>\n",
              "      <td>3.063683</td>\n",
              "      <td>2.963126</td>\n",
              "      <td>3.354069</td>\n",
              "      <td>3.253512</td>\n",
              "      <td>2.681614</td>\n",
              "      <td>2.581058</td>\n",
              "      <td>2.016970</td>\n",
              "      <td>1.916414</td>\n",
              "      <td>2.418201</td>\n",
              "      <td>2.317644</td>\n",
              "      <td>-0.100556</td>\n",
              "      <td>18.984020</td>\n",
              "      <td>19.084576</td>\n",
              "      <td>22.001940</td>\n",
              "      <td>21.912679</td>\n",
              "      <td>20.819145</td>\n",
              "      <td>0.089261</td>\n",
              "      <td>1.182795</td>\n",
              "      <td>1.093534</td>\n",
              "      <td>-0.430505</td>\n",
              "      <td>-0.373853</td>\n",
              "      <td>-0.544090</td>\n",
              "      <td>1</td>\n",
              "      <td>0</td>\n",
              "      <td>0</td>\n",
              "      <td>1</td>\n",
              "    </tr>\n",
              "    <tr>\n",
              "      <th>1</th>\n",
              "      <td>19.933288</td>\n",
              "      <td>19.661708</td>\n",
              "      <td>19.533851</td>\n",
              "      <td>19.275093</td>\n",
              "      <td>19.199960</td>\n",
              "      <td>19.896294</td>\n",
              "      <td>19.258232</td>\n",
              "      <td>0.271581</td>\n",
              "      <td>0.399437</td>\n",
              "      <td>0.658195</td>\n",
              "      <td>0.733328</td>\n",
              "      <td>0.036994</td>\n",
              "      <td>0.386615</td>\n",
              "      <td>0.016985</td>\n",
              "      <td>0.258758</td>\n",
              "      <td>0.075133</td>\n",
              "      <td>0.016861</td>\n",
              "      <td>1.332332</td>\n",
              "      <td>1.991179</td>\n",
              "      <td>1.080761</td>\n",
              "      <td>1.739607</td>\n",
              "      <td>0.975765</td>\n",
              "      <td>1.634612</td>\n",
              "      <td>0.694270</td>\n",
              "      <td>1.353117</td>\n",
              "      <td>0.598125</td>\n",
              "      <td>1.256971</td>\n",
              "      <td>19.445711</td>\n",
              "      <td>19.468038</td>\n",
              "      <td>19.991779</td>\n",
              "      <td>19.853252</td>\n",
              "      <td>19.411217</td>\n",
              "      <td>19.369294</td>\n",
              "      <td>19.387387</td>\n",
              "      <td>0.580562</td>\n",
              "      <td>0.604392</td>\n",
              "      <td>0.442035</td>\n",
              "      <td>0.465865</td>\n",
              "      <td>0.041924</td>\n",
              "      <td>0.023830</td>\n",
              "      <td>-0.034493</td>\n",
              "      <td>-0.018094</td>\n",
              "      <td>-0.080650</td>\n",
              "      <td>1.546244</td>\n",
              "      <td>2.205090</td>\n",
              "      <td>1.343668</td>\n",
              "      <td>2.002514</td>\n",
              "      <td>0.881749</td>\n",
              "      <td>1.540595</td>\n",
              "      <td>0.936519</td>\n",
              "      <td>1.595366</td>\n",
              "      <td>0.904076</td>\n",
              "      <td>1.562922</td>\n",
              "      <td>0.658846</td>\n",
              "      <td>18.563962</td>\n",
              "      <td>17.905116</td>\n",
              "      <td>19.511440</td>\n",
              "      <td>19.379499</td>\n",
              "      <td>19.041582</td>\n",
              "      <td>0.131941</td>\n",
              "      <td>0.469858</td>\n",
              "      <td>0.337916</td>\n",
              "      <td>0.133283</td>\n",
              "      <td>0.160229</td>\n",
              "      <td>0.120505</td>\n",
              "      <td>1</td>\n",
              "      <td>0</td>\n",
              "      <td>0</td>\n",
              "      <td>1</td>\n",
              "    </tr>\n",
              "    <tr>\n",
              "      <th>2</th>\n",
              "      <td>21.169854</td>\n",
              "      <td>19.856397</td>\n",
              "      <td>19.653011</td>\n",
              "      <td>19.657884</td>\n",
              "      <td>19.544269</td>\n",
              "      <td>21.155460</td>\n",
              "      <td>19.626169</td>\n",
              "      <td>1.313457</td>\n",
              "      <td>1.516843</td>\n",
              "      <td>1.511970</td>\n",
              "      <td>1.625585</td>\n",
              "      <td>0.014394</td>\n",
              "      <td>0.198513</td>\n",
              "      <td>0.015617</td>\n",
              "      <td>-0.004873</td>\n",
              "      <td>0.113615</td>\n",
              "      <td>0.031715</td>\n",
              "      <td>0.910512</td>\n",
              "      <td>1.261518</td>\n",
              "      <td>-0.404168</td>\n",
              "      <td>-0.053162</td>\n",
              "      <td>-0.601723</td>\n",
              "      <td>-0.250717</td>\n",
              "      <td>-0.618778</td>\n",
              "      <td>-0.267773</td>\n",
              "      <td>-0.761571</td>\n",
              "      <td>-0.410565</td>\n",
              "      <td>NaN</td>\n",
              "      <td>NaN</td>\n",
              "      <td>NaN</td>\n",
              "      <td>NaN</td>\n",
              "      <td>NaN</td>\n",
              "      <td>NaN</td>\n",
              "      <td>NaN</td>\n",
              "      <td>NaN</td>\n",
              "      <td>NaN</td>\n",
              "      <td>NaN</td>\n",
              "      <td>NaN</td>\n",
              "      <td>NaN</td>\n",
              "      <td>NaN</td>\n",
              "      <td>NaN</td>\n",
              "      <td>NaN</td>\n",
              "      <td>NaN</td>\n",
              "      <td>NaN</td>\n",
              "      <td>NaN</td>\n",
              "      <td>NaN</td>\n",
              "      <td>NaN</td>\n",
              "      <td>NaN</td>\n",
              "      <td>NaN</td>\n",
              "      <td>NaN</td>\n",
              "      <td>NaN</td>\n",
              "      <td>NaN</td>\n",
              "      <td>NaN</td>\n",
              "      <td>0.351006</td>\n",
              "      <td>20.244948</td>\n",
              "      <td>19.893942</td>\n",
              "      <td>20.246877</td>\n",
              "      <td>20.167877</td>\n",
              "      <td>20.141632</td>\n",
              "      <td>0.079000</td>\n",
              "      <td>0.105245</td>\n",
              "      <td>0.026245</td>\n",
              "      <td>-0.406098</td>\n",
              "      <td>-0.524652</td>\n",
              "      <td>-0.658255</td>\n",
              "      <td>1</td>\n",
              "      <td>0</td>\n",
              "      <td>0</td>\n",
              "      <td>1</td>\n",
              "    </tr>\n",
              "    <tr>\n",
              "      <th>3</th>\n",
              "      <td>21.462910</td>\n",
              "      <td>20.896202</td>\n",
              "      <td>20.697560</td>\n",
              "      <td>20.624691</td>\n",
              "      <td>20.230447</td>\n",
              "      <td>21.543505</td>\n",
              "      <td>20.629416</td>\n",
              "      <td>0.566709</td>\n",
              "      <td>0.765350</td>\n",
              "      <td>0.838219</td>\n",
              "      <td>1.232464</td>\n",
              "      <td>-0.080595</td>\n",
              "      <td>0.271510</td>\n",
              "      <td>-0.013927</td>\n",
              "      <td>0.072869</td>\n",
              "      <td>0.394245</td>\n",
              "      <td>-0.004725</td>\n",
              "      <td>0.952090</td>\n",
              "      <td>1.367123</td>\n",
              "      <td>0.318714</td>\n",
              "      <td>0.733747</td>\n",
              "      <td>0.103659</td>\n",
              "      <td>0.518692</td>\n",
              "      <td>0.038001</td>\n",
              "      <td>0.453034</td>\n",
              "      <td>-0.469909</td>\n",
              "      <td>-0.054876</td>\n",
              "      <td>21.142477</td>\n",
              "      <td>20.489200</td>\n",
              "      <td>21.200060</td>\n",
              "      <td>21.016467</td>\n",
              "      <td>21.097208</td>\n",
              "      <td>20.800597</td>\n",
              "      <td>20.638847</td>\n",
              "      <td>0.102852</td>\n",
              "      <td>0.561213</td>\n",
              "      <td>-0.080741</td>\n",
              "      <td>0.377620</td>\n",
              "      <td>0.296612</td>\n",
              "      <td>0.458361</td>\n",
              "      <td>-0.045269</td>\n",
              "      <td>0.161749</td>\n",
              "      <td>0.149648</td>\n",
              "      <td>0.562941</td>\n",
              "      <td>0.977974</td>\n",
              "      <td>0.525012</td>\n",
              "      <td>0.940045</td>\n",
              "      <td>0.551062</td>\n",
              "      <td>0.966095</td>\n",
              "      <td>0.411343</td>\n",
              "      <td>0.826376</td>\n",
              "      <td>-0.102215</td>\n",
              "      <td>0.312818</td>\n",
              "      <td>0.415033</td>\n",
              "      <td>20.591415</td>\n",
              "      <td>20.176382</td>\n",
              "      <td>21.039786</td>\n",
              "      <td>20.928928</td>\n",
              "      <td>20.674966</td>\n",
              "      <td>0.110858</td>\n",
              "      <td>0.364820</td>\n",
              "      <td>0.253962</td>\n",
              "      <td>-0.129658</td>\n",
              "      <td>-0.233854</td>\n",
              "      <td>-0.553460</td>\n",
              "      <td>1</td>\n",
              "      <td>0</td>\n",
              "      <td>0</td>\n",
              "      <td>1</td>\n",
              "    </tr>\n",
              "    <tr>\n",
              "      <th>4</th>\n",
              "      <td>21.807372</td>\n",
              "      <td>21.333804</td>\n",
              "      <td>21.339532</td>\n",
              "      <td>21.396991</td>\n",
              "      <td>20.997808</td>\n",
              "      <td>21.747126</td>\n",
              "      <td>21.271441</td>\n",
              "      <td>0.473568</td>\n",
              "      <td>0.467840</td>\n",
              "      <td>0.410380</td>\n",
              "      <td>0.809564</td>\n",
              "      <td>0.060246</td>\n",
              "      <td>-0.063188</td>\n",
              "      <td>0.020335</td>\n",
              "      <td>-0.057459</td>\n",
              "      <td>0.399184</td>\n",
              "      <td>0.125550</td>\n",
              "      <td>1.675917</td>\n",
              "      <td>2.307175</td>\n",
              "      <td>1.242260</td>\n",
              "      <td>1.873518</td>\n",
              "      <td>1.243229</td>\n",
              "      <td>1.874486</td>\n",
              "      <td>1.200232</td>\n",
              "      <td>1.831490</td>\n",
              "      <td>0.755095</td>\n",
              "      <td>1.386353</td>\n",
              "      <td>21.795659</td>\n",
              "      <td>20.986745</td>\n",
              "      <td>21.709883</td>\n",
              "      <td>21.645918</td>\n",
              "      <td>21.475944</td>\n",
              "      <td>20.975349</td>\n",
              "      <td>20.924649</td>\n",
              "      <td>0.233939</td>\n",
              "      <td>0.785234</td>\n",
              "      <td>0.169974</td>\n",
              "      <td>0.721269</td>\n",
              "      <td>0.500595</td>\n",
              "      <td>0.551295</td>\n",
              "      <td>-0.319715</td>\n",
              "      <td>0.050700</td>\n",
              "      <td>-0.062096</td>\n",
              "      <td>1.646190</td>\n",
              "      <td>2.277448</td>\n",
              "      <td>1.919331</td>\n",
              "      <td>2.550589</td>\n",
              "      <td>1.724450</td>\n",
              "      <td>2.355707</td>\n",
              "      <td>0.935480</td>\n",
              "      <td>1.566738</td>\n",
              "      <td>0.915536</td>\n",
              "      <td>1.546794</td>\n",
              "      <td>0.631258</td>\n",
              "      <td>20.071209</td>\n",
              "      <td>19.439951</td>\n",
              "      <td>22.010142</td>\n",
              "      <td>21.805173</td>\n",
              "      <td>21.275584</td>\n",
              "      <td>0.204969</td>\n",
              "      <td>0.734557</td>\n",
              "      <td>0.529589</td>\n",
              "      <td>-0.696673</td>\n",
              "      <td>-0.490735</td>\n",
              "      <td>-0.449280</td>\n",
              "      <td>1</td>\n",
              "      <td>0</td>\n",
              "      <td>0</td>\n",
              "      <td>1</td>\n",
              "    </tr>\n",
              "    <tr>\n",
              "      <th>...</th>\n",
              "      <td>...</td>\n",
              "      <td>...</td>\n",
              "      <td>...</td>\n",
              "      <td>...</td>\n",
              "      <td>...</td>\n",
              "      <td>...</td>\n",
              "      <td>...</td>\n",
              "      <td>...</td>\n",
              "      <td>...</td>\n",
              "      <td>...</td>\n",
              "      <td>...</td>\n",
              "      <td>...</td>\n",
              "      <td>...</td>\n",
              "      <td>...</td>\n",
              "      <td>...</td>\n",
              "      <td>...</td>\n",
              "      <td>...</td>\n",
              "      <td>...</td>\n",
              "      <td>...</td>\n",
              "      <td>...</td>\n",
              "      <td>...</td>\n",
              "      <td>...</td>\n",
              "      <td>...</td>\n",
              "      <td>...</td>\n",
              "      <td>...</td>\n",
              "      <td>...</td>\n",
              "      <td>...</td>\n",
              "      <td>...</td>\n",
              "      <td>...</td>\n",
              "      <td>...</td>\n",
              "      <td>...</td>\n",
              "      <td>...</td>\n",
              "      <td>...</td>\n",
              "      <td>...</td>\n",
              "      <td>...</td>\n",
              "      <td>...</td>\n",
              "      <td>...</td>\n",
              "      <td>...</td>\n",
              "      <td>...</td>\n",
              "      <td>...</td>\n",
              "      <td>...</td>\n",
              "      <td>...</td>\n",
              "      <td>...</td>\n",
              "      <td>...</td>\n",
              "      <td>...</td>\n",
              "      <td>...</td>\n",
              "      <td>...</td>\n",
              "      <td>...</td>\n",
              "      <td>...</td>\n",
              "      <td>...</td>\n",
              "      <td>...</td>\n",
              "      <td>...</td>\n",
              "      <td>...</td>\n",
              "      <td>...</td>\n",
              "      <td>...</td>\n",
              "      <td>...</td>\n",
              "      <td>...</td>\n",
              "      <td>...</td>\n",
              "      <td>...</td>\n",
              "      <td>...</td>\n",
              "      <td>...</td>\n",
              "      <td>...</td>\n",
              "      <td>...</td>\n",
              "      <td>...</td>\n",
              "      <td>...</td>\n",
              "      <td>...</td>\n",
              "      <td>...</td>\n",
              "      <td>...</td>\n",
              "      <td>...</td>\n",
              "    </tr>\n",
              "    <tr>\n",
              "      <th>20007</th>\n",
              "      <td>NaN</td>\n",
              "      <td>NaN</td>\n",
              "      <td>NaN</td>\n",
              "      <td>NaN</td>\n",
              "      <td>NaN</td>\n",
              "      <td>NaN</td>\n",
              "      <td>NaN</td>\n",
              "      <td>NaN</td>\n",
              "      <td>NaN</td>\n",
              "      <td>NaN</td>\n",
              "      <td>NaN</td>\n",
              "      <td>NaN</td>\n",
              "      <td>NaN</td>\n",
              "      <td>NaN</td>\n",
              "      <td>NaN</td>\n",
              "      <td>NaN</td>\n",
              "      <td>NaN</td>\n",
              "      <td>NaN</td>\n",
              "      <td>NaN</td>\n",
              "      <td>NaN</td>\n",
              "      <td>NaN</td>\n",
              "      <td>NaN</td>\n",
              "      <td>NaN</td>\n",
              "      <td>NaN</td>\n",
              "      <td>NaN</td>\n",
              "      <td>NaN</td>\n",
              "      <td>NaN</td>\n",
              "      <td>NaN</td>\n",
              "      <td>NaN</td>\n",
              "      <td>NaN</td>\n",
              "      <td>NaN</td>\n",
              "      <td>NaN</td>\n",
              "      <td>NaN</td>\n",
              "      <td>NaN</td>\n",
              "      <td>NaN</td>\n",
              "      <td>NaN</td>\n",
              "      <td>NaN</td>\n",
              "      <td>NaN</td>\n",
              "      <td>NaN</td>\n",
              "      <td>NaN</td>\n",
              "      <td>NaN</td>\n",
              "      <td>NaN</td>\n",
              "      <td>NaN</td>\n",
              "      <td>NaN</td>\n",
              "      <td>NaN</td>\n",
              "      <td>NaN</td>\n",
              "      <td>NaN</td>\n",
              "      <td>NaN</td>\n",
              "      <td>NaN</td>\n",
              "      <td>NaN</td>\n",
              "      <td>NaN</td>\n",
              "      <td>NaN</td>\n",
              "      <td>NaN</td>\n",
              "      <td>NaN</td>\n",
              "      <td>NaN</td>\n",
              "      <td>NaN</td>\n",
              "      <td>NaN</td>\n",
              "      <td>NaN</td>\n",
              "      <td>NaN</td>\n",
              "      <td>NaN</td>\n",
              "      <td>NaN</td>\n",
              "      <td>NaN</td>\n",
              "      <td>NaN</td>\n",
              "      <td>NaN</td>\n",
              "      <td>NaN</td>\n",
              "      <td>0</td>\n",
              "      <td>0</td>\n",
              "      <td>2</td>\n",
              "      <td>0</td>\n",
              "    </tr>\n",
              "    <tr>\n",
              "      <th>20008</th>\n",
              "      <td>NaN</td>\n",
              "      <td>NaN</td>\n",
              "      <td>NaN</td>\n",
              "      <td>NaN</td>\n",
              "      <td>NaN</td>\n",
              "      <td>NaN</td>\n",
              "      <td>NaN</td>\n",
              "      <td>NaN</td>\n",
              "      <td>NaN</td>\n",
              "      <td>NaN</td>\n",
              "      <td>NaN</td>\n",
              "      <td>NaN</td>\n",
              "      <td>NaN</td>\n",
              "      <td>NaN</td>\n",
              "      <td>NaN</td>\n",
              "      <td>NaN</td>\n",
              "      <td>NaN</td>\n",
              "      <td>NaN</td>\n",
              "      <td>NaN</td>\n",
              "      <td>NaN</td>\n",
              "      <td>NaN</td>\n",
              "      <td>NaN</td>\n",
              "      <td>NaN</td>\n",
              "      <td>NaN</td>\n",
              "      <td>NaN</td>\n",
              "      <td>NaN</td>\n",
              "      <td>NaN</td>\n",
              "      <td>NaN</td>\n",
              "      <td>NaN</td>\n",
              "      <td>NaN</td>\n",
              "      <td>NaN</td>\n",
              "      <td>NaN</td>\n",
              "      <td>NaN</td>\n",
              "      <td>NaN</td>\n",
              "      <td>NaN</td>\n",
              "      <td>NaN</td>\n",
              "      <td>NaN</td>\n",
              "      <td>NaN</td>\n",
              "      <td>NaN</td>\n",
              "      <td>NaN</td>\n",
              "      <td>NaN</td>\n",
              "      <td>NaN</td>\n",
              "      <td>NaN</td>\n",
              "      <td>NaN</td>\n",
              "      <td>NaN</td>\n",
              "      <td>NaN</td>\n",
              "      <td>NaN</td>\n",
              "      <td>NaN</td>\n",
              "      <td>NaN</td>\n",
              "      <td>NaN</td>\n",
              "      <td>NaN</td>\n",
              "      <td>NaN</td>\n",
              "      <td>NaN</td>\n",
              "      <td>NaN</td>\n",
              "      <td>NaN</td>\n",
              "      <td>NaN</td>\n",
              "      <td>NaN</td>\n",
              "      <td>NaN</td>\n",
              "      <td>NaN</td>\n",
              "      <td>NaN</td>\n",
              "      <td>NaN</td>\n",
              "      <td>NaN</td>\n",
              "      <td>NaN</td>\n",
              "      <td>NaN</td>\n",
              "      <td>NaN</td>\n",
              "      <td>0</td>\n",
              "      <td>0</td>\n",
              "      <td>2</td>\n",
              "      <td>0</td>\n",
              "    </tr>\n",
              "    <tr>\n",
              "      <th>20009</th>\n",
              "      <td>NaN</td>\n",
              "      <td>NaN</td>\n",
              "      <td>NaN</td>\n",
              "      <td>NaN</td>\n",
              "      <td>NaN</td>\n",
              "      <td>NaN</td>\n",
              "      <td>NaN</td>\n",
              "      <td>NaN</td>\n",
              "      <td>NaN</td>\n",
              "      <td>NaN</td>\n",
              "      <td>NaN</td>\n",
              "      <td>NaN</td>\n",
              "      <td>NaN</td>\n",
              "      <td>NaN</td>\n",
              "      <td>NaN</td>\n",
              "      <td>NaN</td>\n",
              "      <td>NaN</td>\n",
              "      <td>NaN</td>\n",
              "      <td>NaN</td>\n",
              "      <td>NaN</td>\n",
              "      <td>NaN</td>\n",
              "      <td>NaN</td>\n",
              "      <td>NaN</td>\n",
              "      <td>NaN</td>\n",
              "      <td>NaN</td>\n",
              "      <td>NaN</td>\n",
              "      <td>NaN</td>\n",
              "      <td>NaN</td>\n",
              "      <td>NaN</td>\n",
              "      <td>NaN</td>\n",
              "      <td>NaN</td>\n",
              "      <td>NaN</td>\n",
              "      <td>NaN</td>\n",
              "      <td>NaN</td>\n",
              "      <td>NaN</td>\n",
              "      <td>NaN</td>\n",
              "      <td>NaN</td>\n",
              "      <td>NaN</td>\n",
              "      <td>NaN</td>\n",
              "      <td>NaN</td>\n",
              "      <td>NaN</td>\n",
              "      <td>NaN</td>\n",
              "      <td>NaN</td>\n",
              "      <td>NaN</td>\n",
              "      <td>NaN</td>\n",
              "      <td>NaN</td>\n",
              "      <td>NaN</td>\n",
              "      <td>NaN</td>\n",
              "      <td>NaN</td>\n",
              "      <td>NaN</td>\n",
              "      <td>NaN</td>\n",
              "      <td>NaN</td>\n",
              "      <td>NaN</td>\n",
              "      <td>NaN</td>\n",
              "      <td>NaN</td>\n",
              "      <td>NaN</td>\n",
              "      <td>NaN</td>\n",
              "      <td>NaN</td>\n",
              "      <td>NaN</td>\n",
              "      <td>NaN</td>\n",
              "      <td>NaN</td>\n",
              "      <td>NaN</td>\n",
              "      <td>NaN</td>\n",
              "      <td>NaN</td>\n",
              "      <td>NaN</td>\n",
              "      <td>0</td>\n",
              "      <td>0</td>\n",
              "      <td>2</td>\n",
              "      <td>0</td>\n",
              "    </tr>\n",
              "    <tr>\n",
              "      <th>20010</th>\n",
              "      <td>12.033379</td>\n",
              "      <td>10.839125</td>\n",
              "      <td>9.676886</td>\n",
              "      <td>15.717350</td>\n",
              "      <td>7.958119</td>\n",
              "      <td>14.109184</td>\n",
              "      <td>11.643447</td>\n",
              "      <td>1.194254</td>\n",
              "      <td>2.356493</td>\n",
              "      <td>-3.683971</td>\n",
              "      <td>4.075260</td>\n",
              "      <td>-2.075805</td>\n",
              "      <td>-4.878225</td>\n",
              "      <td>-3.254005</td>\n",
              "      <td>-6.040463</td>\n",
              "      <td>7.759231</td>\n",
              "      <td>4.073902</td>\n",
              "      <td>5.488688</td>\n",
              "      <td>5.529773</td>\n",
              "      <td>5.472634</td>\n",
              "      <td>5.513719</td>\n",
              "      <td>4.671113</td>\n",
              "      <td>4.712198</td>\n",
              "      <td>3.022951</td>\n",
              "      <td>3.064036</td>\n",
              "      <td>1.916298</td>\n",
              "      <td>1.957383</td>\n",
              "      <td>NaN</td>\n",
              "      <td>NaN</td>\n",
              "      <td>NaN</td>\n",
              "      <td>NaN</td>\n",
              "      <td>NaN</td>\n",
              "      <td>NaN</td>\n",
              "      <td>NaN</td>\n",
              "      <td>NaN</td>\n",
              "      <td>NaN</td>\n",
              "      <td>NaN</td>\n",
              "      <td>NaN</td>\n",
              "      <td>NaN</td>\n",
              "      <td>NaN</td>\n",
              "      <td>NaN</td>\n",
              "      <td>NaN</td>\n",
              "      <td>NaN</td>\n",
              "      <td>NaN</td>\n",
              "      <td>NaN</td>\n",
              "      <td>NaN</td>\n",
              "      <td>NaN</td>\n",
              "      <td>NaN</td>\n",
              "      <td>NaN</td>\n",
              "      <td>NaN</td>\n",
              "      <td>NaN</td>\n",
              "      <td>NaN</td>\n",
              "      <td>NaN</td>\n",
              "      <td>0.041085</td>\n",
              "      <td>8.620496</td>\n",
              "      <td>8.579411</td>\n",
              "      <td>12.236090</td>\n",
              "      <td>12.009304</td>\n",
              "      <td>14.070101</td>\n",
              "      <td>0.226786</td>\n",
              "      <td>-1.834011</td>\n",
              "      <td>-2.060797</td>\n",
              "      <td>1.857040</td>\n",
              "      <td>1.282305</td>\n",
              "      <td>-3.533307</td>\n",
              "      <td>0</td>\n",
              "      <td>0</td>\n",
              "      <td>2</td>\n",
              "      <td>0</td>\n",
              "    </tr>\n",
              "    <tr>\n",
              "      <th>20011</th>\n",
              "      <td>18.825795</td>\n",
              "      <td>16.930775</td>\n",
              "      <td>16.009830</td>\n",
              "      <td>15.568099</td>\n",
              "      <td>15.335913</td>\n",
              "      <td>18.814910</td>\n",
              "      <td>15.567361</td>\n",
              "      <td>1.895021</td>\n",
              "      <td>2.815965</td>\n",
              "      <td>3.257696</td>\n",
              "      <td>3.489883</td>\n",
              "      <td>0.010886</td>\n",
              "      <td>1.362675</td>\n",
              "      <td>0.012904</td>\n",
              "      <td>0.441731</td>\n",
              "      <td>0.232187</td>\n",
              "      <td>0.000739</td>\n",
              "      <td>2.700888</td>\n",
              "      <td>2.077104</td>\n",
              "      <td>0.803849</td>\n",
              "      <td>0.180066</td>\n",
              "      <td>-0.115503</td>\n",
              "      <td>-0.739286</td>\n",
              "      <td>-0.546661</td>\n",
              "      <td>-1.170445</td>\n",
              "      <td>-0.847446</td>\n",
              "      <td>-1.471230</td>\n",
              "      <td>15.652003</td>\n",
              "      <td>15.257767</td>\n",
              "      <td>16.863090</td>\n",
              "      <td>16.099855</td>\n",
              "      <td>15.645479</td>\n",
              "      <td>15.331374</td>\n",
              "      <td>15.280365</td>\n",
              "      <td>1.217611</td>\n",
              "      <td>1.582725</td>\n",
              "      <td>0.454376</td>\n",
              "      <td>0.819491</td>\n",
              "      <td>0.314105</td>\n",
              "      <td>0.365114</td>\n",
              "      <td>-0.006524</td>\n",
              "      <td>0.051009</td>\n",
              "      <td>0.022598</td>\n",
              "      <td>0.818291</td>\n",
              "      <td>0.194508</td>\n",
              "      <td>-0.008586</td>\n",
              "      <td>-0.632370</td>\n",
              "      <td>-0.462019</td>\n",
              "      <td>-1.085803</td>\n",
              "      <td>-0.705682</td>\n",
              "      <td>-1.329466</td>\n",
              "      <td>-0.856255</td>\n",
              "      <td>-1.480038</td>\n",
              "      <td>-0.623784</td>\n",
              "      <td>16.114022</td>\n",
              "      <td>16.737805</td>\n",
              "      <td>16.960602</td>\n",
              "      <td>16.039827</td>\n",
              "      <td>15.399585</td>\n",
              "      <td>0.920774</td>\n",
              "      <td>1.561016</td>\n",
              "      <td>0.640242</td>\n",
              "      <td>-0.042731</td>\n",
              "      <td>-0.041308</td>\n",
              "      <td>-0.133010</td>\n",
              "      <td>0</td>\n",
              "      <td>0</td>\n",
              "      <td>2</td>\n",
              "      <td>0</td>\n",
              "    </tr>\n",
              "  </tbody>\n",
              "</table>\n",
              "<p>20012 rows × 69 columns</p>\n",
              "</div>"
            ],
            "text/plain": [
              "       sdssdr16_u_psf  sdssdr16_g_psf  sdssdr16_r_psf  ...  LabelG  LabelS  Label\n",
              "0           22.920023       21.565505       21.621283  ...       0       0      1\n",
              "1           19.933288       19.661708       19.533851  ...       0       0      1\n",
              "2           21.169854       19.856397       19.653011  ...       0       0      1\n",
              "3           21.462910       20.896202       20.697560  ...       0       0      1\n",
              "4           21.807372       21.333804       21.339532  ...       0       0      1\n",
              "...               ...             ...             ...  ...     ...     ...    ...\n",
              "20007             NaN             NaN             NaN  ...       0       2      0\n",
              "20008             NaN             NaN             NaN  ...       0       2      0\n",
              "20009             NaN             NaN             NaN  ...       0       2      0\n",
              "20010       12.033379       10.839125        9.676886  ...       0       2      0\n",
              "20011       18.825795       16.930775       16.009830  ...       0       2      0\n",
              "\n",
              "[20012 rows x 69 columns]"
            ]
          },
          "metadata": {
            "tags": []
          },
          "execution_count": 239
        }
      ]
    },
    {
      "cell_type": "code",
      "metadata": {
        "id": "iXFYvowD2w_M"
      },
      "source": [
        "df_s = df[df.Label==0]\n",
        "df_q = df[df.Label==1]\n",
        "df_g = df[df.Label==2]"
      ],
      "execution_count": 240,
      "outputs": []
    },
    {
      "cell_type": "code",
      "metadata": {
        "colab": {
          "base_uri": "https://localhost:8080/",
          "height": 428
        },
        "id": "T9UlYPAE5dPF",
        "outputId": "9ec38b07-d344-4280-89f8-1d03f068c959"
      },
      "source": [
        "df_s"
      ],
      "execution_count": 241,
      "outputs": [
        {
          "output_type": "execute_result",
          "data": {
            "text/html": [
              "<div>\n",
              "<style scoped>\n",
              "    .dataframe tbody tr th:only-of-type {\n",
              "        vertical-align: middle;\n",
              "    }\n",
              "\n",
              "    .dataframe tbody tr th {\n",
              "        vertical-align: top;\n",
              "    }\n",
              "\n",
              "    .dataframe thead th {\n",
              "        text-align: right;\n",
              "    }\n",
              "</style>\n",
              "<table border=\"1\" class=\"dataframe\">\n",
              "  <thead>\n",
              "    <tr style=\"text-align: right;\">\n",
              "      <th></th>\n",
              "      <th>sdssdr16_u_psf</th>\n",
              "      <th>sdssdr16_g_psf</th>\n",
              "      <th>sdssdr16_r_psf</th>\n",
              "      <th>sdssdr16_i_psf</th>\n",
              "      <th>sdssdr16_z_psf</th>\n",
              "      <th>sdssdr16_u_cmodel</th>\n",
              "      <th>sdssdr16_i_cmodel</th>\n",
              "      <th>sdssdr16_u-g_psf</th>\n",
              "      <th>sdssdr16_u-r_psf</th>\n",
              "      <th>sdssdr16_u-i_psf</th>\n",
              "      <th>sdssdr16_u-z_psf</th>\n",
              "      <th>sdssdr16_u_psf-cmodel</th>\n",
              "      <th>sdssdr16_g-i_psf</th>\n",
              "      <th>sdssdr16_g_psf-cmodel</th>\n",
              "      <th>sdssdr16_r-i_psf</th>\n",
              "      <th>sdssdr16_i-z_psf</th>\n",
              "      <th>sdssdr16_i_psf-cmodel</th>\n",
              "      <th>sdssdr16_u_cmodel-decals8tr_Lw1</th>\n",
              "      <th>sdssdr16_u_cmodel-decals8tr_Lw2</th>\n",
              "      <th>sdssdr16_g_cmodel-decals8tr_Lw1</th>\n",
              "      <th>sdssdr16_g_cmodel-decals8tr_Lw2</th>\n",
              "      <th>sdssdr16_r_cmodel-decals8tr_Lw1</th>\n",
              "      <th>sdssdr16_r_cmodel-decals8tr_Lw2</th>\n",
              "      <th>sdssdr16_i_cmodel-decals8tr_Lw1</th>\n",
              "      <th>sdssdr16_i_cmodel-decals8tr_Lw2</th>\n",
              "      <th>sdssdr16_z_cmodel-decals8tr_Lw1</th>\n",
              "      <th>sdssdr16_z_cmodel-decals8tr_Lw2</th>\n",
              "      <th>psdr2_i_kron</th>\n",
              "      <th>psdr2_y_kron</th>\n",
              "      <th>psdr2_g_psf</th>\n",
              "      <th>psdr2_r_psf</th>\n",
              "      <th>psdr2_i_psf</th>\n",
              "      <th>psdr2_z_psf</th>\n",
              "      <th>psdr2_y_psf</th>\n",
              "      <th>psdr2_g-i_psf</th>\n",
              "      <th>psdr2_g-y_psf</th>\n",
              "      <th>psdr2_r-i_psf</th>\n",
              "      <th>psdr2_r-y_psf</th>\n",
              "      <th>psdr2_i-z_psf</th>\n",
              "      <th>psdr2_i-y_psf</th>\n",
              "      <th>psdr2_i_psf-kron</th>\n",
              "      <th>psdr2_z-y_psf</th>\n",
              "      <th>psdr2_y_psf-kron</th>\n",
              "      <th>psdr2_g_kron-decals8tr_Lw1</th>\n",
              "      <th>psdr2_g_kron-decals8tr_Lw2</th>\n",
              "      <th>psdr2_r_kron-decals8tr_Lw1</th>\n",
              "      <th>psdr2_r_kron-decals8tr_Lw2</th>\n",
              "      <th>psdr2_i_kron-decals8tr_Lw1</th>\n",
              "      <th>psdr2_i_kron-decals8tr_Lw2</th>\n",
              "      <th>psdr2_z_kron-decals8tr_Lw1</th>\n",
              "      <th>psdr2_z_kron-decals8tr_Lw2</th>\n",
              "      <th>psdr2_y_kron-decals8tr_Lw1</th>\n",
              "      <th>psdr2_y_kron-decals8tr_Lw2</th>\n",
              "      <th>decals8tr_Lw1-Lw2</th>\n",
              "      <th>decals8tr_Lw1</th>\n",
              "      <th>decals8tr_Lw2</th>\n",
              "      <th>decals8tr_g</th>\n",
              "      <th>decals8tr_r</th>\n",
              "      <th>decals8tr_z</th>\n",
              "      <th>decals8tr_g-r</th>\n",
              "      <th>decals8tr_g-z</th>\n",
              "      <th>decals8tr_r-z</th>\n",
              "      <th>sdssdr16_g_cmodel-decals8tr_g</th>\n",
              "      <th>sdssdr16_r_cmodel-decals8tr_r</th>\n",
              "      <th>sdssdr16_z_cmodel-decals8tr_z</th>\n",
              "      <th>LabelQ</th>\n",
              "      <th>LabelG</th>\n",
              "      <th>LabelS</th>\n",
              "      <th>Label</th>\n",
              "    </tr>\n",
              "  </thead>\n",
              "  <tbody>\n",
              "    <tr>\n",
              "      <th>14095</th>\n",
              "      <td>22.205799</td>\n",
              "      <td>20.147787</td>\n",
              "      <td>19.289909</td>\n",
              "      <td>18.977191</td>\n",
              "      <td>18.667902</td>\n",
              "      <td>20.895187</td>\n",
              "      <td>18.822989</td>\n",
              "      <td>2.058012</td>\n",
              "      <td>2.915890</td>\n",
              "      <td>3.228608</td>\n",
              "      <td>3.537898</td>\n",
              "      <td>1.310613</td>\n",
              "      <td>1.170596</td>\n",
              "      <td>0.061094</td>\n",
              "      <td>0.312718</td>\n",
              "      <td>0.309289</td>\n",
              "      <td>0.154202</td>\n",
              "      <td>1.974550</td>\n",
              "      <td>1.960860</td>\n",
              "      <td>1.166056</td>\n",
              "      <td>1.152367</td>\n",
              "      <td>0.305213</td>\n",
              "      <td>0.291523</td>\n",
              "      <td>-0.097648</td>\n",
              "      <td>-0.111338</td>\n",
              "      <td>-0.425530</td>\n",
              "      <td>-0.439219</td>\n",
              "      <td>18.920448</td>\n",
              "      <td>18.628564</td>\n",
              "      <td>20.006031</td>\n",
              "      <td>19.303136</td>\n",
              "      <td>18.975600</td>\n",
              "      <td>18.842633</td>\n",
              "      <td>18.759075</td>\n",
              "      <td>1.030431</td>\n",
              "      <td>1.246956</td>\n",
              "      <td>0.327537</td>\n",
              "      <td>0.544061</td>\n",
              "      <td>0.132967</td>\n",
              "      <td>0.216524</td>\n",
              "      <td>0.055151</td>\n",
              "      <td>0.083557</td>\n",
              "      <td>0.130512</td>\n",
              "      <td>1.094189</td>\n",
              "      <td>1.080499</td>\n",
              "      <td>0.366355</td>\n",
              "      <td>0.352666</td>\n",
              "      <td>-0.000189</td>\n",
              "      <td>-0.013878</td>\n",
              "      <td>-0.220647</td>\n",
              "      <td>-0.234337</td>\n",
              "      <td>-0.292073</td>\n",
              "      <td>-0.305763</td>\n",
              "      <td>-0.013689</td>\n",
              "      <td>18.920637</td>\n",
              "      <td>18.934326</td>\n",
              "      <td>20.042944</td>\n",
              "      <td>19.211602</td>\n",
              "      <td>18.759660</td>\n",
              "      <td>0.831342</td>\n",
              "      <td>1.283285</td>\n",
              "      <td>0.451942</td>\n",
              "      <td>0.043749</td>\n",
              "      <td>0.014248</td>\n",
              "      <td>-0.264553</td>\n",
              "      <td>0</td>\n",
              "      <td>0</td>\n",
              "      <td>1</td>\n",
              "      <td>0</td>\n",
              "    </tr>\n",
              "    <tr>\n",
              "      <th>14096</th>\n",
              "      <td>NaN</td>\n",
              "      <td>NaN</td>\n",
              "      <td>NaN</td>\n",
              "      <td>NaN</td>\n",
              "      <td>NaN</td>\n",
              "      <td>NaN</td>\n",
              "      <td>NaN</td>\n",
              "      <td>NaN</td>\n",
              "      <td>NaN</td>\n",
              "      <td>NaN</td>\n",
              "      <td>NaN</td>\n",
              "      <td>NaN</td>\n",
              "      <td>NaN</td>\n",
              "      <td>NaN</td>\n",
              "      <td>NaN</td>\n",
              "      <td>NaN</td>\n",
              "      <td>NaN</td>\n",
              "      <td>NaN</td>\n",
              "      <td>NaN</td>\n",
              "      <td>NaN</td>\n",
              "      <td>NaN</td>\n",
              "      <td>NaN</td>\n",
              "      <td>NaN</td>\n",
              "      <td>NaN</td>\n",
              "      <td>NaN</td>\n",
              "      <td>NaN</td>\n",
              "      <td>NaN</td>\n",
              "      <td>NaN</td>\n",
              "      <td>NaN</td>\n",
              "      <td>NaN</td>\n",
              "      <td>NaN</td>\n",
              "      <td>NaN</td>\n",
              "      <td>NaN</td>\n",
              "      <td>NaN</td>\n",
              "      <td>NaN</td>\n",
              "      <td>NaN</td>\n",
              "      <td>NaN</td>\n",
              "      <td>NaN</td>\n",
              "      <td>NaN</td>\n",
              "      <td>NaN</td>\n",
              "      <td>NaN</td>\n",
              "      <td>NaN</td>\n",
              "      <td>NaN</td>\n",
              "      <td>NaN</td>\n",
              "      <td>NaN</td>\n",
              "      <td>NaN</td>\n",
              "      <td>NaN</td>\n",
              "      <td>NaN</td>\n",
              "      <td>NaN</td>\n",
              "      <td>NaN</td>\n",
              "      <td>NaN</td>\n",
              "      <td>NaN</td>\n",
              "      <td>NaN</td>\n",
              "      <td>NaN</td>\n",
              "      <td>NaN</td>\n",
              "      <td>NaN</td>\n",
              "      <td>NaN</td>\n",
              "      <td>NaN</td>\n",
              "      <td>NaN</td>\n",
              "      <td>NaN</td>\n",
              "      <td>NaN</td>\n",
              "      <td>NaN</td>\n",
              "      <td>NaN</td>\n",
              "      <td>NaN</td>\n",
              "      <td>NaN</td>\n",
              "      <td>0</td>\n",
              "      <td>0</td>\n",
              "      <td>1</td>\n",
              "      <td>0</td>\n",
              "    </tr>\n",
              "    <tr>\n",
              "      <th>14097</th>\n",
              "      <td>19.140804</td>\n",
              "      <td>17.888408</td>\n",
              "      <td>17.442821</td>\n",
              "      <td>17.247753</td>\n",
              "      <td>17.171994</td>\n",
              "      <td>19.147438</td>\n",
              "      <td>17.253295</td>\n",
              "      <td>1.252396</td>\n",
              "      <td>1.697983</td>\n",
              "      <td>1.893051</td>\n",
              "      <td>1.968810</td>\n",
              "      <td>-0.006634</td>\n",
              "      <td>0.640655</td>\n",
              "      <td>0.004969</td>\n",
              "      <td>0.195068</td>\n",
              "      <td>0.075759</td>\n",
              "      <td>-0.005543</td>\n",
              "      <td>0.812691</td>\n",
              "      <td>0.243831</td>\n",
              "      <td>-0.451308</td>\n",
              "      <td>-1.020168</td>\n",
              "      <td>-0.904510</td>\n",
              "      <td>-1.473370</td>\n",
              "      <td>-1.081452</td>\n",
              "      <td>-1.650312</td>\n",
              "      <td>-1.157631</td>\n",
              "      <td>-1.726491</td>\n",
              "      <td>17.361251</td>\n",
              "      <td>17.204722</td>\n",
              "      <td>17.837975</td>\n",
              "      <td>17.269408</td>\n",
              "      <td>17.273035</td>\n",
              "      <td>17.220647</td>\n",
              "      <td>17.180256</td>\n",
              "      <td>0.564940</td>\n",
              "      <td>0.657720</td>\n",
              "      <td>-0.003628</td>\n",
              "      <td>0.089152</td>\n",
              "      <td>0.052388</td>\n",
              "      <td>0.092780</td>\n",
              "      <td>-0.088216</td>\n",
              "      <td>0.040392</td>\n",
              "      <td>-0.024467</td>\n",
              "      <td>-0.439107</td>\n",
              "      <td>-1.007967</td>\n",
              "      <td>-0.855828</td>\n",
              "      <td>-1.424688</td>\n",
              "      <td>-0.973496</td>\n",
              "      <td>-1.542356</td>\n",
              "      <td>-1.032787</td>\n",
              "      <td>-1.601647</td>\n",
              "      <td>-1.130025</td>\n",
              "      <td>-1.698885</td>\n",
              "      <td>-0.568860</td>\n",
              "      <td>18.334747</td>\n",
              "      <td>18.903607</td>\n",
              "      <td>17.828840</td>\n",
              "      <td>17.366467</td>\n",
              "      <td>17.176663</td>\n",
              "      <td>0.462373</td>\n",
              "      <td>0.652177</td>\n",
              "      <td>0.189804</td>\n",
              "      <td>0.054600</td>\n",
              "      <td>0.063770</td>\n",
              "      <td>0.000453</td>\n",
              "      <td>0</td>\n",
              "      <td>0</td>\n",
              "      <td>1</td>\n",
              "      <td>0</td>\n",
              "    </tr>\n",
              "    <tr>\n",
              "      <th>14098</th>\n",
              "      <td>19.882465</td>\n",
              "      <td>18.527261</td>\n",
              "      <td>17.841124</td>\n",
              "      <td>17.628888</td>\n",
              "      <td>17.428524</td>\n",
              "      <td>19.862783</td>\n",
              "      <td>17.609165</td>\n",
              "      <td>1.355204</td>\n",
              "      <td>2.041341</td>\n",
              "      <td>2.253578</td>\n",
              "      <td>2.453942</td>\n",
              "      <td>0.019683</td>\n",
              "      <td>0.898374</td>\n",
              "      <td>0.021378</td>\n",
              "      <td>0.212236</td>\n",
              "      <td>0.200364</td>\n",
              "      <td>0.019722</td>\n",
              "      <td>1.320175</td>\n",
              "      <td>0.703110</td>\n",
              "      <td>-0.036724</td>\n",
              "      <td>-0.653789</td>\n",
              "      <td>-0.703643</td>\n",
              "      <td>-1.320707</td>\n",
              "      <td>-0.933443</td>\n",
              "      <td>-1.550507</td>\n",
              "      <td>-1.096180</td>\n",
              "      <td>-1.713245</td>\n",
              "      <td>17.709008</td>\n",
              "      <td>17.603952</td>\n",
              "      <td>18.415109</td>\n",
              "      <td>17.840860</td>\n",
              "      <td>17.702549</td>\n",
              "      <td>17.514029</td>\n",
              "      <td>17.457911</td>\n",
              "      <td>0.712560</td>\n",
              "      <td>0.957198</td>\n",
              "      <td>0.138311</td>\n",
              "      <td>0.382949</td>\n",
              "      <td>0.188521</td>\n",
              "      <td>0.244638</td>\n",
              "      <td>-0.006458</td>\n",
              "      <td>0.056118</td>\n",
              "      <td>-0.146041</td>\n",
              "      <td>-0.078471</td>\n",
              "      <td>-0.695536</td>\n",
              "      <td>-0.648537</td>\n",
              "      <td>-1.265601</td>\n",
              "      <td>-0.833600</td>\n",
              "      <td>-1.450665</td>\n",
              "      <td>-0.923954</td>\n",
              "      <td>-1.541018</td>\n",
              "      <td>-0.938655</td>\n",
              "      <td>-1.555720</td>\n",
              "      <td>-0.617064</td>\n",
              "      <td>18.542608</td>\n",
              "      <td>19.159672</td>\n",
              "      <td>18.420719</td>\n",
              "      <td>17.778269</td>\n",
              "      <td>17.500613</td>\n",
              "      <td>0.642449</td>\n",
              "      <td>0.920105</td>\n",
              "      <td>0.277656</td>\n",
              "      <td>0.085165</td>\n",
              "      <td>0.060696</td>\n",
              "      <td>-0.054186</td>\n",
              "      <td>0</td>\n",
              "      <td>0</td>\n",
              "      <td>1</td>\n",
              "      <td>0</td>\n",
              "    </tr>\n",
              "    <tr>\n",
              "      <th>14099</th>\n",
              "      <td>20.980263</td>\n",
              "      <td>18.559502</td>\n",
              "      <td>17.500689</td>\n",
              "      <td>17.085194</td>\n",
              "      <td>16.828653</td>\n",
              "      <td>20.862707</td>\n",
              "      <td>17.077459</td>\n",
              "      <td>2.420761</td>\n",
              "      <td>3.479574</td>\n",
              "      <td>3.895069</td>\n",
              "      <td>4.151611</td>\n",
              "      <td>0.117557</td>\n",
              "      <td>1.474308</td>\n",
              "      <td>-0.001674</td>\n",
              "      <td>0.415495</td>\n",
              "      <td>0.256542</td>\n",
              "      <td>0.007735</td>\n",
              "      <td>3.275773</td>\n",
              "      <td>2.688127</td>\n",
              "      <td>0.974243</td>\n",
              "      <td>0.386598</td>\n",
              "      <td>-0.101355</td>\n",
              "      <td>-0.689001</td>\n",
              "      <td>-0.509474</td>\n",
              "      <td>-1.097120</td>\n",
              "      <td>-0.745986</td>\n",
              "      <td>-1.333632</td>\n",
              "      <td>17.155033</td>\n",
              "      <td>16.890206</td>\n",
              "      <td>18.422798</td>\n",
              "      <td>17.450494</td>\n",
              "      <td>17.080503</td>\n",
              "      <td>16.921963</td>\n",
              "      <td>16.856364</td>\n",
              "      <td>1.342295</td>\n",
              "      <td>1.566434</td>\n",
              "      <td>0.369991</td>\n",
              "      <td>0.594130</td>\n",
              "      <td>0.158539</td>\n",
              "      <td>0.224139</td>\n",
              "      <td>-0.074530</td>\n",
              "      <td>0.065600</td>\n",
              "      <td>-0.033843</td>\n",
              "      <td>0.907575</td>\n",
              "      <td>0.319929</td>\n",
              "      <td>-0.051811</td>\n",
              "      <td>-0.639456</td>\n",
              "      <td>-0.431901</td>\n",
              "      <td>-1.019546</td>\n",
              "      <td>-0.606877</td>\n",
              "      <td>-1.194523</td>\n",
              "      <td>-0.696727</td>\n",
              "      <td>-1.284373</td>\n",
              "      <td>-0.587646</td>\n",
              "      <td>17.586934</td>\n",
              "      <td>18.174579</td>\n",
              "      <td>18.473763</td>\n",
              "      <td>17.378221</td>\n",
              "      <td>16.844015</td>\n",
              "      <td>1.095543</td>\n",
              "      <td>1.629748</td>\n",
              "      <td>0.534205</td>\n",
              "      <td>0.087414</td>\n",
              "      <td>0.107358</td>\n",
              "      <td>-0.003068</td>\n",
              "      <td>0</td>\n",
              "      <td>0</td>\n",
              "      <td>1</td>\n",
              "      <td>0</td>\n",
              "    </tr>\n",
              "    <tr>\n",
              "      <th>...</th>\n",
              "      <td>...</td>\n",
              "      <td>...</td>\n",
              "      <td>...</td>\n",
              "      <td>...</td>\n",
              "      <td>...</td>\n",
              "      <td>...</td>\n",
              "      <td>...</td>\n",
              "      <td>...</td>\n",
              "      <td>...</td>\n",
              "      <td>...</td>\n",
              "      <td>...</td>\n",
              "      <td>...</td>\n",
              "      <td>...</td>\n",
              "      <td>...</td>\n",
              "      <td>...</td>\n",
              "      <td>...</td>\n",
              "      <td>...</td>\n",
              "      <td>...</td>\n",
              "      <td>...</td>\n",
              "      <td>...</td>\n",
              "      <td>...</td>\n",
              "      <td>...</td>\n",
              "      <td>...</td>\n",
              "      <td>...</td>\n",
              "      <td>...</td>\n",
              "      <td>...</td>\n",
              "      <td>...</td>\n",
              "      <td>...</td>\n",
              "      <td>...</td>\n",
              "      <td>...</td>\n",
              "      <td>...</td>\n",
              "      <td>...</td>\n",
              "      <td>...</td>\n",
              "      <td>...</td>\n",
              "      <td>...</td>\n",
              "      <td>...</td>\n",
              "      <td>...</td>\n",
              "      <td>...</td>\n",
              "      <td>...</td>\n",
              "      <td>...</td>\n",
              "      <td>...</td>\n",
              "      <td>...</td>\n",
              "      <td>...</td>\n",
              "      <td>...</td>\n",
              "      <td>...</td>\n",
              "      <td>...</td>\n",
              "      <td>...</td>\n",
              "      <td>...</td>\n",
              "      <td>...</td>\n",
              "      <td>...</td>\n",
              "      <td>...</td>\n",
              "      <td>...</td>\n",
              "      <td>...</td>\n",
              "      <td>...</td>\n",
              "      <td>...</td>\n",
              "      <td>...</td>\n",
              "      <td>...</td>\n",
              "      <td>...</td>\n",
              "      <td>...</td>\n",
              "      <td>...</td>\n",
              "      <td>...</td>\n",
              "      <td>...</td>\n",
              "      <td>...</td>\n",
              "      <td>...</td>\n",
              "      <td>...</td>\n",
              "      <td>...</td>\n",
              "      <td>...</td>\n",
              "      <td>...</td>\n",
              "      <td>...</td>\n",
              "    </tr>\n",
              "    <tr>\n",
              "      <th>20007</th>\n",
              "      <td>NaN</td>\n",
              "      <td>NaN</td>\n",
              "      <td>NaN</td>\n",
              "      <td>NaN</td>\n",
              "      <td>NaN</td>\n",
              "      <td>NaN</td>\n",
              "      <td>NaN</td>\n",
              "      <td>NaN</td>\n",
              "      <td>NaN</td>\n",
              "      <td>NaN</td>\n",
              "      <td>NaN</td>\n",
              "      <td>NaN</td>\n",
              "      <td>NaN</td>\n",
              "      <td>NaN</td>\n",
              "      <td>NaN</td>\n",
              "      <td>NaN</td>\n",
              "      <td>NaN</td>\n",
              "      <td>NaN</td>\n",
              "      <td>NaN</td>\n",
              "      <td>NaN</td>\n",
              "      <td>NaN</td>\n",
              "      <td>NaN</td>\n",
              "      <td>NaN</td>\n",
              "      <td>NaN</td>\n",
              "      <td>NaN</td>\n",
              "      <td>NaN</td>\n",
              "      <td>NaN</td>\n",
              "      <td>NaN</td>\n",
              "      <td>NaN</td>\n",
              "      <td>NaN</td>\n",
              "      <td>NaN</td>\n",
              "      <td>NaN</td>\n",
              "      <td>NaN</td>\n",
              "      <td>NaN</td>\n",
              "      <td>NaN</td>\n",
              "      <td>NaN</td>\n",
              "      <td>NaN</td>\n",
              "      <td>NaN</td>\n",
              "      <td>NaN</td>\n",
              "      <td>NaN</td>\n",
              "      <td>NaN</td>\n",
              "      <td>NaN</td>\n",
              "      <td>NaN</td>\n",
              "      <td>NaN</td>\n",
              "      <td>NaN</td>\n",
              "      <td>NaN</td>\n",
              "      <td>NaN</td>\n",
              "      <td>NaN</td>\n",
              "      <td>NaN</td>\n",
              "      <td>NaN</td>\n",
              "      <td>NaN</td>\n",
              "      <td>NaN</td>\n",
              "      <td>NaN</td>\n",
              "      <td>NaN</td>\n",
              "      <td>NaN</td>\n",
              "      <td>NaN</td>\n",
              "      <td>NaN</td>\n",
              "      <td>NaN</td>\n",
              "      <td>NaN</td>\n",
              "      <td>NaN</td>\n",
              "      <td>NaN</td>\n",
              "      <td>NaN</td>\n",
              "      <td>NaN</td>\n",
              "      <td>NaN</td>\n",
              "      <td>NaN</td>\n",
              "      <td>0</td>\n",
              "      <td>0</td>\n",
              "      <td>2</td>\n",
              "      <td>0</td>\n",
              "    </tr>\n",
              "    <tr>\n",
              "      <th>20008</th>\n",
              "      <td>NaN</td>\n",
              "      <td>NaN</td>\n",
              "      <td>NaN</td>\n",
              "      <td>NaN</td>\n",
              "      <td>NaN</td>\n",
              "      <td>NaN</td>\n",
              "      <td>NaN</td>\n",
              "      <td>NaN</td>\n",
              "      <td>NaN</td>\n",
              "      <td>NaN</td>\n",
              "      <td>NaN</td>\n",
              "      <td>NaN</td>\n",
              "      <td>NaN</td>\n",
              "      <td>NaN</td>\n",
              "      <td>NaN</td>\n",
              "      <td>NaN</td>\n",
              "      <td>NaN</td>\n",
              "      <td>NaN</td>\n",
              "      <td>NaN</td>\n",
              "      <td>NaN</td>\n",
              "      <td>NaN</td>\n",
              "      <td>NaN</td>\n",
              "      <td>NaN</td>\n",
              "      <td>NaN</td>\n",
              "      <td>NaN</td>\n",
              "      <td>NaN</td>\n",
              "      <td>NaN</td>\n",
              "      <td>NaN</td>\n",
              "      <td>NaN</td>\n",
              "      <td>NaN</td>\n",
              "      <td>NaN</td>\n",
              "      <td>NaN</td>\n",
              "      <td>NaN</td>\n",
              "      <td>NaN</td>\n",
              "      <td>NaN</td>\n",
              "      <td>NaN</td>\n",
              "      <td>NaN</td>\n",
              "      <td>NaN</td>\n",
              "      <td>NaN</td>\n",
              "      <td>NaN</td>\n",
              "      <td>NaN</td>\n",
              "      <td>NaN</td>\n",
              "      <td>NaN</td>\n",
              "      <td>NaN</td>\n",
              "      <td>NaN</td>\n",
              "      <td>NaN</td>\n",
              "      <td>NaN</td>\n",
              "      <td>NaN</td>\n",
              "      <td>NaN</td>\n",
              "      <td>NaN</td>\n",
              "      <td>NaN</td>\n",
              "      <td>NaN</td>\n",
              "      <td>NaN</td>\n",
              "      <td>NaN</td>\n",
              "      <td>NaN</td>\n",
              "      <td>NaN</td>\n",
              "      <td>NaN</td>\n",
              "      <td>NaN</td>\n",
              "      <td>NaN</td>\n",
              "      <td>NaN</td>\n",
              "      <td>NaN</td>\n",
              "      <td>NaN</td>\n",
              "      <td>NaN</td>\n",
              "      <td>NaN</td>\n",
              "      <td>NaN</td>\n",
              "      <td>0</td>\n",
              "      <td>0</td>\n",
              "      <td>2</td>\n",
              "      <td>0</td>\n",
              "    </tr>\n",
              "    <tr>\n",
              "      <th>20009</th>\n",
              "      <td>NaN</td>\n",
              "      <td>NaN</td>\n",
              "      <td>NaN</td>\n",
              "      <td>NaN</td>\n",
              "      <td>NaN</td>\n",
              "      <td>NaN</td>\n",
              "      <td>NaN</td>\n",
              "      <td>NaN</td>\n",
              "      <td>NaN</td>\n",
              "      <td>NaN</td>\n",
              "      <td>NaN</td>\n",
              "      <td>NaN</td>\n",
              "      <td>NaN</td>\n",
              "      <td>NaN</td>\n",
              "      <td>NaN</td>\n",
              "      <td>NaN</td>\n",
              "      <td>NaN</td>\n",
              "      <td>NaN</td>\n",
              "      <td>NaN</td>\n",
              "      <td>NaN</td>\n",
              "      <td>NaN</td>\n",
              "      <td>NaN</td>\n",
              "      <td>NaN</td>\n",
              "      <td>NaN</td>\n",
              "      <td>NaN</td>\n",
              "      <td>NaN</td>\n",
              "      <td>NaN</td>\n",
              "      <td>NaN</td>\n",
              "      <td>NaN</td>\n",
              "      <td>NaN</td>\n",
              "      <td>NaN</td>\n",
              "      <td>NaN</td>\n",
              "      <td>NaN</td>\n",
              "      <td>NaN</td>\n",
              "      <td>NaN</td>\n",
              "      <td>NaN</td>\n",
              "      <td>NaN</td>\n",
              "      <td>NaN</td>\n",
              "      <td>NaN</td>\n",
              "      <td>NaN</td>\n",
              "      <td>NaN</td>\n",
              "      <td>NaN</td>\n",
              "      <td>NaN</td>\n",
              "      <td>NaN</td>\n",
              "      <td>NaN</td>\n",
              "      <td>NaN</td>\n",
              "      <td>NaN</td>\n",
              "      <td>NaN</td>\n",
              "      <td>NaN</td>\n",
              "      <td>NaN</td>\n",
              "      <td>NaN</td>\n",
              "      <td>NaN</td>\n",
              "      <td>NaN</td>\n",
              "      <td>NaN</td>\n",
              "      <td>NaN</td>\n",
              "      <td>NaN</td>\n",
              "      <td>NaN</td>\n",
              "      <td>NaN</td>\n",
              "      <td>NaN</td>\n",
              "      <td>NaN</td>\n",
              "      <td>NaN</td>\n",
              "      <td>NaN</td>\n",
              "      <td>NaN</td>\n",
              "      <td>NaN</td>\n",
              "      <td>NaN</td>\n",
              "      <td>0</td>\n",
              "      <td>0</td>\n",
              "      <td>2</td>\n",
              "      <td>0</td>\n",
              "    </tr>\n",
              "    <tr>\n",
              "      <th>20010</th>\n",
              "      <td>12.033379</td>\n",
              "      <td>10.839125</td>\n",
              "      <td>9.676886</td>\n",
              "      <td>15.717350</td>\n",
              "      <td>7.958119</td>\n",
              "      <td>14.109184</td>\n",
              "      <td>11.643447</td>\n",
              "      <td>1.194254</td>\n",
              "      <td>2.356493</td>\n",
              "      <td>-3.683971</td>\n",
              "      <td>4.075260</td>\n",
              "      <td>-2.075805</td>\n",
              "      <td>-4.878225</td>\n",
              "      <td>-3.254005</td>\n",
              "      <td>-6.040463</td>\n",
              "      <td>7.759231</td>\n",
              "      <td>4.073902</td>\n",
              "      <td>5.488688</td>\n",
              "      <td>5.529773</td>\n",
              "      <td>5.472634</td>\n",
              "      <td>5.513719</td>\n",
              "      <td>4.671113</td>\n",
              "      <td>4.712198</td>\n",
              "      <td>3.022951</td>\n",
              "      <td>3.064036</td>\n",
              "      <td>1.916298</td>\n",
              "      <td>1.957383</td>\n",
              "      <td>NaN</td>\n",
              "      <td>NaN</td>\n",
              "      <td>NaN</td>\n",
              "      <td>NaN</td>\n",
              "      <td>NaN</td>\n",
              "      <td>NaN</td>\n",
              "      <td>NaN</td>\n",
              "      <td>NaN</td>\n",
              "      <td>NaN</td>\n",
              "      <td>NaN</td>\n",
              "      <td>NaN</td>\n",
              "      <td>NaN</td>\n",
              "      <td>NaN</td>\n",
              "      <td>NaN</td>\n",
              "      <td>NaN</td>\n",
              "      <td>NaN</td>\n",
              "      <td>NaN</td>\n",
              "      <td>NaN</td>\n",
              "      <td>NaN</td>\n",
              "      <td>NaN</td>\n",
              "      <td>NaN</td>\n",
              "      <td>NaN</td>\n",
              "      <td>NaN</td>\n",
              "      <td>NaN</td>\n",
              "      <td>NaN</td>\n",
              "      <td>NaN</td>\n",
              "      <td>0.041085</td>\n",
              "      <td>8.620496</td>\n",
              "      <td>8.579411</td>\n",
              "      <td>12.236090</td>\n",
              "      <td>12.009304</td>\n",
              "      <td>14.070101</td>\n",
              "      <td>0.226786</td>\n",
              "      <td>-1.834011</td>\n",
              "      <td>-2.060797</td>\n",
              "      <td>1.857040</td>\n",
              "      <td>1.282305</td>\n",
              "      <td>-3.533307</td>\n",
              "      <td>0</td>\n",
              "      <td>0</td>\n",
              "      <td>2</td>\n",
              "      <td>0</td>\n",
              "    </tr>\n",
              "    <tr>\n",
              "      <th>20011</th>\n",
              "      <td>18.825795</td>\n",
              "      <td>16.930775</td>\n",
              "      <td>16.009830</td>\n",
              "      <td>15.568099</td>\n",
              "      <td>15.335913</td>\n",
              "      <td>18.814910</td>\n",
              "      <td>15.567361</td>\n",
              "      <td>1.895021</td>\n",
              "      <td>2.815965</td>\n",
              "      <td>3.257696</td>\n",
              "      <td>3.489883</td>\n",
              "      <td>0.010886</td>\n",
              "      <td>1.362675</td>\n",
              "      <td>0.012904</td>\n",
              "      <td>0.441731</td>\n",
              "      <td>0.232187</td>\n",
              "      <td>0.000739</td>\n",
              "      <td>2.700888</td>\n",
              "      <td>2.077104</td>\n",
              "      <td>0.803849</td>\n",
              "      <td>0.180066</td>\n",
              "      <td>-0.115503</td>\n",
              "      <td>-0.739286</td>\n",
              "      <td>-0.546661</td>\n",
              "      <td>-1.170445</td>\n",
              "      <td>-0.847446</td>\n",
              "      <td>-1.471230</td>\n",
              "      <td>15.652003</td>\n",
              "      <td>15.257767</td>\n",
              "      <td>16.863090</td>\n",
              "      <td>16.099855</td>\n",
              "      <td>15.645479</td>\n",
              "      <td>15.331374</td>\n",
              "      <td>15.280365</td>\n",
              "      <td>1.217611</td>\n",
              "      <td>1.582725</td>\n",
              "      <td>0.454376</td>\n",
              "      <td>0.819491</td>\n",
              "      <td>0.314105</td>\n",
              "      <td>0.365114</td>\n",
              "      <td>-0.006524</td>\n",
              "      <td>0.051009</td>\n",
              "      <td>0.022598</td>\n",
              "      <td>0.818291</td>\n",
              "      <td>0.194508</td>\n",
              "      <td>-0.008586</td>\n",
              "      <td>-0.632370</td>\n",
              "      <td>-0.462019</td>\n",
              "      <td>-1.085803</td>\n",
              "      <td>-0.705682</td>\n",
              "      <td>-1.329466</td>\n",
              "      <td>-0.856255</td>\n",
              "      <td>-1.480038</td>\n",
              "      <td>-0.623784</td>\n",
              "      <td>16.114022</td>\n",
              "      <td>16.737805</td>\n",
              "      <td>16.960602</td>\n",
              "      <td>16.039827</td>\n",
              "      <td>15.399585</td>\n",
              "      <td>0.920774</td>\n",
              "      <td>1.561016</td>\n",
              "      <td>0.640242</td>\n",
              "      <td>-0.042731</td>\n",
              "      <td>-0.041308</td>\n",
              "      <td>-0.133010</td>\n",
              "      <td>0</td>\n",
              "      <td>0</td>\n",
              "      <td>2</td>\n",
              "      <td>0</td>\n",
              "    </tr>\n",
              "  </tbody>\n",
              "</table>\n",
              "<p>5917 rows × 69 columns</p>\n",
              "</div>"
            ],
            "text/plain": [
              "       sdssdr16_u_psf  sdssdr16_g_psf  sdssdr16_r_psf  ...  LabelG  LabelS  Label\n",
              "14095       22.205799       20.147787       19.289909  ...       0       1      0\n",
              "14096             NaN             NaN             NaN  ...       0       1      0\n",
              "14097       19.140804       17.888408       17.442821  ...       0       1      0\n",
              "14098       19.882465       18.527261       17.841124  ...       0       1      0\n",
              "14099       20.980263       18.559502       17.500689  ...       0       1      0\n",
              "...               ...             ...             ...  ...     ...     ...    ...\n",
              "20007             NaN             NaN             NaN  ...       0       2      0\n",
              "20008             NaN             NaN             NaN  ...       0       2      0\n",
              "20009             NaN             NaN             NaN  ...       0       2      0\n",
              "20010       12.033379       10.839125        9.676886  ...       0       2      0\n",
              "20011       18.825795       16.930775       16.009830  ...       0       2      0\n",
              "\n",
              "[5917 rows x 69 columns]"
            ]
          },
          "metadata": {
            "tags": []
          },
          "execution_count": 241
        }
      ]
    },
    {
      "cell_type": "code",
      "metadata": {
        "colab": {
          "base_uri": "https://localhost:8080/",
          "height": 1000
        },
        "id": "vGzO_BtL5FdD",
        "outputId": "1dee195c-3714-42b1-d9b6-bd6718a63805"
      },
      "source": [
        "sns.displot(df_s.sdssdr16_r_psf)\n",
        "sns.displot(df_q.sdssdr16_r_psf)\n",
        "sns.displot(df_g.sdssdr16_r_psf)\n",
        "print(df_s.shape, df_q.shape, df_g.shape)"
      ],
      "execution_count": 242,
      "outputs": [
        {
          "output_type": "stream",
          "text": [
            "(5917, 69) (9533, 69) (4562, 69)\n"
          ],
          "name": "stdout"
        },
        {
          "output_type": "display_data",
          "data": {
            "image/png": "[encoded data removed]",
            "text/plain": [
              "<Figure size 360x360 with 1 Axes>"
            ]
          },
          "metadata": {
            "tags": [],
            "needs_background": "light"
          }
        },
        {
          "output_type": "display_data",
          "data": {
            "image/png": "[encoded data removed]",
            "text/plain": [
              "<Figure size 360x360 with 1 Axes>"
            ]
          },
          "metadata": {
            "tags": [],
            "needs_background": "light"
          }
        },
        {
          "output_type": "display_data",
          "data": {
            "image/png": "[encoded data removed]",
            "text/plain": [
              "<Figure size 360x360 with 1 Axes>"
            ]
          },
          "metadata": {
            "tags": [],
            "needs_background": "light"
          }
        }
      ]
    },
    {
      "cell_type": "code",
      "metadata": {
        "id": "ySCjr2-g6H34"
      },
      "source": [
        "def data_split(df_all, column='sdssdr16_r_psf', label='Label'):\n",
        "  df = df_all.sort_values('sdssdr16_r_psf')\n",
        "  def split(df_loc, c=9000):\n",
        "    data = df_loc.drop(['LabelQ', 'LabelG', 'LabelS', 'Label'], axis = 1).values\n",
        "    data1 = data[::2]\n",
        "    data2 = data[1::2]\n",
        "    print(data, data1, data2)\n",
        "    np.random.shuffle(data1)\n",
        "    np.random.shuffle(data2)\n",
        "    return data1[:c//2], data2[:c//2]\n",
        "\n",
        "  def train_test(X1, X2, X3, test_size=0.1):\n",
        "    X1_train, X1_test, y1_train, y1_test = train_test_split(X1, 1*np.ones([len(X1), 1]), test_size=test_size, random_state = 43)\n",
        "    X2_train, X2_test, y2_train, y2_test = train_test_split(X2, 2*np.ones([len(X2), 1]), test_size=test_size, random_state = 43)\n",
        "    X3_train, X3_test, y3_train, y3_test = train_test_split(X3, 3*np.ones([len(X3), 1]), test_size=test_size, random_state = 43)\n",
        "\n",
        "    X_train, X_test = np.concatenate((X1_train, X2_train, X3_train)), np.concatenate((X1_test, X2_test, X3_test))\n",
        "    y_train, y_test = np.concatenate((y1_train, y2_train, y3_train)), np.concatenate((y1_test, y2_test, y3_test))\n",
        "        \n",
        "    train = np.concatenate((X_train, y_train.rashape((len(X_train), 1))))\n",
        "    test = np.concatenate((X_test, y_test.rashape((len(X_test), 1))))\n",
        "\n",
        "    return train, test\n",
        "    \n",
        "  df_s = df[df[label]==0]\n",
        "  df_q = df[df[label]==1]\n",
        "  df_g = df[df[label]==2]\n",
        "\n",
        "  c = np.min((len(df_s), len(df_q), len(df_g)))\n",
        "\n",
        "\n",
        "  X1_s , X2_s = split(df_s)\n",
        "  X1_q , X2_q = split(df_q)\n",
        "  X1_g , X2_g = split(df_g)\n",
        "\n",
        "\n",
        "  X1 = np.concatenate((np.concatenate((X1_s, 1*np.ones([len(X1_s), 1])), axis=1),\n",
        "                       np.concatenate((X1_q, 2*np.ones([len(X1_q), 1])), axis=1),\n",
        "                       np.concatenate((X1_g, 3*np.ones([len(X1_g), 1])), axis=1)),\n",
        "                      axis=0)\n",
        "  X2 = np.concatenate((np.concatenate((X2_s, 1*np.ones([len(X2_s), 1])), axis=1),\n",
        "                       np.concatenate((X2_q, 2*np.ones([len(X2_q), 1])), axis=1),\n",
        "                       np.concatenate((X2_g, 3*np.ones([len(X2_g), 1])), axis=1)),\n",
        "                      axis=0)\n",
        "  \n",
        "  np.random.shuffle(X1)\n",
        "  np.random.shuffle(X2)\n",
        "\n",
        "  return X1, X2#train1, train2, test1, test2"
      ],
      "execution_count": 243,
      "outputs": []
    },
    {
      "cell_type": "code",
      "metadata": {
        "id": "T40qa4wfCLb9"
      },
      "source": [
        "data1, data2 = data_split(df.dropna())"
      ],
      "execution_count": null,
      "outputs": []
    },
    {
      "cell_type": "code",
      "metadata": {
        "colab": {
          "base_uri": "https://localhost:8080/",
          "height": 428
        },
        "id": "vb1Pb1iLKlzw",
        "outputId": "12fd250d-e8df-445a-c224-861a4119a549"
      },
      "source": [
        "df"
      ],
      "execution_count": 245,
      "outputs": [
        {
          "output_type": "execute_result",
          "data": {
            "text/html": [
              "<div>\n",
              "<style scoped>\n",
              "    .dataframe tbody tr th:only-of-type {\n",
              "        vertical-align: middle;\n",
              "    }\n",
              "\n",
              "    .dataframe tbody tr th {\n",
              "        vertical-align: top;\n",
              "    }\n",
              "\n",
              "    .dataframe thead th {\n",
              "        text-align: right;\n",
              "    }\n",
              "</style>\n",
              "<table border=\"1\" class=\"dataframe\">\n",
              "  <thead>\n",
              "    <tr style=\"text-align: right;\">\n",
              "      <th></th>\n",
              "      <th>sdssdr16_u_psf</th>\n",
              "      <th>sdssdr16_g_psf</th>\n",
              "      <th>sdssdr16_r_psf</th>\n",
              "      <th>sdssdr16_i_psf</th>\n",
              "      <th>sdssdr16_z_psf</th>\n",
              "      <th>sdssdr16_u_cmodel</th>\n",
              "      <th>sdssdr16_i_cmodel</th>\n",
              "      <th>sdssdr16_u-g_psf</th>\n",
              "      <th>sdssdr16_u-r_psf</th>\n",
              "      <th>sdssdr16_u-i_psf</th>\n",
              "      <th>sdssdr16_u-z_psf</th>\n",
              "      <th>sdssdr16_u_psf-cmodel</th>\n",
              "      <th>sdssdr16_g-i_psf</th>\n",
              "      <th>sdssdr16_g_psf-cmodel</th>\n",
              "      <th>sdssdr16_r-i_psf</th>\n",
              "      <th>sdssdr16_i-z_psf</th>\n",
              "      <th>sdssdr16_i_psf-cmodel</th>\n",
              "      <th>sdssdr16_u_cmodel-decals8tr_Lw1</th>\n",
              "      <th>sdssdr16_u_cmodel-decals8tr_Lw2</th>\n",
              "      <th>sdssdr16_g_cmodel-decals8tr_Lw1</th>\n",
              "      <th>sdssdr16_g_cmodel-decals8tr_Lw2</th>\n",
              "      <th>sdssdr16_r_cmodel-decals8tr_Lw1</th>\n",
              "      <th>sdssdr16_r_cmodel-decals8tr_Lw2</th>\n",
              "      <th>sdssdr16_i_cmodel-decals8tr_Lw1</th>\n",
              "      <th>sdssdr16_i_cmodel-decals8tr_Lw2</th>\n",
              "      <th>sdssdr16_z_cmodel-decals8tr_Lw1</th>\n",
              "      <th>sdssdr16_z_cmodel-decals8tr_Lw2</th>\n",
              "      <th>psdr2_i_kron</th>\n",
              "      <th>psdr2_y_kron</th>\n",
              "      <th>psdr2_g_psf</th>\n",
              "      <th>psdr2_r_psf</th>\n",
              "      <th>psdr2_i_psf</th>\n",
              "      <th>psdr2_z_psf</th>\n",
              "      <th>psdr2_y_psf</th>\n",
              "      <th>psdr2_g-i_psf</th>\n",
              "      <th>psdr2_g-y_psf</th>\n",
              "      <th>psdr2_r-i_psf</th>\n",
              "      <th>psdr2_r-y_psf</th>\n",
              "      <th>psdr2_i-z_psf</th>\n",
              "      <th>psdr2_i-y_psf</th>\n",
              "      <th>psdr2_i_psf-kron</th>\n",
              "      <th>psdr2_z-y_psf</th>\n",
              "      <th>psdr2_y_psf-kron</th>\n",
              "      <th>psdr2_g_kron-decals8tr_Lw1</th>\n",
              "      <th>psdr2_g_kron-decals8tr_Lw2</th>\n",
              "      <th>psdr2_r_kron-decals8tr_Lw1</th>\n",
              "      <th>psdr2_r_kron-decals8tr_Lw2</th>\n",
              "      <th>psdr2_i_kron-decals8tr_Lw1</th>\n",
              "      <th>psdr2_i_kron-decals8tr_Lw2</th>\n",
              "      <th>psdr2_z_kron-decals8tr_Lw1</th>\n",
              "      <th>psdr2_z_kron-decals8tr_Lw2</th>\n",
              "      <th>psdr2_y_kron-decals8tr_Lw1</th>\n",
              "      <th>psdr2_y_kron-decals8tr_Lw2</th>\n",
              "      <th>decals8tr_Lw1-Lw2</th>\n",
              "      <th>decals8tr_Lw1</th>\n",
              "      <th>decals8tr_Lw2</th>\n",
              "      <th>decals8tr_g</th>\n",
              "      <th>decals8tr_r</th>\n",
              "      <th>decals8tr_z</th>\n",
              "      <th>decals8tr_g-r</th>\n",
              "      <th>decals8tr_g-z</th>\n",
              "      <th>decals8tr_r-z</th>\n",
              "      <th>sdssdr16_g_cmodel-decals8tr_g</th>\n",
              "      <th>sdssdr16_r_cmodel-decals8tr_r</th>\n",
              "      <th>sdssdr16_z_cmodel-decals8tr_z</th>\n",
              "      <th>LabelQ</th>\n",
              "      <th>LabelG</th>\n",
              "      <th>LabelS</th>\n",
              "      <th>Label</th>\n",
              "    </tr>\n",
              "  </thead>\n",
              "  <tbody>\n",
              "    <tr>\n",
              "      <th>0</th>\n",
              "      <td>22.920023</td>\n",
              "      <td>21.565505</td>\n",
              "      <td>21.621283</td>\n",
              "      <td>21.359891</td>\n",
              "      <td>20.538294</td>\n",
              "      <td>22.769656</td>\n",
              "      <td>21.003623</td>\n",
              "      <td>1.354518</td>\n",
              "      <td>1.298741</td>\n",
              "      <td>1.560132</td>\n",
              "      <td>2.381730</td>\n",
              "      <td>0.150367</td>\n",
              "      <td>0.205614</td>\n",
              "      <td>-0.005931</td>\n",
              "      <td>0.261391</td>\n",
              "      <td>0.821598</td>\n",
              "      <td>0.356269</td>\n",
              "      <td>3.785637</td>\n",
              "      <td>3.685080</td>\n",
              "      <td>2.587416</td>\n",
              "      <td>2.486860</td>\n",
              "      <td>2.554807</td>\n",
              "      <td>2.454250</td>\n",
              "      <td>2.019603</td>\n",
              "      <td>1.919047</td>\n",
              "      <td>1.291036</td>\n",
              "      <td>1.190479</td>\n",
              "      <td>21.665634</td>\n",
              "      <td>21.402220</td>\n",
              "      <td>22.190093</td>\n",
              "      <td>22.087713</td>\n",
              "      <td>21.634099</td>\n",
              "      <td>21.289692</td>\n",
              "      <td>21.402220</td>\n",
              "      <td>0.555995</td>\n",
              "      <td>0.787873</td>\n",
              "      <td>0.453615</td>\n",
              "      <td>0.685493</td>\n",
              "      <td>0.344407</td>\n",
              "      <td>0.231878</td>\n",
              "      <td>-0.031535</td>\n",
              "      <td>-0.112529</td>\n",
              "      <td>0.000000</td>\n",
              "      <td>3.063683</td>\n",
              "      <td>2.963126</td>\n",
              "      <td>3.354069</td>\n",
              "      <td>3.253512</td>\n",
              "      <td>2.681614</td>\n",
              "      <td>2.581058</td>\n",
              "      <td>2.016970</td>\n",
              "      <td>1.916414</td>\n",
              "      <td>2.418201</td>\n",
              "      <td>2.317644</td>\n",
              "      <td>-0.100556</td>\n",
              "      <td>18.984020</td>\n",
              "      <td>19.084576</td>\n",
              "      <td>22.001940</td>\n",
              "      <td>21.912679</td>\n",
              "      <td>20.819145</td>\n",
              "      <td>0.089261</td>\n",
              "      <td>1.182795</td>\n",
              "      <td>1.093534</td>\n",
              "      <td>-0.430505</td>\n",
              "      <td>-0.373853</td>\n",
              "      <td>-0.544090</td>\n",
              "      <td>1</td>\n",
              "      <td>0</td>\n",
              "      <td>0</td>\n",
              "      <td>1</td>\n",
              "    </tr>\n",
              "    <tr>\n",
              "      <th>1</th>\n",
              "      <td>19.933288</td>\n",
              "      <td>19.661708</td>\n",
              "      <td>19.533851</td>\n",
              "      <td>19.275093</td>\n",
              "      <td>19.199960</td>\n",
              "      <td>19.896294</td>\n",
              "      <td>19.258232</td>\n",
              "      <td>0.271581</td>\n",
              "      <td>0.399437</td>\n",
              "      <td>0.658195</td>\n",
              "      <td>0.733328</td>\n",
              "      <td>0.036994</td>\n",
              "      <td>0.386615</td>\n",
              "      <td>0.016985</td>\n",
              "      <td>0.258758</td>\n",
              "      <td>0.075133</td>\n",
              "      <td>0.016861</td>\n",
              "      <td>1.332332</td>\n",
              "      <td>1.991179</td>\n",
              "      <td>1.080761</td>\n",
              "      <td>1.739607</td>\n",
              "      <td>0.975765</td>\n",
              "      <td>1.634612</td>\n",
              "      <td>0.694270</td>\n",
              "      <td>1.353117</td>\n",
              "      <td>0.598125</td>\n",
              "      <td>1.256971</td>\n",
              "      <td>19.445711</td>\n",
              "      <td>19.468038</td>\n",
              "      <td>19.991779</td>\n",
              "      <td>19.853252</td>\n",
              "      <td>19.411217</td>\n",
              "      <td>19.369294</td>\n",
              "      <td>19.387387</td>\n",
              "      <td>0.580562</td>\n",
              "      <td>0.604392</td>\n",
              "      <td>0.442035</td>\n",
              "      <td>0.465865</td>\n",
              "      <td>0.041924</td>\n",
              "      <td>0.023830</td>\n",
              "      <td>-0.034493</td>\n",
              "      <td>-0.018094</td>\n",
              "      <td>-0.080650</td>\n",
              "      <td>1.546244</td>\n",
              "      <td>2.205090</td>\n",
              "      <td>1.343668</td>\n",
              "      <td>2.002514</td>\n",
              "      <td>0.881749</td>\n",
              "      <td>1.540595</td>\n",
              "      <td>0.936519</td>\n",
              "      <td>1.595366</td>\n",
              "      <td>0.904076</td>\n",
              "      <td>1.562922</td>\n",
              "      <td>0.658846</td>\n",
              "      <td>18.563962</td>\n",
              "      <td>17.905116</td>\n",
              "      <td>19.511440</td>\n",
              "      <td>19.379499</td>\n",
              "      <td>19.041582</td>\n",
              "      <td>0.131941</td>\n",
              "      <td>0.469858</td>\n",
              "      <td>0.337916</td>\n",
              "      <td>0.133283</td>\n",
              "      <td>0.160229</td>\n",
              "      <td>0.120505</td>\n",
              "      <td>1</td>\n",
              "      <td>0</td>\n",
              "      <td>0</td>\n",
              "      <td>1</td>\n",
              "    </tr>\n",
              "    <tr>\n",
              "      <th>2</th>\n",
              "      <td>21.169854</td>\n",
              "      <td>19.856397</td>\n",
              "      <td>19.653011</td>\n",
              "      <td>19.657884</td>\n",
              "      <td>19.544269</td>\n",
              "      <td>21.155460</td>\n",
              "      <td>19.626169</td>\n",
              "      <td>1.313457</td>\n",
              "      <td>1.516843</td>\n",
              "      <td>1.511970</td>\n",
              "      <td>1.625585</td>\n",
              "      <td>0.014394</td>\n",
              "      <td>0.198513</td>\n",
              "      <td>0.015617</td>\n",
              "      <td>-0.004873</td>\n",
              "      <td>0.113615</td>\n",
              "      <td>0.031715</td>\n",
              "      <td>0.910512</td>\n",
              "      <td>1.261518</td>\n",
              "      <td>-0.404168</td>\n",
              "      <td>-0.053162</td>\n",
              "      <td>-0.601723</td>\n",
              "      <td>-0.250717</td>\n",
              "      <td>-0.618778</td>\n",
              "      <td>-0.267773</td>\n",
              "      <td>-0.761571</td>\n",
              "      <td>-0.410565</td>\n",
              "      <td>NaN</td>\n",
              "      <td>NaN</td>\n",
              "      <td>NaN</td>\n",
              "      <td>NaN</td>\n",
              "      <td>NaN</td>\n",
              "      <td>NaN</td>\n",
              "      <td>NaN</td>\n",
              "      <td>NaN</td>\n",
              "      <td>NaN</td>\n",
              "      <td>NaN</td>\n",
              "      <td>NaN</td>\n",
              "      <td>NaN</td>\n",
              "      <td>NaN</td>\n",
              "      <td>NaN</td>\n",
              "      <td>NaN</td>\n",
              "      <td>NaN</td>\n",
              "      <td>NaN</td>\n",
              "      <td>NaN</td>\n",
              "      <td>NaN</td>\n",
              "      <td>NaN</td>\n",
              "      <td>NaN</td>\n",
              "      <td>NaN</td>\n",
              "      <td>NaN</td>\n",
              "      <td>NaN</td>\n",
              "      <td>NaN</td>\n",
              "      <td>NaN</td>\n",
              "      <td>0.351006</td>\n",
              "      <td>20.244948</td>\n",
              "      <td>19.893942</td>\n",
              "      <td>20.246877</td>\n",
              "      <td>20.167877</td>\n",
              "      <td>20.141632</td>\n",
              "      <td>0.079000</td>\n",
              "      <td>0.105245</td>\n",
              "      <td>0.026245</td>\n",
              "      <td>-0.406098</td>\n",
              "      <td>-0.524652</td>\n",
              "      <td>-0.658255</td>\n",
              "      <td>1</td>\n",
              "      <td>0</td>\n",
              "      <td>0</td>\n",
              "      <td>1</td>\n",
              "    </tr>\n",
              "    <tr>\n",
              "      <th>3</th>\n",
              "      <td>21.462910</td>\n",
              "      <td>20.896202</td>\n",
              "      <td>20.697560</td>\n",
              "      <td>20.624691</td>\n",
              "      <td>20.230447</td>\n",
              "      <td>21.543505</td>\n",
              "      <td>20.629416</td>\n",
              "      <td>0.566709</td>\n",
              "      <td>0.765350</td>\n",
              "      <td>0.838219</td>\n",
              "      <td>1.232464</td>\n",
              "      <td>-0.080595</td>\n",
              "      <td>0.271510</td>\n",
              "      <td>-0.013927</td>\n",
              "      <td>0.072869</td>\n",
              "      <td>0.394245</td>\n",
              "      <td>-0.004725</td>\n",
              "      <td>0.952090</td>\n",
              "      <td>1.367123</td>\n",
              "      <td>0.318714</td>\n",
              "      <td>0.733747</td>\n",
              "      <td>0.103659</td>\n",
              "      <td>0.518692</td>\n",
              "      <td>0.038001</td>\n",
              "      <td>0.453034</td>\n",
              "      <td>-0.469909</td>\n",
              "      <td>-0.054876</td>\n",
              "      <td>21.142477</td>\n",
              "      <td>20.489200</td>\n",
              "      <td>21.200060</td>\n",
              "      <td>21.016467</td>\n",
              "      <td>21.097208</td>\n",
              "      <td>20.800597</td>\n",
              "      <td>20.638847</td>\n",
              "      <td>0.102852</td>\n",
              "      <td>0.561213</td>\n",
              "      <td>-0.080741</td>\n",
              "      <td>0.377620</td>\n",
              "      <td>0.296612</td>\n",
              "      <td>0.458361</td>\n",
              "      <td>-0.045269</td>\n",
              "      <td>0.161749</td>\n",
              "      <td>0.149648</td>\n",
              "      <td>0.562941</td>\n",
              "      <td>0.977974</td>\n",
              "      <td>0.525012</td>\n",
              "      <td>0.940045</td>\n",
              "      <td>0.551062</td>\n",
              "      <td>0.966095</td>\n",
              "      <td>0.411343</td>\n",
              "      <td>0.826376</td>\n",
              "      <td>-0.102215</td>\n",
              "      <td>0.312818</td>\n",
              "      <td>0.415033</td>\n",
              "      <td>20.591415</td>\n",
              "      <td>20.176382</td>\n",
              "      <td>21.039786</td>\n",
              "      <td>20.928928</td>\n",
              "      <td>20.674966</td>\n",
              "      <td>0.110858</td>\n",
              "      <td>0.364820</td>\n",
              "      <td>0.253962</td>\n",
              "      <td>-0.129658</td>\n",
              "      <td>-0.233854</td>\n",
              "      <td>-0.553460</td>\n",
              "      <td>1</td>\n",
              "      <td>0</td>\n",
              "      <td>0</td>\n",
              "      <td>1</td>\n",
              "    </tr>\n",
              "    <tr>\n",
              "      <th>4</th>\n",
              "      <td>21.807372</td>\n",
              "      <td>21.333804</td>\n",
              "      <td>21.339532</td>\n",
              "      <td>21.396991</td>\n",
              "      <td>20.997808</td>\n",
              "      <td>21.747126</td>\n",
              "      <td>21.271441</td>\n",
              "      <td>0.473568</td>\n",
              "      <td>0.467840</td>\n",
              "      <td>0.410380</td>\n",
              "      <td>0.809564</td>\n",
              "      <td>0.060246</td>\n",
              "      <td>-0.063188</td>\n",
              "      <td>0.020335</td>\n",
              "      <td>-0.057459</td>\n",
              "      <td>0.399184</td>\n",
              "      <td>0.125550</td>\n",
              "      <td>1.675917</td>\n",
              "      <td>2.307175</td>\n",
              "      <td>1.242260</td>\n",
              "      <td>1.873518</td>\n",
              "      <td>1.243229</td>\n",
              "      <td>1.874486</td>\n",
              "      <td>1.200232</td>\n",
              "      <td>1.831490</td>\n",
              "      <td>0.755095</td>\n",
              "      <td>1.386353</td>\n",
              "      <td>21.795659</td>\n",
              "      <td>20.986745</td>\n",
              "      <td>21.709883</td>\n",
              "      <td>21.645918</td>\n",
              "      <td>21.475944</td>\n",
              "      <td>20.975349</td>\n",
              "      <td>20.924649</td>\n",
              "      <td>0.233939</td>\n",
              "      <td>0.785234</td>\n",
              "      <td>0.169974</td>\n",
              "      <td>0.721269</td>\n",
              "      <td>0.500595</td>\n",
              "      <td>0.551295</td>\n",
              "      <td>-0.319715</td>\n",
              "      <td>0.050700</td>\n",
              "      <td>-0.062096</td>\n",
              "      <td>1.646190</td>\n",
              "      <td>2.277448</td>\n",
              "      <td>1.919331</td>\n",
              "      <td>2.550589</td>\n",
              "      <td>1.724450</td>\n",
              "      <td>2.355707</td>\n",
              "      <td>0.935480</td>\n",
              "      <td>1.566738</td>\n",
              "      <td>0.915536</td>\n",
              "      <td>1.546794</td>\n",
              "      <td>0.631258</td>\n",
              "      <td>20.071209</td>\n",
              "      <td>19.439951</td>\n",
              "      <td>22.010142</td>\n",
              "      <td>21.805173</td>\n",
              "      <td>21.275584</td>\n",
              "      <td>0.204969</td>\n",
              "      <td>0.734557</td>\n",
              "      <td>0.529589</td>\n",
              "      <td>-0.696673</td>\n",
              "      <td>-0.490735</td>\n",
              "      <td>-0.449280</td>\n",
              "      <td>1</td>\n",
              "      <td>0</td>\n",
              "      <td>0</td>\n",
              "      <td>1</td>\n",
              "    </tr>\n",
              "    <tr>\n",
              "      <th>...</th>\n",
              "      <td>...</td>\n",
              "      <td>...</td>\n",
              "      <td>...</td>\n",
              "      <td>...</td>\n",
              "      <td>...</td>\n",
              "      <td>...</td>\n",
              "      <td>...</td>\n",
              "      <td>...</td>\n",
              "      <td>...</td>\n",
              "      <td>...</td>\n",
              "      <td>...</td>\n",
              "      <td>...</td>\n",
              "      <td>...</td>\n",
              "      <td>...</td>\n",
              "      <td>...</td>\n",
              "      <td>...</td>\n",
              "      <td>...</td>\n",
              "      <td>...</td>\n",
              "      <td>...</td>\n",
              "      <td>...</td>\n",
              "      <td>...</td>\n",
              "      <td>...</td>\n",
              "      <td>...</td>\n",
              "      <td>...</td>\n",
              "      <td>...</td>\n",
              "      <td>...</td>\n",
              "      <td>...</td>\n",
              "      <td>...</td>\n",
              "      <td>...</td>\n",
              "      <td>...</td>\n",
              "      <td>...</td>\n",
              "      <td>...</td>\n",
              "      <td>...</td>\n",
              "      <td>...</td>\n",
              "      <td>...</td>\n",
              "      <td>...</td>\n",
              "      <td>...</td>\n",
              "      <td>...</td>\n",
              "      <td>...</td>\n",
              "      <td>...</td>\n",
              "      <td>...</td>\n",
              "      <td>...</td>\n",
              "      <td>...</td>\n",
              "      <td>...</td>\n",
              "      <td>...</td>\n",
              "      <td>...</td>\n",
              "      <td>...</td>\n",
              "      <td>...</td>\n",
              "      <td>...</td>\n",
              "      <td>...</td>\n",
              "      <td>...</td>\n",
              "      <td>...</td>\n",
              "      <td>...</td>\n",
              "      <td>...</td>\n",
              "      <td>...</td>\n",
              "      <td>...</td>\n",
              "      <td>...</td>\n",
              "      <td>...</td>\n",
              "      <td>...</td>\n",
              "      <td>...</td>\n",
              "      <td>...</td>\n",
              "      <td>...</td>\n",
              "      <td>...</td>\n",
              "      <td>...</td>\n",
              "      <td>...</td>\n",
              "      <td>...</td>\n",
              "      <td>...</td>\n",
              "      <td>...</td>\n",
              "      <td>...</td>\n",
              "    </tr>\n",
              "    <tr>\n",
              "      <th>20007</th>\n",
              "      <td>NaN</td>\n",
              "      <td>NaN</td>\n",
              "      <td>NaN</td>\n",
              "      <td>NaN</td>\n",
              "      <td>NaN</td>\n",
              "      <td>NaN</td>\n",
              "      <td>NaN</td>\n",
              "      <td>NaN</td>\n",
              "      <td>NaN</td>\n",
              "      <td>NaN</td>\n",
              "      <td>NaN</td>\n",
              "      <td>NaN</td>\n",
              "      <td>NaN</td>\n",
              "      <td>NaN</td>\n",
              "      <td>NaN</td>\n",
              "      <td>NaN</td>\n",
              "      <td>NaN</td>\n",
              "      <td>NaN</td>\n",
              "      <td>NaN</td>\n",
              "      <td>NaN</td>\n",
              "      <td>NaN</td>\n",
              "      <td>NaN</td>\n",
              "      <td>NaN</td>\n",
              "      <td>NaN</td>\n",
              "      <td>NaN</td>\n",
              "      <td>NaN</td>\n",
              "      <td>NaN</td>\n",
              "      <td>NaN</td>\n",
              "      <td>NaN</td>\n",
              "      <td>NaN</td>\n",
              "      <td>NaN</td>\n",
              "      <td>NaN</td>\n",
              "      <td>NaN</td>\n",
              "      <td>NaN</td>\n",
              "      <td>NaN</td>\n",
              "      <td>NaN</td>\n",
              "      <td>NaN</td>\n",
              "      <td>NaN</td>\n",
              "      <td>NaN</td>\n",
              "      <td>NaN</td>\n",
              "      <td>NaN</td>\n",
              "      <td>NaN</td>\n",
              "      <td>NaN</td>\n",
              "      <td>NaN</td>\n",
              "      <td>NaN</td>\n",
              "      <td>NaN</td>\n",
              "      <td>NaN</td>\n",
              "      <td>NaN</td>\n",
              "      <td>NaN</td>\n",
              "      <td>NaN</td>\n",
              "      <td>NaN</td>\n",
              "      <td>NaN</td>\n",
              "      <td>NaN</td>\n",
              "      <td>NaN</td>\n",
              "      <td>NaN</td>\n",
              "      <td>NaN</td>\n",
              "      <td>NaN</td>\n",
              "      <td>NaN</td>\n",
              "      <td>NaN</td>\n",
              "      <td>NaN</td>\n",
              "      <td>NaN</td>\n",
              "      <td>NaN</td>\n",
              "      <td>NaN</td>\n",
              "      <td>NaN</td>\n",
              "      <td>NaN</td>\n",
              "      <td>0</td>\n",
              "      <td>0</td>\n",
              "      <td>2</td>\n",
              "      <td>0</td>\n",
              "    </tr>\n",
              "    <tr>\n",
              "      <th>20008</th>\n",
              "      <td>NaN</td>\n",
              "      <td>NaN</td>\n",
              "      <td>NaN</td>\n",
              "      <td>NaN</td>\n",
              "      <td>NaN</td>\n",
              "      <td>NaN</td>\n",
              "      <td>NaN</td>\n",
              "      <td>NaN</td>\n",
              "      <td>NaN</td>\n",
              "      <td>NaN</td>\n",
              "      <td>NaN</td>\n",
              "      <td>NaN</td>\n",
              "      <td>NaN</td>\n",
              "      <td>NaN</td>\n",
              "      <td>NaN</td>\n",
              "      <td>NaN</td>\n",
              "      <td>NaN</td>\n",
              "      <td>NaN</td>\n",
              "      <td>NaN</td>\n",
              "      <td>NaN</td>\n",
              "      <td>NaN</td>\n",
              "      <td>NaN</td>\n",
              "      <td>NaN</td>\n",
              "      <td>NaN</td>\n",
              "      <td>NaN</td>\n",
              "      <td>NaN</td>\n",
              "      <td>NaN</td>\n",
              "      <td>NaN</td>\n",
              "      <td>NaN</td>\n",
              "      <td>NaN</td>\n",
              "      <td>NaN</td>\n",
              "      <td>NaN</td>\n",
              "      <td>NaN</td>\n",
              "      <td>NaN</td>\n",
              "      <td>NaN</td>\n",
              "      <td>NaN</td>\n",
              "      <td>NaN</td>\n",
              "      <td>NaN</td>\n",
              "      <td>NaN</td>\n",
              "      <td>NaN</td>\n",
              "      <td>NaN</td>\n",
              "      <td>NaN</td>\n",
              "      <td>NaN</td>\n",
              "      <td>NaN</td>\n",
              "      <td>NaN</td>\n",
              "      <td>NaN</td>\n",
              "      <td>NaN</td>\n",
              "      <td>NaN</td>\n",
              "      <td>NaN</td>\n",
              "      <td>NaN</td>\n",
              "      <td>NaN</td>\n",
              "      <td>NaN</td>\n",
              "      <td>NaN</td>\n",
              "      <td>NaN</td>\n",
              "      <td>NaN</td>\n",
              "      <td>NaN</td>\n",
              "      <td>NaN</td>\n",
              "      <td>NaN</td>\n",
              "      <td>NaN</td>\n",
              "      <td>NaN</td>\n",
              "      <td>NaN</td>\n",
              "      <td>NaN</td>\n",
              "      <td>NaN</td>\n",
              "      <td>NaN</td>\n",
              "      <td>NaN</td>\n",
              "      <td>0</td>\n",
              "      <td>0</td>\n",
              "      <td>2</td>\n",
              "      <td>0</td>\n",
              "    </tr>\n",
              "    <tr>\n",
              "      <th>20009</th>\n",
              "      <td>NaN</td>\n",
              "      <td>NaN</td>\n",
              "      <td>NaN</td>\n",
              "      <td>NaN</td>\n",
              "      <td>NaN</td>\n",
              "      <td>NaN</td>\n",
              "      <td>NaN</td>\n",
              "      <td>NaN</td>\n",
              "      <td>NaN</td>\n",
              "      <td>NaN</td>\n",
              "      <td>NaN</td>\n",
              "      <td>NaN</td>\n",
              "      <td>NaN</td>\n",
              "      <td>NaN</td>\n",
              "      <td>NaN</td>\n",
              "      <td>NaN</td>\n",
              "      <td>NaN</td>\n",
              "      <td>NaN</td>\n",
              "      <td>NaN</td>\n",
              "      <td>NaN</td>\n",
              "      <td>NaN</td>\n",
              "      <td>NaN</td>\n",
              "      <td>NaN</td>\n",
              "      <td>NaN</td>\n",
              "      <td>NaN</td>\n",
              "      <td>NaN</td>\n",
              "      <td>NaN</td>\n",
              "      <td>NaN</td>\n",
              "      <td>NaN</td>\n",
              "      <td>NaN</td>\n",
              "      <td>NaN</td>\n",
              "      <td>NaN</td>\n",
              "      <td>NaN</td>\n",
              "      <td>NaN</td>\n",
              "      <td>NaN</td>\n",
              "      <td>NaN</td>\n",
              "      <td>NaN</td>\n",
              "      <td>NaN</td>\n",
              "      <td>NaN</td>\n",
              "      <td>NaN</td>\n",
              "      <td>NaN</td>\n",
              "      <td>NaN</td>\n",
              "      <td>NaN</td>\n",
              "      <td>NaN</td>\n",
              "      <td>NaN</td>\n",
              "      <td>NaN</td>\n",
              "      <td>NaN</td>\n",
              "      <td>NaN</td>\n",
              "      <td>NaN</td>\n",
              "      <td>NaN</td>\n",
              "      <td>NaN</td>\n",
              "      <td>NaN</td>\n",
              "      <td>NaN</td>\n",
              "      <td>NaN</td>\n",
              "      <td>NaN</td>\n",
              "      <td>NaN</td>\n",
              "      <td>NaN</td>\n",
              "      <td>NaN</td>\n",
              "      <td>NaN</td>\n",
              "      <td>NaN</td>\n",
              "      <td>NaN</td>\n",
              "      <td>NaN</td>\n",
              "      <td>NaN</td>\n",
              "      <td>NaN</td>\n",
              "      <td>NaN</td>\n",
              "      <td>0</td>\n",
              "      <td>0</td>\n",
              "      <td>2</td>\n",
              "      <td>0</td>\n",
              "    </tr>\n",
              "    <tr>\n",
              "      <th>20010</th>\n",
              "      <td>12.033379</td>\n",
              "      <td>10.839125</td>\n",
              "      <td>9.676886</td>\n",
              "      <td>15.717350</td>\n",
              "      <td>7.958119</td>\n",
              "      <td>14.109184</td>\n",
              "      <td>11.643447</td>\n",
              "      <td>1.194254</td>\n",
              "      <td>2.356493</td>\n",
              "      <td>-3.683971</td>\n",
              "      <td>4.075260</td>\n",
              "      <td>-2.075805</td>\n",
              "      <td>-4.878225</td>\n",
              "      <td>-3.254005</td>\n",
              "      <td>-6.040463</td>\n",
              "      <td>7.759231</td>\n",
              "      <td>4.073902</td>\n",
              "      <td>5.488688</td>\n",
              "      <td>5.529773</td>\n",
              "      <td>5.472634</td>\n",
              "      <td>5.513719</td>\n",
              "      <td>4.671113</td>\n",
              "      <td>4.712198</td>\n",
              "      <td>3.022951</td>\n",
              "      <td>3.064036</td>\n",
              "      <td>1.916298</td>\n",
              "      <td>1.957383</td>\n",
              "      <td>NaN</td>\n",
              "      <td>NaN</td>\n",
              "      <td>NaN</td>\n",
              "      <td>NaN</td>\n",
              "      <td>NaN</td>\n",
              "      <td>NaN</td>\n",
              "      <td>NaN</td>\n",
              "      <td>NaN</td>\n",
              "      <td>NaN</td>\n",
              "      <td>NaN</td>\n",
              "      <td>NaN</td>\n",
              "      <td>NaN</td>\n",
              "      <td>NaN</td>\n",
              "      <td>NaN</td>\n",
              "      <td>NaN</td>\n",
              "      <td>NaN</td>\n",
              "      <td>NaN</td>\n",
              "      <td>NaN</td>\n",
              "      <td>NaN</td>\n",
              "      <td>NaN</td>\n",
              "      <td>NaN</td>\n",
              "      <td>NaN</td>\n",
              "      <td>NaN</td>\n",
              "      <td>NaN</td>\n",
              "      <td>NaN</td>\n",
              "      <td>NaN</td>\n",
              "      <td>0.041085</td>\n",
              "      <td>8.620496</td>\n",
              "      <td>8.579411</td>\n",
              "      <td>12.236090</td>\n",
              "      <td>12.009304</td>\n",
              "      <td>14.070101</td>\n",
              "      <td>0.226786</td>\n",
              "      <td>-1.834011</td>\n",
              "      <td>-2.060797</td>\n",
              "      <td>1.857040</td>\n",
              "      <td>1.282305</td>\n",
              "      <td>-3.533307</td>\n",
              "      <td>0</td>\n",
              "      <td>0</td>\n",
              "      <td>2</td>\n",
              "      <td>0</td>\n",
              "    </tr>\n",
              "    <tr>\n",
              "      <th>20011</th>\n",
              "      <td>18.825795</td>\n",
              "      <td>16.930775</td>\n",
              "      <td>16.009830</td>\n",
              "      <td>15.568099</td>\n",
              "      <td>15.335913</td>\n",
              "      <td>18.814910</td>\n",
              "      <td>15.567361</td>\n",
              "      <td>1.895021</td>\n",
              "      <td>2.815965</td>\n",
              "      <td>3.257696</td>\n",
              "      <td>3.489883</td>\n",
              "      <td>0.010886</td>\n",
              "      <td>1.362675</td>\n",
              "      <td>0.012904</td>\n",
              "      <td>0.441731</td>\n",
              "      <td>0.232187</td>\n",
              "      <td>0.000739</td>\n",
              "      <td>2.700888</td>\n",
              "      <td>2.077104</td>\n",
              "      <td>0.803849</td>\n",
              "      <td>0.180066</td>\n",
              "      <td>-0.115503</td>\n",
              "      <td>-0.739286</td>\n",
              "      <td>-0.546661</td>\n",
              "      <td>-1.170445</td>\n",
              "      <td>-0.847446</td>\n",
              "      <td>-1.471230</td>\n",
              "      <td>15.652003</td>\n",
              "      <td>15.257767</td>\n",
              "      <td>16.863090</td>\n",
              "      <td>16.099855</td>\n",
              "      <td>15.645479</td>\n",
              "      <td>15.331374</td>\n",
              "      <td>15.280365</td>\n",
              "      <td>1.217611</td>\n",
              "      <td>1.582725</td>\n",
              "      <td>0.454376</td>\n",
              "      <td>0.819491</td>\n",
              "      <td>0.314105</td>\n",
              "      <td>0.365114</td>\n",
              "      <td>-0.006524</td>\n",
              "      <td>0.051009</td>\n",
              "      <td>0.022598</td>\n",
              "      <td>0.818291</td>\n",
              "      <td>0.194508</td>\n",
              "      <td>-0.008586</td>\n",
              "      <td>-0.632370</td>\n",
              "      <td>-0.462019</td>\n",
              "      <td>-1.085803</td>\n",
              "      <td>-0.705682</td>\n",
              "      <td>-1.329466</td>\n",
              "      <td>-0.856255</td>\n",
              "      <td>-1.480038</td>\n",
              "      <td>-0.623784</td>\n",
              "      <td>16.114022</td>\n",
              "      <td>16.737805</td>\n",
              "      <td>16.960602</td>\n",
              "      <td>16.039827</td>\n",
              "      <td>15.399585</td>\n",
              "      <td>0.920774</td>\n",
              "      <td>1.561016</td>\n",
              "      <td>0.640242</td>\n",
              "      <td>-0.042731</td>\n",
              "      <td>-0.041308</td>\n",
              "      <td>-0.133010</td>\n",
              "      <td>0</td>\n",
              "      <td>0</td>\n",
              "      <td>2</td>\n",
              "      <td>0</td>\n",
              "    </tr>\n",
              "  </tbody>\n",
              "</table>\n",
              "<p>20012 rows × 69 columns</p>\n",
              "</div>"
            ],
            "text/plain": [
              "       sdssdr16_u_psf  sdssdr16_g_psf  sdssdr16_r_psf  ...  LabelG  LabelS  Label\n",
              "0           22.920023       21.565505       21.621283  ...       0       0      1\n",
              "1           19.933288       19.661708       19.533851  ...       0       0      1\n",
              "2           21.169854       19.856397       19.653011  ...       0       0      1\n",
              "3           21.462910       20.896202       20.697560  ...       0       0      1\n",
              "4           21.807372       21.333804       21.339532  ...       0       0      1\n",
              "...               ...             ...             ...  ...     ...     ...    ...\n",
              "20007             NaN             NaN             NaN  ...       0       2      0\n",
              "20008             NaN             NaN             NaN  ...       0       2      0\n",
              "20009             NaN             NaN             NaN  ...       0       2      0\n",
              "20010       12.033379       10.839125        9.676886  ...       0       2      0\n",
              "20011       18.825795       16.930775       16.009830  ...       0       2      0\n",
              "\n",
              "[20012 rows x 69 columns]"
            ]
          },
          "metadata": {
            "tags": []
          },
          "execution_count": 245
        }
      ]
    },
    {
      "cell_type": "code",
      "metadata": {
        "id": "GpVNxZwxDxav"
      },
      "source": [
        "X1, y1 = data1[:,:-1], data1[:,-1].astype('int')\n",
        "X2, y2 = data1[:,:-1], data1[:,-1].astype('int')"
      ],
      "execution_count": 246,
      "outputs": []
    },
    {
      "cell_type": "code",
      "metadata": {
        "colab": {
          "base_uri": "https://localhost:8080/"
        },
        "id": "TvBz-4GXRQ8Q",
        "outputId": "79b4c358-ea17-4914-b897-b9f56ed48aa3"
      },
      "source": [
        "X1.shape"
      ],
      "execution_count": 247,
      "outputs": [
        {
          "output_type": "execute_result",
          "data": {
            "text/plain": [
              "(7046, 65)"
            ]
          },
          "metadata": {
            "tags": []
          },
          "execution_count": 247
        }
      ]
    },
    {
      "cell_type": "markdown",
      "metadata": {
        "id": "wkWDnHfHEtjW"
      },
      "source": [
        "# Обучаем на первой выборке, проверяем на второй"
      ]
    },
    {
      "cell_type": "code",
      "metadata": {
        "id": "Q5WWADvK7JP0"
      },
      "source": [
        "data_split = data_preparation(X1, y1, 5000, 0.1)#joblib.load('/content/drive/MyDrive/Научная работа/Спецсем/TabNetModel/data_split.pkl')\n",
        "\n",
        "X_train, X_test = data_split[:2]\n",
        "y_train, y_test = data_split[2:4]\n",
        "\n",
        "train = np.concatenate((X_train, y_train.reshape((len(y_train), 1))), axis=1)\n",
        "np.random.shuffle(train)\n",
        "X_train, y_train = train[:,:-1], train[:,-1].astype('int')\n",
        "\n",
        "count = 100000\n",
        "\n",
        "X1_train, X1_test = data_split[4:6]\n",
        "y1_train, y1_test = data_split[6:8]\n",
        "X2_train, X2_test = data_split[8:10] \n",
        "y2_train, y2_test = data_split[10:12]\n",
        "X3_train, X3_test = data_split[12:14]\n",
        "y3_train, y3_test = data_split[14:16]\n",
        "\n",
        "X_train_pred = np.concatenate((X1_test[2*count : 4*count], X2_test[2*count : 4*count], X3_test[2*count : 4*count])) ###############\n",
        "X_val_pred   = np.concatenate((X1_test[count : 2*count], X2_test[count : 2*count], X3_test[count : 2*count]))\n",
        "np.random.shuffle(X_train_pred)\n",
        "np.random.shuffle(X_val_pred)\n",
        "\n",
        "X_valid      = X_test\n",
        "y_valid      = y_test"
      ],
      "execution_count": 248,
      "outputs": []
    },
    {
      "cell_type": "code",
      "metadata": {
        "id": "aKs6Hmrb9o57"
      },
      "source": [
        "robust = RobustScaler()\n",
        "\n",
        "X_train_norm = robust.fit_transform(X_train)\n",
        "X_test_norm = robust.transform(X_test)\n",
        "\n",
        "X_valid_norm = robust.transform(X_valid)"
      ],
      "execution_count": 249,
      "outputs": []
    },
    {
      "cell_type": "code",
      "metadata": {
        "colab": {
          "base_uri": "https://localhost:8080/"
        },
        "id": "lBesGweYnJzA",
        "outputId": "d74d3f4a-b1e2-4ea8-b2eb-265a3f5c0b52"
      },
      "source": [
        "X_train.shape"
      ],
      "execution_count": 250,
      "outputs": [
        {
          "output_type": "execute_result",
          "data": {
            "text/plain": [
              "(6340, 65)"
            ]
          },
          "metadata": {
            "tags": []
          },
          "execution_count": 250
        }
      ]
    },
    {
      "cell_type": "code",
      "metadata": {
        "colab": {
          "base_uri": "https://localhost:8080/"
        },
        "id": "k3hffW6r7G9A",
        "outputId": "d7018218-d74d-4b1d-ce4f-7565c1bc1fce"
      },
      "source": [
        "gb = lgb.LGBMClassifier()\n",
        "t = time()\n",
        "gb.fit(X_train_norm, y_train, eval_set=[(X_train_norm, y_train), (X_test_norm, y_test)],  **lgb_fit_params)\n",
        "print(time()-t)"
      ],
      "execution_count": 251,
      "outputs": [
        {
          "output_type": "stream",
          "text": [
            "1.1480119228363037\n"
          ],
          "name": "stdout"
        }
      ]
    },
    {
      "cell_type": "code",
      "metadata": {
        "colab": {
          "base_uri": "https://localhost:8080/"
        },
        "id": "WtI6URGw7G9H",
        "outputId": "9a2d980a-353c-49b2-8184-0712325d716c"
      },
      "source": [
        "pred = gb.predict(X_test_norm)\n",
        "print('Classification Report: \\n', classification_report(y_test, pred))\n",
        "print('Confusion Matrix: \\n', confusion_matrix(y_test, pred))\n",
        "gb_train_acc = accuracy_score(y_train, gb.predict(X_train_norm))\n",
        "print('Training Score: ', gb_train_acc)\n",
        "gb_test_acc =  accuracy_score(y_test, pred)\n",
        "print('Testing Score: ', gb_test_acc)"
      ],
      "execution_count": 252,
      "outputs": [
        {
          "output_type": "stream",
          "text": [
            "Classification Report: \n",
            "               precision    recall  f1-score   support\n",
            "\n",
            "           1       0.98      0.93      0.96       116\n",
            "           2       0.96      0.97      0.97       400\n",
            "           3       0.94      0.94      0.94       190\n",
            "\n",
            "    accuracy                           0.96       706\n",
            "   macro avg       0.96      0.95      0.95       706\n",
            "weighted avg       0.96      0.96      0.96       706\n",
            "\n",
            "Confusion Matrix: \n",
            " [[108   5   3]\n",
            " [  1 390   9]\n",
            " [  1  10 179]]\n",
            "Training Score:  0.9970031545741325\n",
            "Testing Score:  0.9589235127478754\n"
          ],
          "name": "stdout"
        }
      ]
    },
    {
      "cell_type": "code",
      "metadata": {
        "colab": {
          "base_uri": "https://localhost:8080/"
        },
        "id": "A96i6oXXRtWN",
        "outputId": "99592e12-8c9f-49b1-ef2a-cf3290e1ad9a"
      },
      "source": [
        "X_train.shape, X_test.shape"
      ],
      "execution_count": 253,
      "outputs": [
        {
          "output_type": "execute_result",
          "data": {
            "text/plain": [
              "((6340, 65), (706, 65))"
            ]
          },
          "metadata": {
            "tags": []
          },
          "execution_count": 253
        }
      ]
    },
    {
      "cell_type": "code",
      "metadata": {
        "colab": {
          "base_uri": "https://localhost:8080/"
        },
        "id": "SPW8o-hvuYjf",
        "outputId": "54d98110-888f-4156-ce5c-a78451ac7a55"
      },
      "source": [
        "clf = TabNetClassifier(n_d=8, n_a=8,\n",
        "                       momentum=0.7,\n",
        "                       optimizer_fn=torch.optim.Adam,\n",
        "                       optimizer_params=dict(lr=2e-2),\n",
        "                       scheduler_params={\"step_size\":200, # how to use learning rate scheduler\n",
        "                                         \"gamma\":0.95},\n",
        "                       scheduler_fn=torch.optim.lr_scheduler.StepLR,\n",
        "\n",
        "                       mask_type='entmax',\n",
        "                       **{'gamma': 1.7,\n",
        "                          'lambda_sparse': 0.001,\n",
        "                          'n_steps': 3}\n",
        "\n",
        ")"
      ],
      "execution_count": 254,
      "outputs": [
        {
          "output_type": "stream",
          "text": [
            "Device used : cuda\n"
          ],
          "name": "stdout"
        }
      ]
    },
    {
      "cell_type": "code",
      "metadata": {
        "id": "l1c7joHKuYjg"
      },
      "source": [
        "max_epochs = 2000"
      ],
      "execution_count": 255,
      "outputs": []
    },
    {
      "cell_type": "code",
      "metadata": {
        "id": "O5LMIziKL9TG",
        "colab": {
          "base_uri": "https://localhost:8080/"
        },
        "outputId": "fc0998a9-256d-4998-cab7-7636776951a3"
      },
      "source": [
        "X_train.shape"
      ],
      "execution_count": 256,
      "outputs": [
        {
          "output_type": "execute_result",
          "data": {
            "text/plain": [
              "(6340, 65)"
            ]
          },
          "metadata": {
            "tags": []
          },
          "execution_count": 256
        }
      ]
    },
    {
      "cell_type": "code",
      "metadata": {
        "colab": {
          "base_uri": "https://localhost:8080/"
        },
        "id": "DTPwIwdnGA5f",
        "outputId": "ea117f1d-6cc4-4845-d061-f8fa64d38b61"
      },
      "source": [
        "X_test.shape"
      ],
      "execution_count": 257,
      "outputs": [
        {
          "output_type": "execute_result",
          "data": {
            "text/plain": [
              "(706, 65)"
            ]
          },
          "metadata": {
            "tags": []
          },
          "execution_count": 257
        }
      ]
    },
    {
      "cell_type": "code",
      "metadata": {
        "colab": {
          "base_uri": "https://localhost:8080/"
        },
        "scrolled": true,
        "id": "ElyLpi8awsis",
        "outputId": "442f3c8f-c594-445d-bf72-79e8c0c7025d"
      },
      "source": [
        "t = time()\n",
        "clf.fit(\n",
        "    X_train=X_train, y_train=y_train,\n",
        "    #X_valid=X_valid, y_valid=y_valid,\n",
        "    eval_set=[(X_train, y_train), (X_test, y_test)],\n",
        "    eval_name=['train', 'valid'],\n",
        "    eval_metric=['logloss','accuracy'],\n",
        "    max_epochs=max_epochs , patience=20,\n",
        "    batch_size=512, virtual_batch_size=64,\n",
        "    #from_unsupervised=unsupervised_model\n",
        ") \n",
        "print(time()-t)"
      ],
      "execution_count": 258,
      "outputs": [
        {
          "output_type": "stream",
          "text": [
            "epoch 0  | loss: 0.92474 | train_logloss: 3.43286 | train_accuracy: 0.67192 | valid_logloss: 3.30555 | valid_accuracy: 0.67989 |  0:00:01s\n",
            "epoch 1  | loss: 0.38003 | train_logloss: 1.95185 | train_accuracy: 0.46404 | valid_logloss: 1.88921 | valid_accuracy: 0.45184 |  0:00:01s\n",
            "epoch 2  | loss: 0.22707 | train_logloss: 2.48949 | train_accuracy: 0.66877 | valid_logloss: 2.33404 | valid_accuracy: 0.67705 |  0:00:02s\n",
            "epoch 3  | loss: 0.17055 | train_logloss: 2.47091 | train_accuracy: 0.32382 | valid_logloss: 2.36671 | valid_accuracy: 0.30595 |  0:00:02s\n",
            "epoch 4  | loss: 0.16006 | train_logloss: 3.21318 | train_accuracy: 0.29968 | valid_logloss: 3.22221 | valid_accuracy: 0.28754 |  0:00:03s\n",
            "epoch 5  | loss: 0.1563  | train_logloss: 1.27542 | train_accuracy: 0.51167 | valid_logloss: 1.20103 | valid_accuracy: 0.51841 |  0:00:04s\n",
            "epoch 6  | loss: 0.15336 | train_logloss: 0.9124  | train_accuracy: 0.72744 | valid_logloss: 0.90326 | valid_accuracy: 0.71955 |  0:00:04s\n",
            "epoch 7  | loss: 0.14206 | train_logloss: 0.81268 | train_accuracy: 0.83943 | valid_logloss: 0.79416 | valid_accuracy: 0.83428 |  0:00:05s\n",
            "epoch 8  | loss: 0.13259 | train_logloss: 0.69309 | train_accuracy: 0.84795 | valid_logloss: 0.64387 | valid_accuracy: 0.85411 |  0:00:06s\n",
            "epoch 9  | loss: 0.13014 | train_logloss: 0.50352 | train_accuracy: 0.79369 | valid_logloss: 0.48003 | valid_accuracy: 0.78754 |  0:00:06s\n",
            "epoch 10 | loss: 0.12065 | train_logloss: 0.2588  | train_accuracy: 0.90804 | valid_logloss: 0.23843 | valid_accuracy: 0.92068 |  0:00:07s\n",
            "epoch 11 | loss: 0.11779 | train_logloss: 0.23284 | train_accuracy: 0.92114 | valid_logloss: 0.19073 | valid_accuracy: 0.94051 |  0:00:08s\n",
            "epoch 12 | loss: 0.12156 | train_logloss: 0.2786  | train_accuracy: 0.91483 | valid_logloss: 0.24933 | valid_accuracy: 0.92918 |  0:00:08s\n",
            "epoch 13 | loss: 0.11202 | train_logloss: 0.17495 | train_accuracy: 0.9429  | valid_logloss: 0.14445 | valid_accuracy: 0.95751 |  0:00:09s\n",
            "epoch 14 | loss: 0.10428 | train_logloss: 0.21625 | train_accuracy: 0.92476 | valid_logloss: 0.18036 | valid_accuracy: 0.94334 |  0:00:09s\n",
            "epoch 15 | loss: 0.10976 | train_logloss: 0.15523 | train_accuracy: 0.94968 | valid_logloss: 0.12664 | valid_accuracy: 0.95751 |  0:00:10s\n",
            "epoch 16 | loss: 0.10211 | train_logloss: 0.17281 | train_accuracy: 0.94558 | valid_logloss: 0.16443 | valid_accuracy: 0.95609 |  0:00:11s\n",
            "epoch 17 | loss: 0.10563 | train_logloss: 0.12111 | train_accuracy: 0.96672 | valid_logloss: 0.12685 | valid_accuracy: 0.97167 |  0:00:11s\n",
            "epoch 18 | loss: 0.10736 | train_logloss: 0.14119 | train_accuracy: 0.95694 | valid_logloss: 0.12467 | valid_accuracy: 0.95892 |  0:00:12s\n",
            "epoch 19 | loss: 0.10267 | train_logloss: 0.12503 | train_accuracy: 0.95931 | valid_logloss: 0.10845 | valid_accuracy: 0.96742 |  0:00:13s\n",
            "epoch 20 | loss: 0.09458 | train_logloss: 0.16812 | train_accuracy: 0.94069 | valid_logloss: 0.18156 | valid_accuracy: 0.94051 |  0:00:13s\n",
            "epoch 21 | loss: 0.10213 | train_logloss: 0.14522 | train_accuracy: 0.95315 | valid_logloss: 0.14802 | valid_accuracy: 0.95467 |  0:00:14s\n",
            "epoch 22 | loss: 0.09835 | train_logloss: 0.11665 | train_accuracy: 0.96562 | valid_logloss: 0.11296 | valid_accuracy: 0.96459 |  0:00:14s\n",
            "epoch 23 | loss: 0.0935  | train_logloss: 0.09078 | train_accuracy: 0.96972 | valid_logloss: 0.1064  | valid_accuracy: 0.97167 |  0:00:15s\n",
            "epoch 24 | loss: 0.09773 | train_logloss: 0.10866 | train_accuracy: 0.96625 | valid_logloss: 0.11214 | valid_accuracy: 0.96601 |  0:00:16s\n",
            "epoch 25 | loss: 0.09871 | train_logloss: 0.09828 | train_accuracy: 0.96703 | valid_logloss: 0.10357 | valid_accuracy: 0.96742 |  0:00:16s\n",
            "epoch 26 | loss: 0.10385 | train_logloss: 0.09389 | train_accuracy: 0.96972 | valid_logloss: 0.09657 | valid_accuracy: 0.96884 |  0:00:17s\n",
            "epoch 27 | loss: 0.10458 | train_logloss: 0.0999  | train_accuracy: 0.96798 | valid_logloss: 0.10382 | valid_accuracy: 0.96884 |  0:00:18s\n",
            "epoch 28 | loss: 0.10611 | train_logloss: 0.09546 | train_accuracy: 0.96877 | valid_logloss: 0.09347 | valid_accuracy: 0.97309 |  0:00:18s\n",
            "epoch 29 | loss: 0.09376 | train_logloss: 0.09245 | train_accuracy: 0.96814 | valid_logloss: 0.09795 | valid_accuracy: 0.97167 |  0:00:19s\n",
            "epoch 30 | loss: 0.09313 | train_logloss: 0.09198 | train_accuracy: 0.97129 | valid_logloss: 0.11024 | valid_accuracy: 0.96601 |  0:00:19s\n",
            "epoch 31 | loss: 0.09246 | train_logloss: 0.08822 | train_accuracy: 0.97224 | valid_logloss: 0.10214 | valid_accuracy: 0.96742 |  0:00:20s\n",
            "epoch 32 | loss: 0.08818 | train_logloss: 0.10549 | train_accuracy: 0.96609 | valid_logloss: 0.09538 | valid_accuracy: 0.96459 |  0:00:21s\n",
            "epoch 33 | loss: 0.08955 | train_logloss: 0.07825 | train_accuracy: 0.97413 | valid_logloss: 0.08895 | valid_accuracy: 0.97167 |  0:00:21s\n",
            "epoch 34 | loss: 0.08604 | train_logloss: 0.10865 | train_accuracy: 0.97161 | valid_logloss: 0.08948 | valid_accuracy: 0.96742 |  0:00:22s\n",
            "epoch 35 | loss: 0.09146 | train_logloss: 0.09211 | train_accuracy: 0.9705  | valid_logloss: 0.08955 | valid_accuracy: 0.97167 |  0:00:23s\n",
            "epoch 36 | loss: 0.08883 | train_logloss: 0.11875 | train_accuracy: 0.96483 | valid_logloss: 0.11361 | valid_accuracy: 0.96034 |  0:00:23s\n",
            "epoch 37 | loss: 0.09405 | train_logloss: 0.08424 | train_accuracy: 0.97192 | valid_logloss: 0.09091 | valid_accuracy: 0.97309 |  0:00:24s\n",
            "epoch 38 | loss: 0.08937 | train_logloss: 0.10364 | train_accuracy: 0.96987 | valid_logloss: 0.09696 | valid_accuracy: 0.97025 |  0:00:24s\n",
            "epoch 39 | loss: 0.08603 | train_logloss: 0.08253 | train_accuracy: 0.97397 | valid_logloss: 0.08543 | valid_accuracy: 0.97025 |  0:00:25s\n",
            "epoch 40 | loss: 0.08682 | train_logloss: 0.0865  | train_accuracy: 0.97303 | valid_logloss: 0.08337 | valid_accuracy: 0.97167 |  0:00:26s\n",
            "epoch 41 | loss: 0.08644 | train_logloss: 0.09031 | train_accuracy: 0.9705  | valid_logloss: 0.08809 | valid_accuracy: 0.96884 |  0:00:26s\n",
            "epoch 42 | loss: 0.08596 | train_logloss: 0.08058 | train_accuracy: 0.97382 | valid_logloss: 0.09231 | valid_accuracy: 0.97025 |  0:00:27s\n",
            "epoch 43 | loss: 0.08711 | train_logloss: 0.08819 | train_accuracy: 0.97114 | valid_logloss: 0.09052 | valid_accuracy: 0.97167 |  0:00:28s\n",
            "epoch 44 | loss: 0.08263 | train_logloss: 0.08389 | train_accuracy: 0.97082 | valid_logloss: 0.09789 | valid_accuracy: 0.96884 |  0:00:28s\n",
            "epoch 45 | loss: 0.08329 | train_logloss: 0.07759 | train_accuracy: 0.97587 | valid_logloss: 0.09037 | valid_accuracy: 0.96884 |  0:00:29s\n",
            "epoch 46 | loss: 0.08098 | train_logloss: 0.08039 | train_accuracy: 0.97303 | valid_logloss: 0.07813 | valid_accuracy: 0.97025 |  0:00:29s\n",
            "epoch 47 | loss: 0.08457 | train_logloss: 0.0954  | train_accuracy: 0.96751 | valid_logloss: 0.09826 | valid_accuracy: 0.96459 |  0:00:30s\n",
            "epoch 48 | loss: 0.09254 | train_logloss: 0.08593 | train_accuracy: 0.97003 | valid_logloss: 0.11768 | valid_accuracy: 0.96317 |  0:00:31s\n",
            "\n",
            "Early stopping occurred at epoch 48 with best_epoch = 28 and best_valid_accuracy = 0.97309\n",
            "Best weights from best epoch are automatically used!\n",
            "31.422003507614136\n"
          ],
          "name": "stdout"
        }
      ]
    },
    {
      "cell_type": "code",
      "metadata": {
        "id": "ZybdKiJKGeLH"
      },
      "source": [
        "X_test = X_test.astype('float')"
      ],
      "execution_count": null,
      "outputs": []
    },
    {
      "cell_type": "code",
      "metadata": {
        "colab": {
          "base_uri": "https://localhost:8080/"
        },
        "id": "UULXz-Dv9fHa",
        "outputId": "2b471a8f-523d-46fd-81d3-94b9b348631f"
      },
      "source": [
        "pred = clf.predict(X_test)\n",
        "print('Classification Report: \\n', classification_report(y_test, pred))\n",
        "print('Confusion Matrix: \\n', confusion_matrix(y_test, pred))\n",
        "clf_train_acc = accuracy_score(y_train, clf.predict(X_train.astype('float')))\n",
        "print('Training Score: ', clf_train_acc)\n",
        "clf_test_acc = accuracy_score(y_test, pred)\n",
        "print('Training Score: ', clf_test_acc)"
      ],
      "execution_count": null,
      "outputs": [
        {
          "output_type": "stream",
          "text": [
            "Classification Report: \n",
            "               precision    recall  f1-score   support\n",
            "\n",
            "           1       0.98      0.97      0.98      1046\n",
            "           2       0.98      0.97      0.98      3462\n",
            "           3       0.95      0.98      0.96      1697\n",
            "\n",
            "    accuracy                           0.97      6205\n",
            "   macro avg       0.97      0.97      0.97      6205\n",
            "weighted avg       0.97      0.97      0.97      6205\n",
            "\n",
            "Confusion Matrix: \n",
            " [[1017   19   10]\n",
            " [  12 3367   83]\n",
            " [   5   36 1656]]\n",
            "Training Score:  0.9777562862669246\n",
            "Training Score:  0.9734085414987913\n"
          ],
          "name": "stdout"
        }
      ]
    },
    {
      "cell_type": "code",
      "metadata": {
        "id": "3xapiiG8E8ST"
      },
      "source": [
        "lgb_fit_params = {\n",
        "    'early_stopping_rounds': 20,\n",
        "    'verbose': False\n",
        "}\n",
        "lgb_class_params = {\n",
        "    'min_child_samples':np.random.randint(1, 50, size = 5),\n",
        "    'colsample_bytree': np.random.uniform(0.1, 0.9, size = 5),\n",
        "    'num_leaves' :      np.random.randint(10, 100, size = 5),\n",
        "    'min_child_weight': np.random.uniform(0.001, 0.99, size = 5),\n",
        "}\n",
        "\n",
        "kf = KFold(n_splits=3)\n",
        "\n",
        "LGBM = RandomizedSearchCV(LGBMClassifier(learning_rate=0.001, n_estimators=1000), lgb_class_params, random_state=0, cv=kf)\n",
        "search = LGBM.fit(X_train_norm, y_train)"
      ],
      "execution_count": 225,
      "outputs": []
    },
    {
      "cell_type": "code",
      "metadata": {
        "colab": {
          "base_uri": "https://localhost:8080/"
        },
        "id": "fF5fwDP0iRC2",
        "outputId": "995fccde-78bd-41a2-ad6c-95c08621de4e"
      },
      "source": [
        "X_test.shape"
      ],
      "execution_count": null,
      "outputs": [
        {
          "output_type": "execute_result",
          "data": {
            "text/plain": [
              "(8669, 26)"
            ]
          },
          "metadata": {
            "tags": []
          },
          "execution_count": 132
        }
      ]
    },
    {
      "cell_type": "code",
      "metadata": {
        "id": "MzrryKbk65A9",
        "colab": {
          "base_uri": "https://localhost:8080/"
        },
        "outputId": "1fac1fcd-34cb-42cd-8676-91a2a4e4b023"
      },
      "source": [
        "len(gb.feature_importances_)"
      ],
      "execution_count": null,
      "outputs": [
        {
          "output_type": "execute_result",
          "data": {
            "text/plain": [
              "26"
            ]
          },
          "metadata": {
            "tags": []
          },
          "execution_count": 138
        }
      ]
    },
    {
      "cell_type": "code",
      "metadata": {
        "colab": {
          "base_uri": "https://localhost:8080/"
        },
        "id": "Qy6wg231azac",
        "outputId": "047fce4d-b94a-47f8-a93f-53275deae98a"
      },
      "source": [
        "np.where(gb.feature_importances_ == 366)[0].tolist()"
      ],
      "execution_count": null,
      "outputs": [
        {
          "output_type": "execute_result",
          "data": {
            "text/plain": [
              "[]"
            ]
          },
          "metadata": {
            "tags": []
          },
          "execution_count": 121
        }
      ]
    },
    {
      "cell_type": "code",
      "metadata": {
        "colab": {
          "base_uri": "https://localhost:8080/"
        },
        "id": "pCeHKcO8bHGQ",
        "outputId": "f909dcf2-5979-4b70-b7a8-c5f094cf72bd"
      },
      "source": [
        "[columns_sdss[i] for i in np.where(gb.feature_importances_ == 930)[0].tolist()]"
      ],
      "execution_count": null,
      "outputs": [
        {
          "output_type": "execute_result",
          "data": {
            "text/plain": [
              "['sdssdr16_u-z_psf']"
            ]
          },
          "metadata": {
            "tags": []
          },
          "execution_count": 135
        }
      ]
    },
    {
      "cell_type": "code",
      "metadata": {
        "id": "Cfs6whYqbx2E"
      },
      "source": [
        "columns_not_ls = [i for i in columns_not_L if 'ls' not in i]"
      ],
      "execution_count": null,
      "outputs": []
    },
    {
      "cell_type": "code",
      "metadata": {
        "id": "oDTOgfP3n2_p"
      },
      "source": [
        "columns_not_Err =  [i for i in columns if 'Err' not in i]"
      ],
      "execution_count": null,
      "outputs": []
    },
    {
      "cell_type": "code",
      "metadata": {
        "id": "a_BeXsfrosgZ"
      },
      "source": [
        "columns_not_Ivar = [i for i in columns_not_Err if 'Ivar' not in i]"
      ],
      "execution_count": null,
      "outputs": []
    },
    {
      "cell_type": "code",
      "metadata": {
        "id": "_yycpxwwpFul"
      },
      "source": [
        "columns_not_w = [i for i in columns_not_Ivar if 'w' not in i]"
      ],
      "execution_count": null,
      "outputs": []
    },
    {
      "cell_type": "code",
      "metadata": {
        "id": "cNtXF5YLpns0"
      },
      "source": [
        "columns_sdss = [i for i in columns_not_Ivar if 'sdss' in i] + ['LabelQ', 'LabelG', 'LabelS', 'Label']"
      ],
      "execution_count": null,
      "outputs": []
    },
    {
      "cell_type": "code",
      "metadata": {
        "id": "V5x0BfWgrkzm"
      },
      "source": [
        "columns_not_z = [i for i in columns_sdss if 'z' not in i]"
      ],
      "execution_count": null,
      "outputs": []
    },
    {
      "cell_type": "code",
      "metadata": {
        "colab": {
          "base_uri": "https://localhost:8080/"
        },
        "id": "tdhkDK3qsOtH",
        "outputId": "5c01c26a-0a5f-4142-b323-ebbadc29a26b"
      },
      "source": [
        "columns_not_z"
      ],
      "execution_count": null,
      "outputs": [
        {
          "output_type": "execute_result",
          "data": {
            "text/plain": [
              "['sdss_cModelFlux_u',\n",
              " 'sdss_cModelFlux_g',\n",
              " 'sdss_cModelFlux_r',\n",
              " 'sdss_cModelFlux_i',\n",
              " 'sdss_psfFlux_u',\n",
              " 'sdss_psfFlux_g',\n",
              " 'sdss_psfFlux_r',\n",
              " 'sdss_psfFlux_i',\n",
              " 'sdssdr16_u_psf',\n",
              " 'sdssdr16_g_psf',\n",
              " 'sdssdr16_r_psf',\n",
              " 'sdssdr16_i_psf',\n",
              " 'sdssdr16_u_cmodel',\n",
              " 'sdssdr16_g_cmodel',\n",
              " 'sdssdr16_r_cmodel',\n",
              " 'sdssdr16_i_cmodel',\n",
              " 'sdssdr16_u-g_psf',\n",
              " 'sdssdr16_u-r_psf',\n",
              " 'sdssdr16_u-i_psf',\n",
              " 'sdssdr16_u_psf-cmodel',\n",
              " 'sdssdr16_g-r_psf',\n",
              " 'sdssdr16_g-i_psf',\n",
              " 'sdssdr16_g_psf-cmodel',\n",
              " 'sdssdr16_r-i_psf',\n",
              " 'sdssdr16_r_psf-cmodel',\n",
              " 'sdssdr16_i_psf-cmodel',\n",
              " 'LabelQ',\n",
              " 'LabelG',\n",
              " 'LabelS',\n",
              " 'Label']"
            ]
          },
          "metadata": {
            "tags": []
          },
          "execution_count": 146
        }
      ]
    },
    {
      "cell_type": "code",
      "metadata": {
        "id": "nrws2b8ktWeD"
      },
      "source": [
        ""
      ],
      "execution_count": null,
      "outputs": []
    }
  ]
}