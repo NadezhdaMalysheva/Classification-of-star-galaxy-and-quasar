{
  "nbformat": 4,
  "nbformat_minor": 0,
  "metadata": {
    "colab": {
      "name": "Сколько весит, только больше памяти",
      "provenance": [],
      "collapsed_sections": [
        "9aUfz_DzVVtl"
      ],
      "toc_visible": true,
      "machine_shape": "hm",
      "include_colab_link": true
    },
    "kernelspec": {
      "display_name": "Python 3",
      "name": "python3"
    },
    "accelerator": "GPU"
  },
  "cells": [
    {
      "cell_type": "markdown",
      "metadata": {
        "id": "view-in-github",
        "colab_type": "text"
      },
      "source": [
        "<a href=\"https://colab.research.google.com/github/NadezhdaMalysheva/projects/blob/main/Memory.ipynb\" target=\"_parent\"><img src=\"https://colab.research.google.com/assets/colab-badge.svg\" alt=\"Open In Colab\"/></a>"
      ]
    },
    {
      "cell_type": "code",
      "metadata": {
        "colab": {
          "base_uri": "https://localhost:8080/"
        },
        "id": "6TYzHViycrE0",
        "outputId": "a3f510a6-71f9-428c-bd04-40178f816c98"
      },
      "source": [
        "from google.colab import drive\n",
        "drive.mount('/content/drive')"
      ],
      "execution_count": null,
      "outputs": [
        {
          "output_type": "stream",
          "text": [
            "Mounted at /content/drive\n"
          ],
          "name": "stdout"
        }
      ]
    },
    {
      "cell_type": "markdown",
      "metadata": {
        "id": "FTuzRusIm3Zj"
      },
      "source": [
        "#Проверка размера модели в ОП"
      ]
    },
    {
      "cell_type": "code",
      "metadata": {
        "colab": {
          "base_uri": "https://localhost:8080/"
        },
        "id": "-p_UwcgWXDE1",
        "outputId": "fd29da67-1c87-4323-849b-a53f7dc586f6"
      },
      "source": [
        "!pip install memory_profiler"
      ],
      "execution_count": null,
      "outputs": [
        {
          "output_type": "stream",
          "text": [
            "Requirement already satisfied: memory_profiler in /usr/local/lib/python3.7/dist-packages (0.58.0)\n",
            "Requirement already satisfied: psutil in /usr/local/lib/python3.7/dist-packages (from memory_profiler) (5.4.8)\n"
          ],
          "name": "stdout"
        }
      ]
    },
    {
      "cell_type": "code",
      "metadata": {
        "colab": {
          "base_uri": "https://localhost:8080/"
        },
        "id": "HZvova6wqRDP",
        "outputId": "26d00bed-a4fe-4b3b-8086-3df431278ddc"
      },
      "source": [
        "!pip install pytorch_tabnet"
      ],
      "execution_count": null,
      "outputs": [
        {
          "output_type": "stream",
          "text": [
            "Collecting pytorch_tabnet\n",
            "  Downloading https://files.pythonhosted.org/packages/94/e5/2a808d611a5d44e3c997c0d07362c04a56c70002208e00aec9eee3d923b5/pytorch_tabnet-3.1.1-py3-none-any.whl\n",
            "Requirement already satisfied: scipy>1.4 in /usr/local/lib/python3.7/dist-packages (from pytorch_tabnet) (1.4.1)\n",
            "Requirement already satisfied: tqdm<5.0,>=4.36 in /usr/local/lib/python3.7/dist-packages (from pytorch_tabnet) (4.41.1)\n",
            "Requirement already satisfied: scikit_learn>0.21 in /usr/local/lib/python3.7/dist-packages (from pytorch_tabnet) (0.22.2.post1)\n",
            "Requirement already satisfied: numpy<2.0,>=1.17 in /usr/local/lib/python3.7/dist-packages (from pytorch_tabnet) (1.19.5)\n",
            "Requirement already satisfied: torch<2.0,>=1.2 in /usr/local/lib/python3.7/dist-packages (from pytorch_tabnet) (1.8.1+cu101)\n",
            "Requirement already satisfied: joblib>=0.11 in /usr/local/lib/python3.7/dist-packages (from scikit_learn>0.21->pytorch_tabnet) (1.0.1)\n",
            "Requirement already satisfied: typing-extensions in /usr/local/lib/python3.7/dist-packages (from torch<2.0,>=1.2->pytorch_tabnet) (3.7.4.3)\n",
            "Installing collected packages: pytorch-tabnet\n",
            "Successfully installed pytorch-tabnet-3.1.1\n"
          ],
          "name": "stdout"
        }
      ]
    },
    {
      "cell_type": "code",
      "metadata": {
        "colab": {
          "base_uri": "https://localhost:8080/"
        },
        "id": "0NU3HUhUYzos",
        "outputId": "0bc5324d-9abe-47bf-f1d3-b1d06d0e6a1d"
      },
      "source": [
        "!python -m memory_profiler '/content/drive/MyDrive/Научная работа/Data/hyper/X-r/gb.py' '/gb10.pkl' '/tn10.pkl'"
      ],
      "execution_count": null,
      "outputs": [
        {
          "output_type": "stream",
          "text": [
            "Filename: /content/drive/MyDrive/Научная работа/Data/hyper/X-r/gb.py\n",
            "\n",
            "Line #    Mem usage    Increment  Occurences   Line Contents\n",
            "============================================================\n",
            "     7    255.5 MiB    255.5 MiB           1   @profile\n",
            "     8                                         def main_func(a, b):\n",
            "     9                                             #tn = TabNetClassifier()\n",
            "    10                                             #tn.load_model('/content/drive/MyDrive/Научная работа/Data/hyper/'+b)\n",
            "    11                                             #gb = lgb.Booster(model_file='/content/drive/MyDrive/Научная работа/Data/hyper/'+a)\n",
            "    12    259.7 MiB      4.2 MiB           1       gb = joblib.load('/content/drive/MyDrive/Научная работа/Data/hyper/'+a)\n",
            "    13   2317.2 MiB   2057.4 MiB           1       tn = joblib.load('/content/drive/MyDrive/Научная работа/Data/hyper/'+b)\n",
            "\n",
            "\n"
          ],
          "name": "stdout"
        }
      ]
    },
    {
      "cell_type": "code",
      "metadata": {
        "colab": {
          "base_uri": "https://localhost:8080/"
        },
        "id": "hd3J6Z-FZfz-",
        "outputId": "5b52ec4d-01e8-4c47-a8e2-e9156f76d637"
      },
      "source": [
        "!python -m memory_profiler '/content/drive/MyDrive/Научная работа/Data/hyper/X-r/gb.py' '/gb14.pkl' '/tn14.pkl'"
      ],
      "execution_count": null,
      "outputs": [
        {
          "output_type": "stream",
          "text": [
            "Filename: /content/drive/MyDrive/Научная работа/Data/hyper/X-r/gb.py\n",
            "\n",
            "Line #    Mem usage    Increment  Occurences   Line Contents\n",
            "============================================================\n",
            "     7    257.5 MiB    257.5 MiB           1   @profile\n",
            "     8                                         def main_func(a, b):\n",
            "     9                                             #tn = TabNetClassifier()\n",
            "    10                                             #tn.load_model('/content/drive/MyDrive/Научная работа/Data/hyper/'+b)\n",
            "    11                                             #gb = lgb.Booster(model_file='/content/drive/MyDrive/Научная работа/Data/hyper/'+a)\n",
            "    12    275.7 MiB     18.2 MiB           1       gb = joblib.load('/content/drive/MyDrive/Научная работа/Data/hyper/'+a)\n",
            "    13   2314.7 MiB   2039.0 MiB           1       tn = joblib.load('/content/drive/MyDrive/Научная работа/Data/hyper/'+b)\n",
            "\n",
            "\n"
          ],
          "name": "stdout"
        }
      ]
    },
    {
      "cell_type": "code",
      "metadata": {
        "colab": {
          "base_uri": "https://localhost:8080/"
        },
        "id": "B4hkKfifXNQq",
        "outputId": "cc3d956f-b74d-4048-e588-d6b7a0731cbe"
      },
      "source": [
        "!python -m memory_profiler '/content/drive/MyDrive/Научная работа/Data/hyper/X-r/gb.py' '/gb20.pkl' '/tn20.pkl'"
      ],
      "execution_count": null,
      "outputs": [
        {
          "output_type": "stream",
          "text": [
            "Filename: /content/drive/MyDrive/Научная работа/Data/hyper/X-r/gb.py\n",
            "\n",
            "Line #    Mem usage    Increment  Occurences   Line Contents\n",
            "============================================================\n",
            "     7    257.6 MiB    257.6 MiB           1   @profile\n",
            "     8                                         def main_func(a, b):\n",
            "     9                                             #tn = TabNetClassifier()\n",
            "    10                                             #tn.load_model('/content/drive/MyDrive/Научная работа/Data/hyper/'+b)\n",
            "    11                                             #gb = lgb.Booster(model_file='/content/drive/MyDrive/Научная работа/Data/hyper/'+a)\n",
            "    12    303.3 MiB     45.7 MiB           1       gb = joblib.load('/content/drive/MyDrive/Научная работа/Data/hyper/'+a)\n",
            "    13   2323.8 MiB   2020.5 MiB           1       tn = joblib.load('/content/drive/MyDrive/Научная работа/Data/hyper/'+b)\n",
            "\n",
            "\n"
          ],
          "name": "stdout"
        }
      ]
    },
    {
      "cell_type": "markdown",
      "metadata": {
        "id": "c_oMATbnXXnI"
      },
      "source": [
        "Размер модели TabNet не меняется в зависимости от объема побучающих данных, загрузка модели TabNet дает странные результаты при проверке на память (сильно меняется, но остается не меньше 2Gb)"
      ]
    },
    {
      "cell_type": "code",
      "metadata": {
        "id": "YeasoAf-7in3"
      },
      "source": [
        "import joblib\n",
        "import numpy as np"
      ],
      "execution_count": null,
      "outputs": []
    },
    {
      "cell_type": "code",
      "metadata": {
        "colab": {
          "base_uri": "https://localhost:8080/"
        },
        "id": "PQxcye5G7ahB",
        "outputId": "51d2f0a0-a560-4778-afd7-2386d9f960b7"
      },
      "source": [
        "!free -h"
      ],
      "execution_count": null,
      "outputs": [
        {
          "output_type": "stream",
          "text": [
            "              total        used        free      shared  buff/cache   available\n",
            "Mem:            25G        708M         21G        1.1M        3.4G         24G\n",
            "Swap:            0B          0B          0B\n"
          ],
          "name": "stdout"
        }
      ]
    },
    {
      "cell_type": "code",
      "metadata": {
        "id": "jYYB9PD068Q2"
      },
      "source": [
        "gb = joblib.load('/content/drive/MyDrive/Научная работа/Data/hyper/gb20.pkl')"
      ],
      "execution_count": null,
      "outputs": []
    },
    {
      "cell_type": "code",
      "metadata": {
        "colab": {
          "base_uri": "https://localhost:8080/"
        },
        "id": "xGmuskH484o-",
        "outputId": "4ffe0f80-3881-430a-c871-223d0f8f32b5"
      },
      "source": [
        "!free -h"
      ],
      "execution_count": null,
      "outputs": [
        {
          "output_type": "stream",
          "text": [
            "              total        used        free      shared  buff/cache   available\n",
            "Mem:            25G        772M         21G        1.0M        3.4G         24G\n",
            "Swap:            0B          0B          0B\n"
          ],
          "name": "stdout"
        }
      ]
    },
    {
      "cell_type": "code",
      "metadata": {
        "id": "GgU-J1bR84pH"
      },
      "source": [
        "tn = joblib.load('/content/drive/MyDrive/Научная работа/Data/hyper/tn20.pkl')"
      ],
      "execution_count": null,
      "outputs": []
    },
    {
      "cell_type": "code",
      "metadata": {
        "colab": {
          "base_uri": "https://localhost:8080/"
        },
        "id": "6njcX-EJ87B4",
        "outputId": "bae9db71-933c-4bd5-e2de-3d8e2b413ca9"
      },
      "source": [
        "!free -h"
      ],
      "execution_count": null,
      "outputs": [
        {
          "output_type": "stream",
          "text": [
            "              total        used        free      shared  buff/cache   available\n",
            "Mem:            25G        2.5G         19G         10M        3.4G         23G\n",
            "Swap:            0B          0B          0B\n"
          ],
          "name": "stdout"
        }
      ]
    },
    {
      "cell_type": "markdown",
      "metadata": {
        "id": "4MgN4ozeV5lM"
      },
      "source": [
        "Таким образом, по занимаемой памяти TabNet очень сильно проигрывает градиентному бустингу. Проверим, возможно он выйграет при времени предсказания за счет меньшего кол-ва весов. "
      ]
    },
    {
      "cell_type": "markdown",
      "metadata": {
        "id": "YfglK99HyOIB"
      },
      "source": [
        "#Графики времени предсказания от размера обучающей выборки"
      ]
    },
    {
      "cell_type": "code",
      "metadata": {
        "id": "XsXnhc-3u24q",
        "colab": {
          "base_uri": "https://localhost:8080/"
        },
        "outputId": "a341abfa-4a02-4dd8-dc12-cde8f06e7722"
      },
      "source": [
        "num = np.array(\n",
        "    [[1, 6, 11,14], \n",
        "     [2, 7, 12,15],\n",
        "     [4, 9, None,None],\n",
        "     [3, 8, 13,None],\n",
        "     [5, 10, None,None]]\n",
        ")\n",
        "num"
      ],
      "execution_count": null,
      "outputs": [
        {
          "output_type": "execute_result",
          "data": {
            "text/plain": [
              "array([[1, 6, 11, 14],\n",
              "       [2, 7, 12, 15],\n",
              "       [4, 9, None, None],\n",
              "       [3, 8, 13, None],\n",
              "       [5, 10, None, None]], dtype=object)"
            ]
          },
          "metadata": {
            "tags": []
          },
          "execution_count": 132
        }
      ]
    },
    {
      "cell_type": "code",
      "metadata": {
        "id": "tnkmFn8D-L5V"
      },
      "source": [
        "for i in range(num.shape[0]):\n",
        "  for j in range(num.shape[1]):\n",
        "    if num[i, j] != None:\n",
        "      tn = joblib.load('/content/drive/MyDrive/Научная работа/Data/hyper/tn'+str(num[i, j])+'.pkl')\n",
        "      joblib.dump(tn, '/content/drive/MyDrive/Научная работа/Data/hyper/53/tn'+str(i)+str(j)+'.pkl')"
      ],
      "execution_count": null,
      "outputs": []
    },
    {
      "cell_type": "code",
      "metadata": {
        "id": "HeXU5s4Qyfll"
      },
      "source": [
        "x = np.array([9000, 30000,\t300000,\t3000000])\n",
        "times = np.array([[10.07989645, 16.53872514,\t89.7821722, 143.1292372],\n",
        "                [34.41679382, 14.51256013, 14.56602859, 12.36445093],\n",
        "                [39.33082747,\t15.69353652,\t15.69255161, 12.84556222],\n",
        "                [48.89288402,\t18.30305004, None, None],\n",
        "                [56.61739254,\t20.06147051,\t12.55536532, 15.24038434],\n",
        "                [57.06839418,\t20.14721894, None, None]]).astype('float')\n",
        "\n",
        "acc = np.array([[0.886667,\t0.8953,\t0.902548,\t0.9230419],\n",
        "                [0.888889,\t0.894067,\t0.901943,\t0.922444],\n",
        "                [0.888889,\t0.8925,\t0.901833, 0.923124],\n",
        "                [0.887333,\t0.894133, None, None],\n",
        "                [0.885667,\t0.8913,\t0.9023, 0.923039],\n",
        "                [0.888111,\t0.894433, None, None]]).astype('float')\n",
        "     \n",
        "lab = ['gb', 'tn-xs', 'tn-s', 'tn-m', 'tn-l', 'tn-xl']"
      ],
      "execution_count": null,
      "outputs": []
    },
    {
      "cell_type": "code",
      "metadata": {
        "colab": {
          "base_uri": "https://localhost:8080/"
        },
        "id": "klnrXGJRATDd",
        "outputId": "8687308d-4bcd-426c-c78d-8c7d458afa74"
      },
      "source": [
        "params = np.zeros(num.shape)\n",
        "for i in range(num.shape[0]):\n",
        "  for j in range(num.shape[1]):\n",
        "    try:\n",
        "      tn = joblib.load('/content/drive/MyDrive/Научная работа/Data/hyper/53/tn'+str(i)+str(j)+'.pkl')\n",
        "      params[i, j] = sum([param.nelement() for param in tn.network.parameters()])\n",
        "    except:\n",
        "      pass\n",
        "params"
      ],
      "execution_count": null,
      "outputs": [
        {
          "output_type": "execute_result",
          "data": {
            "text/plain": [
              "array([[  11488.,   11488.,   11488.,   11488.],\n",
              "       [  32728.,   32728.,   32728.,   32728.],\n",
              "       [ 144328.,  144328.,       0.,       0.],\n",
              "       [ 497464.,  497464.,  497464.,       0.],\n",
              "       [1845496., 1845496.,       0.,       0.]])"
            ]
          },
          "metadata": {
            "tags": []
          },
          "execution_count": 137
        }
      ]
    },
    {
      "cell_type": "code",
      "metadata": {
        "id": "mmmjQV0MB69m"
      },
      "source": [
        "for i in range(num.shape[0]):\n",
        "  for j in range(num.shape[1]):\n",
        "    try:\n",
        "      tn = joblib.load('/content/drive/MyDrive/Научная работа/Data/hyper/53/tn'+str(i)+str(j)+'.pkl')\n",
        "      t = time()\n",
        "      pred = tn.predict(X_test)\n",
        "      t = time() - t\n",
        "      print('Confusion Matrix: \\n', confusion_matrix(y_test, pred))\n",
        "      print('Testing Score: ', accuracy_score(y_test, pred))\n",
        "      times[i+1, j] = t\n",
        "    except:\n",
        "      pass\n",
        "times"
      ],
      "execution_count": null,
      "outputs": []
    },
    {
      "cell_type": "code",
      "metadata": {
        "id": "1MbsZBzxytPr"
      },
      "source": [
        "import matplotlib.pyplot as plt"
      ],
      "execution_count": null,
      "outputs": []
    },
    {
      "cell_type": "code",
      "metadata": {
        "colab": {
          "base_uri": "https://localhost:8080/",
          "height": 658
        },
        "id": "sBlPjtJx0RQF",
        "outputId": "fee943e1-5eb4-435c-d2ab-7efac967c518"
      },
      "source": [
        "    plt.figure(figsize=(10, 10))\n",
        "    lines = []\n",
        "    labels = []\n",
        "    clr = ['skyblue', 'red', 'orangered', 'chocolate', 'darkorange', 'orange', 'gold', 'yellow', 'greenyellow', 'lime', 'springgreen', 'aquamarine', 'aqua',  'lightskyblue']\n",
        "    for j in range(len(lab)):\n",
        "      l, = plt.plot(np.log10(x), np.log10(times[j]), color=clr[j], lw=2)\n",
        "      lines.append(l)\n",
        "      labels.append(lab[j])\n",
        "\n",
        "\n",
        "    fig = plt.gcf()\n",
        "    fig.subplots_adjust(bottom=0.25)\n",
        "\n",
        "    plt.xlabel('Rows')\n",
        "    plt.ylabel('Time')\n",
        "    plt.title('Time')\n",
        "    plt.legend(lines, labels, loc=(0, -0.35), prop=dict(size=14))\n",
        "    plt.show()"
      ],
      "execution_count": null,
      "outputs": [
        {
          "output_type": "display_data",
          "data": {
            "image/png": "[encoded data removed]",
            "text/plain": [
              "<Figure size 720x720 with 1 Axes>"
            ]
          },
          "metadata": {
            "tags": [],
            "needs_background": "light"
          }
        }
      ]
    },
    {
      "cell_type": "code",
      "metadata": {
        "colab": {
          "base_uri": "https://localhost:8080/",
          "height": 658
        },
        "id": "tJs2LArx5XvV",
        "outputId": "db6149d3-e7f4-4933-83bc-973e90e547fc"
      },
      "source": [
        "    plt.figure(figsize=(10, 10))\n",
        "    lines = []\n",
        "    labels = []\n",
        "    clr = ['skyblue', 'red', 'orangered', 'chocolate', 'darkorange', 'orange', 'gold', 'yellow', 'greenyellow', 'lime', 'springgreen', 'aquamarine', 'aqua',  'lightskyblue']\n",
        "    for j in range(len(lab)):\n",
        "      l, = plt.plot(np.log10(x), acc[j], color=clr[j], lw=2)\n",
        "      lines.append(l)\n",
        "      labels.append(lab[j])\n",
        "\n",
        "\n",
        "    fig = plt.gcf()\n",
        "    fig.subplots_adjust(bottom=0.25)\n",
        "    #plt.xlim((0, 3000000))\n",
        "    #plt.ylim((0.88, 0.93))\n",
        "\n",
        "    plt.xlabel('Rows')\n",
        "    plt.ylabel('Accuracy')\n",
        "    plt.title('Accuracy') \n",
        "    plt.legend(lines, labels, loc=(0, -0.35), prop=dict(size=14))\n",
        "    plt.show()"
      ],
      "execution_count": null,
      "outputs": [
        {
          "output_type": "display_data",
          "data": {
            "image/png": "[encoded data removed]",
            "text/plain": [
              "<Figure size 720x720 with 1 Axes>"
            ]
          },
          "metadata": {
            "tags": [],
            "needs_background": "light"
          }
        }
      ]
    },
    {
      "cell_type": "code",
      "metadata": {
        "id": "vVkGEvXjyNyZ"
      },
      "source": [
        "plt.figure()\n",
        "plt.plot(x, ygb, color='darkorange', lw=2)\n",
        "plt.plot(x, y1, color='red', lw=2)\n",
        "plt.xlabel('Rows')\n",
        "plt.ylabel('Acc')\n",
        "plt.title('Receiver operating characteristic example')\n",
        "plt.legend(loc=\"lower right\")\n",
        "plt.show()"
      ],
      "execution_count": null,
      "outputs": []
    },
    {
      "cell_type": "code",
      "metadata": {
        "id": "65lD5U9sZ-Pq"
      },
      "source": [
        "def data_preparation(X, y, c=10000, test_size = 0.8):\n",
        "\n",
        "    X1_train, X1_test, y1_train, y1_test = train_test_split(X[y==1], y[y==1], test_size=test_size, random_state = 43)\n",
        "    X2_train, X2_test, y2_train, y2_test = train_test_split(X[y==2], y[y==2], test_size=test_size, random_state = 43)\n",
        "    X3_train, X3_test, y3_train, y3_test = train_test_split(X[y==3], y[y==3], test_size=test_size, random_state = 43)\n",
        "    \n",
        "    count = c\n",
        "    count1 = c\n",
        "\n",
        "    X_train, X_test = np.concatenate((X1_train[:count], X2_train[:count], X3_train[:count])), np.concatenate((X1_test[:count1], X2_test[:count1], X3_test[:count1]))\n",
        "    y_train, y_test = np.concatenate((y1_train[:count], y2_train[:count], y3_train[:count])), np.concatenate((y1_test[:count1], y2_test[:count1], y3_test[:count1]))\n",
        "    \n",
        "\n",
        "    return [X_train, X_test, y_train, y_test]"
      ],
      "execution_count": null,
      "outputs": []
    },
    {
      "cell_type": "code",
      "metadata": {
        "id": "EeLm9XEC7z88"
      },
      "source": [
        "X, y  = joblib.load('/content/drive/MyDrive/Научная работа/Спецсем/TabNetModel/X_y.pkl')"
      ],
      "execution_count": null,
      "outputs": []
    },
    {
      "cell_type": "code",
      "metadata": {
        "id": "9cGk7jMMZihm"
      },
      "source": [
        "Rows = 3000000 # как в самой большой модели"
      ],
      "execution_count": null,
      "outputs": []
    },
    {
      "cell_type": "code",
      "metadata": {
        "id": "c9HNnpKVaDMj"
      },
      "source": [
        "from time import time\n",
        "import numpy as np\n",
        "from sklearn.preprocessing import RobustScaler\n",
        "from sklearn.metrics import accuracy_score, confusion_matrix\n",
        "from sklearn.model_selection import train_test_split"
      ],
      "execution_count": null,
      "outputs": []
    },
    {
      "cell_type": "code",
      "metadata": {
        "id": "hISksbnCZYvA"
      },
      "source": [
        "  data_split = data_preparation(X, y, Rows//3, 0.5)\n",
        "\n",
        "  X_train, X_test = data_split[:2]\n",
        "  y_train, y_test = data_split[2:]\n",
        "\n",
        "  train = np.concatenate((X_train, y_train.reshape((len(y_train), 1))), axis=1)\n",
        "  np.random.shuffle(train)\n",
        "  X_train, y_train = train[:,:-1], train[:,-1].astype('int')\n",
        "\n",
        "  count = Rows//3\n",
        "\n",
        "  #X_train_pred = np.concatenate((X1_test[2*count : 4*count], X2_test[2*count : 4*count], X3_test[2*count : 4*count])) ###############\n",
        "  #X_val_pred   = np.concatenate((X1_test[count : 2*count], X2_test[count : 2*count], X3_test[count : 2*count]))\n",
        "  #np.random.shuffle(X_train_pred)\n",
        "  #np.random.shuffle(X_val_pred)\n",
        "\n",
        "  robust = RobustScaler()\n",
        "\n",
        "  X_train_norm = robust.fit_transform(X_train)\n",
        "  X_test_norm = robust.transform(X_test)"
      ],
      "execution_count": null,
      "outputs": []
    },
    {
      "cell_type": "code",
      "metadata": {
        "colab": {
          "base_uri": "https://localhost:8080/"
        },
        "id": "0NBrfj7Crd2G",
        "outputId": "88dfec69-7e85-4be9-9c90-91ff50055e79"
      },
      "source": [
        "for i in [9000, 30000, 300000]:\n",
        "  print(i)\n",
        "  gb = joblib.load('/content/drive/MyDrive/Научная работа/Data/hyper/gb'+str(i)+'.pkl')\n",
        "  t = time()\n",
        "  pred = gb.predict(X_test_norm)\n",
        "  print(time() - t)\n",
        "  print('Confusion Matrix: \\n', confusion_matrix(y_test, pred))\n",
        "  print('Testing Score: ', accuracy_score(y_test, pred))"
      ],
      "execution_count": null,
      "outputs": [
        {
          "output_type": "stream",
          "text": [
            "9000\n",
            "15.800808906555176\n",
            "Confusion Matrix: \n",
            " [[460777   7405  12000]\n",
            " [ 82732 828885  88383]\n",
            " [203541  19840 209206]]\n",
            "Testing Score:  0.7836116122751885\n",
            "30000\n",
            "16.935672998428345\n",
            "Confusion Matrix: \n",
            " [[452360   7396  20426]\n",
            " [ 87846 812197  99957]\n",
            " [133259  19269 280059]]\n",
            "Testing Score:  0.8075287711166377\n",
            "300000\n",
            "49.767234086990356\n",
            "Confusion Matrix: \n",
            " [[463182   6810  10190]\n",
            " [ 89076 821429  89495]\n",
            " [144561  19138 268888]]\n",
            "Testing Score:  0.812172823796287\n"
          ],
          "name": "stdout"
        }
      ]
    },
    {
      "cell_type": "code",
      "metadata": {
        "id": "TcGWFwhYLFYc"
      },
      "source": [
        "tn = joblib.load('/content/drive/MyDrive/Научная работа/Data/hyper/tn20.pkl')\n",
        "gb = joblib.load('/content/drive/MyDrive/Научная работа/Data/hyper/gb14.pkl')\n"
      ],
      "execution_count": null,
      "outputs": []
    },
    {
      "cell_type": "code",
      "metadata": {
        "id": "bN_V240O0gIq"
      },
      "source": [
        "gb.weight_column "
      ],
      "execution_count": null,
      "outputs": []
    },
    {
      "cell_type": "code",
      "metadata": {
        "colab": {
          "base_uri": "https://localhost:8080/"
        },
        "id": "xRkTUCr0yXPv",
        "outputId": "16d135ff-1fb9-463c-f6a9-687c79cab1bd"
      },
      "source": [
        "sum([param.nelement() for param in tn.network.parameters()])"
      ],
      "execution_count": null,
      "outputs": [
        {
          "output_type": "execute_result",
          "data": {
            "text/plain": [
              "32728"
            ]
          },
          "metadata": {
            "tags": []
          },
          "execution_count": 129
        }
      ]
    },
    {
      "cell_type": "code",
      "metadata": {
        "id": "364FlK9saK2h"
      },
      "source": [
        "t = time()\n",
        "pred = tn.predict(X_test)\n",
        "print(time() - t)\n",
        "print('Confusion Matrix: \\n', confusion_matrix(y_test, pred))\n",
        "print('Testing Score: ', accuracy_score(y_test, pred))"
      ],
      "execution_count": null,
      "outputs": []
    },
    {
      "cell_type": "code",
      "metadata": {
        "colab": {
          "base_uri": "https://localhost:8080/"
        },
        "id": "6wCJg0Usdrqc",
        "outputId": "8ee4fa7a-50b0-49c4-a66d-646b2756cdb9"
      },
      "source": [
        "tn"
      ],
      "execution_count": null,
      "outputs": [
        {
          "output_type": "execute_result",
          "data": {
            "text/plain": [
              "TabNetClassifier(n_d=8, n_a=8, n_steps=3, gamma=1.5, cat_idxs=[], cat_dims=[], cat_emb_dim=1, n_independent=2, n_shared=1, epsilon=1e-15, momentum=0.7, lambda_sparse=0.001, seed=0, clip_value=1, verbose=1, optimizer_fn=<class 'torch.optim.adam.Adam'>, optimizer_params={'lr': 0.02}, scheduler_fn=<class 'torch.optim.lr_scheduler.StepLR'>, scheduler_params={'step_size': 200, 'gamma': 0.95}, mask_type='entmax', input_dim=100, output_dim=3, device_name='auto')"
            ]
          },
          "metadata": {
            "tags": []
          },
          "execution_count": 14
        }
      ]
    },
    {
      "cell_type": "code",
      "metadata": {
        "id": "lgleL0RsbbXA",
        "colab": {
          "base_uri": "https://localhost:8080/"
        },
        "outputId": "5e925c95-6b62-456c-f02f-22d21dc45c3f"
      },
      "source": [
        "t = time()\n",
        "pred = gb.predict(X_test_norm)\n",
        "print(time() - t)\n",
        "print('Confusion Matrix: \\n', confusion_matrix(y_test, pred))\n",
        "print('Testing Score: ', accuracy_score(y_test, pred))"
      ],
      "execution_count": null,
      "outputs": [
        {
          "output_type": "stream",
          "text": [
            "143.1292371749878\n",
            "Confusion Matrix: \n",
            " [[427832  13220  39130]\n",
            " [  9908 970099  19993]\n",
            " [ 33320  32567 366700]]\n",
            "Testing Score:  0.9225531154049443\n"
          ],
          "name": "stdout"
        }
      ]
    },
    {
      "cell_type": "code",
      "metadata": {
        "colab": {
          "base_uri": "https://localhost:8080/"
        },
        "id": "KMRVEtysd2RG",
        "outputId": "4d06f031-202e-46c8-b37f-7d48aef6fb26"
      },
      "source": [
        "X_train.shape, X_test.shape"
      ],
      "execution_count": null,
      "outputs": [
        {
          "output_type": "execute_result",
          "data": {
            "text/plain": [
              "((1912767, 100), (1912769, 100))"
            ]
          },
          "metadata": {
            "tags": []
          },
          "execution_count": 28
        }
      ]
    },
    {
      "cell_type": "code",
      "metadata": {
        "id": "noHgVWTrezZC"
      },
      "source": [
        "gb_s = joblib.load('/content/drive/MyDrive/Научная работа/Data/hyper/gb5.pkl')"
      ],
      "execution_count": null,
      "outputs": []
    },
    {
      "cell_type": "code",
      "metadata": {
        "colab": {
          "base_uri": "https://localhost:8080/"
        },
        "id": "spo6lWQTl3rB",
        "outputId": "ac97e92a-718d-41d4-c8dd-d630f10f370b"
      },
      "source": [
        "t = time()\n",
        "pred = gb_s.predict(X_test_norm)\n",
        "print(time() - t)\n",
        "print('Confusion Matrix: \\n', confusion_matrix(y_test, pred))\n",
        "print('Testing Score: ', accuracy_score(y_test, pred))"
      ],
      "execution_count": null,
      "outputs": [
        {
          "output_type": "stream",
          "text": [
            "13.61814022064209\n",
            "Confusion Matrix: \n",
            " [[461421   6799  11962]\n",
            " [ 80776 812678 106546]\n",
            " [170945  18370 243272]]\n",
            "Testing Score:  0.7932850229170381\n"
          ],
          "name": "stdout"
        }
      ]
    },
    {
      "cell_type": "markdown",
      "metadata": {
        "id": "eBnkerIQyXt2"
      },
      "source": [
        "# Подбор параметров для градиентного бустинга в зависимости от размера обучающей выборки"
      ]
    },
    {
      "cell_type": "code",
      "metadata": {
        "id": "sCLtYHFqwmod"
      },
      "source": [
        "import numpy as np\n",
        "import pandas as pd"
      ],
      "execution_count": null,
      "outputs": []
    },
    {
      "cell_type": "code",
      "metadata": {
        "colab": {
          "base_uri": "https://localhost:8080/",
          "height": 17
        },
        "id": "B2lA0dgTwmib",
        "outputId": "f3c86c2a-7577-4542-a60b-cf2a3bef8fb4"
      },
      "source": [
        "import seaborn as sns\n",
        "import matplotlib.pyplot as plt\n",
        "\n",
        "import plotly.offline as py\n",
        "color = sns.color_palette()\n",
        "import plotly.graph_objs as go\n",
        "py.init_notebook_mode(connected=True)\n",
        "import plotly.tools as tls\n",
        "\n",
        "%matplotlib inline"
      ],
      "execution_count": null,
      "outputs": [
        {
          "output_type": "display_data",
          "data": {
            "text/html": [
              "        <script type=\"text/javascript\">\n",
              "        window.PlotlyConfig = {MathJaxConfig: 'local'};\n",
              "        if (window.MathJax) {MathJax.Hub.Config({SVG: {font: \"STIX-Web\"}});}\n",
              "        if (typeof require !== 'undefined') {\n",
              "        require.undef(\"plotly\");\n",
              "        requirejs.config({\n",
              "            paths: {\n",
              "                'plotly': ['https://cdn.plot.ly/plotly-latest.min']\n",
              "            }\n",
              "        });\n",
              "        require(['plotly'], function(Plotly) {\n",
              "            window._Plotly = Plotly;\n",
              "        });\n",
              "        }\n",
              "        </script>\n",
              "        "
            ]
          },
          "metadata": {
            "tags": []
          }
        }
      ]
    },
    {
      "cell_type": "code",
      "metadata": {
        "id": "XVxxcXZGwmdb"
      },
      "source": [
        "from sklearn.preprocessing import RobustScaler\n",
        "from sklearn.decomposition import PCA\n",
        "from sklearn.metrics import classification_report, confusion_matrix, accuracy_score, f1_score, roc_auc_score \n",
        "from sklearn.model_selection import train_test_split, StratifiedKFold\n",
        "from sklearn.ensemble import RandomForestClassifier, AdaBoostClassifier, GradientBoostingClassifier\n",
        "import joblib\n",
        "from tqdm.notebook import tqdm\n",
        "\n",
        "from pytorch_tabnet.tab_model import TabNetClassifier\n",
        "\n",
        "from hyperopt import hp\n",
        "import numpy as np\n",
        "from sklearn.metrics import mean_squared_error, f1_score, accuracy_score\n",
        "\n",
        "from sklearn.model_selection import RandomizedSearchCV\n",
        "from sklearn.model_selection import KFold\n",
        "from lightgbm import LGBMClassifier\n",
        "\n",
        "import lightgbm as lgb\n",
        "from hyperopt import fmin, tpe, STATUS_OK, STATUS_FAIL, Trials\n",
        "\n",
        "from time import time"
      ],
      "execution_count": null,
      "outputs": []
    },
    {
      "cell_type": "code",
      "metadata": {
        "id": "guuBGRaaiDoJ"
      },
      "source": [
        "import torch"
      ],
      "execution_count": null,
      "outputs": []
    },
    {
      "cell_type": "code",
      "metadata": {
        "id": "7NopTyppkzaA"
      },
      "source": [
        "def scor(y_test, y_pred):\n",
        "  return accuracy_score(y_test, y_pred)\n",
        "\n",
        "lgb_reg_params = {\n",
        "    'min_child_samples':hp.randint('min_child_samples', 50)+1,\n",
        "    'colsample_bytree': hp.uniform('colsample_bytree', 0.1, 0.9),\n",
        "    'num_leaves' :      hp.randint('num_leaves', 100)+10,\n",
        "    'min_child_weight': hp.uniform('min_child_weight', 0.001, 0.99),\n",
        "    'n_estimators':     1000\n",
        "}\n",
        "lgb_fit_params = {\n",
        "    'early_stopping_rounds': 20,\n",
        "    'verbose': False\n",
        "}\n",
        "lgb_para = dict()\n",
        "lgb_para['reg_params'] = lgb_reg_params\n",
        "lgb_para['fit_params'] = lgb_fit_params\n",
        "lgb_para['score'] = lambda y, pred: -accuracy_score(y, pred)\n",
        "\n",
        "\n",
        "rf_reg_params = {\n",
        "    'min_samples_leaf': hp.randint('min_samples_leaf', 20)+1,\n",
        "    'min_samples_split':hp.uniform('min_samples_split', 0.001, 0.1),\n",
        "    #'max_features':     hp.choice('max_features', ['auto', 'sqrt', 'log2', None]),\n",
        "    #'learning_rate':    hp.uniform('learning_rate', 0.001, 0.1),\n",
        "    'n_estimators':     hp.randint('n_estimators', 800)+100\n",
        "}\n",
        "rf_fit_params = {\n",
        "}\n",
        "rf_para = dict()\n",
        "rf_para['reg_params'] = rf_reg_params\n",
        "rf_para['fit_params'] = rf_fit_params\n",
        "rf_para['score'] = lambda y, pred: -accuracy_score(y, pred)\n",
        "\n",
        "tabnet_reg_params = {\n",
        "    'n_d' :              64,\n",
        "    'n_a' :              64,\n",
        "    'n_steps' :          hp.randint('n_steps', 10-3)+3,\n",
        "    'gamma' :            hp.uniform('gamma', 1.0, 3.0),\n",
        "    'lambda_sparse' :    hp.uniform('lambda_sparse', 0.0, 0.01),\n",
        "    'momentum' :         0.3, \n",
        "    'clip_value' :       2.,\n",
        "    'optimizer_params' : dict(lr=2e-2),\n",
        "    'scheduler_params' : {\"step_size\":50, \"gamma\":0.9},\n",
        "    'scheduler_fn' :     torch.optim.lr_scheduler.StepLR,\n",
        "    'mask_type' :       'entmax'\n",
        "}\n",
        "\n",
        "tabnet_fit_params = {\n",
        "    'max_epochs' : 100, \n",
        "    'patience' : 15,\n",
        "    'batch_size' : 512,\n",
        "    'virtual_batch_size' : 128,\n",
        "    'num_workers' : 0,\n",
        "    'weights' : 1,\n",
        "    'drop_last' : False,\n",
        "    #'from_unsupervised' : unsupervised_model\n",
        "}\n",
        "tabnet_para = dict()\n",
        "tabnet_para['reg_params'] = tabnet_reg_params\n",
        "tabnet_para['fit_params'] = tabnet_fit_params\n",
        "tabnet_para['score'] = lambda y, pred: -accuracy_score(y, pred)"
      ],
      "execution_count": null,
      "outputs": []
    },
    {
      "cell_type": "code",
      "metadata": {
        "id": "XWMNPpeokzaC"
      },
      "source": [
        "class HPOpt(object):\n",
        "\n",
        "    def __init__(self, x_train, x_test, y_train, y_test, cv=True):\n",
        "        self.x_train = x_train\n",
        "        self.x_test  = x_test\n",
        "        self.y_train = y_train\n",
        "        self.y_test  = y_test\n",
        "        self.X = np.concatenate((x_train, x_test))\n",
        "        self.y = np.concatenate((y_train, y_test))\n",
        "        self.cv = cv\n",
        "\n",
        "    def process(self, fn_name, space, trials, algo, max_evals):\n",
        "        fn = getattr(self, fn_name)\n",
        "        try:\n",
        "            result = fmin(fn=fn, space=space, algo=algo, max_evals=max_evals, trials=trials)\n",
        "        except Exception as e:\n",
        "            print({'status': STATUS_FAIL,\n",
        "                    'exception': str(e)})\n",
        "            return {'status': STATUS_FAIL,\n",
        "                    'exception': str(e)}\n",
        "        return result, trials\n",
        "\n",
        "    def rf_reg(self, para):\n",
        "        reg = RandomForestClassifier(**para['reg_params'])\n",
        "        return self.train_reg(reg, para)\n",
        "\n",
        "    def lgb_reg(self, para):\n",
        "        reg = lgb.LGBMClassifier(**para['reg_params'])\n",
        "        if self.cv:\n",
        "          return self.train_cv(reg, para)\n",
        "        return self.train_reg(reg, para)\n",
        "\n",
        "    def tabnet_reg(self, para):\n",
        "        reg = TabNetClassifier(**para['reg_params'])\n",
        "        return self.train_cv(reg, para)\n",
        "\n",
        "\n",
        "    def train_reg(self, reg, para):\n",
        "        if len(para['fit_params'])>0:\n",
        "            reg.fit(self.x_train, self.y_train,\n",
        "                  eval_set=[(self.x_train, self.y_train), (self.x_test, self.y_test)],\n",
        "                  **para['fit_params'])\n",
        "        else:\n",
        "            reg.fit(self.x_train, self.y_train)\n",
        "        pred = reg.predict(self.x_test)\n",
        "        loss = para['score'](self.y_test, pred)\n",
        "        return {'loss': loss, 'status': STATUS_OK}\n",
        "\n",
        "    def train_cv(self, reg, para):\n",
        "        kf = KFold(n_splits=2, shuffle=False)\n",
        "        loss = 0 \n",
        "        for train, test in kf.split(self.X):\n",
        "            if len(para['fit_params'])>0:\n",
        "                reg.fit(self.X[train], self.y[train],\n",
        "                      eval_set=[(self.X[train], self.y[train]), (self.X[test], self.y[test])],\n",
        "                      **para['fit_params'])\n",
        "            else:\n",
        "                reg.fit(self.X[train], self.y[train])\n",
        "            pred = reg.predict(self.X[test])\n",
        "            score = para['score'](self.y[test], pred)\n",
        "            loss += score\n",
        "\n",
        "        loss=loss/2\n",
        "        return {'loss': loss, 'status': STATUS_OK}\n"
      ],
      "execution_count": null,
      "outputs": []
    },
    {
      "cell_type": "markdown",
      "metadata": {
        "id": "anzG6qhxLahh"
      },
      "source": [
        "# 9000 rows"
      ]
    },
    {
      "cell_type": "code",
      "metadata": {
        "id": "gjgy9gixL_KF"
      },
      "source": [
        "Rows = 9000 # как в самой большой модели"
      ],
      "execution_count": null,
      "outputs": []
    },
    {
      "cell_type": "code",
      "metadata": {
        "id": "xasuncFYL_KM"
      },
      "source": [
        "  data_split = data_preparation(X, y, Rows//3, 0.5)\n",
        "\n",
        "  X_train, X_test = data_split[:2]\n",
        "  y_train, y_test = data_split[2:4]\n",
        "\n",
        "  train = np.concatenate((X_train, y_train.reshape((len(y_train), 1))), axis=1)\n",
        "  np.random.shuffle(train)\n",
        "  X_train, y_train = train[:,:-1], train[:,-1].astype('int')\n",
        "\n",
        "  count = Rows//3\n",
        "\n",
        "  #X_train_pred = np.concatenate((X1_test[2*count : 4*count], X2_test[2*count : 4*count], X3_test[2*count : 4*count])) ###############\n",
        "  #X_val_pred   = np.concatenate((X1_test[count : 2*count], X2_test[count : 2*count], X3_test[count : 2*count]))\n",
        "  #np.random.shuffle(X_train_pred)\n",
        "  #np.random.shuffle(X_val_pred)\n",
        "\n",
        "  robust = RobustScaler()\n",
        "\n",
        "  X_train_norm = robust.fit_transform(X_train)\n",
        "  X_test_norm = robust.transform(X_test)"
      ],
      "execution_count": null,
      "outputs": []
    },
    {
      "cell_type": "code",
      "metadata": {
        "id": "JNAUg3ICkzaD"
      },
      "source": [
        "obj = HPOpt(X_train_norm, X_test_norm, y_train, y_test)"
      ],
      "execution_count": null,
      "outputs": []
    },
    {
      "cell_type": "code",
      "metadata": {
        "colab": {
          "base_uri": "https://localhost:8080/"
        },
        "id": "ZNJ8RPGZkzaD",
        "outputId": "f37ba7ec-3c67-4564-9119-0e85d7aa68ea"
      },
      "source": [
        "lgb_opt = obj.process(fn_name='lgb_reg', space=lgb_para, trials=Trials(), algo=tpe.suggest, max_evals=10)"
      ],
      "execution_count": null,
      "outputs": [
        {
          "output_type": "stream",
          "text": [
            "-0.8848888888888888\n",
            "-0.8847777777777778\n",
            "-0.8846666666666667\n",
            "-0.8843333333333333\n",
            "-0.8827777777777778\n",
            "-0.8853333333333333\n",
            "-0.8864444444444445\n",
            "-0.8868888888888888\n",
            "-0.8847777777777778\n",
            "-0.8873333333333333\n",
            "-0.8843333333333333\n",
            "-0.8872222222222222\n",
            "-0.8846666666666667\n",
            "-0.8883333333333333\n",
            "-0.885\n",
            "-0.8864444444444445\n",
            "-0.8851111111111111\n",
            "-0.8874444444444445\n",
            "-0.8823333333333333\n",
            "-0.8864444444444445\n",
            "100%|██████████| 10/10 [00:59<00:00,  5.99s/it, best loss: -0.8866666666666667]\n"
          ],
          "name": "stdout"
        }
      ]
    },
    {
      "cell_type": "code",
      "metadata": {
        "colab": {
          "base_uri": "https://localhost:8080/"
        },
        "id": "v9UVNTwvS49p",
        "outputId": "950ec2bc-77a6-4aa6-ce4f-f9374d065d54"
      },
      "source": [
        "lgb_opt"
      ],
      "execution_count": null,
      "outputs": [
        {
          "output_type": "execute_result",
          "data": {
            "text/plain": [
              "({'colsample_bytree': 0.8111052939695854,\n",
              "  'min_child_samples': 24,\n",
              "  'min_child_weight': 0.7296110143210626,\n",
              "  'num_leaves': 79},\n",
              " <hyperopt.base.Trials at 0x7f13aaa09690>)"
            ]
          },
          "metadata": {
            "tags": []
          },
          "execution_count": 51
        }
      ]
    },
    {
      "cell_type": "code",
      "metadata": {
        "colab": {
          "base_uri": "https://localhost:8080/"
        },
        "id": "Ys6RvoBTby3E",
        "outputId": "d62b58d3-e395-40b6-f46a-d077371ca03a"
      },
      "source": [
        "gb = lgb.LGBMClassifier( \n",
        "                            **{'n_estimators': 1000,\n",
        "                               'colsample_bytree': 0.8111052939695854,\n",
        "                               'min_child_samples': 24+1,\n",
        "                               'min_child_weight': 0.7296110143210626,\n",
        "                               'num_leaves': 79+10} \n",
        "                         )\n",
        "gb.fit(X_train_norm, y_train, eval_set=[(X_train_norm, y_train), (X_test_norm, y_test)],  **lgb_fit_params)\n",
        "joblib.dump(gb, '/content/drive/MyDrive/Научная работа/Data/hyper/gb9000.pkl')\n"
      ],
      "execution_count": null,
      "outputs": [
        {
          "output_type": "execute_result",
          "data": {
            "text/plain": [
              "['/content/drive/MyDrive/Научная работа/Data/hyper/gb9000.pkl']"
            ]
          },
          "metadata": {
            "tags": []
          },
          "execution_count": 33
        }
      ]
    },
    {
      "cell_type": "code",
      "metadata": {
        "id": "0LrKSPoQcvDz"
      },
      "source": [
        "*9"
      ],
      "execution_count": null,
      "outputs": []
    },
    {
      "cell_type": "markdown",
      "metadata": {
        "id": "CBAwJ9w1TU1i"
      },
      "source": [
        "# 30000 rows"
      ]
    },
    {
      "cell_type": "code",
      "metadata": {
        "id": "D_cBFdeVTU1j"
      },
      "source": [
        "Rows = 30000 # как в самой большой модели"
      ],
      "execution_count": null,
      "outputs": []
    },
    {
      "cell_type": "code",
      "metadata": {
        "id": "TDVPSW7EqbeT"
      },
      "source": [
        "  data_split = data_preparation(X, y, Rows//3, 0.5)\n",
        "\n",
        "  X_train, X_test = data_split[:2]\n",
        "  y_train, y_test = data_split[2:4]\n",
        "\n",
        "  train = np.concatenate((X_train, y_train.reshape((len(y_train), 1))), axis=1)\n",
        "  np.random.shuffle(train)\n",
        "  X_train, y_train = train[:,:-1], train[:,-1].astype('int')\n",
        "\n",
        "  count = Rows//3\n",
        "\n",
        "  #X_train_pred = np.concatenate((X1_test[2*count : 4*count], X2_test[2*count : 4*count], X3_test[2*count : 4*count])) ###############\n",
        "  #X_val_pred   = np.concatenate((X1_test[count : 2*count], X2_test[count : 2*count], X3_test[count : 2*count]))\n",
        "  #np.random.shuffle(X_train_pred)\n",
        "  #np.random.shuffle(X_val_pred)\n",
        "\n",
        "  robust = RobustScaler()\n",
        "\n",
        "  X_train_norm = robust.fit_transform(X_train)\n",
        "  X_test_norm = robust.transform(X_test)"
      ],
      "execution_count": null,
      "outputs": []
    },
    {
      "cell_type": "code",
      "metadata": {
        "id": "DLfYgbGHTU1j"
      },
      "source": [
        "obj = HPOpt(X_train_norm, X_test_norm, y_train, y_test)"
      ],
      "execution_count": null,
      "outputs": []
    },
    {
      "cell_type": "code",
      "metadata": {
        "id": "D8CC5EcbTU1k"
      },
      "source": [
        "lgb_opt = obj.process(fn_name='lgb_reg', space=lgb_para, trials=Trials(), algo=tpe.suggest, max_evals=10)"
      ],
      "execution_count": null,
      "outputs": []
    },
    {
      "cell_type": "code",
      "metadata": {
        "id": "y2-SBRSBTYRo"
      },
      "source": [
        "lgb_opt"
      ],
      "execution_count": null,
      "outputs": []
    },
    {
      "cell_type": "code",
      "metadata": {
        "id": "RPxVMYH1i5Ei",
        "colab": {
          "base_uri": "https://localhost:8080/"
        },
        "outputId": "de15f451-3ce9-4bc1-f6b9-6c09f6287af9"
      },
      "source": [
        "gb = lgb.LGBMClassifier( **{'n_estimators': 1000,\n",
        "                            'colsample_bytree': 0.29243822352645577,\n",
        "                            'min_child_samples': 47+1,\n",
        "                            'min_child_weight': 0.7933718563538977,\n",
        "                            'num_leaves': 46+10})\n",
        "\n",
        "gb.fit(X_train_norm, y_train, eval_set=[(X_train_norm, y_train), (X_test_norm, y_test)],  **lgb_fit_params)\n",
        "joblib.dump(gb, '/content/drive/MyDrive/Научная работа/Data/hyper/gb30000.pkl')"
      ],
      "execution_count": null,
      "outputs": [
        {
          "output_type": "execute_result",
          "data": {
            "text/plain": [
              "['/content/drive/MyDrive/Научная работа/Data/hyper/gb30000.pkl']"
            ]
          },
          "metadata": {
            "tags": []
          },
          "execution_count": 42
        }
      ]
    },
    {
      "cell_type": "markdown",
      "metadata": {
        "id": "8uVijDo3UP_w"
      },
      "source": [
        "# 300000 rows"
      ]
    },
    {
      "cell_type": "code",
      "metadata": {
        "id": "AVa6RXWxUP_w"
      },
      "source": [
        "Rows = 300000 # как в самой большой модели"
      ],
      "execution_count": null,
      "outputs": []
    },
    {
      "cell_type": "code",
      "metadata": {
        "id": "HzeAKPfGUP_w"
      },
      "source": [
        "  data_split = data_preparation(X, y, Rows//3, 0.5)\n",
        "\n",
        "  X_train, X_test = data_split[:2]\n",
        "  y_train, y_test = data_split[2:4]\n",
        "\n",
        "  train = np.concatenate((X_train, y_train.reshape((len(y_train), 1))), axis=1)\n",
        "  np.random.shuffle(train)\n",
        "  X_train, y_train = train[:,:-1], train[:,-1].astype('int')\n",
        "\n",
        "  count = Rows//3\n",
        "\n",
        "  #X_train_pred = np.concatenate((X1_test[2*count : 4*count], X2_test[2*count : 4*count], X3_test[2*count : 4*count])) ###############\n",
        "  #X_val_pred   = np.concatenate((X1_test[count : 2*count], X2_test[count : 2*count], X3_test[count : 2*count]))\n",
        "  #np.random.shuffle(X_train_pred)\n",
        "  #np.random.shuffle(X_val_pred)\n",
        "\n",
        "  robust = RobustScaler()\n",
        "\n",
        "  X_train_norm = robust.fit_transform(X_train)\n",
        "  X_test_norm = robust.transform(X_test)"
      ],
      "execution_count": null,
      "outputs": []
    },
    {
      "cell_type": "code",
      "metadata": {
        "id": "BPQUJLpdUP_x"
      },
      "source": [
        "obj = HPOpt(X_train_norm, X_test_norm, y_train, y_test)"
      ],
      "execution_count": null,
      "outputs": []
    },
    {
      "cell_type": "code",
      "metadata": {
        "colab": {
          "base_uri": "https://localhost:8080/"
        },
        "id": "1ekgpyTkUP_x",
        "outputId": "fabe36e5-0c1f-44ee-c991-ca8edc007f3c"
      },
      "source": [
        "lgb_opt = obj.process(fn_name='lgb_reg', space=lgb_para, trials=Trials(), algo=tpe.suggest, max_evals=10)"
      ],
      "execution_count": null,
      "outputs": [
        {
          "output_type": "stream",
          "text": [
            "100%|██████████| 10/10 [1:04:02<00:00, 384.23s/it, best loss: -0.9025483333333333]\n"
          ],
          "name": "stdout"
        }
      ]
    },
    {
      "cell_type": "code",
      "metadata": {
        "colab": {
          "base_uri": "https://localhost:8080/"
        },
        "id": "73i7nHHiUP_x",
        "outputId": "3a5bd076-72ed-4807-f3d0-2414cdc78328"
      },
      "source": [
        "lgb_opt"
      ],
      "execution_count": null,
      "outputs": [
        {
          "output_type": "execute_result",
          "data": {
            "text/plain": [
              "({'colsample_bytree': 0.47893421164334826,\n",
              "  'min_child_samples': 18,\n",
              "  'min_child_weight': 0.7047737397756423,\n",
              "  'num_leaves': 97},\n",
              " <hyperopt.base.Trials at 0x7f096924f150>)"
            ]
          },
          "metadata": {
            "tags": []
          },
          "execution_count": 19
        }
      ]
    },
    {
      "cell_type": "code",
      "metadata": {
        "id": "kHz0_ti_jFJ5",
        "colab": {
          "base_uri": "https://localhost:8080/"
        },
        "outputId": "c2ed1c88-77f2-4dfd-defd-e96804ff9c6c"
      },
      "source": [
        "gb = lgb.LGBMClassifier( **{'n_estimators': 1000,\n",
        "                             'colsample_bytree': 0.47893421164334826,\n",
        "                              'min_child_samples': 18+1,\n",
        "                              'min_child_weight': 0.7047737397756423,\n",
        "                              'num_leaves': 97+10})\n",
        "\n",
        "gb.fit(X_train_norm, y_train, eval_set=[(X_train_norm, y_train), (X_test_norm, y_test)],  **lgb_fit_params)\n",
        "joblib.dump(gb, '/content/drive/MyDrive/Научная работа/Data/hyper/gb300000.pkl')"
      ],
      "execution_count": null,
      "outputs": [
        {
          "output_type": "execute_result",
          "data": {
            "text/plain": [
              "['/content/drive/MyDrive/Научная работа/Data/hyper/gb300000.pkl']"
            ]
          },
          "metadata": {
            "tags": []
          },
          "execution_count": 46
        }
      ]
    },
    {
      "cell_type": "markdown",
      "metadata": {
        "id": "vlLAf3dDVPB3"
      },
      "source": [
        "# 3000000 rows"
      ]
    },
    {
      "cell_type": "code",
      "metadata": {
        "id": "dbgaws3PVPB3"
      },
      "source": [
        "Rows = 3000000 # как в самой большой модели"
      ],
      "execution_count": null,
      "outputs": []
    },
    {
      "cell_type": "code",
      "metadata": {
        "id": "ZZMBThTQVPB4"
      },
      "source": [
        "  data_split = data_preparation(X, y, Rows//3, 0.5)\n",
        "\n",
        "  X_train, X_test = data_split[:2]\n",
        "  y_train, y_test = data_split[2:4]\n",
        "\n",
        "  train = np.concatenate((X_train, y_train.reshape((len(y_train), 1))), axis=1)\n",
        "  np.random.shuffle(train)\n",
        "  X_train, y_train = train[:,:-1], train[:,-1].astype('int')\n",
        "\n",
        "  count = Rows//3\n",
        "\n",
        "  X1_train, X1_test = data_split[4:6]\n",
        "  y1_train, y1_test = data_split[6:8]\n",
        "  X2_train, X2_test = data_split[8:10] \n",
        "  y2_train, y2_test = data_split[10:12]\n",
        "  X3_train, X3_test = data_split[12:14]\n",
        "  y3_train, y3_test = data_split[14:16]\n",
        "\n",
        "  #X_train_pred = np.concatenate((X1_test[2*count : 4*count], X2_test[2*count : 4*count], X3_test[2*count : 4*count])) ###############\n",
        "  #X_val_pred   = np.concatenate((X1_test[count : 2*count], X2_test[count : 2*count], X3_test[count : 2*count]))\n",
        "  #np.random.shuffle(X_train_pred)\n",
        "  #np.random.shuffle(X_val_pred)\n",
        "\n",
        "  robust = RobustScaler()\n",
        "\n",
        "  X_train_norm = robust.fit_transform(X_train)\n",
        "  X_test_norm = robust.transform(X_test)"
      ],
      "execution_count": null,
      "outputs": []
    },
    {
      "cell_type": "code",
      "metadata": {
        "id": "jXH47ZdCVPB4"
      },
      "source": [
        "obj = HPOpt(X_train_norm, X_test_norm, y_train, y_test)"
      ],
      "execution_count": null,
      "outputs": []
    },
    {
      "cell_type": "code",
      "metadata": {
        "colab": {
          "base_uri": "https://localhost:8080/"
        },
        "id": "mmRa6tH9VPB4",
        "outputId": "24888658-c33b-4e4a-bfe5-373bbf5c92b5"
      },
      "source": [
        "lgb_opt = obj.process(fn_name='lgb_reg', space=lgb_para, trials=Trials(), algo=tpe.suggest, max_evals=10)"
      ],
      "execution_count": null,
      "outputs": [
        {
          "output_type": "stream",
          "text": [
            " 60%|██████    | 6/10 [1:25:18<58:25, 876.43s/it, best loss: -0.9230157954253755]  "
          ],
          "name": "stdout"
        }
      ]
    },
    {
      "cell_type": "code",
      "metadata": {
        "id": "8uOWwKQZVPB4"
      },
      "source": [
        "lgb_opt"
      ],
      "execution_count": null,
      "outputs": []
    },
    {
      "cell_type": "code",
      "metadata": {
        "id": "wcYCQNVujbZW"
      },
      "source": [
        " gb = lgb.LGBMClassifier( **{'n_estimators': 1000\n",
        "                             'colsample_bytree': 0.47893421164334826,\n",
        "                              'min_child_samples': 18+1,\n",
        "                              'min_child_weight': 0.7047737397756423,\n",
        "                              'num_leaves': 97+10})\n",
        "\n",
        "  t = time()\n",
        "  gb.fit(X_train_norm, y_train, eval_set=[(X_train_norm, y_train), (X_valid_norm, y_valid)],  **lgb_fit_params)\n",
        "  t = time()-t\n",
        "  joblib.dump(gb, '/content/drive/MyDrive/Научная работа/Data/hyper/gb3000000.pkl')"
      ],
      "execution_count": null,
      "outputs": []
    },
    {
      "cell_type": "markdown",
      "metadata": {
        "id": "9aUfz_DzVVtl"
      },
      "source": [
        "# Дополнительное, для меня"
      ]
    },
    {
      "cell_type": "code",
      "metadata": {
        "colab": {
          "base_uri": "https://localhost:8080/"
        },
        "id": "IBR9CfCyQVyR",
        "outputId": "80e83231-fc57-45e5-8db7-4f2d60982854"
      },
      "source": [
        "X_train.shape"
      ],
      "execution_count": null,
      "outputs": [
        {
          "output_type": "execute_result",
          "data": {
            "text/plain": [
              "(9000, 100)"
            ]
          },
          "metadata": {
            "tags": []
          },
          "execution_count": 20
        }
      ]
    },
    {
      "cell_type": "code",
      "metadata": {
        "colab": {
          "base_uri": "https://localhost:8080/"
        },
        "id": "bJj7bJfRq9Rx",
        "outputId": "e99e8b67-1b33-4674-be6e-d6d868a7f8dc"
      },
      "source": [
        "joblib.dump(X_test, '/content/drive/MyDrive/Научная работа/Data/hyper/X_main_test.pkl')"
      ],
      "execution_count": null,
      "outputs": [
        {
          "output_type": "execute_result",
          "data": {
            "text/plain": [
              "['/content/drive/MyDrive/Научная работа/Data/hyper/X_main_test.pkl']"
            ]
          },
          "metadata": {
            "tags": []
          },
          "execution_count": 16
        }
      ]
    },
    {
      "cell_type": "code",
      "metadata": {
        "colab": {
          "base_uri": "https://localhost:8080/"
        },
        "id": "P68ecSA58XOp",
        "outputId": "656dbe22-1716-4a37-a109-0e6afb105b84"
      },
      "source": [
        "joblib.dump(y_test, '/content/drive/MyDrive/Научная работа/Data/hyper/y_main_test.pkl')"
      ],
      "execution_count": null,
      "outputs": [
        {
          "output_type": "execute_result",
          "data": {
            "text/plain": [
              "['/content/drive/MyDrive/Научная работа/Data/hyper/y_main_test.pkl']"
            ]
          },
          "metadata": {
            "tags": []
          },
          "execution_count": 17
        }
      ]
    },
    {
      "cell_type": "code",
      "metadata": {
        "id": "DX2FZT4RBtq3"
      },
      "source": [
        ""
      ],
      "execution_count": null,
      "outputs": []
    }
  ]
}