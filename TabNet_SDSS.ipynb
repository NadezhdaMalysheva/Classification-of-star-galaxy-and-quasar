{
  "nbformat": 4,
  "nbformat_minor": 0,
  "metadata": {
    "colab": {
      "name": "TabNet SDSS",
      "provenance": [],
      "collapsed_sections": [],
      "machine_shape": "hm",
      "include_colab_link": true
    },
    "kernelspec": {
      "display_name": "Python 3",
      "name": "python3"
    },
    "accelerator": "GPU"
  },
  "cells": [
    {
      "cell_type": "markdown",
      "metadata": {
        "id": "view-in-github",
        "colab_type": "text"
      },
      "source": [
        "<a href=\"https://colab.research.google.com/github/NadezhdaMalysheva/projects/blob/main/TabNet_SDSS.ipynb\" target=\"_parent\"><img src=\"https://colab.research.google.com/assets/colab-badge.svg\" alt=\"Open In Colab\"/></a>"
      ]
    },
    {
      "cell_type": "code",
      "metadata": {
        "colab": {
          "base_uri": "https://localhost:8080/"
        },
        "id": "YoXFJs19Ks2y",
        "outputId": "f42300ee-6c24-4d68-d2e7-327287ff69ab"
      },
      "source": [
        "from google.colab import drive\n",
        "drive.mount('/content/drive')"
      ],
      "execution_count": 1,
      "outputs": [
        {
          "output_type": "stream",
          "text": [
            "Mounted at /content/drive\n"
          ],
          "name": "stdout"
        }
      ]
    },
    {
      "cell_type": "markdown",
      "metadata": {
        "id": "m0kPZJ5yOVbo"
      },
      "source": [
        "Подгружаем необходимые библиотеки "
      ]
    },
    {
      "cell_type": "code",
      "metadata": {
        "colab": {
          "base_uri": "https://localhost:8080/"
        },
        "id": "YtFLkOBsdnJR",
        "outputId": "7e6640ab-1807-4068-b84c-3ac4155e5a69"
      },
      "source": [
        "pip install pytorch-tabnet"
      ],
      "execution_count": 2,
      "outputs": [
        {
          "output_type": "stream",
          "text": [
            "Collecting pytorch-tabnet\n",
            "  Downloading https://files.pythonhosted.org/packages/94/e5/2a808d611a5d44e3c997c0d07362c04a56c70002208e00aec9eee3d923b5/pytorch_tabnet-3.1.1-py3-none-any.whl\n",
            "Requirement already satisfied: scipy>1.4 in /usr/local/lib/python3.7/dist-packages (from pytorch-tabnet) (1.4.1)\n",
            "Requirement already satisfied: torch<2.0,>=1.2 in /usr/local/lib/python3.7/dist-packages (from pytorch-tabnet) (1.7.1+cu101)\n",
            "Requirement already satisfied: tqdm<5.0,>=4.36 in /usr/local/lib/python3.7/dist-packages (from pytorch-tabnet) (4.41.1)\n",
            "Requirement already satisfied: numpy<2.0,>=1.17 in /usr/local/lib/python3.7/dist-packages (from pytorch-tabnet) (1.19.5)\n",
            "Requirement already satisfied: scikit_learn>0.21 in /usr/local/lib/python3.7/dist-packages (from pytorch-tabnet) (0.22.2.post1)\n",
            "Requirement already satisfied: typing-extensions in /usr/local/lib/python3.7/dist-packages (from torch<2.0,>=1.2->pytorch-tabnet) (3.7.4.3)\n",
            "Requirement already satisfied: joblib>=0.11 in /usr/local/lib/python3.7/dist-packages (from scikit_learn>0.21->pytorch-tabnet) (1.0.1)\n",
            "Installing collected packages: pytorch-tabnet\n",
            "Successfully installed pytorch-tabnet-3.1.1\n"
          ],
          "name": "stdout"
        }
      ]
    },
    {
      "cell_type": "code",
      "metadata": {
        "id": "sCLtYHFqwmod"
      },
      "source": [
        "import numpy as np\n",
        "import pandas as pd"
      ],
      "execution_count": 3,
      "outputs": []
    },
    {
      "cell_type": "code",
      "metadata": {
        "colab": {
          "base_uri": "https://localhost:8080/",
          "height": 17
        },
        "id": "B2lA0dgTwmib",
        "outputId": "12d481ea-82de-4853-9d80-85e07cc855be"
      },
      "source": [
        "import seaborn as sns\n",
        "import matplotlib.pyplot as plt\n",
        "\n",
        "import plotly.offline as py\n",
        "color = sns.color_palette()\n",
        "import plotly.graph_objs as go\n",
        "py.init_notebook_mode(connected=True)\n",
        "import plotly.tools as tls\n",
        "\n",
        "%matplotlib inline"
      ],
      "execution_count": 4,
      "outputs": [
        {
          "output_type": "display_data",
          "data": {
            "text/html": [
              "        <script type=\"text/javascript\">\n",
              "        window.PlotlyConfig = {MathJaxConfig: 'local'};\n",
              "        if (window.MathJax) {MathJax.Hub.Config({SVG: {font: \"STIX-Web\"}});}\n",
              "        if (typeof require !== 'undefined') {\n",
              "        require.undef(\"plotly\");\n",
              "        requirejs.config({\n",
              "            paths: {\n",
              "                'plotly': ['https://cdn.plot.ly/plotly-latest.min']\n",
              "            }\n",
              "        });\n",
              "        require(['plotly'], function(Plotly) {\n",
              "            window._Plotly = Plotly;\n",
              "        });\n",
              "        }\n",
              "        </script>\n",
              "        "
            ]
          },
          "metadata": {
            "tags": []
          }
        }
      ]
    },
    {
      "cell_type": "code",
      "metadata": {
        "id": "XVxxcXZGwmdb"
      },
      "source": [
        "from sklearn.preprocessing import RobustScaler\n",
        "from sklearn.decomposition import PCA\n",
        "from sklearn.metrics import classification_report, confusion_matrix, accuracy_score, f1_score, roc_auc_score \n",
        "from sklearn.model_selection import train_test_split, StratifiedKFold\n",
        "from sklearn.ensemble import RandomForestClassifier, AdaBoostClassifier, GradientBoostingClassifier\n",
        "import joblib\n",
        "from tqdm.notebook import tqdm\n",
        "\n",
        "from pytorch_tabnet.tab_model import TabNetClassifier"
      ],
      "execution_count": 46,
      "outputs": []
    },
    {
      "cell_type": "markdown",
      "metadata": {
        "id": "Hdeojo5eOdox"
      },
      "source": [
        "Подгружаем данные из SDSS обзора, которые были получены: http://skyserver.sdss.org/CasJobs/mydbcontent.aspx?ObjName=SpecPhotoAll&ObjType=TABLE&context=DR16&type=normal \r\n",
        "\r\n",
        "Здесь уже выполнены следующие преобразования:\r\n",
        "\r\n",
        "1) Удалены строчки с разряженными данными (где отсутствуют интересующие нас фотометрические признаки), выбросы, удалены не интересующие нас признаки\r\n",
        "\r\n",
        "2) Удалены дубрирующиеся данные\r\n",
        "\r\n",
        "3) Объединены основные спектральные классы звезд "
      ]
    },
    {
      "cell_type": "code",
      "metadata": {
        "colab": {
          "base_uri": "https://localhost:8080/",
          "height": 215
        },
        "id": "BnqT-ICVwjqY",
        "outputId": "069a6e35-c987-4edb-afbd-84a5b551ff2f"
      },
      "source": [
        "df = pd.read_csv('/content/drive/MyDrive/Научная работа/Nauch/Результат/data/df_done_sub.csv') #выборка с уже объединеными подклассами звезд \n",
        "df.head()"
      ],
      "execution_count": 6,
      "outputs": [
        {
          "output_type": "execute_result",
          "data": {
            "text/html": [
              "<div>\n",
              "<style scoped>\n",
              "    .dataframe tbody tr th:only-of-type {\n",
              "        vertical-align: middle;\n",
              "    }\n",
              "\n",
              "    .dataframe tbody tr th {\n",
              "        vertical-align: top;\n",
              "    }\n",
              "\n",
              "    .dataframe thead th {\n",
              "        text-align: right;\n",
              "    }\n",
              "</style>\n",
              "<table border=\"1\" class=\"dataframe\">\n",
              "  <thead>\n",
              "    <tr style=\"text-align: right;\">\n",
              "      <th></th>\n",
              "      <th>objID</th>\n",
              "      <th>ra</th>\n",
              "      <th>dec</th>\n",
              "      <th>z</th>\n",
              "      <th>zErr</th>\n",
              "      <th>class</th>\n",
              "      <th>subClass</th>\n",
              "      <th>psfMag_u</th>\n",
              "      <th>psfMag_g</th>\n",
              "      <th>psfMag_r</th>\n",
              "      <th>psfMag_i</th>\n",
              "      <th>psfMag_z</th>\n",
              "      <th>cModelMag_u</th>\n",
              "      <th>cModelMag_g</th>\n",
              "      <th>cModelMag_r</th>\n",
              "      <th>cModelMag_i</th>\n",
              "      <th>cModelMag_z</th>\n",
              "    </tr>\n",
              "  </thead>\n",
              "  <tbody>\n",
              "    <tr>\n",
              "      <th>0</th>\n",
              "      <td>1237679341106758387</td>\n",
              "      <td>37.470142</td>\n",
              "      <td>-5.554778</td>\n",
              "      <td>0.785255</td>\n",
              "      <td>0.000138</td>\n",
              "      <td>GALAXY</td>\n",
              "      <td>NaN</td>\n",
              "      <td>23.38412</td>\n",
              "      <td>23.00183</td>\n",
              "      <td>22.67571</td>\n",
              "      <td>21.95927</td>\n",
              "      <td>21.39581</td>\n",
              "      <td>20.01718</td>\n",
              "      <td>21.90474</td>\n",
              "      <td>21.99600</td>\n",
              "      <td>21.05722</td>\n",
              "      <td>20.29795</td>\n",
              "    </tr>\n",
              "    <tr>\n",
              "      <th>1</th>\n",
              "      <td>1237679341106757929</td>\n",
              "      <td>37.431501</td>\n",
              "      <td>-5.600435</td>\n",
              "      <td>1.285837</td>\n",
              "      <td>3.473993</td>\n",
              "      <td>QSO</td>\n",
              "      <td>NaN</td>\n",
              "      <td>22.52914</td>\n",
              "      <td>23.78679</td>\n",
              "      <td>23.21358</td>\n",
              "      <td>22.17294</td>\n",
              "      <td>21.80350</td>\n",
              "      <td>21.23949</td>\n",
              "      <td>20.26025</td>\n",
              "      <td>22.12909</td>\n",
              "      <td>21.14929</td>\n",
              "      <td>20.66354</td>\n",
              "    </tr>\n",
              "    <tr>\n",
              "      <th>2</th>\n",
              "      <td>1237679341106758149</td>\n",
              "      <td>37.388988</td>\n",
              "      <td>-5.556329</td>\n",
              "      <td>0.779955</td>\n",
              "      <td>0.000054</td>\n",
              "      <td>GALAXY</td>\n",
              "      <td>NaN</td>\n",
              "      <td>25.44541</td>\n",
              "      <td>23.13342</td>\n",
              "      <td>23.57675</td>\n",
              "      <td>24.34838</td>\n",
              "      <td>22.31492</td>\n",
              "      <td>20.38550</td>\n",
              "      <td>22.09762</td>\n",
              "      <td>23.74675</td>\n",
              "      <td>24.19759</td>\n",
              "      <td>20.62257</td>\n",
              "    </tr>\n",
              "    <tr>\n",
              "      <th>3</th>\n",
              "      <td>1237679440426172681</td>\n",
              "      <td>37.327114</td>\n",
              "      <td>-5.485252</td>\n",
              "      <td>0.714883</td>\n",
              "      <td>0.000028</td>\n",
              "      <td>GALAXY</td>\n",
              "      <td>NaN</td>\n",
              "      <td>25.43466</td>\n",
              "      <td>23.13782</td>\n",
              "      <td>23.31316</td>\n",
              "      <td>22.53812</td>\n",
              "      <td>22.60905</td>\n",
              "      <td>25.45580</td>\n",
              "      <td>22.96513</td>\n",
              "      <td>23.37321</td>\n",
              "      <td>22.59266</td>\n",
              "      <td>22.64923</td>\n",
              "    </tr>\n",
              "    <tr>\n",
              "      <th>4</th>\n",
              "      <td>1237679341106692861</td>\n",
              "      <td>37.315868</td>\n",
              "      <td>-5.519308</td>\n",
              "      <td>0.316563</td>\n",
              "      <td>0.000031</td>\n",
              "      <td>GALAXY</td>\n",
              "      <td>NaN</td>\n",
              "      <td>23.17536</td>\n",
              "      <td>21.34756</td>\n",
              "      <td>20.35171</td>\n",
              "      <td>20.05924</td>\n",
              "      <td>19.64511</td>\n",
              "      <td>21.14052</td>\n",
              "      <td>20.62957</td>\n",
              "      <td>19.60872</td>\n",
              "      <td>19.07587</td>\n",
              "      <td>18.90757</td>\n",
              "    </tr>\n",
              "  </tbody>\n",
              "</table>\n",
              "</div>"
            ],
            "text/plain": [
              "                 objID         ra  ...  cModelMag_i  cModelMag_z\n",
              "0  1237679341106758387  37.470142  ...     21.05722     20.29795\n",
              "1  1237679341106757929  37.431501  ...     21.14929     20.66354\n",
              "2  1237679341106758149  37.388988  ...     24.19759     20.62257\n",
              "3  1237679440426172681  37.327114  ...     22.59266     22.64923\n",
              "4  1237679341106692861  37.315868  ...     19.07587     18.90757\n",
              "\n",
              "[5 rows x 17 columns]"
            ]
          },
          "metadata": {
            "tags": []
          },
          "execution_count": 6
        }
      ]
    },
    {
      "cell_type": "code",
      "metadata": {
        "colab": {
          "base_uri": "https://localhost:8080/"
        },
        "id": "bC8GpElg1QaO",
        "outputId": "18cf5f65-16ac-419e-d30d-98312b59659e"
      },
      "source": [
        "df.shape"
      ],
      "execution_count": 7,
      "outputs": [
        {
          "output_type": "execute_result",
          "data": {
            "text/plain": [
              "(4614588, 17)"
            ]
          },
          "metadata": {
            "tags": []
          },
          "execution_count": 7
        }
      ]
    },
    {
      "cell_type": "code",
      "metadata": {
        "colab": {
          "base_uri": "https://localhost:8080/",
          "height": 321
        },
        "id": "CtRsazVGQRAn",
        "outputId": "bafc4377-372d-4cf1-ce72-5e03eb498904"
      },
      "source": [
        "df.describe()"
      ],
      "execution_count": 8,
      "outputs": [
        {
          "output_type": "execute_result",
          "data": {
            "text/html": [
              "<div>\n",
              "<style scoped>\n",
              "    .dataframe tbody tr th:only-of-type {\n",
              "        vertical-align: middle;\n",
              "    }\n",
              "\n",
              "    .dataframe tbody tr th {\n",
              "        vertical-align: top;\n",
              "    }\n",
              "\n",
              "    .dataframe thead th {\n",
              "        text-align: right;\n",
              "    }\n",
              "</style>\n",
              "<table border=\"1\" class=\"dataframe\">\n",
              "  <thead>\n",
              "    <tr style=\"text-align: right;\">\n",
              "      <th></th>\n",
              "      <th>objID</th>\n",
              "      <th>ra</th>\n",
              "      <th>dec</th>\n",
              "      <th>z</th>\n",
              "      <th>zErr</th>\n",
              "      <th>psfMag_u</th>\n",
              "      <th>psfMag_g</th>\n",
              "      <th>psfMag_r</th>\n",
              "      <th>psfMag_i</th>\n",
              "      <th>psfMag_z</th>\n",
              "      <th>cModelMag_u</th>\n",
              "      <th>cModelMag_g</th>\n",
              "      <th>cModelMag_r</th>\n",
              "      <th>cModelMag_i</th>\n",
              "      <th>cModelMag_z</th>\n",
              "    </tr>\n",
              "  </thead>\n",
              "  <tbody>\n",
              "    <tr>\n",
              "      <th>count</th>\n",
              "      <td>4.614588e+06</td>\n",
              "      <td>4.614588e+06</td>\n",
              "      <td>4.614588e+06</td>\n",
              "      <td>4.614588e+06</td>\n",
              "      <td>4.614588e+06</td>\n",
              "      <td>4.614588e+06</td>\n",
              "      <td>4.614588e+06</td>\n",
              "      <td>4.614588e+06</td>\n",
              "      <td>4.614588e+06</td>\n",
              "      <td>4.614588e+06</td>\n",
              "      <td>4.614588e+06</td>\n",
              "      <td>4.614588e+06</td>\n",
              "      <td>4.614588e+06</td>\n",
              "      <td>4.614588e+06</td>\n",
              "      <td>4.614588e+06</td>\n",
              "    </tr>\n",
              "    <tr>\n",
              "      <th>mean</th>\n",
              "      <td>1.237665e+18</td>\n",
              "      <td>1.728012e+02</td>\n",
              "      <td>2.406577e+01</td>\n",
              "      <td>5.773699e-01</td>\n",
              "      <td>5.854844e-02</td>\n",
              "      <td>2.240051e+01</td>\n",
              "      <td>2.122111e+01</td>\n",
              "      <td>2.029666e+01</td>\n",
              "      <td>1.974275e+01</td>\n",
              "      <td>1.938488e+01</td>\n",
              "      <td>2.136179e+01</td>\n",
              "      <td>2.051423e+01</td>\n",
              "      <td>1.961589e+01</td>\n",
              "      <td>1.905677e+01</td>\n",
              "      <td>1.868825e+01</td>\n",
              "    </tr>\n",
              "    <tr>\n",
              "      <th>std</th>\n",
              "      <td>8.417649e+12</td>\n",
              "      <td>9.444408e+01</td>\n",
              "      <td>1.910161e+01</td>\n",
              "      <td>7.297733e-01</td>\n",
              "      <td>1.930832e+01</td>\n",
              "      <td>1.954846e+00</td>\n",
              "      <td>1.940199e+00</td>\n",
              "      <td>1.713228e+00</td>\n",
              "      <td>1.552831e+00</td>\n",
              "      <td>1.512268e+00</td>\n",
              "      <td>2.117606e+00</td>\n",
              "      <td>1.993697e+00</td>\n",
              "      <td>1.852755e+00</td>\n",
              "      <td>1.742048e+00</td>\n",
              "      <td>1.677772e+00</td>\n",
              "    </tr>\n",
              "    <tr>\n",
              "      <th>min</th>\n",
              "      <td>1.237646e+18</td>\n",
              "      <td>9.090791e-05</td>\n",
              "      <td>-1.970271e+01</td>\n",
              "      <td>-1.144691e-02</td>\n",
              "      <td>-6.000000e+00</td>\n",
              "      <td>6.752299e+00</td>\n",
              "      <td>7.464891e+00</td>\n",
              "      <td>8.449972e+00</td>\n",
              "      <td>7.611034e+00</td>\n",
              "      <td>6.444011e+00</td>\n",
              "      <td>1.020505e+01</td>\n",
              "      <td>1.043573e+01</td>\n",
              "      <td>1.033073e+01</td>\n",
              "      <td>1.027642e+01</td>\n",
              "      <td>8.829096e+00</td>\n",
              "    </tr>\n",
              "    <tr>\n",
              "      <th>25%</th>\n",
              "      <td>1.237659e+18</td>\n",
              "      <td>1.271012e+02</td>\n",
              "      <td>6.893257e+00</td>\n",
              "      <td>6.228666e-02</td>\n",
              "      <td>2.494150e-05</td>\n",
              "      <td>2.105644e+01</td>\n",
              "      <td>1.980771e+01</td>\n",
              "      <td>1.908989e+01</td>\n",
              "      <td>1.871800e+01</td>\n",
              "      <td>1.840915e+01</td>\n",
              "      <td>1.987525e+01</td>\n",
              "      <td>1.888042e+01</td>\n",
              "      <td>1.805814e+01</td>\n",
              "      <td>1.767278e+01</td>\n",
              "      <td>1.742591e+01</td>\n",
              "    </tr>\n",
              "    <tr>\n",
              "      <th>50%</th>\n",
              "      <td>1.237664e+18</td>\n",
              "      <td>1.741648e+02</td>\n",
              "      <td>2.352539e+01</td>\n",
              "      <td>4.268281e-01</td>\n",
              "      <td>9.249016e-05</td>\n",
              "      <td>2.259238e+01</td>\n",
              "      <td>2.147956e+01</td>\n",
              "      <td>2.063976e+01</td>\n",
              "      <td>2.007801e+01</td>\n",
              "      <td>1.967025e+01</td>\n",
              "      <td>2.116473e+01</td>\n",
              "      <td>2.097991e+01</td>\n",
              "      <td>2.011406e+01</td>\n",
              "      <td>1.942030e+01</td>\n",
              "      <td>1.898551e+01</td>\n",
              "    </tr>\n",
              "    <tr>\n",
              "      <th>75%</th>\n",
              "      <td>1.237668e+18</td>\n",
              "      <td>2.271129e+02</td>\n",
              "      <td>3.864779e+01</td>\n",
              "      <td>7.037950e-01</td>\n",
              "      <td>1.989703e-04</td>\n",
              "      <td>2.390630e+01</td>\n",
              "      <td>2.277750e+01</td>\n",
              "      <td>2.155568e+01</td>\n",
              "      <td>2.080758e+01</td>\n",
              "      <td>2.034762e+01</td>\n",
              "      <td>2.250614e+01</td>\n",
              "      <td>2.198993e+01</td>\n",
              "      <td>2.102539e+01</td>\n",
              "      <td>2.035791e+01</td>\n",
              "      <td>1.984414e+01</td>\n",
              "    </tr>\n",
              "    <tr>\n",
              "      <th>max</th>\n",
              "      <td>1.237681e+18</td>\n",
              "      <td>3.599999e+02</td>\n",
              "      <td>8.485214e+01</td>\n",
              "      <td>7.051930e+00</td>\n",
              "      <td>3.068822e+04</td>\n",
              "      <td>3.192045e+01</td>\n",
              "      <td>3.032868e+01</td>\n",
              "      <td>2.971638e+01</td>\n",
              "      <td>2.995165e+01</td>\n",
              "      <td>2.748061e+01</td>\n",
              "      <td>3.428534e+01</td>\n",
              "      <td>3.330923e+01</td>\n",
              "      <td>3.088891e+01</td>\n",
              "      <td>3.268382e+01</td>\n",
              "      <td>3.119199e+01</td>\n",
              "    </tr>\n",
              "  </tbody>\n",
              "</table>\n",
              "</div>"
            ],
            "text/plain": [
              "              objID            ra  ...   cModelMag_i   cModelMag_z\n",
              "count  4.614588e+06  4.614588e+06  ...  4.614588e+06  4.614588e+06\n",
              "mean   1.237665e+18  1.728012e+02  ...  1.905677e+01  1.868825e+01\n",
              "std    8.417649e+12  9.444408e+01  ...  1.742048e+00  1.677772e+00\n",
              "min    1.237646e+18  9.090791e-05  ...  1.027642e+01  8.829096e+00\n",
              "25%    1.237659e+18  1.271012e+02  ...  1.767278e+01  1.742591e+01\n",
              "50%    1.237664e+18  1.741648e+02  ...  1.942030e+01  1.898551e+01\n",
              "75%    1.237668e+18  2.271129e+02  ...  2.035791e+01  1.984414e+01\n",
              "max    1.237681e+18  3.599999e+02  ...  3.268382e+01  3.119199e+01\n",
              "\n",
              "[8 rows x 15 columns]"
            ]
          },
          "metadata": {
            "tags": []
          },
          "execution_count": 8
        }
      ]
    },
    {
      "cell_type": "code",
      "metadata": {
        "colab": {
          "base_uri": "https://localhost:8080/",
          "height": 416
        },
        "id": "n-WAw8RPQafN",
        "outputId": "fde518e4-31db-4e13-d183-ac3a78db366a"
      },
      "source": [
        "sns.set_style('darkgrid')\r\n",
        "plt.figure(figsize = (8, 6))\r\n",
        "sns.countplot(x=df['class'], palette = 'magma')"
      ],
      "execution_count": 9,
      "outputs": [
        {
          "output_type": "execute_result",
          "data": {
            "text/plain": [
              "<matplotlib.axes._subplots.AxesSubplot at 0x7f3ef01f4610>"
            ]
          },
          "metadata": {
            "tags": []
          },
          "execution_count": 9
        },
        {
          "output_type": "display_data",
          "data": {
            "image/png": "[encoded data removed]",
            "text/plain": [
              "<Figure size 576x432 with 1 Axes>"
            ]
          },
          "metadata": {
            "tags": []
          }
        }
      ]
    },
    {
      "cell_type": "markdown",
      "metadata": {
        "id": "hc-OZpaiREcE"
      },
      "source": [
        "# Подготовка данных для классификатора"
      ]
    },
    {
      "cell_type": "code",
      "metadata": {
        "id": "8Krr4en2uzv-"
      },
      "source": [
        "target = 'class'\r\n",
        "\r\n",
        "add_columns = ['subClass', 'objID', 'z', 'zErr', 'ra', 'dec']\r\n",
        "\r\n",
        "photo_columns = ['psfMag_u',\t'psfMag_g',\t'psfMag_r',\t'psfMag_i',\t'psfMag_z',\r\n",
        "                 'cModelMag_u',\t'cModelMag_g',\t'cModelMag_r',\t'cModelMag_i',\t'cModelMag_z']\r\n",
        "\r\n",
        "feature_columns = (\r\n",
        "    photo_columns + add_columns + [target])"
      ],
      "execution_count": 10,
      "outputs": []
    },
    {
      "cell_type": "code",
      "metadata": {
        "id": "7PHJgkvGWusF"
      },
      "source": [
        "labels = {'STAR':1, 'GALAXY':2, 'QSO':3}\r\n",
        "df.replace({target:labels}, inplace = True)"
      ],
      "execution_count": 11,
      "outputs": []
    },
    {
      "cell_type": "code",
      "metadata": {
        "colab": {
          "base_uri": "https://localhost:8080/"
        },
        "id": "hDrQ2b13Wupd",
        "outputId": "302f08de-afbc-4e48-f18c-162d790d8838"
      },
      "source": [
        "X =  df.drop(add_columns + [target], axis = 1).values\r\n",
        "y = df[target].values\r\n",
        "X.shape"
      ],
      "execution_count": 12,
      "outputs": [
        {
          "output_type": "execute_result",
          "data": {
            "text/plain": [
              "(4614588, 10)"
            ]
          },
          "metadata": {
            "tags": []
          },
          "execution_count": 12
        }
      ]
    },
    {
      "cell_type": "code",
      "metadata": {
        "id": "yer4R5LMyP0m"
      },
      "source": [
        "def data_preparation(X, y, test_size = 0.8):\r\n",
        "\r\n",
        "    X1_train, X1_test, y1_train, y1_test = train_test_split(X[y==1], y[y==1], test_size=test_size, random_state = 43)\r\n",
        "    X2_train, X2_test, y2_train, y2_test = train_test_split(X[y==2], y[y==2], test_size=test_size, random_state = 43)\r\n",
        "    X3_train, X3_test, y3_train, y3_test = train_test_split(X[y==3], y[y==3], test_size=test_size, random_state = 43)\r\n",
        "    \r\n",
        "    count = 5000\r\n",
        "    count1 = 5000\r\n",
        "\r\n",
        "    X_train, X_test = np.concatenate((X1_train[:count], X2_train[:count], X3_train[:count])), np.concatenate((X1_test[:count1], X2_test[:count1], X3_test[:count1]))\r\n",
        "    y_train, y_test = np.concatenate((y1_train[:count], y2_train[:count], y3_train[:count])), np.concatenate((y1_test[:count1], y2_test[:count1], y3_test[:count1]))\r\n",
        "    \r\n",
        "\r\n",
        "    return [X_train, X_test, y_train, y_test, X1_train, X1_test, y1_train, y1_test, X2_train, X2_test, y2_train, y2_test, X3_train, X3_test, y3_train, y3_test]"
      ],
      "execution_count": 13,
      "outputs": []
    },
    {
      "cell_type": "markdown",
      "metadata": {
        "id": "umLXhKKLR2Uo"
      },
      "source": [
        "# Классификатор Звезд, Галактик и Квазаров"
      ]
    },
    {
      "cell_type": "code",
      "metadata": {
        "id": "EeLm9XEC7z88"
      },
      "source": [
        "data_split = data_preparation(X, y)\r\n",
        "\r\n",
        "X_train, X_test = data_split[:2]\r\n",
        "y_train, y_test = data_split[2:4]\r\n",
        "\r\n",
        "count = 5000\r\n",
        "\r\n",
        "X_train_pred = np.concatenate((X1_train[count : ], X2_train[count : ], X3_train[count : ])) ###############\r\n",
        "X_val_pred   = np.concatenate((X1_test[count : 2*count], X2_test[count : 2*count], X3_test[count : 2*count]))\r\n",
        "X_valid      = np.concatenate((X1_test[2*count : 3*count], X2_test[2*count : 3*count], X3_test[2*count : 3*count]))\r\n",
        "y_valid      = np.concatenate((y1_test[2*count : 3*count], y2_test[2*count : 3*count], y3_test[2*count : 3*count]))\r\n",
        "\r\n",
        "X1_train, X1_test = data_split[4:6]\r\n",
        "y1_train, y1_test = data_split[6:8]\r\n",
        "X2_train, X2_test = data_split[8:10] \r\n",
        "y2_train, y2_test = data_split[10:12]\r\n",
        "X3_train, X3_test = data_split[12:14]\r\n",
        "y3_train, y3_test = data_split[14:16]"
      ],
      "execution_count": 69,
      "outputs": []
    },
    {
      "cell_type": "code",
      "metadata": {
        "colab": {
          "base_uri": "https://localhost:8080/"
        },
        "id": "x4LVRpUMZ2V0",
        "outputId": "d291bafe-c3fd-4006-94ea-64f47957ec23"
      },
      "source": [
        "X_train.shape, X_test.shape"
      ],
      "execution_count": 70,
      "outputs": [
        {
          "output_type": "execute_result",
          "data": {
            "text/plain": [
              "((15000, 10), (15000, 10))"
            ]
          },
          "metadata": {
            "tags": []
          },
          "execution_count": 70
        }
      ]
    },
    {
      "cell_type": "code",
      "metadata": {
        "colab": {
          "base_uri": "https://localhost:8080/",
          "height": 391
        },
        "id": "KQ82b9Zv7_O6",
        "outputId": "54c85de0-c4ff-48d9-abdd-9e96a4a43609"
      },
      "source": [
        "fig, (ax1, ax2, ax3) = plt.subplots(ncols = 3, figsize = (24, 6))\n",
        "sns.histplot(X1_train[:, 7], ax = ax1, bins = 30, color = 'g', element=\"step\")\n",
        "sns.histplot(X2_train[:, 7], ax = ax2, bins = 30, color = 'r', element=\"step\")\n",
        "sns.histplot(X3_train[:, 7], ax = ax3, bins = 30, color = 'b', element=\"step\")"
      ],
      "execution_count": 71,
      "outputs": [
        {
          "output_type": "execute_result",
          "data": {
            "text/plain": [
              "<matplotlib.axes._subplots.AxesSubplot at 0x7f3ee45b6ad0>"
            ]
          },
          "metadata": {
            "tags": []
          },
          "execution_count": 71
        },
        {
          "output_type": "display_data",
          "data": {
            "image/png": "[encoded data removed]",
            "text/plain": [
              "<Figure size 1728x432 with 3 Axes>"
            ]
          },
          "metadata": {
            "tags": []
          }
        }
      ]
    },
    {
      "cell_type": "markdown",
      "metadata": {
        "id": "Q-J8mGLb8hFv"
      },
      "source": [
        "# Подбор параметров"
      ]
    },
    {
      "cell_type": "markdown",
      "metadata": {
        "id": "amR7PXJo0qnE"
      },
      "source": [
        "# Random Forest and Gradient boosting"
      ]
    },
    {
      "cell_type": "markdown",
      "metadata": {
        "id": "qkdij2-o01Zv"
      },
      "source": [
        "Нормализация данных\r\n"
      ]
    },
    {
      "cell_type": "code",
      "metadata": {
        "id": "U0Y-Dmqj0_bt"
      },
      "source": [
        "robust = RobustScaler()\r\n",
        "\r\n",
        "X_train_norm = robust.fit_transform(X_train)\r\n",
        "X_test_norm = robust.transform(X_test)"
      ],
      "execution_count": 17,
      "outputs": []
    },
    {
      "cell_type": "code",
      "metadata": {
        "id": "-w2n5DFp8kP2"
      },
      "source": [
        "from sklearn.model_selection import RandomizedSearchCV\r\n",
        "from sklearn.model_selection import KFold\r\n",
        "\r\n",
        "lgb_class_params = {\r\n",
        "    'learning_rate':    np.arange(0.001, 0.1, 0.01),\r\n",
        "    'max_depth':        np.arange(1, 16, 1, dtype=int),\r\n",
        "    'min_child_weight': np.arange(1, 8, 1, dtype=int),\r\n",
        "    'colsample_bytree': np.arange(0.3, 0.8, 0.1),\r\n",
        "    #'subsample':        hp.uniform('subsample', 0.8, 1),\r\n",
        "    'num_leaves' :      np.array([5, 10, 31, 60, 80, 100]),\r\n",
        "    'n_estimators':     np.array([300, 500, 700, 900, 1000, 1500, 2000])\r\n",
        "}\r\n",
        "\r\n",
        "kf = KFold(n_splits=5)\r\n",
        "\r\n",
        "LGBM = RandomizedSearchCV(LGBMClassifier(), lgb_class_params, random_state=0, cv=kf)\r\n",
        "search = LGBM.fit(X_train_norm, y_train)"
      ],
      "execution_count": 84,
      "outputs": []
    },
    {
      "cell_type": "code",
      "metadata": {
        "colab": {
          "base_uri": "https://localhost:8080/"
        },
        "id": "ZQ6b2DCF_y3S",
        "outputId": "af6fa3ec-1944-42b7-8ca3-2e8155a10cc5"
      },
      "source": [
        "search.best_params_"
      ],
      "execution_count": 85,
      "outputs": [
        {
          "output_type": "execute_result",
          "data": {
            "text/plain": [
              "{'colsample_bytree': 0.6000000000000001,\n",
              " 'learning_rate': 0.09099999999999998,\n",
              " 'max_depth': 6,\n",
              " 'min_child_weight': 6,\n",
              " 'n_estimators': 700,\n",
              " 'num_leaves': 60}"
            ]
          },
          "metadata": {
            "tags": []
          },
          "execution_count": 85
        }
      ]
    },
    {
      "cell_type": "code",
      "metadata": {
        "colab": {
          "base_uri": "https://localhost:8080/"
        },
        "id": "n9i9HDnbA3Gf",
        "outputId": "a912a5bd-be81-4655-96b4-8f3b958442f4"
      },
      "source": [
        "pred = search.predict(X_test_norm)\r\n",
        "print('Classification Report: \\n', classification_report(y_test, pred))\r\n",
        "print('Confusion Matrix: \\n', confusion_matrix(y_test, pred))\r\n",
        "gb_train_acc = accuracy_score(y_train, search.predict(X_train_norm))\r\n",
        "print('Training Score: ', gb_train_acc)\r\n",
        "gb_test_acc =  accuracy_score(y_test, pred)\r\n",
        "print('Testing Score: ', gb_test_acc)"
      ],
      "execution_count": 86,
      "outputs": [
        {
          "output_type": "stream",
          "text": [
            "Classification Report: \n",
            "               precision    recall  f1-score   support\n",
            "\n",
            "           1       0.88      0.85      0.86      5000\n",
            "           2       0.91      0.94      0.92      5000\n",
            "           3       0.84      0.83      0.83      5000\n",
            "\n",
            "    accuracy                           0.87     15000\n",
            "   macro avg       0.87      0.87      0.87     15000\n",
            "weighted avg       0.87      0.87      0.87     15000\n",
            "\n",
            "Confusion Matrix: \n",
            " [[4234  151  615]\n",
            " [  93 4700  207]\n",
            " [ 510  323 4167]]\n",
            "Training Score:  0.9766\n",
            "Testing Score:  0.8734\n"
          ],
          "name": "stdout"
        }
      ]
    },
    {
      "cell_type": "code",
      "metadata": {
        "colab": {
          "base_uri": "https://localhost:8080/"
        },
        "id": "FJVsEKspMsi9",
        "outputId": "5198ef17-c3ac-46ff-d222-75ba5ef796f7"
      },
      "source": [
        "rf = RandomForestClassifier(n_estimators=300, random_state=42, max_features=5, min_samples_leaf=1) \r\n",
        "rf.fit(X_train_norm, y_train)"
      ],
      "execution_count": 18,
      "outputs": [
        {
          "output_type": "execute_result",
          "data": {
            "text/plain": [
              "RandomForestClassifier(bootstrap=True, ccp_alpha=0.0, class_weight=None,\n",
              "                       criterion='gini', max_depth=None, max_features=5,\n",
              "                       max_leaf_nodes=None, max_samples=None,\n",
              "                       min_impurity_decrease=0.0, min_impurity_split=None,\n",
              "                       min_samples_leaf=1, min_samples_split=2,\n",
              "                       min_weight_fraction_leaf=0.0, n_estimators=300,\n",
              "                       n_jobs=None, oob_score=False, random_state=42, verbose=0,\n",
              "                       warm_start=False)"
            ]
          },
          "metadata": {
            "tags": []
          },
          "execution_count": 18
        }
      ]
    },
    {
      "cell_type": "code",
      "metadata": {
        "colab": {
          "base_uri": "https://localhost:8080/"
        },
        "id": "osFHXuATjDm1",
        "outputId": "6128ecb1-e790-4402-fb64-f473a92a03a2"
      },
      "source": [
        "pred = rf.predict(X_test_norm)\r\n",
        "print('Classification Report: \\n', classification_report(y_test, pred))\r\n",
        "print('Confusion Matrix: \\n', confusion_matrix(y_test, pred))\r\n",
        "rf_train_acc = accuracy_score(y_train, rf.predict(X_train_norm))\r\n",
        "print('Training Score: ', rf_train_acc)\r\n",
        "rf_test_acc =  accuracy_score(y_test, pred)\r\n",
        "print('Testing Score: ', rf_test_acc)"
      ],
      "execution_count": 20,
      "outputs": [
        {
          "output_type": "stream",
          "text": [
            "Classification Report: \n",
            "               precision    recall  f1-score   support\n",
            "\n",
            "           1       0.88      0.85      0.87      5000\n",
            "           2       0.91      0.94      0.93      5000\n",
            "           3       0.84      0.84      0.84      5000\n",
            "\n",
            "    accuracy                           0.88     15000\n",
            "   macro avg       0.88      0.88      0.88     15000\n",
            "weighted avg       0.88      0.88      0.88     15000\n",
            "\n",
            "Confusion Matrix: \n",
            " [[4265  147  588]\n",
            " [  90 4722  188]\n",
            " [ 483  325 4192]]\n",
            "Training Score:  1.0\n",
            "Testing Score:  0.8786\n"
          ],
          "name": "stdout"
        }
      ]
    },
    {
      "cell_type": "code",
      "metadata": {
        "colab": {
          "base_uri": "https://localhost:8080/"
        },
        "id": "sSRw9fBbHUyy",
        "outputId": "e27a7d03-e41f-4d5f-998d-b2330712e6b9"
      },
      "source": [
        "from lightgbm import LGBMClassifier\r\n",
        "gb = LGBMClassifier(n_estimators=1100, num_leaves=60, learning_rate=0.005, max_depth=13, min_child_weight=1, subsample=0.9244, colsample_bytree=0.4)\r\n",
        "gb.fit(X_train_norm, y_train)"
      ],
      "execution_count": 24,
      "outputs": [
        {
          "output_type": "execute_result",
          "data": {
            "text/plain": [
              "LGBMClassifier(boosting_type='gbdt', class_weight=None, colsample_bytree=0.4,\n",
              "               importance_type='split', learning_rate=0.005, max_depth=13,\n",
              "               min_child_samples=20, min_child_weight=1, min_split_gain=0.0,\n",
              "               n_estimators=1100, n_jobs=-1, num_leaves=60, objective=None,\n",
              "               random_state=None, reg_alpha=0.0, reg_lambda=0.0, silent=True,\n",
              "               subsample=0.9244, subsample_for_bin=200000, subsample_freq=0)"
            ]
          },
          "metadata": {
            "tags": []
          },
          "execution_count": 24
        }
      ]
    },
    {
      "cell_type": "code",
      "metadata": {
        "colab": {
          "base_uri": "https://localhost:8080/"
        },
        "id": "IHW4hhyojJIs",
        "outputId": "89b48d5e-6d75-43e6-d09f-d95aaae3047a"
      },
      "source": [
        "pred = gb.predict(X_test_norm)\r\n",
        "print('Classification Report: \\n', classification_report(y_test, pred))\r\n",
        "print('Confusion Matrix: \\n', confusion_matrix(y_test, pred))\r\n",
        "gb_train_acc = accuracy_score(y_train, gb.predict(X_train_norm))\r\n",
        "print('Training Score: ', gb_train_acc)\r\n",
        "gb_test_acc =  accuracy_score(y_test, pred)\r\n",
        "print('Testing Score: ', gb_test_acc)"
      ],
      "execution_count": 25,
      "outputs": [
        {
          "output_type": "stream",
          "text": [
            "Classification Report: \n",
            "               precision    recall  f1-score   support\n",
            "\n",
            "           1       0.88      0.83      0.86      5000\n",
            "           2       0.90      0.95      0.92      5000\n",
            "           3       0.83      0.84      0.83      5000\n",
            "\n",
            "    accuracy                           0.87     15000\n",
            "   macro avg       0.87      0.87      0.87     15000\n",
            "weighted avg       0.87      0.87      0.87     15000\n",
            "\n",
            "Confusion Matrix: \n",
            " [[4155  171  674]\n",
            " [  87 4732  181]\n",
            " [ 468  352 4180]]\n",
            "Training Score:  0.9095333333333333\n",
            "Testing Score:  0.8711333333333333\n"
          ],
          "name": "stdout"
        }
      ]
    },
    {
      "cell_type": "markdown",
      "metadata": {
        "id": "3GShmnMjgcLu"
      },
      "source": [
        "# TabNet\r\n"
      ]
    },
    {
      "cell_type": "code",
      "metadata": {
        "id": "guuBGRaaiDoJ"
      },
      "source": [
        "import torch"
      ],
      "execution_count": 72,
      "outputs": []
    },
    {
      "cell_type": "code",
      "metadata": {
        "colab": {
          "base_uri": "https://localhost:8080/"
        },
        "id": "xbK5F9GWsWGx",
        "outputId": "603d4c31-9216-4b13-a04e-ad8b91a40b19"
      },
      "source": [
        "from pytorch_tabnet.pretraining import TabNetPretrainer\r\n",
        "\r\n",
        "unsupervised_model = TabNetPretrainer(\r\n",
        "    n_d=64, n_a=64, n_steps=5,\r\n",
        "    optimizer_fn=torch.optim.Adam,\r\n",
        "    optimizer_params=dict(lr=2e-2),\r\n",
        "    mask_type='entmax' # \"sparsemax\"\r\n",
        ")\r\n",
        "\r\n",
        "unsupervised_model.fit(\r\n",
        "    X_train=X_train_pred,\r\n",
        "    eval_set=[X_val_pred],\r\n",
        "    max_epochs=10 , patience=5,\r\n",
        "    batch_size=2048, virtual_batch_size=128,\r\n",
        "    pretraining_ratio=0.8,\r\n",
        ")"
      ],
      "execution_count": 74,
      "outputs": [
        {
          "output_type": "stream",
          "text": [
            "Device used : cuda\n",
            "epoch 0  | loss: 1.34514 | val_0_unsup_loss: 0.31627 |  0:01:35s\n",
            "epoch 1  | loss: 0.4006  | val_0_unsup_loss: 0.28235 |  0:03:09s\n",
            "epoch 2  | loss: 0.38381 | val_0_unsup_loss: 0.26073 |  0:04:43s\n",
            "epoch 3  | loss: 0.37572 | val_0_unsup_loss: 0.22094 |  0:06:21s\n",
            "epoch 4  | loss: 0.36257 | val_0_unsup_loss: 0.22277 |  0:07:58s\n",
            "epoch 5  | loss: 0.3566  | val_0_unsup_loss: 0.14542 |  0:09:32s\n",
            "epoch 6  | loss: 0.3539  | val_0_unsup_loss: 0.16328 |  0:11:08s\n",
            "epoch 7  | loss: 0.34886 | val_0_unsup_loss: 0.19622 |  0:12:44s\n",
            "epoch 8  | loss: 0.34865 | val_0_unsup_loss: 0.19244 |  0:14:20s\n",
            "epoch 9  | loss: 0.34396 | val_0_unsup_loss: 0.18513 |  0:15:56s\n",
            "Stop training because you reached max_epochs = 10 with best_epoch = 5 and best_val_0_unsup_loss = 0.14542\n",
            "Best weights from best epoch are automatically used!\n"
          ],
          "name": "stdout"
        }
      ]
    },
    {
      "cell_type": "code",
      "metadata": {
        "colab": {
          "base_uri": "https://localhost:8080/"
        },
        "id": "N3iuD-L8W6TX",
        "outputId": "34dba61b-1012-41d4-c8e1-2ab8a71a5538"
      },
      "source": [
        "clf = TabNetClassifier(n_d=64, n_a=64, n_steps=5,\n",
        "                       gamma=1.5, n_independent=2, n_shared=2,\n",
        "                       lambda_sparse=1e-4, momentum=0.3, clip_value=2.,\n",
        "                       optimizer_fn=torch.optim.Adam,\n",
        "                       optimizer_params=dict(lr=2e-2),\n",
        "                       scheduler_params={\"step_size\":50, # how to use learning rate scheduler\n",
        "                                         \"gamma\":0.9},\n",
        "                       scheduler_fn=torch.optim.lr_scheduler.StepLR,\n",
        "                       mask_type='entmax' # \"sparsemax\"\n",
        ")"
      ],
      "execution_count": 75,
      "outputs": [
        {
          "output_type": "stream",
          "text": [
            "Device used : cuda\n"
          ],
          "name": "stdout"
        }
      ]
    },
    {
      "cell_type": "code",
      "metadata": {
        "id": "jGGqgN9CW6TY"
      },
      "source": [
        "max_epochs = 40 #if not os.getenv(\"CI\", False) else 2"
      ],
      "execution_count": 76,
      "outputs": []
    },
    {
      "cell_type": "code",
      "metadata": {
        "scrolled": true,
        "colab": {
          "base_uri": "https://localhost:8080/"
        },
        "id": "ZbYYYWf8W6TY",
        "outputId": "b39615cf-b23e-48ea-c7b4-4af9d7ceed5d"
      },
      "source": [
        "clf.fit(\n",
        "    X_train=X_train, y_train=y_train,\n",
        "    eval_set=[(X_train, y_train), (X_valid, y_valid)],\n",
        "    eval_name=['train', 'valid'],\n",
        "    max_epochs=max_epochs , patience=20,\n",
        "    batch_size=256, virtual_batch_size=128,\n",
        "    num_workers=0,\n",
        "    weights=1,\n",
        "    drop_last=False,\n",
        "    from_unsupervised=unsupervised_model\n",
        ") "
      ],
      "execution_count": 77,
      "outputs": [
        {
          "output_type": "stream",
          "text": [
            "Loading weights from unsupervised pretraining\n",
            "epoch 0  | loss: 0.70955 | train_accuracy: 0.33927 | valid_accuracy: 0.33913 |  0:00:06s\n",
            "epoch 1  | loss: 0.50958 | train_accuracy: 0.54387 | valid_accuracy: 0.54593 |  0:00:12s\n",
            "epoch 2  | loss: 0.48428 | train_accuracy: 0.75847 | valid_accuracy: 0.76067 |  0:00:19s\n",
            "epoch 3  | loss: 0.46221 | train_accuracy: 0.81387 | valid_accuracy: 0.82107 |  0:00:26s\n",
            "epoch 4  | loss: 0.46388 | train_accuracy: 0.8058  | valid_accuracy: 0.80453 |  0:00:32s\n",
            "epoch 5  | loss: 0.42076 | train_accuracy: 0.85113 | valid_accuracy: 0.85453 |  0:00:38s\n",
            "epoch 6  | loss: 0.40854 | train_accuracy: 0.86133 | valid_accuracy: 0.86287 |  0:00:45s\n",
            "epoch 7  | loss: 0.38931 | train_accuracy: 0.8632  | valid_accuracy: 0.8634  |  0:00:52s\n",
            "epoch 8  | loss: 0.35409 | train_accuracy: 0.86133 | valid_accuracy: 0.85927 |  0:00:58s\n",
            "epoch 9  | loss: 0.36354 | train_accuracy: 0.873   | valid_accuracy: 0.871   |  0:01:05s\n",
            "epoch 10 | loss: 0.36943 | train_accuracy: 0.85747 | valid_accuracy: 0.85867 |  0:01:11s\n",
            "epoch 11 | loss: 0.3702  | train_accuracy: 0.8512  | valid_accuracy: 0.85407 |  0:01:18s\n",
            "epoch 12 | loss: 0.36173 | train_accuracy: 0.8736  | valid_accuracy: 0.87053 |  0:01:24s\n",
            "epoch 13 | loss: 0.34308 | train_accuracy: 0.86833 | valid_accuracy: 0.86627 |  0:01:30s\n",
            "epoch 14 | loss: 0.34356 | train_accuracy: 0.86907 | valid_accuracy: 0.8684  |  0:01:37s\n",
            "epoch 15 | loss: 0.3301  | train_accuracy: 0.875   | valid_accuracy: 0.87373 |  0:01:43s\n",
            "epoch 16 | loss: 0.33922 | train_accuracy: 0.879   | valid_accuracy: 0.8746  |  0:01:50s\n",
            "epoch 17 | loss: 0.35975 | train_accuracy: 0.84213 | valid_accuracy: 0.846   |  0:01:57s\n",
            "epoch 18 | loss: 0.38259 | train_accuracy: 0.867   | valid_accuracy: 0.86807 |  0:02:03s\n",
            "epoch 19 | loss: 0.3506  | train_accuracy: 0.87393 | valid_accuracy: 0.8722  |  0:02:09s\n",
            "epoch 20 | loss: 0.3413  | train_accuracy: 0.87673 | valid_accuracy: 0.87553 |  0:02:16s\n",
            "epoch 21 | loss: 0.34685 | train_accuracy: 0.87067 | valid_accuracy: 0.87187 |  0:02:22s\n",
            "epoch 22 | loss: 0.33818 | train_accuracy: 0.87847 | valid_accuracy: 0.87667 |  0:02:29s\n",
            "epoch 23 | loss: 0.31397 | train_accuracy: 0.87887 | valid_accuracy: 0.8806  |  0:02:36s\n",
            "epoch 24 | loss: 0.34875 | train_accuracy: 0.87507 | valid_accuracy: 0.87327 |  0:02:42s\n",
            "epoch 25 | loss: 0.32937 | train_accuracy: 0.8764  | valid_accuracy: 0.87707 |  0:02:48s\n",
            "epoch 26 | loss: 0.32436 | train_accuracy: 0.87527 | valid_accuracy: 0.87407 |  0:02:55s\n",
            "epoch 27 | loss: 0.31762 | train_accuracy: 0.8844  | valid_accuracy: 0.88133 |  0:03:01s\n",
            "epoch 28 | loss: 0.32314 | train_accuracy: 0.88267 | valid_accuracy: 0.87973 |  0:03:07s\n",
            "epoch 29 | loss: 0.31557 | train_accuracy: 0.88273 | valid_accuracy: 0.88013 |  0:03:14s\n",
            "epoch 30 | loss: 0.31745 | train_accuracy: 0.8826  | valid_accuracy: 0.87927 |  0:03:20s\n",
            "epoch 31 | loss: 0.31342 | train_accuracy: 0.8828  | valid_accuracy: 0.88053 |  0:03:27s\n",
            "epoch 32 | loss: 0.30164 | train_accuracy: 0.88487 | valid_accuracy: 0.8796  |  0:03:34s\n",
            "epoch 33 | loss: 0.31677 | train_accuracy: 0.8882  | valid_accuracy: 0.88267 |  0:03:40s\n",
            "epoch 34 | loss: 0.30504 | train_accuracy: 0.88693 | valid_accuracy: 0.88207 |  0:03:46s\n",
            "epoch 35 | loss: 0.30333 | train_accuracy: 0.88833 | valid_accuracy: 0.88293 |  0:03:53s\n",
            "epoch 36 | loss: 0.30405 | train_accuracy: 0.884   | valid_accuracy: 0.8794  |  0:03:59s\n",
            "epoch 37 | loss: 0.30355 | train_accuracy: 0.88213 | valid_accuracy: 0.87993 |  0:04:06s\n",
            "epoch 38 | loss: 0.30082 | train_accuracy: 0.8884  | valid_accuracy: 0.88453 |  0:04:13s\n",
            "epoch 39 | loss: 0.30474 | train_accuracy: 0.8886  | valid_accuracy: 0.8832  |  0:04:19s\n",
            "Stop training because you reached max_epochs = 40 with best_epoch = 38 and best_valid_accuracy = 0.88453\n",
            "Best weights from best epoch are automatically used!\n"
          ],
          "name": "stdout"
        }
      ]
    },
    {
      "cell_type": "code",
      "metadata": {
        "colab": {
          "base_uri": "https://localhost:8080/"
        },
        "id": "y0sSMbE9m9fn",
        "outputId": "79da7f86-3d23-4533-8d5d-2039258eb57e"
      },
      "source": [
        "pred = clf.predict(X_test)\r\n",
        "print('Classification Report: \\n', classification_report(y_test, pred))\r\n",
        "print('Confusion Matrix: \\n', confusion_matrix(y_test, pred))\r\n",
        "clf_train_acc = accuracy_score(y_train, clf.predict(X_train))\r\n",
        "print('Training Score: ', clf_train_acc)\r\n",
        "clf_test_acc = accuracy_score(y_test, pred)\r\n",
        "print('Training Score: ', clf_test_acc)"
      ],
      "execution_count": 63,
      "outputs": [
        {
          "output_type": "stream",
          "text": [
            "Classification Report: \n",
            "               precision    recall  f1-score   support\n",
            "\n",
            "           1       0.90      0.83      0.87      5000\n",
            "           2       0.90      0.95      0.93      5000\n",
            "           3       0.84      0.86      0.85      5000\n",
            "\n",
            "    accuracy                           0.88     15000\n",
            "   macro avg       0.88      0.88      0.88     15000\n",
            "weighted avg       0.88      0.88      0.88     15000\n",
            "\n",
            "Confusion Matrix: \n",
            " [[4171  156  673]\n",
            " [  88 4761  151]\n",
            " [ 380  344 4276]]\n",
            "Training Score:  0.8882666666666666\n",
            "Training Score:  0.8805333333333333\n"
          ],
          "name": "stdout"
        }
      ]
    },
    {
      "cell_type": "code",
      "metadata": {
        "colab": {
          "base_uri": "https://localhost:8080/",
          "height": 282
        },
        "id": "FL7bcZKZW6TY",
        "outputId": "67b9aeb3-f32a-49ee-f4b5-fbc00b55c590"
      },
      "source": [
        "# plot losses\n",
        "plt.plot(clf.history['loss'])"
      ],
      "execution_count": 64,
      "outputs": [
        {
          "output_type": "execute_result",
          "data": {
            "text/plain": [
              "[<matplotlib.lines.Line2D at 0x7f3eedfc9350>]"
            ]
          },
          "metadata": {
            "tags": []
          },
          "execution_count": 64
        },
        {
          "output_type": "display_data",
          "data": {
            "image/png": "[encoded data removed]",
            "text/plain": [
              "<Figure size 432x288 with 1 Axes>"
            ]
          },
          "metadata": {
            "tags": []
          }
        }
      ]
    },
    {
      "cell_type": "code",
      "metadata": {
        "colab": {
          "base_uri": "https://localhost:8080/",
          "height": 282
        },
        "id": "8eW_lk_TW6TY",
        "outputId": "ce78ed97-c70d-4d96-9862-6b138c8fbdb5"
      },
      "source": [
        "# plot accuracy\n",
        "plt.plot(clf.history['train_accuracy'])\n",
        "plt.plot(clf.history['valid_accuracy'])"
      ],
      "execution_count": 65,
      "outputs": [
        {
          "output_type": "execute_result",
          "data": {
            "text/plain": [
              "[<matplotlib.lines.Line2D at 0x7f3ee4638190>]"
            ]
          },
          "metadata": {
            "tags": []
          },
          "execution_count": 65
        },
        {
          "output_type": "display_data",
          "data": {
            "image/png": "[encoded data removed]",
            "text/plain": [
              "<Figure size 432x288 with 1 Axes>"
            ]
          },
          "metadata": {
            "tags": []
          }
        }
      ]
    },
    {
      "cell_type": "code",
      "metadata": {
        "colab": {
          "base_uri": "https://localhost:8080/"
        },
        "id": "_c3JwtyJW6Ta",
        "outputId": "0d807f3f-c786-4b70-858d-8a38867d9fba"
      },
      "source": [
        "clf.feature_importances_, gb.feature_importances_, rf.feature_importances_"
      ],
      "execution_count": 66,
      "outputs": [
        {
          "output_type": "execute_result",
          "data": {
            "text/plain": [
              "(array([0.08633532, 0.12093598, 0.04680207, 0.01923863, 0.10901702,\n",
              "        0.09433179, 0.15765855, 0.16762762, 0.16928231, 0.02877071]),\n",
              " array([18293, 20475, 21271, 18725, 21769, 17425, 18813, 19836, 19696,\n",
              "        18302]),\n",
              " array([0.12850685, 0.17335781, 0.08413276, 0.0753634 , 0.10456697,\n",
              "        0.07157882, 0.051407  , 0.07971324, 0.10024933, 0.13112382]))"
            ]
          },
          "metadata": {
            "tags": []
          },
          "execution_count": 66
        }
      ]
    },
    {
      "cell_type": "code",
      "metadata": {
        "id": "HJdSxNllW6Ta"
      },
      "source": [
        "explain_matrix, masks = clf.explain(X_test)"
      ],
      "execution_count": 67,
      "outputs": []
    },
    {
      "cell_type": "code",
      "metadata": {
        "colab": {
          "base_uri": "https://localhost:8080/",
          "height": 1000
        },
        "id": "haL3f6qmW6Ta",
        "outputId": "e419cf72-ced8-4e0f-a594-c9d55812bf91"
      },
      "source": [
        "fig, axs = plt.subplots(1, 5, figsize=(20,20))\n",
        "\n",
        "for i in range(5):\n",
        "    axs[i].imshow(masks[i][:50])\n",
        "    axs[i].set_title(f\"mask {i}\")"
      ],
      "execution_count": 68,
      "outputs": [
        {
          "output_type": "display_data",
          "data": {
            "image/png": "[encoded data removed]",
            "text/plain": [
              "<Figure size 1440x1440 with 5 Axes>"
            ]
          },
          "metadata": {
            "tags": []
          }
        }
      ]
    },
    {
      "cell_type": "code",
      "metadata": {
        "id": "0_FXSFNsgeNf"
      },
      "source": [
        ""
      ],
      "execution_count": null,
      "outputs": []
    }
  ]
}