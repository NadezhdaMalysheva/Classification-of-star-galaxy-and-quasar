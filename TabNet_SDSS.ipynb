{
  "nbformat": 4,
  "nbformat_minor": 0,
  "metadata": {
    "accelerator": "GPU",
    "colab": {
      "name": "TabNet SDSS",
      "provenance": [],
      "collapsed_sections": [],
      "machine_shape": "hm",
      "include_colab_link": true
    },
    "kernelspec": {
      "display_name": "Python 3",
      "name": "python3"
    }
  },
  "cells": [
    {
      "cell_type": "markdown",
      "metadata": {
        "id": "view-in-github",
        "colab_type": "text"
      },
      "source": [
        "<a href=\"https://colab.research.google.com/github/NadezhdaMalysheva/projects/blob/main/TabNet_SDSS.ipynb\" target=\"_parent\"><img src=\"https://colab.research.google.com/assets/colab-badge.svg\" alt=\"Open In Colab\"/></a>"
      ]
    },
    {
      "cell_type": "code",
      "metadata": {
        "colab": {
          "base_uri": "https://localhost:8080/"
        },
        "id": "YoXFJs19Ks2y",
        "outputId": "2a812a1e-a55a-4a67-a34c-9c4a8deae34b"
      },
      "source": [
        "from google.colab import drive\n",
        "drive.mount('/content/drive')"
      ],
      "execution_count": 1,
      "outputs": [
        {
          "output_type": "stream",
          "text": [
            "Mounted at /content/drive\n"
          ],
          "name": "stdout"
        }
      ]
    },
    {
      "cell_type": "markdown",
      "metadata": {
        "id": "m0kPZJ5yOVbo"
      },
      "source": [
        "Подгружаем необходимые библиотеки "
      ]
    },
    {
      "cell_type": "code",
      "metadata": {
        "colab": {
          "base_uri": "https://localhost:8080/"
        },
        "id": "YtFLkOBsdnJR",
        "outputId": "d74e9ab2-804e-4df9-e47d-de63ca88f58b"
      },
      "source": [
        "pip install pytorch-tabnet"
      ],
      "execution_count": 2,
      "outputs": [
        {
          "output_type": "stream",
          "text": [
            "Collecting pytorch-tabnet\n",
            "  Downloading https://files.pythonhosted.org/packages/94/e5/2a808d611a5d44e3c997c0d07362c04a56c70002208e00aec9eee3d923b5/pytorch_tabnet-3.1.1-py3-none-any.whl\n",
            "Requirement already satisfied: numpy<2.0,>=1.17 in /usr/local/lib/python3.7/dist-packages (from pytorch-tabnet) (1.19.5)\n",
            "Requirement already satisfied: scikit_learn>0.21 in /usr/local/lib/python3.7/dist-packages (from pytorch-tabnet) (0.22.2.post1)\n",
            "Requirement already satisfied: scipy>1.4 in /usr/local/lib/python3.7/dist-packages (from pytorch-tabnet) (1.4.1)\n",
            "Requirement already satisfied: torch<2.0,>=1.2 in /usr/local/lib/python3.7/dist-packages (from pytorch-tabnet) (1.8.0+cu101)\n",
            "Requirement already satisfied: tqdm<5.0,>=4.36 in /usr/local/lib/python3.7/dist-packages (from pytorch-tabnet) (4.41.1)\n",
            "Requirement already satisfied: joblib>=0.11 in /usr/local/lib/python3.7/dist-packages (from scikit_learn>0.21->pytorch-tabnet) (1.0.1)\n",
            "Requirement already satisfied: typing-extensions in /usr/local/lib/python3.7/dist-packages (from torch<2.0,>=1.2->pytorch-tabnet) (3.7.4.3)\n",
            "Installing collected packages: pytorch-tabnet\n",
            "Successfully installed pytorch-tabnet-3.1.1\n"
          ],
          "name": "stdout"
        }
      ]
    },
    {
      "cell_type": "code",
      "metadata": {
        "id": "sCLtYHFqwmod"
      },
      "source": [
        "import numpy as np\n",
        "import pandas as pd"
      ],
      "execution_count": 3,
      "outputs": []
    },
    {
      "cell_type": "code",
      "metadata": {
        "colab": {
          "base_uri": "https://localhost:8080/",
          "height": 17
        },
        "id": "B2lA0dgTwmib",
        "outputId": "1fd799e3-ca53-4203-bbb6-175a5443da42"
      },
      "source": [
        "import seaborn as sns\n",
        "import matplotlib.pyplot as plt\n",
        "\n",
        "import plotly.offline as py\n",
        "color = sns.color_palette()\n",
        "import plotly.graph_objs as go\n",
        "py.init_notebook_mode(connected=True)\n",
        "import plotly.tools as tls\n",
        "\n",
        "%matplotlib inline"
      ],
      "execution_count": 4,
      "outputs": [
        {
          "output_type": "display_data",
          "data": {
            "text/html": [
              "        <script type=\"text/javascript\">\n",
              "        window.PlotlyConfig = {MathJaxConfig: 'local'};\n",
              "        if (window.MathJax) {MathJax.Hub.Config({SVG: {font: \"STIX-Web\"}});}\n",
              "        if (typeof require !== 'undefined') {\n",
              "        require.undef(\"plotly\");\n",
              "        requirejs.config({\n",
              "            paths: {\n",
              "                'plotly': ['https://cdn.plot.ly/plotly-latest.min']\n",
              "            }\n",
              "        });\n",
              "        require(['plotly'], function(Plotly) {\n",
              "            window._Plotly = Plotly;\n",
              "        });\n",
              "        }\n",
              "        </script>\n",
              "        "
            ]
          },
          "metadata": {
            "tags": []
          }
        }
      ]
    },
    {
      "cell_type": "code",
      "metadata": {
        "id": "XVxxcXZGwmdb"
      },
      "source": [
        "from sklearn.preprocessing import RobustScaler\n",
        "from sklearn.decomposition import PCA\n",
        "from sklearn.metrics import classification_report, confusion_matrix, accuracy_score, f1_score, roc_auc_score \n",
        "from sklearn.model_selection import train_test_split, StratifiedKFold\n",
        "from sklearn.ensemble import RandomForestClassifier, AdaBoostClassifier, GradientBoostingClassifier\n",
        "import joblib\n",
        "from tqdm.notebook import tqdm\n",
        "\n",
        "from pytorch_tabnet.tab_model import TabNetClassifier"
      ],
      "execution_count": 5,
      "outputs": []
    },
    {
      "cell_type": "markdown",
      "metadata": {
        "id": "Hdeojo5eOdox"
      },
      "source": [
        "Подгружаем данные из SDSS обзора, которые были получены: http://skyserver.sdss.org/CasJobs/mydbcontent.aspx?ObjName=SpecPhotoAll&ObjType=TABLE&context=DR16&type=normal \r\n",
        "\r\n",
        "Здесь уже выполнены следующие преобразования:\r\n",
        "\r\n",
        "1) Удалены строчки с разряженными данными (где отсутствуют интересующие нас фотометрические признаки), выбросы, удалены не интересующие нас признаки\r\n",
        "\r\n",
        "2) Удалены дубрирующиеся данные\r\n",
        "\r\n",
        "3) Объединены основные спектральные классы звезд "
      ]
    },
    {
      "cell_type": "code",
      "metadata": {
        "colab": {
          "base_uri": "https://localhost:8080/",
          "height": 218
        },
        "id": "BnqT-ICVwjqY",
        "outputId": "7324bddb-2d08-4fa9-8312-b4759c3bbba5"
      },
      "source": [
        "df = pd.read_csv('/content/drive/MyDrive/Научная работа/Nauch/Результат/data/df_done_sub.csv') #выборка с уже объединеными подклассами звезд \n",
        "df.head()"
      ],
      "execution_count": 6,
      "outputs": [
        {
          "output_type": "execute_result",
          "data": {
            "text/html": [
              "<div>\n",
              "<style scoped>\n",
              "    .dataframe tbody tr th:only-of-type {\n",
              "        vertical-align: middle;\n",
              "    }\n",
              "\n",
              "    .dataframe tbody tr th {\n",
              "        vertical-align: top;\n",
              "    }\n",
              "\n",
              "    .dataframe thead th {\n",
              "        text-align: right;\n",
              "    }\n",
              "</style>\n",
              "<table border=\"1\" class=\"dataframe\">\n",
              "  <thead>\n",
              "    <tr style=\"text-align: right;\">\n",
              "      <th></th>\n",
              "      <th>objID</th>\n",
              "      <th>ra</th>\n",
              "      <th>dec</th>\n",
              "      <th>z</th>\n",
              "      <th>zErr</th>\n",
              "      <th>class</th>\n",
              "      <th>subClass</th>\n",
              "      <th>psfMag_u</th>\n",
              "      <th>psfMag_g</th>\n",
              "      <th>psfMag_r</th>\n",
              "      <th>psfMag_i</th>\n",
              "      <th>psfMag_z</th>\n",
              "      <th>cModelMag_u</th>\n",
              "      <th>cModelMag_g</th>\n",
              "      <th>cModelMag_r</th>\n",
              "      <th>cModelMag_i</th>\n",
              "      <th>cModelMag_z</th>\n",
              "    </tr>\n",
              "  </thead>\n",
              "  <tbody>\n",
              "    <tr>\n",
              "      <th>0</th>\n",
              "      <td>1237679341106758387</td>\n",
              "      <td>37.470142</td>\n",
              "      <td>-5.554778</td>\n",
              "      <td>0.785255</td>\n",
              "      <td>0.000138</td>\n",
              "      <td>GALAXY</td>\n",
              "      <td>NaN</td>\n",
              "      <td>23.38412</td>\n",
              "      <td>23.00183</td>\n",
              "      <td>22.67571</td>\n",
              "      <td>21.95927</td>\n",
              "      <td>21.39581</td>\n",
              "      <td>20.01718</td>\n",
              "      <td>21.90474</td>\n",
              "      <td>21.99600</td>\n",
              "      <td>21.05722</td>\n",
              "      <td>20.29795</td>\n",
              "    </tr>\n",
              "    <tr>\n",
              "      <th>1</th>\n",
              "      <td>1237679341106757929</td>\n",
              "      <td>37.431501</td>\n",
              "      <td>-5.600435</td>\n",
              "      <td>1.285837</td>\n",
              "      <td>3.473993</td>\n",
              "      <td>QSO</td>\n",
              "      <td>NaN</td>\n",
              "      <td>22.52914</td>\n",
              "      <td>23.78679</td>\n",
              "      <td>23.21358</td>\n",
              "      <td>22.17294</td>\n",
              "      <td>21.80350</td>\n",
              "      <td>21.23949</td>\n",
              "      <td>20.26025</td>\n",
              "      <td>22.12909</td>\n",
              "      <td>21.14929</td>\n",
              "      <td>20.66354</td>\n",
              "    </tr>\n",
              "    <tr>\n",
              "      <th>2</th>\n",
              "      <td>1237679341106758149</td>\n",
              "      <td>37.388988</td>\n",
              "      <td>-5.556329</td>\n",
              "      <td>0.779955</td>\n",
              "      <td>0.000054</td>\n",
              "      <td>GALAXY</td>\n",
              "      <td>NaN</td>\n",
              "      <td>25.44541</td>\n",
              "      <td>23.13342</td>\n",
              "      <td>23.57675</td>\n",
              "      <td>24.34838</td>\n",
              "      <td>22.31492</td>\n",
              "      <td>20.38550</td>\n",
              "      <td>22.09762</td>\n",
              "      <td>23.74675</td>\n",
              "      <td>24.19759</td>\n",
              "      <td>20.62257</td>\n",
              "    </tr>\n",
              "    <tr>\n",
              "      <th>3</th>\n",
              "      <td>1237679440426172681</td>\n",
              "      <td>37.327114</td>\n",
              "      <td>-5.485252</td>\n",
              "      <td>0.714883</td>\n",
              "      <td>0.000028</td>\n",
              "      <td>GALAXY</td>\n",
              "      <td>NaN</td>\n",
              "      <td>25.43466</td>\n",
              "      <td>23.13782</td>\n",
              "      <td>23.31316</td>\n",
              "      <td>22.53812</td>\n",
              "      <td>22.60905</td>\n",
              "      <td>25.45580</td>\n",
              "      <td>22.96513</td>\n",
              "      <td>23.37321</td>\n",
              "      <td>22.59266</td>\n",
              "      <td>22.64923</td>\n",
              "    </tr>\n",
              "    <tr>\n",
              "      <th>4</th>\n",
              "      <td>1237679341106692861</td>\n",
              "      <td>37.315868</td>\n",
              "      <td>-5.519308</td>\n",
              "      <td>0.316563</td>\n",
              "      <td>0.000031</td>\n",
              "      <td>GALAXY</td>\n",
              "      <td>NaN</td>\n",
              "      <td>23.17536</td>\n",
              "      <td>21.34756</td>\n",
              "      <td>20.35171</td>\n",
              "      <td>20.05924</td>\n",
              "      <td>19.64511</td>\n",
              "      <td>21.14052</td>\n",
              "      <td>20.62957</td>\n",
              "      <td>19.60872</td>\n",
              "      <td>19.07587</td>\n",
              "      <td>18.90757</td>\n",
              "    </tr>\n",
              "  </tbody>\n",
              "</table>\n",
              "</div>"
            ],
            "text/plain": [
              "                 objID         ra  ...  cModelMag_i  cModelMag_z\n",
              "0  1237679341106758387  37.470142  ...     21.05722     20.29795\n",
              "1  1237679341106757929  37.431501  ...     21.14929     20.66354\n",
              "2  1237679341106758149  37.388988  ...     24.19759     20.62257\n",
              "3  1237679440426172681  37.327114  ...     22.59266     22.64923\n",
              "4  1237679341106692861  37.315868  ...     19.07587     18.90757\n",
              "\n",
              "[5 rows x 17 columns]"
            ]
          },
          "metadata": {
            "tags": []
          },
          "execution_count": 6
        }
      ]
    },
    {
      "cell_type": "code",
      "metadata": {
        "colab": {
          "base_uri": "https://localhost:8080/"
        },
        "id": "bC8GpElg1QaO",
        "outputId": "6479d0c9-fa29-42ea-ba72-9aa207de7801"
      },
      "source": [
        "df.shape"
      ],
      "execution_count": 7,
      "outputs": [
        {
          "output_type": "execute_result",
          "data": {
            "text/plain": [
              "(4614588, 17)"
            ]
          },
          "metadata": {
            "tags": []
          },
          "execution_count": 7
        }
      ]
    },
    {
      "cell_type": "code",
      "metadata": {
        "colab": {
          "base_uri": "https://localhost:8080/",
          "height": 325
        },
        "id": "CtRsazVGQRAn",
        "outputId": "0887d354-6295-4064-da18-2957ad42504b"
      },
      "source": [
        "df.describe()"
      ],
      "execution_count": 8,
      "outputs": [
        {
          "output_type": "execute_result",
          "data": {
            "text/html": [
              "<div>\n",
              "<style scoped>\n",
              "    .dataframe tbody tr th:only-of-type {\n",
              "        vertical-align: middle;\n",
              "    }\n",
              "\n",
              "    .dataframe tbody tr th {\n",
              "        vertical-align: top;\n",
              "    }\n",
              "\n",
              "    .dataframe thead th {\n",
              "        text-align: right;\n",
              "    }\n",
              "</style>\n",
              "<table border=\"1\" class=\"dataframe\">\n",
              "  <thead>\n",
              "    <tr style=\"text-align: right;\">\n",
              "      <th></th>\n",
              "      <th>objID</th>\n",
              "      <th>ra</th>\n",
              "      <th>dec</th>\n",
              "      <th>z</th>\n",
              "      <th>zErr</th>\n",
              "      <th>psfMag_u</th>\n",
              "      <th>psfMag_g</th>\n",
              "      <th>psfMag_r</th>\n",
              "      <th>psfMag_i</th>\n",
              "      <th>psfMag_z</th>\n",
              "      <th>cModelMag_u</th>\n",
              "      <th>cModelMag_g</th>\n",
              "      <th>cModelMag_r</th>\n",
              "      <th>cModelMag_i</th>\n",
              "      <th>cModelMag_z</th>\n",
              "    </tr>\n",
              "  </thead>\n",
              "  <tbody>\n",
              "    <tr>\n",
              "      <th>count</th>\n",
              "      <td>4.614588e+06</td>\n",
              "      <td>4.614588e+06</td>\n",
              "      <td>4.614588e+06</td>\n",
              "      <td>4.614588e+06</td>\n",
              "      <td>4.614588e+06</td>\n",
              "      <td>4.614588e+06</td>\n",
              "      <td>4.614588e+06</td>\n",
              "      <td>4.614588e+06</td>\n",
              "      <td>4.614588e+06</td>\n",
              "      <td>4.614588e+06</td>\n",
              "      <td>4.614588e+06</td>\n",
              "      <td>4.614588e+06</td>\n",
              "      <td>4.614588e+06</td>\n",
              "      <td>4.614588e+06</td>\n",
              "      <td>4.614588e+06</td>\n",
              "    </tr>\n",
              "    <tr>\n",
              "      <th>mean</th>\n",
              "      <td>1.237665e+18</td>\n",
              "      <td>1.728012e+02</td>\n",
              "      <td>2.406577e+01</td>\n",
              "      <td>5.773699e-01</td>\n",
              "      <td>5.854844e-02</td>\n",
              "      <td>2.240051e+01</td>\n",
              "      <td>2.122111e+01</td>\n",
              "      <td>2.029666e+01</td>\n",
              "      <td>1.974275e+01</td>\n",
              "      <td>1.938488e+01</td>\n",
              "      <td>2.136179e+01</td>\n",
              "      <td>2.051423e+01</td>\n",
              "      <td>1.961589e+01</td>\n",
              "      <td>1.905677e+01</td>\n",
              "      <td>1.868825e+01</td>\n",
              "    </tr>\n",
              "    <tr>\n",
              "      <th>std</th>\n",
              "      <td>8.417649e+12</td>\n",
              "      <td>9.444408e+01</td>\n",
              "      <td>1.910161e+01</td>\n",
              "      <td>7.297733e-01</td>\n",
              "      <td>1.930832e+01</td>\n",
              "      <td>1.954846e+00</td>\n",
              "      <td>1.940199e+00</td>\n",
              "      <td>1.713228e+00</td>\n",
              "      <td>1.552831e+00</td>\n",
              "      <td>1.512268e+00</td>\n",
              "      <td>2.117606e+00</td>\n",
              "      <td>1.993697e+00</td>\n",
              "      <td>1.852755e+00</td>\n",
              "      <td>1.742048e+00</td>\n",
              "      <td>1.677772e+00</td>\n",
              "    </tr>\n",
              "    <tr>\n",
              "      <th>min</th>\n",
              "      <td>1.237646e+18</td>\n",
              "      <td>9.090791e-05</td>\n",
              "      <td>-1.970271e+01</td>\n",
              "      <td>-1.144691e-02</td>\n",
              "      <td>-6.000000e+00</td>\n",
              "      <td>6.752299e+00</td>\n",
              "      <td>7.464891e+00</td>\n",
              "      <td>8.449972e+00</td>\n",
              "      <td>7.611034e+00</td>\n",
              "      <td>6.444011e+00</td>\n",
              "      <td>1.020505e+01</td>\n",
              "      <td>1.043573e+01</td>\n",
              "      <td>1.033073e+01</td>\n",
              "      <td>1.027642e+01</td>\n",
              "      <td>8.829096e+00</td>\n",
              "    </tr>\n",
              "    <tr>\n",
              "      <th>25%</th>\n",
              "      <td>1.237659e+18</td>\n",
              "      <td>1.271012e+02</td>\n",
              "      <td>6.893257e+00</td>\n",
              "      <td>6.228666e-02</td>\n",
              "      <td>2.494150e-05</td>\n",
              "      <td>2.105644e+01</td>\n",
              "      <td>1.980771e+01</td>\n",
              "      <td>1.908989e+01</td>\n",
              "      <td>1.871800e+01</td>\n",
              "      <td>1.840915e+01</td>\n",
              "      <td>1.987525e+01</td>\n",
              "      <td>1.888042e+01</td>\n",
              "      <td>1.805814e+01</td>\n",
              "      <td>1.767278e+01</td>\n",
              "      <td>1.742591e+01</td>\n",
              "    </tr>\n",
              "    <tr>\n",
              "      <th>50%</th>\n",
              "      <td>1.237664e+18</td>\n",
              "      <td>1.741648e+02</td>\n",
              "      <td>2.352539e+01</td>\n",
              "      <td>4.268281e-01</td>\n",
              "      <td>9.249016e-05</td>\n",
              "      <td>2.259238e+01</td>\n",
              "      <td>2.147956e+01</td>\n",
              "      <td>2.063976e+01</td>\n",
              "      <td>2.007801e+01</td>\n",
              "      <td>1.967025e+01</td>\n",
              "      <td>2.116473e+01</td>\n",
              "      <td>2.097991e+01</td>\n",
              "      <td>2.011406e+01</td>\n",
              "      <td>1.942030e+01</td>\n",
              "      <td>1.898551e+01</td>\n",
              "    </tr>\n",
              "    <tr>\n",
              "      <th>75%</th>\n",
              "      <td>1.237668e+18</td>\n",
              "      <td>2.271129e+02</td>\n",
              "      <td>3.864779e+01</td>\n",
              "      <td>7.037950e-01</td>\n",
              "      <td>1.989703e-04</td>\n",
              "      <td>2.390630e+01</td>\n",
              "      <td>2.277750e+01</td>\n",
              "      <td>2.155568e+01</td>\n",
              "      <td>2.080758e+01</td>\n",
              "      <td>2.034762e+01</td>\n",
              "      <td>2.250614e+01</td>\n",
              "      <td>2.198993e+01</td>\n",
              "      <td>2.102539e+01</td>\n",
              "      <td>2.035791e+01</td>\n",
              "      <td>1.984414e+01</td>\n",
              "    </tr>\n",
              "    <tr>\n",
              "      <th>max</th>\n",
              "      <td>1.237681e+18</td>\n",
              "      <td>3.599999e+02</td>\n",
              "      <td>8.485214e+01</td>\n",
              "      <td>7.051930e+00</td>\n",
              "      <td>3.068822e+04</td>\n",
              "      <td>3.192045e+01</td>\n",
              "      <td>3.032868e+01</td>\n",
              "      <td>2.971638e+01</td>\n",
              "      <td>2.995165e+01</td>\n",
              "      <td>2.748061e+01</td>\n",
              "      <td>3.428534e+01</td>\n",
              "      <td>3.330923e+01</td>\n",
              "      <td>3.088891e+01</td>\n",
              "      <td>3.268382e+01</td>\n",
              "      <td>3.119199e+01</td>\n",
              "    </tr>\n",
              "  </tbody>\n",
              "</table>\n",
              "</div>"
            ],
            "text/plain": [
              "              objID            ra  ...   cModelMag_i   cModelMag_z\n",
              "count  4.614588e+06  4.614588e+06  ...  4.614588e+06  4.614588e+06\n",
              "mean   1.237665e+18  1.728012e+02  ...  1.905677e+01  1.868825e+01\n",
              "std    8.417649e+12  9.444408e+01  ...  1.742048e+00  1.677772e+00\n",
              "min    1.237646e+18  9.090791e-05  ...  1.027642e+01  8.829096e+00\n",
              "25%    1.237659e+18  1.271012e+02  ...  1.767278e+01  1.742591e+01\n",
              "50%    1.237664e+18  1.741648e+02  ...  1.942030e+01  1.898551e+01\n",
              "75%    1.237668e+18  2.271129e+02  ...  2.035791e+01  1.984414e+01\n",
              "max    1.237681e+18  3.599999e+02  ...  3.268382e+01  3.119199e+01\n",
              "\n",
              "[8 rows x 15 columns]"
            ]
          },
          "metadata": {
            "tags": []
          },
          "execution_count": 8
        }
      ]
    },
    {
      "cell_type": "code",
      "metadata": {
        "colab": {
          "base_uri": "https://localhost:8080/",
          "height": 415
        },
        "id": "n-WAw8RPQafN",
        "outputId": "8c0fa1b0-f7d9-46d5-b337-37b3fb0b3b6e"
      },
      "source": [
        "sns.set_style('darkgrid')\r\n",
        "plt.figure(figsize = (8, 6))\r\n",
        "sns.countplot(x=df['class'], palette = 'magma')"
      ],
      "execution_count": 9,
      "outputs": [
        {
          "output_type": "execute_result",
          "data": {
            "text/plain": [
              "<matplotlib.axes._subplots.AxesSubplot at 0x7f87443ca7d0>"
            ]
          },
          "metadata": {
            "tags": []
          },
          "execution_count": 9
        },
        {
          "output_type": "display_data",
          "data": {
            "image/png": "[encoded data removed]",
            "text/plain": [
              "<Figure size 576x432 with 1 Axes>"
            ]
          },
          "metadata": {
            "tags": []
          }
        }
      ]
    },
    {
      "cell_type": "markdown",
      "metadata": {
        "id": "hc-OZpaiREcE"
      },
      "source": [
        "# Подготовка данных для классификатора"
      ]
    },
    {
      "cell_type": "code",
      "metadata": {
        "id": "8Krr4en2uzv-"
      },
      "source": [
        "target = 'class'\r\n",
        "\r\n",
        "add_columns = ['subClass', 'objID', 'z', 'zErr', 'ra', 'dec']\r\n",
        "\r\n",
        "photo_columns = ['psfMag_u',\t'psfMag_g',\t'psfMag_r',\t'psfMag_i',\t'psfMag_z',\r\n",
        "                 'cModelMag_u',\t'cModelMag_g',\t'cModelMag_r',\t'cModelMag_i',\t'cModelMag_z']\r\n",
        "\r\n",
        "feature_columns = (\r\n",
        "    photo_columns + add_columns + [target])"
      ],
      "execution_count": 10,
      "outputs": []
    },
    {
      "cell_type": "code",
      "metadata": {
        "id": "7PHJgkvGWusF"
      },
      "source": [
        "labels = {'STAR':1, 'GALAXY':2, 'QSO':3}\r\n",
        "df.replace({target:labels}, inplace = True)"
      ],
      "execution_count": 11,
      "outputs": []
    },
    {
      "cell_type": "code",
      "metadata": {
        "colab": {
          "base_uri": "https://localhost:8080/"
        },
        "id": "hDrQ2b13Wupd",
        "outputId": "233c0795-fb85-47cd-962f-4e45931b6bad"
      },
      "source": [
        "X =  df.drop(add_columns + [target], axis = 1).values\r\n",
        "y = df[target].values\r\n",
        "X.shape"
      ],
      "execution_count": 93,
      "outputs": [
        {
          "output_type": "execute_result",
          "data": {
            "text/plain": [
              "(4614588, 10)"
            ]
          },
          "metadata": {
            "tags": []
          },
          "execution_count": 93
        }
      ]
    },
    {
      "cell_type": "code",
      "metadata": {
        "id": "yer4R5LMyP0m"
      },
      "source": [
        "def data_preparation(X, y, test_size = 0.8):\r\n",
        "\r\n",
        "    X1_train, X1_test, y1_train, y1_test = train_test_split(X[y==1], y[y==1], test_size=test_size, random_state = 43)\r\n",
        "    X2_train, X2_test, y2_train, y2_test = train_test_split(X[y==2], y[y==2], test_size=test_size, random_state = 43)\r\n",
        "    X3_train, X3_test, y3_train, y3_test = train_test_split(X[y==3], y[y==3], test_size=test_size, random_state = 43)\r\n",
        "    \r\n",
        "    count = 5000\r\n",
        "    count1 = 5000\r\n",
        "\r\n",
        "    X_train, X_test = np.concatenate((X1_train[:count], X2_train[:count], X3_train[:count])), np.concatenate((X1_test[:count1], X2_test[:count1], X3_test[:count1]))\r\n",
        "    y_train, y_test = np.concatenate((y1_train[:count], y2_train[:count], y3_train[:count])), np.concatenate((y1_test[:count1], y2_test[:count1], y3_test[:count1]))\r\n",
        "    \r\n",
        "\r\n",
        "    return [X_train, X_test, y_train, y_test, X1_train, X1_test, y1_train, y1_test, X2_train, X2_test, y2_train, y2_test, X3_train, X3_test, y3_train, y3_test]"
      ],
      "execution_count": 94,
      "outputs": []
    },
    {
      "cell_type": "markdown",
      "metadata": {
        "id": "V1jwFbhmzjbH"
      },
      "source": [
        "# Аугментация данных "
      ]
    },
    {
      "cell_type": "markdown",
      "metadata": {
        "id": "fCyS5CWW24Ee"
      },
      "source": [
        "Полиномиальная "
      ]
    },
    {
      "cell_type": "code",
      "metadata": {
        "id": "V5iXvffL23o6"
      },
      "source": [
        "#from sklearn.preprocessing import PolynomialFeatures\r\n",
        "#poly = PolynomialFeatures(2, include_bias=False)\r\n",
        "#X = poly.fit_transform(X)"
      ],
      "execution_count": 95,
      "outputs": []
    },
    {
      "cell_type": "markdown",
      "metadata": {
        "id": "kukvztiNAGVi"
      },
      "source": [
        "Линейная комбинация"
      ]
    },
    {
      "cell_type": "code",
      "metadata": {
        "id": "XGUOEjydAI0j"
      },
      "source": [
        "stop = 10 #X.shape[1]\r\n",
        "for i in range(stop):\r\n",
        "  for j in range(i+1, stop):\r\n",
        "    X = np.concatenate((X, np.array([X[:, i] + X[:, j]]).T, np.array([X[:, i] - X[:, j]]).T), axis=1)"
      ],
      "execution_count": 96,
      "outputs": []
    },
    {
      "cell_type": "code",
      "metadata": {
        "colab": {
          "base_uri": "https://localhost:8080/"
        },
        "id": "YaP_SfadCIQD",
        "outputId": "b9040107-2d62-48d5-a2e7-a828ce288101"
      },
      "source": [
        "X.shape, y"
      ],
      "execution_count": 97,
      "outputs": [
        {
          "output_type": "execute_result",
          "data": {
            "text/plain": [
              "((4614588, 100), array([2, 3, 2, ..., 3, 2, 2]))"
            ]
          },
          "metadata": {
            "tags": []
          },
          "execution_count": 97
        }
      ]
    },
    {
      "cell_type": "markdown",
      "metadata": {
        "id": "umLXhKKLR2Uo"
      },
      "source": [
        "# Классификатор Звезд, Галактик и Квазаров"
      ]
    },
    {
      "cell_type": "code",
      "metadata": {
        "id": "EeLm9XEC7z88"
      },
      "source": [
        "data_split = data_preparation(X, y)\r\n",
        "\r\n",
        "X_train, X_test = data_split[:2]\r\n",
        "y_train, y_test = data_split[2:4]\r\n",
        "\r\n",
        "count = 5000\r\n",
        "\r\n",
        "X1_train, X1_test = data_split[4:6]\r\n",
        "y1_train, y1_test = data_split[6:8]\r\n",
        "X2_train, X2_test = data_split[8:10] \r\n",
        "y2_train, y2_test = data_split[10:12]\r\n",
        "X3_train, X3_test = data_split[12:14]\r\n",
        "y3_train, y3_test = data_split[14:16]\r\n",
        "\r\n",
        "X_train_pred = np.concatenate((X1_train[count : ], X2_train[count : ], X3_train[count : ])) ###############\r\n",
        "X_val_pred   = np.concatenate((X1_test[count : 2*count], X2_test[count : 2*count], X3_test[count : 2*count]))\r\n",
        "X_valid      = np.concatenate((X1_test[2*count : 3*count], X2_test[2*count : 3*count], X3_test[2*count : 3*count]))\r\n",
        "y_valid      = np.concatenate((y1_test[2*count : 3*count], y2_test[2*count : 3*count], y3_test[2*count : 3*count]))"
      ],
      "execution_count": 98,
      "outputs": []
    },
    {
      "cell_type": "code",
      "metadata": {
        "colab": {
          "base_uri": "https://localhost:8080/",
          "height": 390
        },
        "id": "KQ82b9Zv7_O6",
        "outputId": "986a91a5-2524-4216-bd3c-abc2b182a991"
      },
      "source": [
        "fig, (ax1, ax2, ax3) = plt.subplots(ncols = 3, figsize = (24, 6))\n",
        "sns.histplot(X1_train[:, 7], ax = ax1, bins = 30, color = 'g', element=\"step\")\n",
        "sns.histplot(X2_train[:, 7], ax = ax2, bins = 30, color = 'r', element=\"step\")\n",
        "sns.histplot(X3_train[:, 7], ax = ax3, bins = 30, color = 'b', element=\"step\")"
      ],
      "execution_count": 49,
      "outputs": [
        {
          "output_type": "execute_result",
          "data": {
            "text/plain": [
              "<matplotlib.axes._subplots.AxesSubplot at 0x7f87319a86d0>"
            ]
          },
          "metadata": {
            "tags": []
          },
          "execution_count": 49
        },
        {
          "output_type": "display_data",
          "data": {
            "image/png": "[encoded data removed]",
            "text/plain": [
              "<Figure size 1728x432 with 3 Axes>"
            ]
          },
          "metadata": {
            "tags": []
          }
        }
      ]
    },
    {
      "cell_type": "markdown",
      "metadata": {
        "id": "qkdij2-o01Zv"
      },
      "source": [
        "Нормализация данных\r\n"
      ]
    },
    {
      "cell_type": "code",
      "metadata": {
        "id": "U0Y-Dmqj0_bt"
      },
      "source": [
        "robust = RobustScaler()\r\n",
        "\r\n",
        "X_train_norm = robust.fit_transform(X_train)\r\n",
        "X_test_norm = robust.transform(X_test)\r\n",
        "X_valid_norm = robust.transform(X_valid)"
      ],
      "execution_count": 106,
      "outputs": []
    },
    {
      "cell_type": "markdown",
      "metadata": {
        "id": "Q-J8mGLb8hFv"
      },
      "source": [
        "# Подбор параметров"
      ]
    },
    {
      "cell_type": "markdown",
      "metadata": {
        "id": "amR7PXJo0qnE"
      },
      "source": [
        "# Random Forest and Gradient boosting"
      ]
    },
    {
      "cell_type": "code",
      "metadata": {
        "id": "-w2n5DFp8kP2"
      },
      "source": [
        "from sklearn.model_selection import RandomizedSearchCV\r\n",
        "from sklearn.model_selection import KFold\r\n",
        "from lightgbm import LGBMClassifier\r\n",
        "\r\n",
        "\r\n",
        "lgb_class_params = {\r\n",
        "    'learning_rate':    np.uniform(0.001, 0.1),\r\n",
        "    'min_child_samples':np.randint(1, 50),\r\n",
        "    'colsample_bytree': np.uniform(0.1, 0.9),\r\n",
        "    'num_leaves' :      np.randint(10, 100),\r\n",
        "    'min_child_weight': np.uniform(0.001, 0.99),\r\n",
        "    'n_estimators':     np.randint(100, 1600)\r\n",
        "}\r\n",
        "\r\n",
        "kf = KFold(n_splits=5)\r\n",
        "\r\n",
        "LGBM = RandomizedSearchCV(LGBMClassifier(), lgb_class_params, random_state=0, cv=kf)\r\n",
        "search = LGBM.fit(X_train_norm, y_train)"
      ],
      "execution_count": null,
      "outputs": []
    },
    {
      "cell_type": "code",
      "metadata": {
        "id": "ogPZQ-QJpFkJ"
      },
      "source": [
        ""
      ],
      "execution_count": null,
      "outputs": []
    },
    {
      "cell_type": "code",
      "metadata": {
        "colab": {
          "base_uri": "https://localhost:8080/"
        },
        "id": "ZQ6b2DCF_y3S",
        "outputId": "0235f6b4-235d-4328-856b-2a01a1cf4515"
      },
      "source": [
        "search.best_params_"
      ],
      "execution_count": null,
      "outputs": [
        {
          "output_type": "execute_result",
          "data": {
            "text/plain": [
              "{'colsample_bytree': 0.7000000000000002,\n",
              " 'learning_rate': 0.020999999999999998,\n",
              " 'max_depth': 9,\n",
              " 'min_child_weight': 5,\n",
              " 'n_estimators': 900,\n",
              " 'num_leaves': 100}"
            ]
          },
          "metadata": {
            "tags": []
          },
          "execution_count": 26
        }
      ]
    },
    {
      "cell_type": "code",
      "metadata": {
        "colab": {
          "base_uri": "https://localhost:8080/"
        },
        "id": "9W1zqAQDhhs2",
        "outputId": "d4bb88ab-f356-4a0f-daad-fb3b315a4334"
      },
      "source": [
        "gb = LGBMClassifier(**search.best_params_)\r\n",
        "gb.fit(X_train_norm, y_train)"
      ],
      "execution_count": null,
      "outputs": [
        {
          "output_type": "execute_result",
          "data": {
            "text/plain": [
              "LGBMClassifier(boosting_type='gbdt', class_weight=None,\n",
              "               colsample_bytree=0.7000000000000002, importance_type='split',\n",
              "               learning_rate=0.020999999999999998, max_depth=9,\n",
              "               min_child_samples=20, min_child_weight=5, min_split_gain=0.0,\n",
              "               n_estimators=900, n_jobs=-1, num_leaves=100, objective=None,\n",
              "               random_state=None, reg_alpha=0.0, reg_lambda=0.0, silent=True,\n",
              "               subsample=1.0, subsample_for_bin=200000, subsample_freq=0)"
            ]
          },
          "metadata": {
            "tags": []
          },
          "execution_count": 32
        }
      ]
    },
    {
      "cell_type": "code",
      "metadata": {
        "colab": {
          "base_uri": "https://localhost:8080/"
        },
        "id": "jkgndstqII5j",
        "outputId": "eb9eeadb-37ab-483d-f832-a8fecb659156"
      },
      "source": [
        "pred = search.predict(X_test_norm)#совместно  \r\n",
        "print('Classification Report: \\n', classification_report(y_test, pred))\r\n",
        "print('Confusion Matrix: \\n', confusion_matrix(y_test, pred))\r\n",
        "gb_train_acc = accuracy_score(y_train, search.predict(X_train_norm))\r\n",
        "print('Training Score: ', gb_train_acc)\r\n",
        "gb_test_acc =  accuracy_score(y_test, pred)\r\n",
        "print('Testing Score: ', gb_test_acc)"
      ],
      "execution_count": null,
      "outputs": [
        {
          "output_type": "stream",
          "text": [
            "Classification Report: \n",
            "               precision    recall  f1-score   support\n",
            "\n",
            "           1       0.89      0.86      0.88      5000\n",
            "           2       0.91      0.95      0.93      5000\n",
            "           3       0.86      0.85      0.85      5000\n",
            "\n",
            "    accuracy                           0.89     15000\n",
            "   macro avg       0.89      0.89      0.89     15000\n",
            "weighted avg       0.89      0.89      0.89     15000\n",
            "\n",
            "Confusion Matrix: \n",
            " [[4315  141  544]\n",
            " [  78 4766  156]\n",
            " [ 429  321 4250]]\n",
            "Training Score:  1.0\n",
            "Testing Score:  0.8887333333333334\n"
          ],
          "name": "stdout"
        }
      ]
    },
    {
      "cell_type": "code",
      "metadata": {
        "colab": {
          "base_uri": "https://localhost:8080/"
        },
        "id": "4sIoK5jM_-ce",
        "outputId": "7dabdba4-1ede-4b09-a5ed-d83580cc5370"
      },
      "source": [
        "pred = search.predict(X_test_norm)#с линейной комбинацией  \r\n",
        "print('Classification Report: \\n', classification_report(y_test, pred))\r\n",
        "print('Confusion Matrix: \\n', confusion_matrix(y_test, pred))\r\n",
        "gb_train_acc = accuracy_score(y_train, search.predict(X_train_norm))\r\n",
        "print('Training Score: ', gb_train_acc)\r\n",
        "gb_test_acc =  accuracy_score(y_test, pred)\r\n",
        "print('Testing Score: ', gb_test_acc)"
      ],
      "execution_count": null,
      "outputs": [
        {
          "output_type": "stream",
          "text": [
            "Classification Report: \n",
            "               precision    recall  f1-score   support\n",
            "\n",
            "           1       0.89      0.87      0.88      5000\n",
            "           2       0.91      0.95      0.93      5000\n",
            "           3       0.86      0.85      0.86      5000\n",
            "\n",
            "    accuracy                           0.89     15000\n",
            "   macro avg       0.89      0.89      0.89     15000\n",
            "weighted avg       0.89      0.89      0.89     15000\n",
            "\n",
            "Confusion Matrix: \n",
            " [[4326  140  534]\n",
            " [  83 4765  152]\n",
            " [ 435  313 4252]]\n",
            "Training Score:  0.9986666666666667\n",
            "Testing Score:  0.8895333333333333\n"
          ],
          "name": "stdout"
        }
      ]
    },
    {
      "cell_type": "code",
      "metadata": {
        "colab": {
          "base_uri": "https://localhost:8080/"
        },
        "id": "olqkJX9K9TEk",
        "outputId": "199660cc-6bc1-4a07-be77-69157c119d52"
      },
      "source": [
        "pred = search.predict(X_test_norm)#с полиномиальной аугментацией  \r\n",
        "print('Classification Report: \\n', classification_report(y_test, pred))\r\n",
        "print('Confusion Matrix: \\n', confusion_matrix(y_test, pred))\r\n",
        "gb_train_acc = accuracy_score(y_train, search.predict(X_train_norm))\r\n",
        "print('Training Score: ', gb_train_acc)\r\n",
        "gb_test_acc =  accuracy_score(y_test, pred)\r\n",
        "print('Testing Score: ', gb_test_acc)"
      ],
      "execution_count": null,
      "outputs": [
        {
          "output_type": "stream",
          "text": [
            "Classification Report: \n",
            "               precision    recall  f1-score   support\n",
            "\n",
            "           1       0.88      0.85      0.86      5000\n",
            "           2       0.91      0.94      0.93      5000\n",
            "           3       0.84      0.83      0.84      5000\n",
            "\n",
            "    accuracy                           0.88     15000\n",
            "   macro avg       0.88      0.88      0.88     15000\n",
            "weighted avg       0.88      0.88      0.88     15000\n",
            "\n",
            "Confusion Matrix: \n",
            " [[4245  154  601]\n",
            " [  90 4724  186]\n",
            " [ 510  316 4174]]\n",
            "Training Score:  0.9999333333333333\n",
            "Testing Score:  0.8762\n"
          ],
          "name": "stdout"
        }
      ]
    },
    {
      "cell_type": "code",
      "metadata": {
        "colab": {
          "base_uri": "https://localhost:8080/"
        },
        "id": "n9i9HDnbA3Gf",
        "outputId": "a912a5bd-be81-4655-96b4-8f3b958442f4"
      },
      "source": [
        "pred = search.predict(X_test_norm)#без аугментации \r\n",
        "print('Classification Report: \\n', classification_report(y_test, pred))\r\n",
        "print('Confusion Matrix: \\n', confusion_matrix(y_test, pred))\r\n",
        "gb_train_acc = accuracy_score(y_train, search.predict(X_train_norm))\r\n",
        "print('Training Score: ', gb_train_acc)\r\n",
        "gb_test_acc =  accuracy_score(y_test, pred)\r\n",
        "print('Testing Score: ', gb_test_acc)"
      ],
      "execution_count": null,
      "outputs": [
        {
          "output_type": "stream",
          "text": [
            "Classification Report: \n",
            "               precision    recall  f1-score   support\n",
            "\n",
            "           1       0.88      0.85      0.86      5000\n",
            "           2       0.91      0.94      0.92      5000\n",
            "           3       0.84      0.83      0.83      5000\n",
            "\n",
            "    accuracy                           0.87     15000\n",
            "   macro avg       0.87      0.87      0.87     15000\n",
            "weighted avg       0.87      0.87      0.87     15000\n",
            "\n",
            "Confusion Matrix: \n",
            " [[4234  151  615]\n",
            " [  93 4700  207]\n",
            " [ 510  323 4167]]\n",
            "Training Score:  0.9766\n",
            "Testing Score:  0.8734\n"
          ],
          "name": "stdout"
        }
      ]
    },
    {
      "cell_type": "code",
      "metadata": {
        "colab": {
          "base_uri": "https://localhost:8080/"
        },
        "id": "FJVsEKspMsi9",
        "outputId": "5198ef17-c3ac-46ff-d222-75ba5ef796f7"
      },
      "source": [
        "rf = RandomForestClassifier(n_estimators=300, random_state=42, max_features=5, min_samples_leaf=1) \r\n",
        "rf.fit(X_train_norm, y_train)"
      ],
      "execution_count": null,
      "outputs": [
        {
          "output_type": "execute_result",
          "data": {
            "text/plain": [
              "RandomForestClassifier(bootstrap=True, ccp_alpha=0.0, class_weight=None,\n",
              "                       criterion='gini', max_depth=None, max_features=5,\n",
              "                       max_leaf_nodes=None, max_samples=None,\n",
              "                       min_impurity_decrease=0.0, min_impurity_split=None,\n",
              "                       min_samples_leaf=1, min_samples_split=2,\n",
              "                       min_weight_fraction_leaf=0.0, n_estimators=300,\n",
              "                       n_jobs=None, oob_score=False, random_state=42, verbose=0,\n",
              "                       warm_start=False)"
            ]
          },
          "metadata": {
            "tags": []
          },
          "execution_count": 18
        }
      ]
    },
    {
      "cell_type": "code",
      "metadata": {
        "colab": {
          "base_uri": "https://localhost:8080/"
        },
        "id": "osFHXuATjDm1",
        "outputId": "6128ecb1-e790-4402-fb64-f473a92a03a2"
      },
      "source": [
        "pred = rf.predict(X_test_norm)\r\n",
        "print('Classification Report: \\n', classification_report(y_test, pred))\r\n",
        "print('Confusion Matrix: \\n', confusion_matrix(y_test, pred))\r\n",
        "rf_train_acc = accuracy_score(y_train, rf.predict(X_train_norm))\r\n",
        "print('Training Score: ', rf_train_acc)\r\n",
        "rf_test_acc =  accuracy_score(y_test, pred)\r\n",
        "print('Testing Score: ', rf_test_acc)"
      ],
      "execution_count": null,
      "outputs": [
        {
          "output_type": "stream",
          "text": [
            "Classification Report: \n",
            "               precision    recall  f1-score   support\n",
            "\n",
            "           1       0.88      0.85      0.87      5000\n",
            "           2       0.91      0.94      0.93      5000\n",
            "           3       0.84      0.84      0.84      5000\n",
            "\n",
            "    accuracy                           0.88     15000\n",
            "   macro avg       0.88      0.88      0.88     15000\n",
            "weighted avg       0.88      0.88      0.88     15000\n",
            "\n",
            "Confusion Matrix: \n",
            " [[4265  147  588]\n",
            " [  90 4722  188]\n",
            " [ 483  325 4192]]\n",
            "Training Score:  1.0\n",
            "Testing Score:  0.8786\n"
          ],
          "name": "stdout"
        }
      ]
    },
    {
      "cell_type": "code",
      "metadata": {
        "id": "7NopTyppkzaA"
      },
      "source": [
        "from hyperopt import hp\r\n",
        "import numpy as np\r\n",
        "from sklearn.metrics import mean_squared_error, f1_score\r\n",
        "\r\n",
        "def scor(y_test, y_pred):\r\n",
        "  return accuracy_score(y_test, y_pred)\r\n",
        "\r\n",
        "lgb_reg_params = {\r\n",
        "    'learning_rate':    hp.uniform('learning_rate', 0.001, 0.1),\r\n",
        "    'min_child_samples':hp.randint('min_child_samples', 50)+1,\r\n",
        "    'colsample_bytree': hp.uniform('colsample_bytree', 0.1, 0.9),\r\n",
        "    'num_leaves' :      hp.randint('num_leaves', 100)+10,\r\n",
        "    'min_child_weight': hp.uniform('min_child_weight', 0.001, 0.99),\r\n",
        "    'n_estimators':     hp.randint('n_estimators', 1500)+100\r\n",
        "}\r\n",
        "lgb_fit_params = {\r\n",
        "    'early_stopping_rounds': 10,\r\n",
        "    'verbose': False\r\n",
        "}\r\n",
        "lgb_para = dict()\r\n",
        "lgb_para['reg_params'] = lgb_reg_params\r\n",
        "lgb_para['fit_params'] = lgb_fit_params\r\n",
        "lgb_para['score'] = lambda y, pred: -accuracy_score(y, pred)\r\n",
        "\r\n",
        "\r\n",
        "rf_reg_params = {\r\n",
        "    'min_samples_leaf': hp.randint('min_samples_leaf', 20)+1,\r\n",
        "    'min_samples_split':hp.uniform('min_samples_split', 0.001, 0.1),\r\n",
        "    #'max_features':     hp.choice('max_features', ['auto', 'sqrt', 'log2', None]),\r\n",
        "    #'learning_rate':    hp.uniform('learning_rate', 0.001, 0.1),\r\n",
        "    'n_estimators':     hp.randint('n_estimators', 800)+100\r\n",
        "}\r\n",
        "rf_fit_params = {\r\n",
        "}\r\n",
        "rf_para = dict()\r\n",
        "rf_para['reg_params'] = rf_reg_params\r\n",
        "rf_para['fit_params'] = rf_fit_params\r\n",
        "rf_para['score'] = lambda y, pred: -accuracy_score(y, pred)\r\n",
        "\r\n",
        "tabnet_reg_params = {\r\n",
        "    'n_d' :              64,\r\n",
        "    'n_a' :              64,\r\n",
        "    'n_steps' :          hp.randint('n_steps', 10-3)+3,\r\n",
        "    'gamma' :            hp.uniform('gamma', 1.0, 3.0),\r\n",
        "    'lambda_sparse' :    hp.uniform('lambda_sparse', 0.0, 0.01),\r\n",
        "    'momentum' :         0.3, \r\n",
        "    'clip_value' :       2.,\r\n",
        "    'optimizer_params' : dict(lr=2e-2),\r\n",
        "    'scheduler_params' : {\"step_size\":50, \"gamma\":0.9},\r\n",
        "    'scheduler_fn' :     torch.optim.lr_scheduler.StepLR,\r\n",
        "    'mask_type' :       'entmax'\r\n",
        "}\r\n",
        "\r\n",
        "tabnet_fit_params = {\r\n",
        "    'max_epochs' : 100, \r\n",
        "    'patience' : 15,\r\n",
        "    'batch_size' : 512,\r\n",
        "    'virtual_batch_size' : 128,\r\n",
        "    'num_workers' : 0,\r\n",
        "    'weights' : 1,\r\n",
        "    'drop_last' : False,\r\n",
        "    #'from_unsupervised' : unsupervised_model\r\n",
        "}\r\n",
        "tabnet_para = dict()\r\n",
        "tabnet_para['reg_params'] = tabnet_reg_params\r\n",
        "tabnet_para['fit_params'] = tabnet_fit_params\r\n",
        "tabnet_para['score'] = lambda y, pred: -accuracy_score(y, pred)"
      ],
      "execution_count": 71,
      "outputs": []
    },
    {
      "cell_type": "code",
      "metadata": {
        "id": "XWMNPpeokzaC"
      },
      "source": [
        "import lightgbm as lgb\r\n",
        "from hyperopt import fmin, tpe, STATUS_OK, STATUS_FAIL, Trials\r\n",
        "\r\n",
        "\r\n",
        "class HPOpt(object):\r\n",
        "\r\n",
        "    def __init__(self, x_train, x_test, y_train, y_test):\r\n",
        "        self.x_train = x_train\r\n",
        "        self.x_test  = x_test\r\n",
        "        self.y_train = y_train\r\n",
        "        self.y_test  = y_test\r\n",
        "        self.X = np.concatenate((x_traun, x_test))\r\n",
        "        self.y = np.concatenate((y_traun, y_test))\r\n",
        "\r\n",
        "    def process(self, fn_name, space, trials, algo, max_evals):\r\n",
        "        fn = getattr(self, fn_name)\r\n",
        "        try:\r\n",
        "            result = fmin(fn=fn, space=space, algo=algo, max_evals=max_evals, trials=trials)\r\n",
        "        except Exception as e:\r\n",
        "            return {'status': STATUS_FAIL,\r\n",
        "                    'exception': str(e)}\r\n",
        "        return result, trials\r\n",
        "\r\n",
        "    def rf_reg(self, para):\r\n",
        "        reg = RandomForestClassifier(**para['reg_params'])\r\n",
        "        return self.train_reg(reg, para)\r\n",
        "\r\n",
        "    def lgb_reg(self, para):\r\n",
        "        reg = lgb.LGBMClassifier(**para['reg_params'])\r\n",
        "        return self.train_reg(reg, para)\r\n",
        "\r\n",
        "    def tabnet_reg(self, para):\r\n",
        "        #print(6)\r\n",
        "        reg = TabNetClassifier(**para['reg_params'])\r\n",
        "        return self.train_reg(reg, para)\r\n",
        "\r\n",
        "\r\n",
        "    def train_reg(self, reg, para):\r\n",
        "        if len(para['fit_params'])>0:\r\n",
        "            reg.fit(self.x_train, self.y_train,\r\n",
        "                  eval_set=[(self.x_train, self.y_train), (self.x_test, self.y_test)],\r\n",
        "                  **para['fit_params'])\r\n",
        "        else:\r\n",
        "            reg.fit(self.x_train, self.y_train)\r\n",
        "        pred = reg.predict(self.x_test)\r\n",
        "        loss = para['score'](self.y_test, pred)\r\n",
        "        return {'loss': loss, 'status': STATUS_OK}\r\n",
        "\r\n",
        "def train_cv(self, reg, para):\r\n",
        "        kf = KFold(n_splits=3)\r\n",
        "        loss = 0 \r\n",
        "        for train, test in kf.split(X):\r\n",
        "            if len(para['fit_params'])>0:\r\n",
        "                reg.fit(X[train], y[train],\r\n",
        "                      eval_set=[(X[train], y[train]), (X[test], y[test])],\r\n",
        "                      **para['fit_params'])\r\n",
        "            else:\r\n",
        "                reg.fit(X[train], y[train])\r\n",
        "            pred = reg.predict(X[test])\r\n",
        "            loss += para['score'](y[test], pred)\r\n",
        "        loss=loss/3\r\n",
        "        return {'loss': loss, 'status': STATUS_OK}\r\n"
      ],
      "execution_count": 72,
      "outputs": []
    },
    {
      "cell_type": "code",
      "metadata": {
        "id": "JNAUg3ICkzaD"
      },
      "source": [
        "obj = HPOpt(X_train_norm, X_test_norm, y_train, y_test)"
      ],
      "execution_count": null,
      "outputs": []
    },
    {
      "cell_type": "code",
      "metadata": {
        "colab": {
          "base_uri": "https://localhost:8080/"
        },
        "id": "ZNJ8RPGZkzaD",
        "outputId": "0e806522-3df1-41cf-e0c7-f77664e1390b"
      },
      "source": [
        "lgb_opt = obj.process(fn_name='lgb_reg', space=lgb_para, trials=Trials(), algo=tpe.suggest, max_evals=1000)"
      ],
      "execution_count": null,
      "outputs": [
        {
          "output_type": "stream",
          "text": [
            "100%|██████████| 1000/1000 [2:44:53<00:00,  9.89s/it, best loss: -0.8928]\n"
          ],
          "name": "stdout"
        }
      ]
    },
    {
      "cell_type": "code",
      "metadata": {
        "colab": {
          "base_uri": "https://localhost:8080/"
        },
        "id": "qGImYSLbXzRN",
        "outputId": "735fc07c-fb8a-4da2-9a08-a091f689b4e6"
      },
      "source": [
        "lgb_opt"
      ],
      "execution_count": null,
      "outputs": [
        {
          "output_type": "execute_result",
          "data": {
            "text/plain": [
              "({'colsample_bytree': 0.6437405148446416,\n",
              "  'learning_rate': 0.0741521019613115,\n",
              "  'min_child_samples': 9,\n",
              "  'min_child_weight': 0.43858057836890685,\n",
              "  'n_estimators': 77,\n",
              "  'num_leaves': 59},\n",
              " <hyperopt.base.Trials at 0x7f7912522c10>)"
            ]
          },
          "metadata": {
            "tags": []
          },
          "execution_count": 28
        }
      ]
    },
    {
      "cell_type": "code",
      "metadata": {
        "colab": {
          "base_uri": "https://localhost:8080/"
        },
        "id": "27aOPJjhFgqx",
        "outputId": "4d39c55b-4108-423b-fac5-1b465a6f86a6"
      },
      "source": [
        "gb = lgb.LGBMClassifier(  #ЛУЧШАЯ МОДЕЛЬ\r\n",
        "  **{'colsample_bytree': 0.6437405148446416,\r\n",
        "  'learning_rate': 0.0741521019613115,\r\n",
        "  'min_child_samples': 9+1,\r\n",
        "  'min_child_weight': 0.43858057836890685,\r\n",
        "  'n_estimators': 77+100,\r\n",
        "  'num_leaves': 59+10}\r\n",
        "  )\r\n",
        "gb.fit(X_train_norm, y_train, eval_set=[(X_train_norm, y_train), (X_valid_norm, y_valid)],  **lgb_fit_params)"
      ],
      "execution_count": 107,
      "outputs": [
        {
          "output_type": "execute_result",
          "data": {
            "text/plain": [
              "LGBMClassifier(boosting_type='gbdt', class_weight=None,\n",
              "               colsample_bytree=0.6437405148446416, importance_type='split',\n",
              "               learning_rate=0.0741521019613115, max_depth=-1,\n",
              "               min_child_samples=10, min_child_weight=0.43858057836890685,\n",
              "               min_split_gain=0.0, n_estimators=177, n_jobs=-1, num_leaves=69,\n",
              "               objective=None, random_state=None, reg_alpha=0.0, reg_lambda=0.0,\n",
              "               silent=True, subsample=1.0, subsample_for_bin=200000,\n",
              "               subsample_freq=0)"
            ]
          },
          "metadata": {
            "tags": []
          },
          "execution_count": 107
        }
      ]
    },
    {
      "cell_type": "code",
      "metadata": {
        "colab": {
          "base_uri": "https://localhost:8080/"
        },
        "id": "xl8Z-a7HFgpB",
        "outputId": "1478afac-78c9-4cdb-f769-d12f7e354ff1"
      },
      "source": [
        "pred = gb.predict(X_test_norm)\r\n",
        "print('Classification Report: \\n', classification_report(y_test, pred))\r\n",
        "print('Confusion Matrix: \\n', confusion_matrix(y_test, pred))\r\n",
        "gb_train_acc = accuracy_score(y_train, gb.predict(X_train_norm))\r\n",
        "print('Training Score: ', gb_train_acc)\r\n",
        "gb_test_acc =  accuracy_score(y_test, pred)\r\n",
        "print('Testing Score: ', gb_test_acc)"
      ],
      "execution_count": 109,
      "outputs": [
        {
          "output_type": "stream",
          "text": [
            "Classification Report: \n",
            "               precision    recall  f1-score   support\n",
            "\n",
            "           1       0.90      0.87      0.88      5000\n",
            "           2       0.91      0.95      0.93      5000\n",
            "           3       0.87      0.85      0.86      5000\n",
            "\n",
            "    accuracy                           0.89     15000\n",
            "   macro avg       0.89      0.89      0.89     15000\n",
            "weighted avg       0.89      0.89      0.89     15000\n",
            "\n",
            "Confusion Matrix: \n",
            " [[4353  139  508]\n",
            " [  82 4766  152]\n",
            " [ 408  319 4273]]\n",
            "Training Score:  0.9833333333333333\n",
            "Testing Score:  0.8928\n"
          ],
          "name": "stdout"
        }
      ]
    },
    {
      "cell_type": "code",
      "metadata": {
        "colab": {
          "base_uri": "https://localhost:8080/"
        },
        "id": "KTpMdRqNhwmG",
        "outputId": "38dd9393-f0e5-40ad-81ee-5d213dd43274"
      },
      "source": [
        "rf_opt = obj.process(fn_name='rf_reg', space=rf_para, trials=Trials(), algo=tpe.suggest, max_evals=10)"
      ],
      "execution_count": null,
      "outputs": [
        {
          "output_type": "stream",
          "text": [
            "100%|██████████| 10/10 [13:03<00:00, 78.33s/it, best loss: -0.8726]\n"
          ],
          "name": "stdout"
        }
      ]
    },
    {
      "cell_type": "code",
      "metadata": {
        "colab": {
          "base_uri": "https://localhost:8080/"
        },
        "id": "FPOHMs7z4J3d",
        "outputId": "85b93e71-0f5d-49ce-9110-c6e59aceccbe"
      },
      "source": [
        "rf_opt"
      ],
      "execution_count": null,
      "outputs": [
        {
          "output_type": "execute_result",
          "data": {
            "text/plain": [
              "({'min_samples_leaf': 18,\n",
              "  'min_samples_split': 0.020512200509857588,\n",
              "  'n_estimators': 3},\n",
              " <hyperopt.base.Trials at 0x7f7911548d10>)"
            ]
          },
          "metadata": {
            "tags": []
          },
          "execution_count": 72
        }
      ]
    },
    {
      "cell_type": "code",
      "metadata": {
        "colab": {
          "base_uri": "https://localhost:8080/"
        },
        "id": "ZpogEv_Nm2SV",
        "outputId": "da759f4f-c2ff-4c8d-a80a-fa4c7bd0ea57"
      },
      "source": [
        "rf = RandomForestClassifier(\r\n",
        "    **{'min_samples_leaf': 14+1,\r\n",
        "    'min_samples_split': 0.004808678129900561,\r\n",
        "    'n_estimators': 623+100}\r\n",
        ") \r\n",
        "rf.fit(X_train_norm, y_train)"
      ],
      "execution_count": null,
      "outputs": [
        {
          "output_type": "execute_result",
          "data": {
            "text/plain": [
              "RandomForestClassifier(bootstrap=True, ccp_alpha=0.0, class_weight=None,\n",
              "                       criterion='gini', max_depth=None, max_features='auto',\n",
              "                       max_leaf_nodes=None, max_samples=None,\n",
              "                       min_impurity_decrease=0.0, min_impurity_split=None,\n",
              "                       min_samples_leaf=15,\n",
              "                       min_samples_split=0.004808678129900561,\n",
              "                       min_weight_fraction_leaf=0.0, n_estimators=723,\n",
              "                       n_jobs=None, oob_score=False, random_state=None,\n",
              "                       verbose=0, warm_start=False)"
            ]
          },
          "metadata": {
            "tags": []
          },
          "execution_count": 74
        }
      ]
    },
    {
      "cell_type": "code",
      "metadata": {
        "colab": {
          "base_uri": "https://localhost:8080/"
        },
        "id": "u4cjszutkzaF",
        "outputId": "440d94e8-eabe-407e-894c-b9f05b6b3bd6"
      },
      "source": [
        "pred = rf.predict(X_test_norm)\r\n",
        "print('Classification Report: \\n', classification_report(y_test, pred))\r\n",
        "print('Confusion Matrix: \\n', confusion_matrix(y_test, pred))\r\n",
        "rf_train_acc = accuracy_score(y_train, rf.predict(X_train_norm))\r\n",
        "print('Training Score: ', rf_train_acc)\r\n",
        "rf_test_acc =  accuracy_score(y_test, pred)\r\n",
        "print('Testing Score: ', rf_test_acc)"
      ],
      "execution_count": null,
      "outputs": [
        {
          "output_type": "stream",
          "text": [
            "Classification Report: \n",
            "               precision    recall  f1-score   support\n",
            "\n",
            "           1       0.89      0.85      0.87      5000\n",
            "           2       0.90      0.95      0.92      5000\n",
            "           3       0.85      0.84      0.85      5000\n",
            "\n",
            "    accuracy                           0.88     15000\n",
            "   macro avg       0.88      0.88      0.88     15000\n",
            "weighted avg       0.88      0.88      0.88     15000\n",
            "\n",
            "Confusion Matrix: \n",
            " [[4245  187  568]\n",
            " [  79 4761  160]\n",
            " [ 452  352 4196]]\n",
            "Training Score:  0.9008666666666667\n",
            "Testing Score:  0.8801333333333333\n"
          ],
          "name": "stdout"
        }
      ]
    },
    {
      "cell_type": "markdown",
      "metadata": {
        "id": "3GShmnMjgcLu"
      },
      "source": [
        "# TabNet\r\n"
      ]
    },
    {
      "cell_type": "code",
      "metadata": {
        "id": "guuBGRaaiDoJ"
      },
      "source": [
        "import torch"
      ],
      "execution_count": 15,
      "outputs": []
    },
    {
      "cell_type": "code",
      "metadata": {
        "id": "xbK5F9GWsWGx"
      },
      "source": [
        "from pytorch_tabnet.pretraining import TabNetPretrainer\r\n",
        "\r\n",
        "unsupervised_model = TabNetPretrainer(\r\n",
        "    n_d=64, n_a=64, n_steps=8,\r\n",
        "    optimizer_fn=torch.optim.Adam,\r\n",
        "    optimizer_params=dict(lr=2e-2),\r\n",
        "    mask_type='entmax' # \"sparsemax\"\r\n",
        ")\r\n",
        "\r\n",
        "unsupervised_model.fit(\r\n",
        "    X_train=X_train_pred,\r\n",
        "    eval_set=[X_val_pred],\r\n",
        "    max_epochs=10 , patience=5,\r\n",
        "    batch_size=512, virtual_batch_size=128,\r\n",
        "    pretraining_ratio=0.8,\r\n",
        ")"
      ],
      "execution_count": null,
      "outputs": []
    },
    {
      "cell_type": "markdown",
      "metadata": {
        "id": "Xtw2oN_pjm0a"
      },
      "source": [
        "Подбор параметров "
      ]
    },
    {
      "cell_type": "code",
      "metadata": {
        "id": "eQvYIsPpUuFW"
      },
      "source": [
        "obj = HPOpt(X_train, X_valid, y_train, y_valid)"
      ],
      "execution_count": null,
      "outputs": []
    },
    {
      "cell_type": "code",
      "metadata": {
        "id": "OVKgmduuVWHT"
      },
      "source": [
        "tabnet_opt = obj.process(fn_name='tabnet_reg', space=tabnet_para, trials=Trials(), algo=tpe.suggest, max_evals=10)"
      ],
      "execution_count": null,
      "outputs": []
    },
    {
      "cell_type": "code",
      "metadata": {
        "colab": {
          "base_uri": "https://localhost:8080/"
        },
        "id": "q2CsfuvpjmaH",
        "outputId": "63c331ca-235e-426e-dcc5-d3cfe70fc685"
      },
      "source": [
        "tabnet_opt"
      ],
      "execution_count": null,
      "outputs": [
        {
          "output_type": "execute_result",
          "data": {
            "text/plain": [
              "({'gamma': 2.7783389741405147,\n",
              "  'lambda_sparse': 0.02378813297614627,\n",
              "  'n_steps': 3},\n",
              " <hyperopt.base.Trials at 0x7f88e2a7d090>)"
            ]
          },
          "metadata": {
            "tags": []
          },
          "execution_count": 54
        }
      ]
    },
    {
      "cell_type": "code",
      "metadata": {
        "colab": {
          "base_uri": "https://localhost:8080/"
        },
        "id": "SPW8o-hvuYjf",
        "outputId": "c0d99e95-7cee-425f-e48d-838f820861ae"
      },
      "source": [
        "clf = TabNetClassifier(n_d=64, n_a=64,\n",
        "                       momentum=0.3, clip_value=2.,\n",
        "                       optimizer_fn=torch.optim.Adam,\n",
        "                       optimizer_params=dict(lr=2e-2),\n",
        "                       scheduler_params={\"step_size\":50, # how to use learning rate scheduler\n",
        "                                         \"gamma\":0.9},\n",
        "                       scheduler_fn=torch.optim.lr_scheduler.StepLR,\n",
        "\n",
        "                       mask_type='entmax',\n",
        "                       **{'gamma': 2.7783389741405147,\n",
        "                          'lambda_sparse': 0.02378813297614627,\n",
        "                          'n_steps': 8}\n",
        "\n",
        ")"
      ],
      "execution_count": 56,
      "outputs": [
        {
          "output_type": "stream",
          "text": [
            "Device used : cuda\n"
          ],
          "name": "stdout"
        }
      ]
    },
    {
      "cell_type": "code",
      "metadata": {
        "id": "l1c7joHKuYjg"
      },
      "source": [
        "max_epochs = 200"
      ],
      "execution_count": 57,
      "outputs": []
    },
    {
      "cell_type": "code",
      "metadata": {
        "scrolled": true,
        "id": "M9bKfA7MuYjg"
      },
      "source": [
        "clf.fit(\n",
        "    X_train=X_train, y_train=y_train,\n",
        "    #X_valid=X_valid, y_valid=y_valid,\n",
        "    eval_set=[(X_train, y_train), (X_valid, y_valid)],\n",
        "    eval_name=['train', 'valid'],\n",
        "    eval_metric=['logloss','accuracy'],\n",
        "    max_epochs=max_epochs , patience=20,\n",
        "    batch_size=256, virtual_batch_size=128,\n",
        "    #from_unsupervised=unsupervised_model\n",
        ") "
      ],
      "execution_count": null,
      "outputs": []
    },
    {
      "cell_type": "code",
      "metadata": {
        "scrolled": true,
        "id": "ElyLpi8awsis"
      },
      "source": [
        "clf.fit(\n",
        "    X_train=X_train, y_train=y_train,\n",
        "    #X_valid=X_valid, y_valid=y_valid,\n",
        "    eval_set=[(X_train, y_train), (X_valid, y_valid)],\n",
        "    eval_name=['train', 'valid'],\n",
        "    eval_metric=['logloss','accuracy'],\n",
        "    max_epochs=max_epochs , patience=20,\n",
        "    batch_size=256, virtual_batch_size=128,\n",
        "    #from_unsupervised=unsupervised_model\n",
        ") "
      ],
      "execution_count": null,
      "outputs": []
    },
    {
      "cell_type": "code",
      "metadata": {
        "colab": {
          "base_uri": "https://localhost:8080/"
        },
        "id": "UULXz-Dv9fHa",
        "outputId": "65b5b24d-f2a1-4821-f316-f4eadbbec046"
      },
      "source": [
        "pred = clf.predict(X_test)\r\n",
        "print('Classification Report: \\n', classification_report(y_test, pred))\r\n",
        "print('Confusion Matrix: \\n', confusion_matrix(y_test, pred))\r\n",
        "clf_train_acc = accuracy_score(y_train, clf.predict(X_train))\r\n",
        "print('Training Score: ', clf_train_acc)\r\n",
        "clf_test_acc = accuracy_score(y_test, pred)\r\n",
        "print('Training Score: ', clf_test_acc)"
      ],
      "execution_count": 59,
      "outputs": [
        {
          "output_type": "stream",
          "text": [
            "Classification Report: \n",
            "               precision    recall  f1-score   support\n",
            "\n",
            "           1       0.90      0.86      0.88      5000\n",
            "           2       0.92      0.95      0.93      5000\n",
            "           3       0.85      0.87      0.86      5000\n",
            "\n",
            "    accuracy                           0.89     15000\n",
            "   macro avg       0.89      0.89      0.89     15000\n",
            "weighted avg       0.89      0.89      0.89     15000\n",
            "\n",
            "Confusion Matrix: \n",
            " [[4298  137  565]\n",
            " [  90 4733  177]\n",
            " [ 373  289 4338]]\n",
            "Training Score:  0.9059333333333334\n",
            "Training Score:  0.8912666666666667\n"
          ],
          "name": "stdout"
        }
      ]
    },
    {
      "cell_type": "code",
      "metadata": {
        "id": "FL7bcZKZW6TY",
        "colab": {
          "base_uri": "https://localhost:8080/",
          "height": 281
        },
        "outputId": "9bd1b8a1-8c4f-4455-cfd6-1770662acfc6"
      },
      "source": [
        "# plot losses\n",
        "plt.plot(clf.history['loss'])"
      ],
      "execution_count": 60,
      "outputs": [
        {
          "output_type": "execute_result",
          "data": {
            "text/plain": [
              "[<matplotlib.lines.Line2D at 0x7f87314d6850>]"
            ]
          },
          "metadata": {
            "tags": []
          },
          "execution_count": 60
        },
        {
          "output_type": "display_data",
          "data": {
            "image/png": "[encoded data removed]",
            "text/plain": [
              "<Figure size 432x288 with 1 Axes>"
            ]
          },
          "metadata": {
            "tags": []
          }
        }
      ]
    },
    {
      "cell_type": "code",
      "metadata": {
        "colab": {
          "base_uri": "https://localhost:8080/",
          "height": 281
        },
        "id": "yp64RnM1hUE1",
        "outputId": "dd1e435e-73b3-4380-cecc-65db95770190"
      },
      "source": [
        "# plot accuracy\n",
        "plt.plot(clf.history['train_logloss'][3:])\n",
        "plt.plot(clf.history['valid_logloss'][3:])"
      ],
      "execution_count": 62,
      "outputs": [
        {
          "output_type": "execute_result",
          "data": {
            "text/plain": [
              "[<matplotlib.lines.Line2D at 0x7f8731399150>]"
            ]
          },
          "metadata": {
            "tags": []
          },
          "execution_count": 62
        },
        {
          "output_type": "display_data",
          "data": {
            "image/png": "[encoded data removed]",
            "text/plain": [
              "<Figure size 432x288 with 1 Axes>"
            ]
          },
          "metadata": {
            "tags": []
          }
        }
      ]
    },
    {
      "cell_type": "code",
      "metadata": {
        "id": "8eW_lk_TW6TY",
        "colab": {
          "base_uri": "https://localhost:8080/",
          "height": 283
        },
        "outputId": "76c7173a-86af-4753-9993-d450d2de5246"
      },
      "source": [
        "# plot accuracy\n",
        "plt.plot(clf.history['train_accuracy'])\n",
        "plt.plot(clf.history['valid_accuracy'])"
      ],
      "execution_count": null,
      "outputs": [
        {
          "output_type": "execute_result",
          "data": {
            "text/plain": [
              "[<matplotlib.lines.Line2D at 0x7f677cdf1ad0>]"
            ]
          },
          "metadata": {
            "tags": []
          },
          "execution_count": 23
        },
        {
          "output_type": "display_data",
          "data": {
            "image/png": "[encoded data removed]",
            "text/plain": [
              "<Figure size 432x288 with 1 Axes>"
            ]
          },
          "metadata": {
            "tags": []
          }
        }
      ]
    },
    {
      "cell_type": "code",
      "metadata": {
        "colab": {
          "base_uri": "https://localhost:8080/"
        },
        "id": "Hraci2-izeFz",
        "outputId": "ff11eda6-746f-4c90-ddbb-e6af3eb1971c"
      },
      "source": [
        "photo_columns"
      ],
      "execution_count": 80,
      "outputs": [
        {
          "output_type": "execute_result",
          "data": {
            "text/plain": [
              "['psfMag_u',\n",
              " 'psfMag_g',\n",
              " 'psfMag_r',\n",
              " 'psfMag_i',\n",
              " 'psfMag_z',\n",
              " 'cModelMag_u',\n",
              " 'cModelMag_g',\n",
              " 'cModelMag_r',\n",
              " 'cModelMag_i',\n",
              " 'cModelMag_z']"
            ]
          },
          "metadata": {
            "tags": []
          },
          "execution_count": 80
        }
      ]
    },
    {
      "cell_type": "code",
      "metadata": {
        "colab": {
          "base_uri": "https://localhost:8080/",
          "height": 728
        },
        "id": "FF0BxzjZw_KG",
        "outputId": "04d9d1fa-f3de-4033-a894-5b963aa4bcd5"
      },
      "source": [
        "feature_imp=pd.DataFrame((zip(clf.feature_importances_,photo_columns)), columns=['TabNet','Feature'])\n",
        "plt.figure(figsize=(20, 10))\n",
        "sns.barplot(x=\"TabNet\", y=\"Feature\", data=feature_imp)\n",
        "plt.title('TabNet Most Important Features')\n",
        "plt.tight_layout()\n",
        "plt.show()"
      ],
      "execution_count": 126,
      "outputs": [
        {
          "output_type": "display_data",
          "data": {
            "image/png": "[encoded data removed]",
            "text/plain": [
              "<Figure size 1440x720 with 1 Axes>"
            ]
          },
          "metadata": {
            "tags": []
          }
        }
      ]
    },
    {
      "cell_type": "code",
      "metadata": {
        "colab": {
          "base_uri": "https://localhost:8080/",
          "height": 728
        },
        "id": "zLez7ZWyyNXI",
        "outputId": "7497ab6f-f296-43bf-c0fc-b17386965f8c"
      },
      "source": [
        "feature_impgb=pd.DataFrame((zip(gb.feature_importances_[:10],photo_columns)), columns=['GB','Feature'])\n",
        "plt.figure(figsize=(20, 10))\n",
        "sns.barplot(x=\"GB\", y=\"Feature\", data=feature_impgb)\n",
        "plt.title('GB Most Important Features')\n",
        "plt.tight_layout()\n",
        "plt.show()"
      ],
      "execution_count": 127,
      "outputs": [
        {
          "output_type": "display_data",
          "data": {
            "image/png": "[encoded data removed]",
            "text/plain": [
              "<Figure size 1440x720 with 1 Axes>"
            ]
          },
          "metadata": {
            "tags": []
          }
        }
      ]
    },
    {
      "cell_type": "code",
      "metadata": {
        "colab": {
          "base_uri": "https://localhost:8080/",
          "height": 335
        },
        "id": "LXdP1L2Bx-_S",
        "outputId": "8e1e0e7c-51eb-4a6a-ae6b-c50dd8bbd702"
      },
      "source": [
        "dff = feature_impgb.merge(feature_imp, how='outer')\n",
        "cols = dff.columns.tolist()\n",
        "cols = cols[1:] + cols[:1]\n",
        "dff = dff[cols]\n",
        "dff"
      ],
      "execution_count": 132,
      "outputs": [
        {
          "output_type": "execute_result",
          "data": {
            "text/html": [
              "<div>\n",
              "<style scoped>\n",
              "    .dataframe tbody tr th:only-of-type {\n",
              "        vertical-align: middle;\n",
              "    }\n",
              "\n",
              "    .dataframe tbody tr th {\n",
              "        vertical-align: top;\n",
              "    }\n",
              "\n",
              "    .dataframe thead th {\n",
              "        text-align: right;\n",
              "    }\n",
              "</style>\n",
              "<table border=\"1\" class=\"dataframe\">\n",
              "  <thead>\n",
              "    <tr style=\"text-align: right;\">\n",
              "      <th></th>\n",
              "      <th>Feature</th>\n",
              "      <th>TabNet</th>\n",
              "      <th>GB</th>\n",
              "    </tr>\n",
              "  </thead>\n",
              "  <tbody>\n",
              "    <tr>\n",
              "      <th>0</th>\n",
              "      <td>psfMag_u</td>\n",
              "      <td>0.051430</td>\n",
              "      <td>230</td>\n",
              "    </tr>\n",
              "    <tr>\n",
              "      <th>1</th>\n",
              "      <td>psfMag_g</td>\n",
              "      <td>0.134346</td>\n",
              "      <td>174</td>\n",
              "    </tr>\n",
              "    <tr>\n",
              "      <th>2</th>\n",
              "      <td>psfMag_r</td>\n",
              "      <td>0.195410</td>\n",
              "      <td>164</td>\n",
              "    </tr>\n",
              "    <tr>\n",
              "      <th>3</th>\n",
              "      <td>psfMag_i</td>\n",
              "      <td>0.275490</td>\n",
              "      <td>145</td>\n",
              "    </tr>\n",
              "    <tr>\n",
              "      <th>4</th>\n",
              "      <td>psfMag_z</td>\n",
              "      <td>0.003827</td>\n",
              "      <td>340</td>\n",
              "    </tr>\n",
              "    <tr>\n",
              "      <th>5</th>\n",
              "      <td>cModelMag_u</td>\n",
              "      <td>0.026733</td>\n",
              "      <td>125</td>\n",
              "    </tr>\n",
              "    <tr>\n",
              "      <th>6</th>\n",
              "      <td>cModelMag_g</td>\n",
              "      <td>0.140519</td>\n",
              "      <td>84</td>\n",
              "    </tr>\n",
              "    <tr>\n",
              "      <th>7</th>\n",
              "      <td>cModelMag_r</td>\n",
              "      <td>0.022828</td>\n",
              "      <td>108</td>\n",
              "    </tr>\n",
              "    <tr>\n",
              "      <th>8</th>\n",
              "      <td>cModelMag_i</td>\n",
              "      <td>0.024334</td>\n",
              "      <td>165</td>\n",
              "    </tr>\n",
              "    <tr>\n",
              "      <th>9</th>\n",
              "      <td>cModelMag_z</td>\n",
              "      <td>0.125083</td>\n",
              "      <td>209</td>\n",
              "    </tr>\n",
              "  </tbody>\n",
              "</table>\n",
              "</div>"
            ],
            "text/plain": [
              "       Feature    TabNet   GB\n",
              "0     psfMag_u  0.051430  230\n",
              "1     psfMag_g  0.134346  174\n",
              "2     psfMag_r  0.195410  164\n",
              "3     psfMag_i  0.275490  145\n",
              "4     psfMag_z  0.003827  340\n",
              "5  cModelMag_u  0.026733  125\n",
              "6  cModelMag_g  0.140519   84\n",
              "7  cModelMag_r  0.022828  108\n",
              "8  cModelMag_i  0.024334  165\n",
              "9  cModelMag_z  0.125083  209"
            ]
          },
          "metadata": {
            "tags": []
          },
          "execution_count": 132
        }
      ]
    },
    {
      "cell_type": "code",
      "metadata": {
        "id": "HJdSxNllW6Ta"
      },
      "source": [
        "explain_matrix, masks = clf.explain(X_test)"
      ],
      "execution_count": 111,
      "outputs": []
    },
    {
      "cell_type": "code",
      "metadata": {
        "id": "haL3f6qmW6Ta",
        "colab": {
          "base_uri": "https://localhost:8080/",
          "height": 1000
        },
        "outputId": "91de3ef7-a3cd-412c-e945-d7d1e1f6c0ac"
      },
      "source": [
        "fig, axs = plt.subplots(1, 9, figsize=(40,40))\n",
        "\n",
        "for i in range(8):\n",
        "    axs[i].imshow(masks[i][:50])\n",
        "    axs[i].set_title(f\"mask {i+1}\")\n",
        "\n",
        "axs[i+1].imshow(explain_matrix[:50])\n",
        "axs[i+1].set_title(\"explain mask\")"
      ],
      "execution_count": 114,
      "outputs": [
        {
          "output_type": "execute_result",
          "data": {
            "text/plain": [
              "Text(0.5, 1.0, 'explain mask')"
            ]
          },
          "metadata": {
            "tags": []
          },
          "execution_count": 114
        },
        {
          "output_type": "display_data",
          "data": {
            "image/png": "[encoded data removed]",
            "text/plain": [
              "<Figure size 2880x2880 with 9 Axes>"
            ]
          },
          "metadata": {
            "tags": []
          }
        }
      ]
    },
    {
      "cell_type": "code",
      "metadata": {
        "id": "LYgZCBWv2sL5"
      },
      "source": [
        ""
      ],
      "execution_count": null,
      "outputs": []
    }
  ]
}