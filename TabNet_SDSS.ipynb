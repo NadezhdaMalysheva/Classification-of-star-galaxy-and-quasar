{
  "nbformat": 4,
  "nbformat_minor": 0,
  "metadata": {
    "accelerator": "GPU",
    "colab": {
      "name": "TabNet SDSS",
      "provenance": [],
      "collapsed_sections": [
        "amR7PXJo0qnE"
      ],
      "machine_shape": "hm",
      "include_colab_link": true
    },
    "kernelspec": {
      "display_name": "Python 3",
      "name": "python3"
    }
  },
  "cells": [
    {
      "cell_type": "markdown",
      "metadata": {
        "id": "view-in-github",
        "colab_type": "text"
      },
      "source": [
        "<a href=\"https://colab.research.google.com/github/NadezhdaMalysheva/projects/blob/main/TabNet_SDSS.ipynb\" target=\"_parent\"><img src=\"https://colab.research.google.com/assets/colab-badge.svg\" alt=\"Open In Colab\"/></a>"
      ]
    },
    {
      "cell_type": "code",
      "metadata": {
        "colab": {
          "base_uri": "https://localhost:8080/"
        },
        "id": "YoXFJs19Ks2y",
        "outputId": "0fba4815-3830-4835-94fd-836f5bf1a19d"
      },
      "source": [
        "from google.colab import drive\n",
        "drive.mount('/content/drive')"
      ],
      "execution_count": 1,
      "outputs": [
        {
          "output_type": "stream",
          "text": [
            "Mounted at /content/drive\n"
          ],
          "name": "stdout"
        }
      ]
    },
    {
      "cell_type": "markdown",
      "metadata": {
        "id": "m0kPZJ5yOVbo"
      },
      "source": [
        "Подгружаем необходимые библиотеки "
      ]
    },
    {
      "cell_type": "code",
      "metadata": {
        "colab": {
          "base_uri": "https://localhost:8080/"
        },
        "id": "YtFLkOBsdnJR",
        "outputId": "c62e1690-bee8-4cce-e66d-5e391323e951"
      },
      "source": [
        "pip install pytorch-tabnet"
      ],
      "execution_count": 2,
      "outputs": [
        {
          "output_type": "stream",
          "text": [
            "Collecting pytorch-tabnet\n",
            "  Downloading https://files.pythonhosted.org/packages/94/e5/2a808d611a5d44e3c997c0d07362c04a56c70002208e00aec9eee3d923b5/pytorch_tabnet-3.1.1-py3-none-any.whl\n",
            "Requirement already satisfied: tqdm<5.0,>=4.36 in /usr/local/lib/python3.7/dist-packages (from pytorch-tabnet) (4.41.1)\n",
            "Requirement already satisfied: numpy<2.0,>=1.17 in /usr/local/lib/python3.7/dist-packages (from pytorch-tabnet) (1.19.5)\n",
            "Requirement already satisfied: scipy>1.4 in /usr/local/lib/python3.7/dist-packages (from pytorch-tabnet) (1.4.1)\n",
            "Requirement already satisfied: scikit_learn>0.21 in /usr/local/lib/python3.7/dist-packages (from pytorch-tabnet) (0.22.2.post1)\n",
            "Requirement already satisfied: torch<2.0,>=1.2 in /usr/local/lib/python3.7/dist-packages (from pytorch-tabnet) (1.8.0+cu101)\n",
            "Requirement already satisfied: joblib>=0.11 in /usr/local/lib/python3.7/dist-packages (from scikit_learn>0.21->pytorch-tabnet) (1.0.1)\n",
            "Requirement already satisfied: typing-extensions in /usr/local/lib/python3.7/dist-packages (from torch<2.0,>=1.2->pytorch-tabnet) (3.7.4.3)\n",
            "Installing collected packages: pytorch-tabnet\n",
            "Successfully installed pytorch-tabnet-3.1.1\n"
          ],
          "name": "stdout"
        }
      ]
    },
    {
      "cell_type": "code",
      "metadata": {
        "id": "sCLtYHFqwmod"
      },
      "source": [
        "import numpy as np\n",
        "import pandas as pd"
      ],
      "execution_count": 3,
      "outputs": []
    },
    {
      "cell_type": "code",
      "metadata": {
        "colab": {
          "base_uri": "https://localhost:8080/",
          "height": 17
        },
        "id": "B2lA0dgTwmib",
        "outputId": "bc43acbc-fd22-4f71-c01c-148cf2f10625"
      },
      "source": [
        "import seaborn as sns\n",
        "import matplotlib.pyplot as plt\n",
        "\n",
        "import plotly.offline as py\n",
        "color = sns.color_palette()\n",
        "import plotly.graph_objs as go\n",
        "py.init_notebook_mode(connected=True)\n",
        "import plotly.tools as tls\n",
        "\n",
        "%matplotlib inline"
      ],
      "execution_count": 4,
      "outputs": [
        {
          "output_type": "display_data",
          "data": {
            "text/html": [
              "        <script type=\"text/javascript\">\n",
              "        window.PlotlyConfig = {MathJaxConfig: 'local'};\n",
              "        if (window.MathJax) {MathJax.Hub.Config({SVG: {font: \"STIX-Web\"}});}\n",
              "        if (typeof require !== 'undefined') {\n",
              "        require.undef(\"plotly\");\n",
              "        requirejs.config({\n",
              "            paths: {\n",
              "                'plotly': ['https://cdn.plot.ly/plotly-latest.min']\n",
              "            }\n",
              "        });\n",
              "        require(['plotly'], function(Plotly) {\n",
              "            window._Plotly = Plotly;\n",
              "        });\n",
              "        }\n",
              "        </script>\n",
              "        "
            ]
          },
          "metadata": {
            "tags": []
          }
        }
      ]
    },
    {
      "cell_type": "code",
      "metadata": {
        "id": "XVxxcXZGwmdb"
      },
      "source": [
        "from sklearn.preprocessing import RobustScaler\n",
        "from sklearn.decomposition import PCA\n",
        "from sklearn.metrics import classification_report, confusion_matrix, accuracy_score, f1_score, roc_auc_score \n",
        "from sklearn.model_selection import train_test_split, StratifiedKFold\n",
        "from sklearn.ensemble import RandomForestClassifier, AdaBoostClassifier, GradientBoostingClassifier\n",
        "import joblib\n",
        "from tqdm.notebook import tqdm\n",
        "\n",
        "from pytorch_tabnet.tab_model import TabNetClassifier"
      ],
      "execution_count": 5,
      "outputs": []
    },
    {
      "cell_type": "markdown",
      "metadata": {
        "id": "Hdeojo5eOdox"
      },
      "source": [
        "Подгружаем данные из SDSS обзора, которые были получены: http://skyserver.sdss.org/CasJobs/mydbcontent.aspx?ObjName=SpecPhotoAll&ObjType=TABLE&context=DR16&type=normal \r\n",
        "\r\n",
        "Здесь уже выполнены следующие преобразования:\r\n",
        "\r\n",
        "1) Удалены строчки с разряженными данными (где отсутствуют интересующие нас фотометрические признаки), выбросы, удалены не интересующие нас признаки\r\n",
        "\r\n",
        "2) Удалены дубрирующиеся данные\r\n",
        "\r\n",
        "3) Объединены основные спектральные классы звезд "
      ]
    },
    {
      "cell_type": "code",
      "metadata": {
        "colab": {
          "base_uri": "https://localhost:8080/",
          "height": 218
        },
        "id": "BnqT-ICVwjqY",
        "outputId": "2d363e6d-ab3e-473d-9238-b965685b82a9"
      },
      "source": [
        "df = pd.read_csv('/content/drive/MyDrive/Научная работа/Nauch/Результат/data/df_done_sub.csv') #выборка с уже объединеными подклассами звезд \n",
        "df.head()"
      ],
      "execution_count": 6,
      "outputs": [
        {
          "output_type": "execute_result",
          "data": {
            "text/html": [
              "<div>\n",
              "<style scoped>\n",
              "    .dataframe tbody tr th:only-of-type {\n",
              "        vertical-align: middle;\n",
              "    }\n",
              "\n",
              "    .dataframe tbody tr th {\n",
              "        vertical-align: top;\n",
              "    }\n",
              "\n",
              "    .dataframe thead th {\n",
              "        text-align: right;\n",
              "    }\n",
              "</style>\n",
              "<table border=\"1\" class=\"dataframe\">\n",
              "  <thead>\n",
              "    <tr style=\"text-align: right;\">\n",
              "      <th></th>\n",
              "      <th>objID</th>\n",
              "      <th>ra</th>\n",
              "      <th>dec</th>\n",
              "      <th>z</th>\n",
              "      <th>zErr</th>\n",
              "      <th>class</th>\n",
              "      <th>subClass</th>\n",
              "      <th>psfMag_u</th>\n",
              "      <th>psfMag_g</th>\n",
              "      <th>psfMag_r</th>\n",
              "      <th>psfMag_i</th>\n",
              "      <th>psfMag_z</th>\n",
              "      <th>cModelMag_u</th>\n",
              "      <th>cModelMag_g</th>\n",
              "      <th>cModelMag_r</th>\n",
              "      <th>cModelMag_i</th>\n",
              "      <th>cModelMag_z</th>\n",
              "    </tr>\n",
              "  </thead>\n",
              "  <tbody>\n",
              "    <tr>\n",
              "      <th>0</th>\n",
              "      <td>1237679341106758387</td>\n",
              "      <td>37.470142</td>\n",
              "      <td>-5.554778</td>\n",
              "      <td>0.785255</td>\n",
              "      <td>0.000138</td>\n",
              "      <td>GALAXY</td>\n",
              "      <td>NaN</td>\n",
              "      <td>23.38412</td>\n",
              "      <td>23.00183</td>\n",
              "      <td>22.67571</td>\n",
              "      <td>21.95927</td>\n",
              "      <td>21.39581</td>\n",
              "      <td>20.01718</td>\n",
              "      <td>21.90474</td>\n",
              "      <td>21.99600</td>\n",
              "      <td>21.05722</td>\n",
              "      <td>20.29795</td>\n",
              "    </tr>\n",
              "    <tr>\n",
              "      <th>1</th>\n",
              "      <td>1237679341106757929</td>\n",
              "      <td>37.431501</td>\n",
              "      <td>-5.600435</td>\n",
              "      <td>1.285837</td>\n",
              "      <td>3.473993</td>\n",
              "      <td>QSO</td>\n",
              "      <td>NaN</td>\n",
              "      <td>22.52914</td>\n",
              "      <td>23.78679</td>\n",
              "      <td>23.21358</td>\n",
              "      <td>22.17294</td>\n",
              "      <td>21.80350</td>\n",
              "      <td>21.23949</td>\n",
              "      <td>20.26025</td>\n",
              "      <td>22.12909</td>\n",
              "      <td>21.14929</td>\n",
              "      <td>20.66354</td>\n",
              "    </tr>\n",
              "    <tr>\n",
              "      <th>2</th>\n",
              "      <td>1237679341106758149</td>\n",
              "      <td>37.388988</td>\n",
              "      <td>-5.556329</td>\n",
              "      <td>0.779955</td>\n",
              "      <td>0.000054</td>\n",
              "      <td>GALAXY</td>\n",
              "      <td>NaN</td>\n",
              "      <td>25.44541</td>\n",
              "      <td>23.13342</td>\n",
              "      <td>23.57675</td>\n",
              "      <td>24.34838</td>\n",
              "      <td>22.31492</td>\n",
              "      <td>20.38550</td>\n",
              "      <td>22.09762</td>\n",
              "      <td>23.74675</td>\n",
              "      <td>24.19759</td>\n",
              "      <td>20.62257</td>\n",
              "    </tr>\n",
              "    <tr>\n",
              "      <th>3</th>\n",
              "      <td>1237679440426172681</td>\n",
              "      <td>37.327114</td>\n",
              "      <td>-5.485252</td>\n",
              "      <td>0.714883</td>\n",
              "      <td>0.000028</td>\n",
              "      <td>GALAXY</td>\n",
              "      <td>NaN</td>\n",
              "      <td>25.43466</td>\n",
              "      <td>23.13782</td>\n",
              "      <td>23.31316</td>\n",
              "      <td>22.53812</td>\n",
              "      <td>22.60905</td>\n",
              "      <td>25.45580</td>\n",
              "      <td>22.96513</td>\n",
              "      <td>23.37321</td>\n",
              "      <td>22.59266</td>\n",
              "      <td>22.64923</td>\n",
              "    </tr>\n",
              "    <tr>\n",
              "      <th>4</th>\n",
              "      <td>1237679341106692861</td>\n",
              "      <td>37.315868</td>\n",
              "      <td>-5.519308</td>\n",
              "      <td>0.316563</td>\n",
              "      <td>0.000031</td>\n",
              "      <td>GALAXY</td>\n",
              "      <td>NaN</td>\n",
              "      <td>23.17536</td>\n",
              "      <td>21.34756</td>\n",
              "      <td>20.35171</td>\n",
              "      <td>20.05924</td>\n",
              "      <td>19.64511</td>\n",
              "      <td>21.14052</td>\n",
              "      <td>20.62957</td>\n",
              "      <td>19.60872</td>\n",
              "      <td>19.07587</td>\n",
              "      <td>18.90757</td>\n",
              "    </tr>\n",
              "  </tbody>\n",
              "</table>\n",
              "</div>"
            ],
            "text/plain": [
              "                 objID         ra  ...  cModelMag_i  cModelMag_z\n",
              "0  1237679341106758387  37.470142  ...     21.05722     20.29795\n",
              "1  1237679341106757929  37.431501  ...     21.14929     20.66354\n",
              "2  1237679341106758149  37.388988  ...     24.19759     20.62257\n",
              "3  1237679440426172681  37.327114  ...     22.59266     22.64923\n",
              "4  1237679341106692861  37.315868  ...     19.07587     18.90757\n",
              "\n",
              "[5 rows x 17 columns]"
            ]
          },
          "metadata": {
            "tags": []
          },
          "execution_count": 6
        }
      ]
    },
    {
      "cell_type": "code",
      "metadata": {
        "colab": {
          "base_uri": "https://localhost:8080/"
        },
        "id": "bC8GpElg1QaO",
        "outputId": "bc9d4848-c50a-4e56-f9fd-22958544176d"
      },
      "source": [
        "df.shape"
      ],
      "execution_count": 7,
      "outputs": [
        {
          "output_type": "execute_result",
          "data": {
            "text/plain": [
              "(4614588, 17)"
            ]
          },
          "metadata": {
            "tags": []
          },
          "execution_count": 7
        }
      ]
    },
    {
      "cell_type": "code",
      "metadata": {
        "colab": {
          "base_uri": "https://localhost:8080/",
          "height": 325
        },
        "id": "CtRsazVGQRAn",
        "outputId": "5345cb69-976d-4fdf-ff55-4e5cf113cecb"
      },
      "source": [
        "df.describe()"
      ],
      "execution_count": 8,
      "outputs": [
        {
          "output_type": "execute_result",
          "data": {
            "text/html": [
              "<div>\n",
              "<style scoped>\n",
              "    .dataframe tbody tr th:only-of-type {\n",
              "        vertical-align: middle;\n",
              "    }\n",
              "\n",
              "    .dataframe tbody tr th {\n",
              "        vertical-align: top;\n",
              "    }\n",
              "\n",
              "    .dataframe thead th {\n",
              "        text-align: right;\n",
              "    }\n",
              "</style>\n",
              "<table border=\"1\" class=\"dataframe\">\n",
              "  <thead>\n",
              "    <tr style=\"text-align: right;\">\n",
              "      <th></th>\n",
              "      <th>objID</th>\n",
              "      <th>ra</th>\n",
              "      <th>dec</th>\n",
              "      <th>z</th>\n",
              "      <th>zErr</th>\n",
              "      <th>psfMag_u</th>\n",
              "      <th>psfMag_g</th>\n",
              "      <th>psfMag_r</th>\n",
              "      <th>psfMag_i</th>\n",
              "      <th>psfMag_z</th>\n",
              "      <th>cModelMag_u</th>\n",
              "      <th>cModelMag_g</th>\n",
              "      <th>cModelMag_r</th>\n",
              "      <th>cModelMag_i</th>\n",
              "      <th>cModelMag_z</th>\n",
              "    </tr>\n",
              "  </thead>\n",
              "  <tbody>\n",
              "    <tr>\n",
              "      <th>count</th>\n",
              "      <td>4.614588e+06</td>\n",
              "      <td>4.614588e+06</td>\n",
              "      <td>4.614588e+06</td>\n",
              "      <td>4.614588e+06</td>\n",
              "      <td>4.614588e+06</td>\n",
              "      <td>4.614588e+06</td>\n",
              "      <td>4.614588e+06</td>\n",
              "      <td>4.614588e+06</td>\n",
              "      <td>4.614588e+06</td>\n",
              "      <td>4.614588e+06</td>\n",
              "      <td>4.614588e+06</td>\n",
              "      <td>4.614588e+06</td>\n",
              "      <td>4.614588e+06</td>\n",
              "      <td>4.614588e+06</td>\n",
              "      <td>4.614588e+06</td>\n",
              "    </tr>\n",
              "    <tr>\n",
              "      <th>mean</th>\n",
              "      <td>1.237665e+18</td>\n",
              "      <td>1.728012e+02</td>\n",
              "      <td>2.406577e+01</td>\n",
              "      <td>5.773699e-01</td>\n",
              "      <td>5.854844e-02</td>\n",
              "      <td>2.240051e+01</td>\n",
              "      <td>2.122111e+01</td>\n",
              "      <td>2.029666e+01</td>\n",
              "      <td>1.974275e+01</td>\n",
              "      <td>1.938488e+01</td>\n",
              "      <td>2.136179e+01</td>\n",
              "      <td>2.051423e+01</td>\n",
              "      <td>1.961589e+01</td>\n",
              "      <td>1.905677e+01</td>\n",
              "      <td>1.868825e+01</td>\n",
              "    </tr>\n",
              "    <tr>\n",
              "      <th>std</th>\n",
              "      <td>8.417649e+12</td>\n",
              "      <td>9.444408e+01</td>\n",
              "      <td>1.910161e+01</td>\n",
              "      <td>7.297733e-01</td>\n",
              "      <td>1.930832e+01</td>\n",
              "      <td>1.954846e+00</td>\n",
              "      <td>1.940199e+00</td>\n",
              "      <td>1.713228e+00</td>\n",
              "      <td>1.552831e+00</td>\n",
              "      <td>1.512268e+00</td>\n",
              "      <td>2.117606e+00</td>\n",
              "      <td>1.993697e+00</td>\n",
              "      <td>1.852755e+00</td>\n",
              "      <td>1.742048e+00</td>\n",
              "      <td>1.677772e+00</td>\n",
              "    </tr>\n",
              "    <tr>\n",
              "      <th>min</th>\n",
              "      <td>1.237646e+18</td>\n",
              "      <td>9.090791e-05</td>\n",
              "      <td>-1.970271e+01</td>\n",
              "      <td>-1.144691e-02</td>\n",
              "      <td>-6.000000e+00</td>\n",
              "      <td>6.752299e+00</td>\n",
              "      <td>7.464891e+00</td>\n",
              "      <td>8.449972e+00</td>\n",
              "      <td>7.611034e+00</td>\n",
              "      <td>6.444011e+00</td>\n",
              "      <td>1.020505e+01</td>\n",
              "      <td>1.043573e+01</td>\n",
              "      <td>1.033073e+01</td>\n",
              "      <td>1.027642e+01</td>\n",
              "      <td>8.829096e+00</td>\n",
              "    </tr>\n",
              "    <tr>\n",
              "      <th>25%</th>\n",
              "      <td>1.237659e+18</td>\n",
              "      <td>1.271012e+02</td>\n",
              "      <td>6.893257e+00</td>\n",
              "      <td>6.228666e-02</td>\n",
              "      <td>2.494150e-05</td>\n",
              "      <td>2.105644e+01</td>\n",
              "      <td>1.980771e+01</td>\n",
              "      <td>1.908989e+01</td>\n",
              "      <td>1.871800e+01</td>\n",
              "      <td>1.840915e+01</td>\n",
              "      <td>1.987525e+01</td>\n",
              "      <td>1.888042e+01</td>\n",
              "      <td>1.805814e+01</td>\n",
              "      <td>1.767278e+01</td>\n",
              "      <td>1.742591e+01</td>\n",
              "    </tr>\n",
              "    <tr>\n",
              "      <th>50%</th>\n",
              "      <td>1.237664e+18</td>\n",
              "      <td>1.741648e+02</td>\n",
              "      <td>2.352539e+01</td>\n",
              "      <td>4.268281e-01</td>\n",
              "      <td>9.249016e-05</td>\n",
              "      <td>2.259238e+01</td>\n",
              "      <td>2.147956e+01</td>\n",
              "      <td>2.063976e+01</td>\n",
              "      <td>2.007801e+01</td>\n",
              "      <td>1.967025e+01</td>\n",
              "      <td>2.116473e+01</td>\n",
              "      <td>2.097991e+01</td>\n",
              "      <td>2.011406e+01</td>\n",
              "      <td>1.942030e+01</td>\n",
              "      <td>1.898551e+01</td>\n",
              "    </tr>\n",
              "    <tr>\n",
              "      <th>75%</th>\n",
              "      <td>1.237668e+18</td>\n",
              "      <td>2.271129e+02</td>\n",
              "      <td>3.864779e+01</td>\n",
              "      <td>7.037950e-01</td>\n",
              "      <td>1.989703e-04</td>\n",
              "      <td>2.390630e+01</td>\n",
              "      <td>2.277750e+01</td>\n",
              "      <td>2.155568e+01</td>\n",
              "      <td>2.080758e+01</td>\n",
              "      <td>2.034762e+01</td>\n",
              "      <td>2.250614e+01</td>\n",
              "      <td>2.198993e+01</td>\n",
              "      <td>2.102539e+01</td>\n",
              "      <td>2.035791e+01</td>\n",
              "      <td>1.984414e+01</td>\n",
              "    </tr>\n",
              "    <tr>\n",
              "      <th>max</th>\n",
              "      <td>1.237681e+18</td>\n",
              "      <td>3.599999e+02</td>\n",
              "      <td>8.485214e+01</td>\n",
              "      <td>7.051930e+00</td>\n",
              "      <td>3.068822e+04</td>\n",
              "      <td>3.192045e+01</td>\n",
              "      <td>3.032868e+01</td>\n",
              "      <td>2.971638e+01</td>\n",
              "      <td>2.995165e+01</td>\n",
              "      <td>2.748061e+01</td>\n",
              "      <td>3.428534e+01</td>\n",
              "      <td>3.330923e+01</td>\n",
              "      <td>3.088891e+01</td>\n",
              "      <td>3.268382e+01</td>\n",
              "      <td>3.119199e+01</td>\n",
              "    </tr>\n",
              "  </tbody>\n",
              "</table>\n",
              "</div>"
            ],
            "text/plain": [
              "              objID            ra  ...   cModelMag_i   cModelMag_z\n",
              "count  4.614588e+06  4.614588e+06  ...  4.614588e+06  4.614588e+06\n",
              "mean   1.237665e+18  1.728012e+02  ...  1.905677e+01  1.868825e+01\n",
              "std    8.417649e+12  9.444408e+01  ...  1.742048e+00  1.677772e+00\n",
              "min    1.237646e+18  9.090791e-05  ...  1.027642e+01  8.829096e+00\n",
              "25%    1.237659e+18  1.271012e+02  ...  1.767278e+01  1.742591e+01\n",
              "50%    1.237664e+18  1.741648e+02  ...  1.942030e+01  1.898551e+01\n",
              "75%    1.237668e+18  2.271129e+02  ...  2.035791e+01  1.984414e+01\n",
              "max    1.237681e+18  3.599999e+02  ...  3.268382e+01  3.119199e+01\n",
              "\n",
              "[8 rows x 15 columns]"
            ]
          },
          "metadata": {
            "tags": []
          },
          "execution_count": 8
        }
      ]
    },
    {
      "cell_type": "code",
      "metadata": {
        "colab": {
          "base_uri": "https://localhost:8080/",
          "height": 417
        },
        "id": "n-WAw8RPQafN",
        "outputId": "b9980a0f-e616-4eee-f499-0fff6123e965"
      },
      "source": [
        "sns.set_style('darkgrid')\r\n",
        "plt.figure(figsize = (8, 6))\r\n",
        "sns.countplot(x=df['class'], palette = 'magma')"
      ],
      "execution_count": 9,
      "outputs": [
        {
          "output_type": "execute_result",
          "data": {
            "text/plain": [
              "<matplotlib.axes._subplots.AxesSubplot at 0x7f6784fd8690>"
            ]
          },
          "metadata": {
            "tags": []
          },
          "execution_count": 9
        },
        {
          "output_type": "display_data",
          "data": {
            "image/png": "[encoded data removed]",
            "text/plain": [
              "<Figure size 576x432 with 1 Axes>"
            ]
          },
          "metadata": {
            "tags": []
          }
        }
      ]
    },
    {
      "cell_type": "markdown",
      "metadata": {
        "id": "hc-OZpaiREcE"
      },
      "source": [
        "# Подготовка данных для классификатора"
      ]
    },
    {
      "cell_type": "code",
      "metadata": {
        "id": "8Krr4en2uzv-"
      },
      "source": [
        "target = 'class'\r\n",
        "\r\n",
        "add_columns = ['subClass', 'objID', 'z', 'zErr', 'ra', 'dec']\r\n",
        "\r\n",
        "photo_columns = ['psfMag_u',\t'psfMag_g',\t'psfMag_r',\t'psfMag_i',\t'psfMag_z',\r\n",
        "                 'cModelMag_u',\t'cModelMag_g',\t'cModelMag_r',\t'cModelMag_i',\t'cModelMag_z']\r\n",
        "\r\n",
        "feature_columns = (\r\n",
        "    photo_columns + add_columns + [target])"
      ],
      "execution_count": 10,
      "outputs": []
    },
    {
      "cell_type": "code",
      "metadata": {
        "id": "7PHJgkvGWusF"
      },
      "source": [
        "labels = {'STAR':1, 'GALAXY':2, 'QSO':3}\r\n",
        "df.replace({target:labels}, inplace = True)"
      ],
      "execution_count": 11,
      "outputs": []
    },
    {
      "cell_type": "code",
      "metadata": {
        "colab": {
          "base_uri": "https://localhost:8080/"
        },
        "id": "hDrQ2b13Wupd",
        "outputId": "729eb620-21ba-46e8-c96c-a9e348d198c0"
      },
      "source": [
        "X =  df.drop(add_columns + [target], axis = 1).values\r\n",
        "y = df[target].values\r\n",
        "X.shape"
      ],
      "execution_count": 12,
      "outputs": [
        {
          "output_type": "execute_result",
          "data": {
            "text/plain": [
              "(4614588, 10)"
            ]
          },
          "metadata": {
            "tags": []
          },
          "execution_count": 12
        }
      ]
    },
    {
      "cell_type": "code",
      "metadata": {
        "id": "yer4R5LMyP0m"
      },
      "source": [
        "def data_preparation(X, y, test_size = 0.8):\r\n",
        "\r\n",
        "    X1_train, X1_test, y1_train, y1_test = train_test_split(X[y==1], y[y==1], test_size=test_size, random_state = 43)\r\n",
        "    X2_train, X2_test, y2_train, y2_test = train_test_split(X[y==2], y[y==2], test_size=test_size, random_state = 43)\r\n",
        "    X3_train, X3_test, y3_train, y3_test = train_test_split(X[y==3], y[y==3], test_size=test_size, random_state = 43)\r\n",
        "    \r\n",
        "    count = 5000\r\n",
        "    count1 = 5000\r\n",
        "\r\n",
        "    X_train, X_test = np.concatenate((X1_train[:count], X2_train[:count], X3_train[:count])), np.concatenate((X1_test[:count1], X2_test[:count1], X3_test[:count1]))\r\n",
        "    y_train, y_test = np.concatenate((y1_train[:count], y2_train[:count], y3_train[:count])), np.concatenate((y1_test[:count1], y2_test[:count1], y3_test[:count1]))\r\n",
        "    \r\n",
        "\r\n",
        "    return [X_train, X_test, y_train, y_test, X1_train, X1_test, y1_train, y1_test, X2_train, X2_test, y2_train, y2_test, X3_train, X3_test, y3_train, y3_test]"
      ],
      "execution_count": 13,
      "outputs": []
    },
    {
      "cell_type": "markdown",
      "metadata": {
        "id": "V1jwFbhmzjbH"
      },
      "source": [
        "# Аугментация данных "
      ]
    },
    {
      "cell_type": "markdown",
      "metadata": {
        "id": "fCyS5CWW24Ee"
      },
      "source": [
        "Полиномиальная "
      ]
    },
    {
      "cell_type": "code",
      "metadata": {
        "id": "V5iXvffL23o6"
      },
      "source": [
        "from sklearn.preprocessing import PolynomialFeatures\r\n",
        "poly = PolynomialFeatures(2, include_bias=False)\r\n",
        "X = poly.fit_transform(X)"
      ],
      "execution_count": null,
      "outputs": []
    },
    {
      "cell_type": "code",
      "metadata": {
        "colab": {
          "base_uri": "https://localhost:8080/"
        },
        "id": "FeYZbaCqznej",
        "outputId": "31cc7217-a39a-4148-a55d-5275fa6853f6"
      },
      "source": [
        "X, y"
      ],
      "execution_count": null,
      "outputs": [
        {
          "output_type": "execute_result",
          "data": {
            "text/plain": [
              "(array([[ 23.38412   ,  23.00183   ,  22.67571   , ..., 443.40651413,\n",
              "         427.4183987 , 412.0067742 ],\n",
              "        [ 22.52914   ,  23.78679   ,  23.21358   , ..., 447.2924675 ,\n",
              "         437.01919989, 426.98188533],\n",
              "        [ 25.44541   ,  23.13342   ,  23.57675   , ..., 585.52336181,\n",
              "         499.01649361, 425.2903934 ],\n",
              "        ...,\n",
              "        [ 23.02686   ,  23.20499   ,  23.40832   , ..., 481.5694192 ,\n",
              "         462.66209374, 444.49710561],\n",
              "        [ 22.33769   ,  22.44495   ,  22.31467   , ..., 450.38771508,\n",
              "         435.51127918, 421.12621625],\n",
              "        [ 22.66886   ,  22.29422   ,  21.80799   , ..., 435.46966777,\n",
              "         435.24951132, 435.02946617]]), array([2, 3, 2, ..., 3, 2, 2]))"
            ]
          },
          "metadata": {
            "tags": []
          },
          "execution_count": 15
        }
      ]
    },
    {
      "cell_type": "markdown",
      "metadata": {
        "id": "kukvztiNAGVi"
      },
      "source": [
        "Линейная комбинация"
      ]
    },
    {
      "cell_type": "code",
      "metadata": {
        "id": "XGUOEjydAI0j"
      },
      "source": [
        "stop = 10 #X.shape[1]\r\n",
        "for i in range(stop):\r\n",
        "  for j in range(i+1, stop):\r\n",
        "    X = np.concatenate((X, np.array([X[:, i] + X[:, j]]).T, np.array([X[:, i] - X[:, j]]).T), axis=1)"
      ],
      "execution_count": null,
      "outputs": []
    },
    {
      "cell_type": "code",
      "metadata": {
        "colab": {
          "base_uri": "https://localhost:8080/"
        },
        "id": "YaP_SfadCIQD",
        "outputId": "089b42a6-3c57-4c4d-c729-0319def460f8"
      },
      "source": [
        "X.shape, y"
      ],
      "execution_count": null,
      "outputs": [
        {
          "output_type": "execute_result",
          "data": {
            "text/plain": [
              "((4614588, 100), array([2, 3, 2, ..., 3, 2, 2]))"
            ]
          },
          "metadata": {
            "tags": []
          },
          "execution_count": 16
        }
      ]
    },
    {
      "cell_type": "markdown",
      "metadata": {
        "id": "umLXhKKLR2Uo"
      },
      "source": [
        "# Классификатор Звезд, Галактик и Квазаров"
      ]
    },
    {
      "cell_type": "code",
      "metadata": {
        "id": "EeLm9XEC7z88"
      },
      "source": [
        "data_split = data_preparation(X, y)\r\n",
        "\r\n",
        "X_train, X_test = data_split[:2]\r\n",
        "y_train, y_test = data_split[2:4]\r\n",
        "\r\n",
        "count = 5000\r\n",
        "\r\n",
        "X1_train, X1_test = data_split[4:6]\r\n",
        "y1_train, y1_test = data_split[6:8]\r\n",
        "X2_train, X2_test = data_split[8:10] \r\n",
        "y2_train, y2_test = data_split[10:12]\r\n",
        "X3_train, X3_test = data_split[12:14]\r\n",
        "y3_train, y3_test = data_split[14:16]\r\n",
        "\r\n",
        "X_train_pred = np.concatenate((X1_train[count : ], X2_train[count : ], X3_train[count : ])) ###############\r\n",
        "X_val_pred   = np.concatenate((X1_test[count : 2*count], X2_test[count : 2*count], X3_test[count : 2*count]))\r\n",
        "X_valid      = np.concatenate((X1_test[2*count : 3*count], X2_test[2*count : 3*count], X3_test[2*count : 3*count]))\r\n",
        "y_valid      = np.concatenate((y1_test[2*count : 3*count], y2_test[2*count : 3*count], y3_test[2*count : 3*count]))"
      ],
      "execution_count": 14,
      "outputs": []
    },
    {
      "cell_type": "code",
      "metadata": {
        "colab": {
          "base_uri": "https://localhost:8080/"
        },
        "id": "x4LVRpUMZ2V0",
        "outputId": "11c55c89-8aa7-4910-d25b-dca8e567de14"
      },
      "source": [
        "X_train_pred, X_val_pred"
      ],
      "execution_count": 15,
      "outputs": [
        {
          "output_type": "execute_result",
          "data": {
            "text/plain": [
              "(array([[20.01577, 18.98161, 18.48063, ..., 18.48297, 18.2292 , 18.14196],\n",
              "        [23.75811, 21.66081, 20.09101, ..., 20.06675, 18.28613, 17.2813 ],\n",
              "        [20.93509, 19.61262, 19.09285, ..., 19.09805, 18.89025, 18.72819],\n",
              "        ...,\n",
              "        [20.53937, 20.08524, 19.73854, ..., 19.64339, 19.24827, 18.87562],\n",
              "        [20.87994, 20.81043, 20.69038, ..., 20.682  , 20.39428, 20.19921],\n",
              "        [20.47852, 20.34384, 19.88279, ..., 19.86512, 19.64843, 19.66167]]),\n",
              " array([[24.47507, 24.71139, 22.0505 , ..., 22.00879, 20.52096, 19.64353],\n",
              "        [19.69402, 18.8488 , 18.54037, ..., 18.54732, 18.4254 , 18.35522],\n",
              "        [24.5791 , 21.88314, 20.49204, ..., 19.79258, 19.21822, 18.80154],\n",
              "        ...,\n",
              "        [20.09785, 20.06096, 19.78353, ..., 19.78175, 19.79586, 20.09753],\n",
              "        [20.97653, 21.22692, 20.74972, ..., 20.71236, 20.70133, 20.39597],\n",
              "        [20.7553 , 20.5932 , 20.43263, ..., 20.4305 , 20.3238 , 20.12555]]))"
            ]
          },
          "metadata": {
            "tags": []
          },
          "execution_count": 15
        }
      ]
    },
    {
      "cell_type": "code",
      "metadata": {
        "colab": {
          "base_uri": "https://localhost:8080/",
          "height": 391
        },
        "id": "KQ82b9Zv7_O6",
        "outputId": "442b9d60-64af-4ed6-d4d8-ba942393f0e6"
      },
      "source": [
        "fig, (ax1, ax2, ax3) = plt.subplots(ncols = 3, figsize = (24, 6))\n",
        "sns.histplot(X1_train[:, 7], ax = ax1, bins = 30, color = 'g', element=\"step\")\n",
        "sns.histplot(X2_train[:, 7], ax = ax2, bins = 30, color = 'r', element=\"step\")\n",
        "sns.histplot(X3_train[:, 7], ax = ax3, bins = 30, color = 'b', element=\"step\")"
      ],
      "execution_count": null,
      "outputs": [
        {
          "output_type": "execute_result",
          "data": {
            "text/plain": [
              "<matplotlib.axes._subplots.AxesSubplot at 0x7fb8678bd050>"
            ]
          },
          "metadata": {
            "tags": []
          },
          "execution_count": 18
        },
        {
          "output_type": "display_data",
          "data": {
            "image/png": "[encoded data removed]",
            "text/plain": [
              "<Figure size 1728x432 with 3 Axes>"
            ]
          },
          "metadata": {
            "tags": []
          }
        }
      ]
    },
    {
      "cell_type": "markdown",
      "metadata": {
        "id": "Q-J8mGLb8hFv"
      },
      "source": [
        "# Подбор параметров"
      ]
    },
    {
      "cell_type": "markdown",
      "metadata": {
        "id": "amR7PXJo0qnE"
      },
      "source": [
        "# Random Forest and Gradient boosting"
      ]
    },
    {
      "cell_type": "markdown",
      "metadata": {
        "id": "qkdij2-o01Zv"
      },
      "source": [
        "Нормализация данных\r\n"
      ]
    },
    {
      "cell_type": "code",
      "metadata": {
        "id": "U0Y-Dmqj0_bt"
      },
      "source": [
        "robust = RobustScaler()\r\n",
        "\r\n",
        "X_train_norm = robust.fit_transform(X_train)\r\n",
        "X_test_norm = robust.transform(X_test)"
      ],
      "execution_count": null,
      "outputs": []
    },
    {
      "cell_type": "code",
      "metadata": {
        "id": "-w2n5DFp8kP2"
      },
      "source": [
        "from sklearn.model_selection import RandomizedSearchCV\r\n",
        "from sklearn.model_selection import KFold\r\n",
        "from lightgbm import LGBMClassifier\r\n",
        "\r\n",
        "\r\n",
        "lgb_class_params = {\r\n",
        "    'learning_rate':    np.arange(0.001, 0.1, 0.01),\r\n",
        "    'max_depth':        np.arange(1, 16, 1, dtype=int),\r\n",
        "    'min_child_weight': np.arange(1, 8, 1, dtype=int),\r\n",
        "    'colsample_bytree': np.arange(0.3, 0.8, 0.1),\r\n",
        "    #'subsample':        np.arange(0.8, 1, 0.1),\r\n",
        "    'num_leaves' :      np.array([5, 10, 31, 60, 80, 100]),\r\n",
        "    'n_estimators':     np.array([700, 900, 1000])\r\n",
        "}\r\n",
        "\r\n",
        "kf = KFold(n_splits=5)\r\n",
        "\r\n",
        "LGBM = RandomizedSearchCV(LGBMClassifier(), lgb_class_params, random_state=0, cv=kf)\r\n",
        "search = LGBM.fit(X_train_norm, y_train)"
      ],
      "execution_count": null,
      "outputs": []
    },
    {
      "cell_type": "code",
      "metadata": {
        "colab": {
          "base_uri": "https://localhost:8080/"
        },
        "id": "ZQ6b2DCF_y3S",
        "outputId": "0235f6b4-235d-4328-856b-2a01a1cf4515"
      },
      "source": [
        "search.best_params_"
      ],
      "execution_count": null,
      "outputs": [
        {
          "output_type": "execute_result",
          "data": {
            "text/plain": [
              "{'colsample_bytree': 0.7000000000000002,\n",
              " 'learning_rate': 0.020999999999999998,\n",
              " 'max_depth': 9,\n",
              " 'min_child_weight': 5,\n",
              " 'n_estimators': 900,\n",
              " 'num_leaves': 100}"
            ]
          },
          "metadata": {
            "tags": []
          },
          "execution_count": 26
        }
      ]
    },
    {
      "cell_type": "code",
      "metadata": {
        "colab": {
          "base_uri": "https://localhost:8080/"
        },
        "id": "jkgndstqII5j",
        "outputId": "eb9eeadb-37ab-483d-f832-a8fecb659156"
      },
      "source": [
        "pred = search.predict(X_test_norm)#совместно  \r\n",
        "print('Classification Report: \\n', classification_report(y_test, pred))\r\n",
        "print('Confusion Matrix: \\n', confusion_matrix(y_test, pred))\r\n",
        "gb_train_acc = accuracy_score(y_train, search.predict(X_train_norm))\r\n",
        "print('Training Score: ', gb_train_acc)\r\n",
        "gb_test_acc =  accuracy_score(y_test, pred)\r\n",
        "print('Testing Score: ', gb_test_acc)"
      ],
      "execution_count": null,
      "outputs": [
        {
          "output_type": "stream",
          "text": [
            "Classification Report: \n",
            "               precision    recall  f1-score   support\n",
            "\n",
            "           1       0.89      0.86      0.88      5000\n",
            "           2       0.91      0.95      0.93      5000\n",
            "           3       0.86      0.85      0.85      5000\n",
            "\n",
            "    accuracy                           0.89     15000\n",
            "   macro avg       0.89      0.89      0.89     15000\n",
            "weighted avg       0.89      0.89      0.89     15000\n",
            "\n",
            "Confusion Matrix: \n",
            " [[4315  141  544]\n",
            " [  78 4766  156]\n",
            " [ 429  321 4250]]\n",
            "Training Score:  1.0\n",
            "Testing Score:  0.8887333333333334\n"
          ],
          "name": "stdout"
        }
      ]
    },
    {
      "cell_type": "code",
      "metadata": {
        "colab": {
          "base_uri": "https://localhost:8080/"
        },
        "id": "4sIoK5jM_-ce",
        "outputId": "7dabdba4-1ede-4b09-a5ed-d83580cc5370"
      },
      "source": [
        "pred = search.predict(X_test_norm)#с линейной комбинацией  \r\n",
        "print('Classification Report: \\n', classification_report(y_test, pred))\r\n",
        "print('Confusion Matrix: \\n', confusion_matrix(y_test, pred))\r\n",
        "gb_train_acc = accuracy_score(y_train, search.predict(X_train_norm))\r\n",
        "print('Training Score: ', gb_train_acc)\r\n",
        "gb_test_acc =  accuracy_score(y_test, pred)\r\n",
        "print('Testing Score: ', gb_test_acc)"
      ],
      "execution_count": null,
      "outputs": [
        {
          "output_type": "stream",
          "text": [
            "Classification Report: \n",
            "               precision    recall  f1-score   support\n",
            "\n",
            "           1       0.89      0.87      0.88      5000\n",
            "           2       0.91      0.95      0.93      5000\n",
            "           3       0.86      0.85      0.86      5000\n",
            "\n",
            "    accuracy                           0.89     15000\n",
            "   macro avg       0.89      0.89      0.89     15000\n",
            "weighted avg       0.89      0.89      0.89     15000\n",
            "\n",
            "Confusion Matrix: \n",
            " [[4326  140  534]\n",
            " [  83 4765  152]\n",
            " [ 435  313 4252]]\n",
            "Training Score:  0.9986666666666667\n",
            "Testing Score:  0.8895333333333333\n"
          ],
          "name": "stdout"
        }
      ]
    },
    {
      "cell_type": "code",
      "metadata": {
        "colab": {
          "base_uri": "https://localhost:8080/"
        },
        "id": "9W1zqAQDhhs2",
        "outputId": "d4bb88ab-f356-4a0f-daad-fb3b315a4334"
      },
      "source": [
        "gb = LGBMClassifier(**search.best_params_)\r\n",
        "gb.fit(X_train_norm, y_train)"
      ],
      "execution_count": null,
      "outputs": [
        {
          "output_type": "execute_result",
          "data": {
            "text/plain": [
              "LGBMClassifier(boosting_type='gbdt', class_weight=None,\n",
              "               colsample_bytree=0.7000000000000002, importance_type='split',\n",
              "               learning_rate=0.020999999999999998, max_depth=9,\n",
              "               min_child_samples=20, min_child_weight=5, min_split_gain=0.0,\n",
              "               n_estimators=900, n_jobs=-1, num_leaves=100, objective=None,\n",
              "               random_state=None, reg_alpha=0.0, reg_lambda=0.0, silent=True,\n",
              "               subsample=1.0, subsample_for_bin=200000, subsample_freq=0)"
            ]
          },
          "metadata": {
            "tags": []
          },
          "execution_count": 32
        }
      ]
    },
    {
      "cell_type": "code",
      "metadata": {
        "colab": {
          "base_uri": "https://localhost:8080/"
        },
        "id": "olqkJX9K9TEk",
        "outputId": "199660cc-6bc1-4a07-be77-69157c119d52"
      },
      "source": [
        "pred = search.predict(X_test_norm)#с полиномиальной аугментацией  \r\n",
        "print('Classification Report: \\n', classification_report(y_test, pred))\r\n",
        "print('Confusion Matrix: \\n', confusion_matrix(y_test, pred))\r\n",
        "gb_train_acc = accuracy_score(y_train, search.predict(X_train_norm))\r\n",
        "print('Training Score: ', gb_train_acc)\r\n",
        "gb_test_acc =  accuracy_score(y_test, pred)\r\n",
        "print('Testing Score: ', gb_test_acc)"
      ],
      "execution_count": null,
      "outputs": [
        {
          "output_type": "stream",
          "text": [
            "Classification Report: \n",
            "               precision    recall  f1-score   support\n",
            "\n",
            "           1       0.88      0.85      0.86      5000\n",
            "           2       0.91      0.94      0.93      5000\n",
            "           3       0.84      0.83      0.84      5000\n",
            "\n",
            "    accuracy                           0.88     15000\n",
            "   macro avg       0.88      0.88      0.88     15000\n",
            "weighted avg       0.88      0.88      0.88     15000\n",
            "\n",
            "Confusion Matrix: \n",
            " [[4245  154  601]\n",
            " [  90 4724  186]\n",
            " [ 510  316 4174]]\n",
            "Training Score:  0.9999333333333333\n",
            "Testing Score:  0.8762\n"
          ],
          "name": "stdout"
        }
      ]
    },
    {
      "cell_type": "code",
      "metadata": {
        "colab": {
          "base_uri": "https://localhost:8080/"
        },
        "id": "n9i9HDnbA3Gf",
        "outputId": "a912a5bd-be81-4655-96b4-8f3b958442f4"
      },
      "source": [
        "pred = search.predict(X_test_norm)#без аугментации \r\n",
        "print('Classification Report: \\n', classification_report(y_test, pred))\r\n",
        "print('Confusion Matrix: \\n', confusion_matrix(y_test, pred))\r\n",
        "gb_train_acc = accuracy_score(y_train, search.predict(X_train_norm))\r\n",
        "print('Training Score: ', gb_train_acc)\r\n",
        "gb_test_acc =  accuracy_score(y_test, pred)\r\n",
        "print('Testing Score: ', gb_test_acc)"
      ],
      "execution_count": null,
      "outputs": [
        {
          "output_type": "stream",
          "text": [
            "Classification Report: \n",
            "               precision    recall  f1-score   support\n",
            "\n",
            "           1       0.88      0.85      0.86      5000\n",
            "           2       0.91      0.94      0.92      5000\n",
            "           3       0.84      0.83      0.83      5000\n",
            "\n",
            "    accuracy                           0.87     15000\n",
            "   macro avg       0.87      0.87      0.87     15000\n",
            "weighted avg       0.87      0.87      0.87     15000\n",
            "\n",
            "Confusion Matrix: \n",
            " [[4234  151  615]\n",
            " [  93 4700  207]\n",
            " [ 510  323 4167]]\n",
            "Training Score:  0.9766\n",
            "Testing Score:  0.8734\n"
          ],
          "name": "stdout"
        }
      ]
    },
    {
      "cell_type": "code",
      "metadata": {
        "colab": {
          "base_uri": "https://localhost:8080/"
        },
        "id": "FJVsEKspMsi9",
        "outputId": "5198ef17-c3ac-46ff-d222-75ba5ef796f7"
      },
      "source": [
        "rf = RandomForestClassifier(n_estimators=300, random_state=42, max_features=5, min_samples_leaf=1) \r\n",
        "rf.fit(X_train_norm, y_train)"
      ],
      "execution_count": null,
      "outputs": [
        {
          "output_type": "execute_result",
          "data": {
            "text/plain": [
              "RandomForestClassifier(bootstrap=True, ccp_alpha=0.0, class_weight=None,\n",
              "                       criterion='gini', max_depth=None, max_features=5,\n",
              "                       max_leaf_nodes=None, max_samples=None,\n",
              "                       min_impurity_decrease=0.0, min_impurity_split=None,\n",
              "                       min_samples_leaf=1, min_samples_split=2,\n",
              "                       min_weight_fraction_leaf=0.0, n_estimators=300,\n",
              "                       n_jobs=None, oob_score=False, random_state=42, verbose=0,\n",
              "                       warm_start=False)"
            ]
          },
          "metadata": {
            "tags": []
          },
          "execution_count": 18
        }
      ]
    },
    {
      "cell_type": "code",
      "metadata": {
        "colab": {
          "base_uri": "https://localhost:8080/"
        },
        "id": "osFHXuATjDm1",
        "outputId": "6128ecb1-e790-4402-fb64-f473a92a03a2"
      },
      "source": [
        "pred = rf.predict(X_test_norm)\r\n",
        "print('Classification Report: \\n', classification_report(y_test, pred))\r\n",
        "print('Confusion Matrix: \\n', confusion_matrix(y_test, pred))\r\n",
        "rf_train_acc = accuracy_score(y_train, rf.predict(X_train_norm))\r\n",
        "print('Training Score: ', rf_train_acc)\r\n",
        "rf_test_acc =  accuracy_score(y_test, pred)\r\n",
        "print('Testing Score: ', rf_test_acc)"
      ],
      "execution_count": null,
      "outputs": [
        {
          "output_type": "stream",
          "text": [
            "Classification Report: \n",
            "               precision    recall  f1-score   support\n",
            "\n",
            "           1       0.88      0.85      0.87      5000\n",
            "           2       0.91      0.94      0.93      5000\n",
            "           3       0.84      0.84      0.84      5000\n",
            "\n",
            "    accuracy                           0.88     15000\n",
            "   macro avg       0.88      0.88      0.88     15000\n",
            "weighted avg       0.88      0.88      0.88     15000\n",
            "\n",
            "Confusion Matrix: \n",
            " [[4265  147  588]\n",
            " [  90 4722  188]\n",
            " [ 483  325 4192]]\n",
            "Training Score:  1.0\n",
            "Testing Score:  0.8786\n"
          ],
          "name": "stdout"
        }
      ]
    },
    {
      "cell_type": "code",
      "metadata": {
        "colab": {
          "base_uri": "https://localhost:8080/"
        },
        "id": "sSRw9fBbHUyy",
        "outputId": "e27a7d03-e41f-4d5f-998d-b2330712e6b9"
      },
      "source": [
        "gb = LGBMClassifier(n_estimators=1100, num_leaves=60, learning_rate=0.005, max_depth=13, min_child_weight=1, subsample=0.9244, colsample_bytree=0.4)\r\n",
        "gb.fit(X_train_norm, y_train)"
      ],
      "execution_count": null,
      "outputs": [
        {
          "output_type": "execute_result",
          "data": {
            "text/plain": [
              "LGBMClassifier(boosting_type='gbdt', class_weight=None, colsample_bytree=0.4,\n",
              "               importance_type='split', learning_rate=0.005, max_depth=13,\n",
              "               min_child_samples=20, min_child_weight=1, min_split_gain=0.0,\n",
              "               n_estimators=1100, n_jobs=-1, num_leaves=60, objective=None,\n",
              "               random_state=None, reg_alpha=0.0, reg_lambda=0.0, silent=True,\n",
              "               subsample=0.9244, subsample_for_bin=200000, subsample_freq=0)"
            ]
          },
          "metadata": {
            "tags": []
          },
          "execution_count": 24
        }
      ]
    },
    {
      "cell_type": "code",
      "metadata": {
        "colab": {
          "base_uri": "https://localhost:8080/"
        },
        "id": "IHW4hhyojJIs",
        "outputId": "89b48d5e-6d75-43e6-d09f-d95aaae3047a"
      },
      "source": [
        "pred = gb.predict(X_test_norm)\r\n",
        "print('Classification Report: \\n', classification_report(y_test, pred))\r\n",
        "print('Confusion Matrix: \\n', confusion_matrix(y_test, pred))\r\n",
        "gb_train_acc = accuracy_score(y_train, gb.predict(X_train_norm))\r\n",
        "print('Training Score: ', gb_train_acc)\r\n",
        "gb_test_acc =  accuracy_score(y_test, pred)\r\n",
        "print('Testing Score: ', gb_test_acc)"
      ],
      "execution_count": null,
      "outputs": [
        {
          "output_type": "stream",
          "text": [
            "Classification Report: \n",
            "               precision    recall  f1-score   support\n",
            "\n",
            "           1       0.88      0.83      0.86      5000\n",
            "           2       0.90      0.95      0.92      5000\n",
            "           3       0.83      0.84      0.83      5000\n",
            "\n",
            "    accuracy                           0.87     15000\n",
            "   macro avg       0.87      0.87      0.87     15000\n",
            "weighted avg       0.87      0.87      0.87     15000\n",
            "\n",
            "Confusion Matrix: \n",
            " [[4155  171  674]\n",
            " [  87 4732  181]\n",
            " [ 468  352 4180]]\n",
            "Training Score:  0.9095333333333333\n",
            "Testing Score:  0.8711333333333333\n"
          ],
          "name": "stdout"
        }
      ]
    },
    {
      "cell_type": "markdown",
      "metadata": {
        "id": "3GShmnMjgcLu"
      },
      "source": [
        "# TabNet\r\n"
      ]
    },
    {
      "cell_type": "code",
      "metadata": {
        "id": "guuBGRaaiDoJ"
      },
      "source": [
        "import torch"
      ],
      "execution_count": 16,
      "outputs": []
    },
    {
      "cell_type": "code",
      "metadata": {
        "id": "xbK5F9GWsWGx"
      },
      "source": [
        "from pytorch_tabnet.pretraining import TabNetPretrainer\r\n",
        "\r\n",
        "unsupervised_model = TabNetPretrainer(\r\n",
        "    n_d=64, n_a=64, n_steps=8,\r\n",
        "    optimizer_fn=torch.optim.Adam,\r\n",
        "    optimizer_params=dict(lr=2e-2),\r\n",
        "    mask_type='entmax' # \"sparsemax\"\r\n",
        ")\r\n",
        "\r\n",
        "unsupervised_model.fit(\r\n",
        "    X_train=X_train_pred,\r\n",
        "    eval_set=[X_val_pred],\r\n",
        "    max_epochs=10 , patience=5,\r\n",
        "    batch_size=512, virtual_batch_size=128,\r\n",
        "    pretraining_ratio=0.8,\r\n",
        ")"
      ],
      "execution_count": null,
      "outputs": []
    },
    {
      "cell_type": "markdown",
      "metadata": {
        "id": "Xtw2oN_pjm0a"
      },
      "source": [
        "Подбор параметров "
      ]
    },
    {
      "cell_type": "code",
      "metadata": {
        "id": "Gyq4bUTbd6tm"
      },
      "source": [
        "from hyperopt import hp\r\n",
        "import numpy as np\r\n",
        "from sklearn.metrics import mean_squared_error, f1_score\r\n",
        "\r\n",
        "def scor(y_test, y_pred):\r\n",
        "  return f1_score(y_test, y_pred, average='micro')\r\n",
        "\r\n",
        "lgb_reg_params = {\r\n",
        "    'learning_rate':    hp.choice('learning_rate',    np.arange(0.001, 0.1, 0.01)),\r\n",
        "    'max_depth':        hp.choice('max_depth',        np.arange(1, 16, 1, dtype=int)),\r\n",
        "    'min_child_weight': hp.choice('min_child_weight', np.arange(1, 8, 1, dtype=int)),\r\n",
        "    'colsample_bytree': hp.choice('colsample_bytree', np.arange(0.3, 0.8, 0.1)),\r\n",
        "    'subsample':        hp.uniform('subsample', 0.8, 1),\r\n",
        "    'num_leaves' :  hp.choice('num_leaves',    np.array([5, 10, 31, 60, 80, 100])),\r\n",
        "    'n_estimators':     hp.choice('n_estimators',    np.array([700, 900, 1000, 1500, 2000]))\r\n",
        "}\r\n",
        "lgb_fit_params = {\r\n",
        "    'early_stopping_rounds': 10,\r\n",
        "    'verbose': False\r\n",
        "}\r\n",
        "lgb_para = dict()\r\n",
        "lgb_para['reg_params'] = lgb_reg_params\r\n",
        "lgb_para['fit_params'] = lgb_fit_params\r\n",
        "lgb_para['score'] = lambda y, pred: -scor(y, pred)\r\n",
        "\r\n",
        "\r\n",
        "\r\n",
        "\r\n",
        "tabnet_reg_params = {\r\n",
        "    'n_d' :              64,\r\n",
        "    'n_a' :              64,\r\n",
        "    'n_steps' :          hp.randint('n_steps', 10-3)+3,\r\n",
        "    'gamma' :            hp.uniform('gamma', 1.0, 3.0),\r\n",
        "    'lambda_sparse' :    hp.uniform('lambda_sparse', 0.0, 0.01),\r\n",
        "    'momentum' :         0.3, \r\n",
        "    'clip_value' :       2.,\r\n",
        "    'optimizer_params' : dict(lr=2e-2),\r\n",
        "    'scheduler_params' : {\"step_size\":50, # how to use learning rate scheduler\r\n",
        "                                         \"gamma\":0.9},\r\n",
        "    'scheduler_fn' :     torch.optim.lr_scheduler.StepLR,\r\n",
        "    'mask_type' :       'entmax'\r\n",
        "}\r\n",
        "\r\n",
        "tabnet_fit_params = {\r\n",
        "    'max_epochs' : 100, \r\n",
        "    'patience' : 15,\r\n",
        "    'batch_size' : 512,\r\n",
        "    'virtual_batch_size' : 128,\r\n",
        "    'num_workers' : 0,\r\n",
        "    'weights' : 1,\r\n",
        "    'drop_last' : False,\r\n",
        "    'from_unsupervised' : unsupervised_model\r\n",
        "}\r\n",
        "tabnet_para = dict()\r\n",
        "tabnet_para['reg_params'] = tabnet_reg_params\r\n",
        "tabnet_para['fit_params'] = tabnet_fit_params\r\n",
        "tabnet_para['score'] = lambda y, pred: -accuracy_score(y, pred)\r\n",
        "\r\n",
        "\r\n",
        "\r\n",
        "\r\n",
        "\r\n",
        "rf_reg_params = {\r\n",
        "    #'max_depth':        hp.choice('max_depth',        np.arange(1, 16, 1, dtype=int)), используем потом\r\n",
        "    'min_samples_leaf': hp.choice('min_samples_leaf', [1, 3, 5, 7, 10, 14]),\r\n",
        "    'min_samples_split':hp.choice('min_samples_split', np.arange(0.01, 1, 0.2)),\r\n",
        "    'max_features':     hp.choice('max_features', ['auto', 'sqrt', 'log2', None]),\r\n",
        "    'n_estimators':     hp.choice('n_estimators', np.array([150, 300, 500, 700, 900]))\r\n",
        "}\r\n",
        "rf_fit_params = {\r\n",
        "}\r\n",
        "rf_para = dict()\r\n",
        "rf_para['reg_params'] = rf_reg_params\r\n",
        "rf_para['fit_params'] = rf_fit_params\r\n",
        "rf_para['score'] = lambda y, pred: -scor(y, pred)"
      ],
      "execution_count": null,
      "outputs": []
    },
    {
      "cell_type": "code",
      "metadata": {
        "id": "OJATeW2KjpcQ"
      },
      "source": [
        "import lightgbm as lgb\r\n",
        "from hyperopt import fmin, tpe, STATUS_OK, STATUS_FAIL, Trials\r\n",
        "\r\n",
        "\r\n",
        "class HPOpt(object):\r\n",
        "\r\n",
        "    def __init__(self, x_train, x_test, y_train, y_test, x_valid, y_valid):\r\n",
        "        self.x_train = x_train\r\n",
        "        self.x_test  = x_test\r\n",
        "        self.y_train = y_train\r\n",
        "        self.y_test  = y_test\r\n",
        "        self.x_valid = x_valid\r\n",
        "        self.y_valid = y_valid\r\n",
        "        #print(1)\r\n",
        "\r\n",
        "    def process(self, fn_name, space, trials, algo, max_evals):\r\n",
        "        #print(2)\r\n",
        "        fn = getattr(self, fn_name)\r\n",
        "        #print(3)\r\n",
        "        try:\r\n",
        "            result = fmin(fn=fn, space=space, algo=algo, max_evals=max_evals, trials=trials)\r\n",
        "            #print(4)\r\n",
        "        except Exception as e:\r\n",
        "            #print(5, {'status': STATUS_FAIL, 'exception': str(e)})\r\n",
        "            return {'status': STATUS_FAIL,\r\n",
        "                    'exception': str(e)}\r\n",
        "        return result, trials\r\n",
        "\r\n",
        "    def rf_reg(self, para):\r\n",
        "        reg = RandomForestClassifier(**para['reg_params'])\r\n",
        "        return self.train_reg(reg, para)\r\n",
        "\r\n",
        "    def lgb_reg(self, para):\r\n",
        "        reg = lgb.LGBMClassifier(**para['reg_params'])\r\n",
        "        return self.train_reg(reg, para)\r\n",
        "\r\n",
        "    def tabnet_reg(self, para):\r\n",
        "        #print(6)\r\n",
        "        reg = TabNetClassifier(**para['reg_params'])\r\n",
        "        return self.train_reg(reg, para)\r\n",
        "\r\n",
        "\r\n",
        "    def train_reg(self, reg, para):\r\n",
        "        #print(7)\r\n",
        "        if len(para['fit_params'])>0:\r\n",
        "            #print(8)\r\n",
        "            reg.fit(self.x_train, self.y_train,\r\n",
        "                  eval_set=[(self.x_train, self.y_train), (self.x_valid, self.y_valid)],\r\n",
        "                  **para['fit_params'])\r\n",
        "        else:\r\n",
        "            #print(9)\r\n",
        "            reg.fit(self.x_train, self.y_train)\r\n",
        "        #print(10)\r\n",
        "        pred = reg.predict(self.x_test)\r\n",
        "        loss = para['score'](self.y_test, pred)\r\n",
        "        #print(11, {'loss': loss, 'status': STATUS_OK})\r\n",
        "        return {'loss': loss, 'status': STATUS_OK}"
      ],
      "execution_count": null,
      "outputs": []
    },
    {
      "cell_type": "code",
      "metadata": {
        "id": "eQvYIsPpUuFW"
      },
      "source": [
        "obj = HPOpt(X_train, X_test, y_train, y_test, X_valid, y_valid)"
      ],
      "execution_count": null,
      "outputs": []
    },
    {
      "cell_type": "code",
      "metadata": {
        "id": "OVKgmduuVWHT"
      },
      "source": [
        "tabnet_opt = obj.process(fn_name='tabnet_reg', space=tabnet_para, trials=Trials(), algo=tpe.suggest, max_evals=10)"
      ],
      "execution_count": null,
      "outputs": []
    },
    {
      "cell_type": "code",
      "metadata": {
        "colab": {
          "base_uri": "https://localhost:8080/"
        },
        "id": "q2CsfuvpjmaH",
        "outputId": "63c331ca-235e-426e-dcc5-d3cfe70fc685"
      },
      "source": [
        "tabnet_opt"
      ],
      "execution_count": null,
      "outputs": [
        {
          "output_type": "execute_result",
          "data": {
            "text/plain": [
              "({'gamma': 2.7783389741405147,\n",
              "  'lambda_sparse': 0.02378813297614627,\n",
              "  'n_steps': 3},\n",
              " <hyperopt.base.Trials at 0x7f88e2a7d090>)"
            ]
          },
          "metadata": {
            "tags": []
          },
          "execution_count": 54
        }
      ]
    },
    {
      "cell_type": "code",
      "metadata": {
        "colab": {
          "base_uri": "https://localhost:8080/"
        },
        "id": "SPW8o-hvuYjf",
        "outputId": "21b92c68-69d4-43e0-ac71-b91a1f56369b"
      },
      "source": [
        "clf = TabNetClassifier(n_d=64, n_a=64,\n",
        "                       momentum=0.3, clip_value=2.,\n",
        "                       optimizer_fn=torch.optim.Adam,\n",
        "                       optimizer_params=dict(lr=2e-2),\n",
        "                       scheduler_params={\"step_size\":50, # how to use learning rate scheduler\n",
        "                                         \"gamma\":0.9},\n",
        "                       scheduler_fn=torch.optim.lr_scheduler.StepLR,\n",
        "\n",
        "                       mask_type='entmax',\n",
        "                       **{'gamma': 2.7783389741405147,\n",
        "                          'lambda_sparse': 0.02378813297614627,\n",
        "                          'n_steps': 8}\n",
        "\n",
        ")"
      ],
      "execution_count": 18,
      "outputs": [
        {
          "output_type": "stream",
          "text": [
            "Device used : cuda\n"
          ],
          "name": "stdout"
        }
      ]
    },
    {
      "cell_type": "code",
      "metadata": {
        "id": "l1c7joHKuYjg"
      },
      "source": [
        "max_epochs = 200"
      ],
      "execution_count": 19,
      "outputs": []
    },
    {
      "cell_type": "code",
      "metadata": {
        "colab": {
          "base_uri": "https://localhost:8080/"
        },
        "scrolled": true,
        "id": "M9bKfA7MuYjg",
        "outputId": "9a55de26-6f71-475f-f040-e16c4aeadbcb"
      },
      "source": [
        "clf.fit(\n",
        "    X_train=X_train, y_train=y_train,\n",
        "    eval_set=[(X_train, y_train), (X_test, y_test)],\n",
        "    eval_name=['train', 'valid'],\n",
        "    max_epochs=max_epochs , patience=20,\n",
        "    batch_size=256, virtual_batch_size=128,\n",
        "    #from_unsupervised=unsupervised_model\n",
        ") "
      ],
      "execution_count": 20,
      "outputs": [
        {
          "output_type": "stream",
          "text": [
            "epoch 0  | loss: 1.17355 | train_accuracy: 0.3334  | valid_accuracy: 0.33333 |  0:00:07s\n",
            "epoch 1  | loss: 0.57531 | train_accuracy: 0.43027 | valid_accuracy: 0.4308  |  0:00:15s\n",
            "epoch 2  | loss: 0.50454 | train_accuracy: 0.4824  | valid_accuracy: 0.47567 |  0:00:22s\n",
            "epoch 3  | loss: 0.48633 | train_accuracy: 0.68233 | valid_accuracy: 0.67813 |  0:00:30s\n",
            "epoch 4  | loss: 0.48325 | train_accuracy: 0.79527 | valid_accuracy: 0.7956  |  0:00:38s\n",
            "epoch 5  | loss: 0.43873 | train_accuracy: 0.8124  | valid_accuracy: 0.81153 |  0:00:45s\n",
            "epoch 6  | loss: 0.42538 | train_accuracy: 0.83773 | valid_accuracy: 0.8352  |  0:00:53s\n",
            "epoch 7  | loss: 0.4072  | train_accuracy: 0.8612  | valid_accuracy: 0.8612  |  0:01:00s\n",
            "epoch 8  | loss: 0.4119  | train_accuracy: 0.853   | valid_accuracy: 0.8492  |  0:01:08s\n",
            "epoch 9  | loss: 0.38765 | train_accuracy: 0.8624  | valid_accuracy: 0.86227 |  0:01:15s\n",
            "epoch 10 | loss: 0.37554 | train_accuracy: 0.871   | valid_accuracy: 0.86967 |  0:01:23s\n",
            "epoch 11 | loss: 0.37214 | train_accuracy: 0.8666  | valid_accuracy: 0.86533 |  0:01:31s\n",
            "epoch 12 | loss: 0.35711 | train_accuracy: 0.87173 | valid_accuracy: 0.8658  |  0:01:38s\n",
            "epoch 13 | loss: 0.35746 | train_accuracy: 0.87347 | valid_accuracy: 0.87173 |  0:01:46s\n",
            "epoch 14 | loss: 0.36868 | train_accuracy: 0.87    | valid_accuracy: 0.86433 |  0:01:53s\n",
            "epoch 15 | loss: 0.35421 | train_accuracy: 0.87507 | valid_accuracy: 0.8712  |  0:02:01s\n",
            "epoch 16 | loss: 0.34722 | train_accuracy: 0.8652  | valid_accuracy: 0.8622  |  0:02:08s\n",
            "epoch 17 | loss: 0.353   | train_accuracy: 0.8546  | valid_accuracy: 0.85173 |  0:02:16s\n",
            "epoch 18 | loss: 0.34423 | train_accuracy: 0.86133 | valid_accuracy: 0.8602  |  0:02:23s\n",
            "epoch 19 | loss: 0.34891 | train_accuracy: 0.8582  | valid_accuracy: 0.8606  |  0:02:31s\n",
            "epoch 20 | loss: 0.35367 | train_accuracy: 0.86427 | valid_accuracy: 0.86193 |  0:02:38s\n",
            "epoch 21 | loss: 0.35305 | train_accuracy: 0.87747 | valid_accuracy: 0.87513 |  0:02:46s\n",
            "epoch 22 | loss: 0.34153 | train_accuracy: 0.86953 | valid_accuracy: 0.8702  |  0:02:54s\n",
            "epoch 23 | loss: 0.34417 | train_accuracy: 0.87673 | valid_accuracy: 0.87713 |  0:03:01s\n",
            "epoch 24 | loss: 0.33862 | train_accuracy: 0.87367 | valid_accuracy: 0.87033 |  0:03:09s\n",
            "epoch 25 | loss: 0.33573 | train_accuracy: 0.86973 | valid_accuracy: 0.86553 |  0:03:16s\n",
            "epoch 26 | loss: 0.34089 | train_accuracy: 0.87533 | valid_accuracy: 0.87153 |  0:03:24s\n",
            "epoch 27 | loss: 0.34028 | train_accuracy: 0.88553 | valid_accuracy: 0.882   |  0:03:31s\n",
            "epoch 28 | loss: 0.32421 | train_accuracy: 0.8668  | valid_accuracy: 0.8618  |  0:03:39s\n",
            "epoch 29 | loss: 0.32796 | train_accuracy: 0.8828  | valid_accuracy: 0.8756  |  0:03:46s\n",
            "epoch 30 | loss: 0.3201  | train_accuracy: 0.87853 | valid_accuracy: 0.87447 |  0:03:54s\n",
            "epoch 31 | loss: 0.33871 | train_accuracy: 0.881   | valid_accuracy: 0.87767 |  0:04:02s\n",
            "epoch 32 | loss: 0.32142 | train_accuracy: 0.8834  | valid_accuracy: 0.87767 |  0:04:09s\n",
            "epoch 33 | loss: 0.31961 | train_accuracy: 0.88733 | valid_accuracy: 0.8816  |  0:04:17s\n",
            "epoch 34 | loss: 0.323   | train_accuracy: 0.88593 | valid_accuracy: 0.8812  |  0:04:24s\n",
            "epoch 35 | loss: 0.31734 | train_accuracy: 0.88787 | valid_accuracy: 0.8836  |  0:04:32s\n",
            "epoch 36 | loss: 0.31513 | train_accuracy: 0.88533 | valid_accuracy: 0.88033 |  0:04:39s\n",
            "epoch 37 | loss: 0.31668 | train_accuracy: 0.88827 | valid_accuracy: 0.88293 |  0:04:47s\n",
            "epoch 38 | loss: 0.31336 | train_accuracy: 0.88633 | valid_accuracy: 0.88587 |  0:04:54s\n",
            "epoch 39 | loss: 0.30639 | train_accuracy: 0.8914  | valid_accuracy: 0.88407 |  0:05:02s\n",
            "epoch 40 | loss: 0.30686 | train_accuracy: 0.88787 | valid_accuracy: 0.8838  |  0:05:09s\n",
            "epoch 41 | loss: 0.3084  | train_accuracy: 0.88707 | valid_accuracy: 0.88007 |  0:05:17s\n",
            "epoch 42 | loss: 0.3244  | train_accuracy: 0.88107 | valid_accuracy: 0.87873 |  0:05:24s\n",
            "epoch 43 | loss: 0.33071 | train_accuracy: 0.877   | valid_accuracy: 0.87453 |  0:05:32s\n",
            "epoch 44 | loss: 0.32956 | train_accuracy: 0.88113 | valid_accuracy: 0.87687 |  0:05:39s\n",
            "epoch 45 | loss: 0.32334 | train_accuracy: 0.88787 | valid_accuracy: 0.88293 |  0:05:47s\n",
            "epoch 46 | loss: 0.30853 | train_accuracy: 0.88807 | valid_accuracy: 0.8858  |  0:05:54s\n",
            "epoch 47 | loss: 0.31452 | train_accuracy: 0.8904  | valid_accuracy: 0.88507 |  0:06:02s\n",
            "epoch 48 | loss: 0.31046 | train_accuracy: 0.88987 | valid_accuracy: 0.8822  |  0:06:09s\n",
            "epoch 49 | loss: 0.31474 | train_accuracy: 0.87967 | valid_accuracy: 0.87587 |  0:06:17s\n",
            "epoch 50 | loss: 0.31503 | train_accuracy: 0.88973 | valid_accuracy: 0.88447 |  0:06:25s\n",
            "epoch 51 | loss: 0.3033  | train_accuracy: 0.89093 | valid_accuracy: 0.8858  |  0:06:32s\n",
            "epoch 52 | loss: 0.30338 | train_accuracy: 0.8762  | valid_accuracy: 0.8712  |  0:06:40s\n",
            "epoch 53 | loss: 0.32007 | train_accuracy: 0.8896  | valid_accuracy: 0.88607 |  0:06:47s\n",
            "epoch 54 | loss: 0.30855 | train_accuracy: 0.88433 | valid_accuracy: 0.87873 |  0:06:55s\n",
            "epoch 55 | loss: 0.29936 | train_accuracy: 0.88867 | valid_accuracy: 0.88607 |  0:07:02s\n",
            "epoch 56 | loss: 0.30357 | train_accuracy: 0.89467 | valid_accuracy: 0.88587 |  0:07:10s\n",
            "epoch 57 | loss: 0.30021 | train_accuracy: 0.89227 | valid_accuracy: 0.88333 |  0:07:17s\n",
            "epoch 58 | loss: 0.29627 | train_accuracy: 0.89127 | valid_accuracy: 0.88667 |  0:07:25s\n",
            "epoch 59 | loss: 0.29126 | train_accuracy: 0.89327 | valid_accuracy: 0.88573 |  0:07:32s\n",
            "epoch 60 | loss: 0.29109 | train_accuracy: 0.89447 | valid_accuracy: 0.88613 |  0:07:40s\n",
            "epoch 61 | loss: 0.28717 | train_accuracy: 0.8952  | valid_accuracy: 0.88807 |  0:07:48s\n",
            "epoch 62 | loss: 0.28929 | train_accuracy: 0.89567 | valid_accuracy: 0.88713 |  0:07:55s\n",
            "epoch 63 | loss: 0.28886 | train_accuracy: 0.8902  | valid_accuracy: 0.88253 |  0:08:03s\n",
            "epoch 64 | loss: 0.2933  | train_accuracy: 0.8954  | valid_accuracy: 0.88693 |  0:08:10s\n",
            "epoch 65 | loss: 0.28979 | train_accuracy: 0.89413 | valid_accuracy: 0.88433 |  0:08:18s\n",
            "epoch 66 | loss: 0.29002 | train_accuracy: 0.89313 | valid_accuracy: 0.88413 |  0:08:26s\n",
            "epoch 67 | loss: 0.28885 | train_accuracy: 0.89333 | valid_accuracy: 0.8824  |  0:08:33s\n",
            "epoch 68 | loss: 0.29034 | train_accuracy: 0.8458  | valid_accuracy: 0.838   |  0:08:41s\n",
            "epoch 69 | loss: 0.30877 | train_accuracy: 0.89247 | valid_accuracy: 0.88413 |  0:08:48s\n",
            "epoch 70 | loss: 0.29217 | train_accuracy: 0.8856  | valid_accuracy: 0.87953 |  0:08:56s\n",
            "epoch 71 | loss: 0.29144 | train_accuracy: 0.88087 | valid_accuracy: 0.8718  |  0:09:03s\n",
            "epoch 72 | loss: 0.29892 | train_accuracy: 0.89433 | valid_accuracy: 0.88773 |  0:09:11s\n",
            "epoch 73 | loss: 0.28891 | train_accuracy: 0.89787 | valid_accuracy: 0.88807 |  0:09:19s\n",
            "epoch 74 | loss: 0.2839  | train_accuracy: 0.89653 | valid_accuracy: 0.887   |  0:09:26s\n",
            "epoch 75 | loss: 0.28516 | train_accuracy: 0.8968  | valid_accuracy: 0.88827 |  0:09:34s\n",
            "epoch 76 | loss: 0.28437 | train_accuracy: 0.90073 | valid_accuracy: 0.89073 |  0:09:41s\n",
            "epoch 77 | loss: 0.27783 | train_accuracy: 0.89913 | valid_accuracy: 0.88547 |  0:09:49s\n",
            "epoch 78 | loss: 0.2793  | train_accuracy: 0.90093 | valid_accuracy: 0.88793 |  0:09:56s\n",
            "epoch 79 | loss: 0.28849 | train_accuracy: 0.89473 | valid_accuracy: 0.8818  |  0:10:04s\n",
            "epoch 80 | loss: 0.29626 | train_accuracy: 0.897   | valid_accuracy: 0.88547 |  0:10:11s\n",
            "epoch 81 | loss: 0.28221 | train_accuracy: 0.8932  | valid_accuracy: 0.8824  |  0:10:19s\n",
            "epoch 82 | loss: 0.29073 | train_accuracy: 0.89667 | valid_accuracy: 0.8854  |  0:10:27s\n",
            "epoch 83 | loss: 0.2873  | train_accuracy: 0.9026  | valid_accuracy: 0.8876  |  0:10:34s\n",
            "epoch 84 | loss: 0.28443 | train_accuracy: 0.9     | valid_accuracy: 0.8898  |  0:10:42s\n",
            "epoch 85 | loss: 0.27882 | train_accuracy: 0.89847 | valid_accuracy: 0.88847 |  0:10:49s\n",
            "epoch 86 | loss: 0.27675 | train_accuracy: 0.89867 | valid_accuracy: 0.88633 |  0:10:57s\n",
            "epoch 87 | loss: 0.27373 | train_accuracy: 0.89893 | valid_accuracy: 0.88673 |  0:11:04s\n",
            "epoch 88 | loss: 0.27387 | train_accuracy: 0.90133 | valid_accuracy: 0.8896  |  0:11:12s\n",
            "epoch 89 | loss: 0.27349 | train_accuracy: 0.90247 | valid_accuracy: 0.88873 |  0:11:19s\n",
            "epoch 90 | loss: 0.28333 | train_accuracy: 0.9006  | valid_accuracy: 0.88867 |  0:11:27s\n",
            "epoch 91 | loss: 0.27655 | train_accuracy: 0.89747 | valid_accuracy: 0.88387 |  0:11:34s\n",
            "epoch 92 | loss: 0.27168 | train_accuracy: 0.89967 | valid_accuracy: 0.88473 |  0:11:42s\n",
            "epoch 93 | loss: 0.26932 | train_accuracy: 0.90113 | valid_accuracy: 0.88607 |  0:11:49s\n",
            "epoch 94 | loss: 0.27414 | train_accuracy: 0.90227 | valid_accuracy: 0.88593 |  0:11:57s\n",
            "epoch 95 | loss: 0.27285 | train_accuracy: 0.90353 | valid_accuracy: 0.88627 |  0:12:05s\n",
            "epoch 96 | loss: 0.26861 | train_accuracy: 0.89947 | valid_accuracy: 0.8858  |  0:12:12s\n",
            "\n",
            "Early stopping occurred at epoch 96 with best_epoch = 76 and best_valid_accuracy = 0.89073\n",
            "Best weights from best epoch are automatically used!\n"
          ],
          "name": "stdout"
        }
      ]
    },
    {
      "cell_type": "code",
      "metadata": {
        "colab": {
          "base_uri": "https://localhost:8080/"
        },
        "id": "UULXz-Dv9fHa",
        "outputId": "bfdcc591-7767-4ee8-a32b-2d8d0542d5d4"
      },
      "source": [
        "pred = clf.predict(X_test)\r\n",
        "print('Classification Report: \\n', classification_report(y_test, pred))\r\n",
        "print('Confusion Matrix: \\n', confusion_matrix(y_test, pred))\r\n",
        "clf_train_acc = accuracy_score(y_train, clf.predict(X_train))\r\n",
        "print('Training Score: ', clf_train_acc)\r\n",
        "clf_test_acc = accuracy_score(y_test, pred)\r\n",
        "print('Training Score: ', clf_test_acc)"
      ],
      "execution_count": 21,
      "outputs": [
        {
          "output_type": "stream",
          "text": [
            "Classification Report: \n",
            "               precision    recall  f1-score   support\n",
            "\n",
            "           1       0.90      0.86      0.88      5000\n",
            "           2       0.91      0.96      0.93      5000\n",
            "           3       0.86      0.85      0.86      5000\n",
            "\n",
            "    accuracy                           0.89     15000\n",
            "   macro avg       0.89      0.89      0.89     15000\n",
            "weighted avg       0.89      0.89      0.89     15000\n",
            "\n",
            "Confusion Matrix: \n",
            " [[4323  143  534]\n",
            " [  87 4777  136]\n",
            " [ 394  345 4261]]\n",
            "Training Score:  0.9007333333333334\n",
            "Training Score:  0.8907333333333334\n"
          ],
          "name": "stdout"
        }
      ]
    },
    {
      "cell_type": "markdown",
      "metadata": {
        "id": "l9iBajmB8vL0"
      },
      "source": [
        "Без предварительного обучения"
      ]
    },
    {
      "cell_type": "code",
      "metadata": {
        "id": "FL7bcZKZW6TY",
        "colab": {
          "base_uri": "https://localhost:8080/",
          "height": 283
        },
        "outputId": "e8e5c983-da5a-482d-e8b9-0fe080f32246"
      },
      "source": [
        "# plot losses\n",
        "plt.plot(clf.history['loss'])"
      ],
      "execution_count": 55,
      "outputs": [
        {
          "output_type": "execute_result",
          "data": {
            "text/plain": [
              "[<matplotlib.lines.Line2D at 0x7f66e90ed3d0>]"
            ]
          },
          "metadata": {
            "tags": []
          },
          "execution_count": 55
        },
        {
          "output_type": "display_data",
          "data": {
            "image/png": "[encoded data removed]",
            "text/plain": [
              "<Figure size 432x288 with 1 Axes>"
            ]
          },
          "metadata": {
            "tags": []
          }
        }
      ]
    },
    {
      "cell_type": "code",
      "metadata": {
        "id": "8eW_lk_TW6TY",
        "colab": {
          "base_uri": "https://localhost:8080/",
          "height": 283
        },
        "outputId": "76c7173a-86af-4753-9993-d450d2de5246"
      },
      "source": [
        "# plot accuracy\n",
        "plt.plot(clf.history['train_accuracy'])\n",
        "plt.plot(clf.history['valid_accuracy'])"
      ],
      "execution_count": 23,
      "outputs": [
        {
          "output_type": "execute_result",
          "data": {
            "text/plain": [
              "[<matplotlib.lines.Line2D at 0x7f677cdf1ad0>]"
            ]
          },
          "metadata": {
            "tags": []
          },
          "execution_count": 23
        },
        {
          "output_type": "display_data",
          "data": {
            "image/png": "[encoded data removed]",
            "text/plain": [
              "<Figure size 432x288 with 1 Axes>"
            ]
          },
          "metadata": {
            "tags": []
          }
        }
      ]
    },
    {
      "cell_type": "code",
      "metadata": {
        "id": "_c3JwtyJW6Ta"
      },
      "source": [
        "clf.feature_importances_, gb.feature_importances_#, rf.feature_importances_"
      ],
      "execution_count": null,
      "outputs": []
    },
    {
      "cell_type": "code",
      "metadata": {
        "id": "HJdSxNllW6Ta"
      },
      "source": [
        "explain_matrix, masks = clf.explain(X_test)"
      ],
      "execution_count": 51,
      "outputs": []
    },
    {
      "cell_type": "code",
      "metadata": {
        "id": "haL3f6qmW6Ta",
        "colab": {
          "base_uri": "https://localhost:8080/",
          "height": 608
        },
        "outputId": "4d889f49-2c19-40b5-d442-7fb084c7bb48"
      },
      "source": [
        "fig, axs = plt.subplots(1, 9, figsize=(20,20))\n",
        "\n",
        "for i in range(8):\n",
        "    axs[i].imshow(masks[i][:50])\n",
        "    axs[i].set_title(f\"mask {i+1}\")\n",
        "\n",
        "axs[i+1].imshow(explain_matrix[:50])\n",
        "axs[i+1].set_title(\"explain mask\")"
      ],
      "execution_count": 56,
      "outputs": [
        {
          "output_type": "execute_result",
          "data": {
            "text/plain": [
              "Text(0.5, 1.0, 'explain mask')"
            ]
          },
          "metadata": {
            "tags": []
          },
          "execution_count": 56
        },
        {
          "output_type": "display_data",
          "data": {
            "image/png": "[encoded data removed]",
            "text/plain": [
              "<Figure size 1440x1440 with 9 Axes>"
            ]
          },
          "metadata": {
            "tags": []
          }
        }
      ]
    },
    {
      "cell_type": "code",
      "metadata": {
        "id": "O4MqSvlXP7RF"
      },
      "source": [
        ""
      ],
      "execution_count": null,
      "outputs": []
    }
  ]
}